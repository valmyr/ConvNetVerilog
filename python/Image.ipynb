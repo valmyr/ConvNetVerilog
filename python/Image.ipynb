{
  "cells": [
    {
      "cell_type": "code",
      "execution_count": 13,
      "metadata": {
        "colab": {
          "base_uri": "https://localhost:8080/"
        },
        "id": "R7qQ4aHNKabD",
        "outputId": "2dde94c8-2502-4b2f-bc4f-1604669ad10a"
      },
      "outputs": [
        {
          "name": "stdout",
          "output_type": "stream",
          "text": [
            "Requirement already satisfied: keras_preprocessing in ./lib/python3.6/site-packages (1.1.2)\n",
            "Requirement already satisfied: six>=1.9.0 in ./lib/python3.6/site-packages (from keras_preprocessing) (1.17.0)\n",
            "Requirement already satisfied: numpy>=1.9.1 in ./lib/python3.6/site-packages (from keras_preprocessing) (1.19.5)\n",
            "/bin/bash: pillow: command not found\n",
            "Note: you may need to restart the kernel to use updated packages.\n"
          ]
        }
      ],
      "source": [
        "pip install keras_preprocessing && pillow"
      ]
    },
    {
      "cell_type": "code",
      "execution_count": null,
      "metadata": {},
      "outputs": [],
      "source": []
    },
    {
      "cell_type": "code",
      "execution_count": 14,
      "metadata": {
        "id": "LeQOQlapKfvF"
      },
      "outputs": [],
      "source": [
        "from keras_preprocessing import image as img\n",
        "import os"
      ]
    },
    {
      "cell_type": "markdown",
      "metadata": {
        "id": "ZTScsKMqRxwc"
      },
      "source": []
    },
    {
      "cell_type": "code",
      "execution_count": 15,
      "metadata": {},
      "outputs": [
        {
          "data": {
            "text/plain": [
              "0"
            ]
          },
          "execution_count": 15,
          "metadata": {},
          "output_type": "execute_result"
        }
      ],
      "source": [
        "os.system(\"rm ../simulation/I.txt\")"
      ]
    },
    {
      "cell_type": "code",
      "execution_count": 16,
      "metadata": {
        "id": "J8-0zNQULJcC"
      },
      "outputs": [],
      "source": [
        "sizt = 7\n",
        "ima = img.load_img(\"sample-matrix.bmp\",target_size=(sizt,sizt))"
      ]
    },
    {
      "cell_type": "code",
      "execution_count": 17,
      "metadata": {
        "id": "te-Hq9X6Qgj0"
      },
      "outputs": [],
      "source": [
        "f = open(\"../simulation/I.txt\",\"w\")"
      ]
    },
    {
      "cell_type": "code",
      "execution_count": 18,
      "metadata": {
        "colab": {
          "base_uri": "https://localhost:8080/"
        },
        "id": "5DQtVefsLg3U",
        "outputId": "1405ba52-16b8-4941-99a6-e1c677993776"
      },
      "outputs": [
        {
          "name": "stdout",
          "output_type": "stream",
          "text": [
            "ff   04   ff   ff   ff   ff   04   \n",
            "\n",
            "ff   04   04   ff   04   ff   04   \n",
            "\n",
            "ff   04   ff   ff   ff   ff   04   \n",
            "\n",
            "04   04   ff   ff   ff   ff   04   \n",
            "\n",
            "ff   ff   04   ff   04   04   04   \n",
            "\n",
            "ff   ff   ff   04   ff   04   04   \n",
            "\n",
            "ff   ff   04   04   04   04   04   \n",
            "\n"
          ]
        }
      ],
      "source": [
        "array = img.img_to_array(ima)\n",
        "for i in array:\n",
        "    for j in i:\n",
        "        strtmp = f'{hex(int(j[0]))[2:]}'\n",
        "        strtmp2 = '0'*(2-len(strtmp))+strtmp+' '\n",
        "        f.write(strtmp2)\n",
        "        print(f'{strtmp2}',end='  ')\n",
        "    f.write(\"\\n\")\n",
        "    print(\"\\n\")\n",
        "f.close()"
      ]
    }
  ],
  "metadata": {
    "colab": {
      "provenance": []
    },
    "kernelspec": {
      "display_name": "python",
      "language": "python",
      "name": "python3"
    },
    "language_info": {
      "codemirror_mode": {
        "name": "ipython",
        "version": 3
      },
      "file_extension": ".py",
      "mimetype": "text/x-python",
      "name": "python",
      "nbconvert_exporter": "python",
      "pygments_lexer": "ipython3",
      "version": "3.6.8"
    }
  },
  "nbformat": 4,
  "nbformat_minor": 0
}
