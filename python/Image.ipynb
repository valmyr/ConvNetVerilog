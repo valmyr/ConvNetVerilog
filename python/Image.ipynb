{
  "nbformat": 4,
  "nbformat_minor": 0,
  "metadata": {
    "colab": {
      "provenance": []
    },
    "kernelspec": {
      "name": "python3",
      "display_name": "Python 3"
    },
    "language_info": {
      "name": "python"
    }
  },
  "cells": [
    {
      "cell_type": "code",
      "execution_count": 105,
      "metadata": {
        "colab": {
          "base_uri": "https://localhost:8080/"
        },
        "id": "R7qQ4aHNKabD",
        "outputId": "2dde94c8-2502-4b2f-bc4f-1604669ad10a"
      },
      "outputs": [
        {
          "output_type": "stream",
          "name": "stdout",
          "text": [
            "Requirement already satisfied: keras_preprocessing in /usr/local/lib/python3.11/dist-packages (1.1.2)\n",
            "Requirement already satisfied: numpy>=1.9.1 in /usr/local/lib/python3.11/dist-packages (from keras_preprocessing) (2.0.2)\n",
            "Requirement already satisfied: six>=1.9.0 in /usr/local/lib/python3.11/dist-packages (from keras_preprocessing) (1.17.0)\n"
          ]
        }
      ],
      "source": [
        "!pip install keras_preprocessing"
      ]
    },
    {
      "cell_type": "code",
      "source": [
        "from keras_preprocessing import image as img"
      ],
      "metadata": {
        "id": "LeQOQlapKfvF"
      },
      "execution_count": 106,
      "outputs": []
    },
    {
      "cell_type": "markdown",
      "source": [],
      "metadata": {
        "id": "ZTScsKMqRxwc"
      }
    },
    {
      "cell_type": "code",
      "source": [
        "ima = img.load_img(\"/content/sample-matrix.bmp\",target_size=(5,5))"
      ],
      "metadata": {
        "id": "J8-0zNQULJcC"
      },
      "execution_count": 114,
      "outputs": []
    },
    {
      "cell_type": "code",
      "source": [
        "f = open(\"I.txt\",\"w\")"
      ],
      "metadata": {
        "id": "te-Hq9X6Qgj0"
      },
      "execution_count": 115,
      "outputs": []
    },
    {
      "cell_type": "code",
      "source": [
        "array = img.img_to_array(ima)\n",
        "for i in array:\n",
        "    for j in i:\n",
        "        strtmp = f'    {int(j[0]):3} '\n",
        "        f.write(strtmp)\n",
        "        print(f'    {int(j[0]):3} ',end='  ')\n",
        "    f.write(\"\\n\")\n",
        "    print(\"\\n\")\n",
        "f.close()"
      ],
      "metadata": {
        "colab": {
          "base_uri": "https://localhost:8080/"
        },
        "id": "5DQtVefsLg3U",
        "outputId": "1405ba52-16b8-4941-99a6-e1c677993776"
      },
      "execution_count": 116,
      "outputs": [
        {
          "output_type": "stream",
          "name": "stdout",
          "text": [
            "    255       255       255         4         4   \n",
            "\n",
            "    255         4       255         4         4   \n",
            "\n",
            "      4       255       255       255         4   \n",
            "\n",
            "      4         4         4       255         4   \n",
            "\n",
            "    255         4         4       255         4   \n",
            "\n"
          ]
        }
      ]
    },
    {
      "cell_type": "code",
      "source": [
        "import os\n",
        "os.system(\"rm /content/I.txt\")"
      ],
      "metadata": {
        "colab": {
          "base_uri": "https://localhost:8080/"
        },
        "id": "DU2ypemRRuEX",
        "outputId": "38bd4e46-d212-46b2-852f-89a602c991f0"
      },
      "execution_count": 117,
      "outputs": [
        {
          "output_type": "execute_result",
          "data": {
            "text/plain": [
              "0"
            ]
          },
          "metadata": {},
          "execution_count": 117
        }
      ]
    }
  ]
}