{
  "nbformat": 4,
  "nbformat_minor": 0,
  "metadata": {
    "colab": {
      "provenance": [],
      "gpuType": "V28",
      "include_colab_link": true
    },
    "kernelspec": {
      "name": "python3",
      "display_name": "Python 3"
    },
    "accelerator": "TPU"
  },
  "cells": [
    {
      "cell_type": "markdown",
      "metadata": {
        "id": "view-in-github",
        "colab_type": "text"
      },
      "source": [
        "<a href=\"https://colab.research.google.com/github/valmyr/ConvNetVerilog/blob/main/VerifHandwrittenDigitClassifier.ipynb\" target=\"_parent\"><img src=\"https://colab.research.google.com/assets/colab-badge.svg\" alt=\"Open In Colab\"/></a>"
      ]
    },
    {
      "cell_type": "markdown",
      "metadata": {
        "id": "eH4zDb_Q7s5O"
      },
      "source": [
        "\n",
        "# Block 1 - Imports\n",
        "\n",
        "\n"
      ]
    },
    {
      "cell_type": "code",
      "source": [],
      "metadata": {
        "id": "yQSGOB0qr9Eu"
      },
      "execution_count": null,
      "outputs": []
    },
    {
      "cell_type": "code",
      "metadata": {
        "id": "hFtEaIvPKgIy",
        "colab": {
          "base_uri": "https://localhost:8080/"
        },
        "outputId": "2be1d499-6eaa-44c2-ff99-aaa78ed82b3d"
      },
      "source": [
        "try:\n",
        "  from numpy import mean\n",
        "  from numpy import std\n",
        "  from matplotlib import pyplot\n",
        "  from sklearn.model_selection import KFold\n",
        "  from keras.datasets import mnist\n",
        "  from keras.utils import to_categorical\n",
        "  from keras.models import Sequential\n",
        "  from keras.layers import Conv2D\n",
        "  from keras.layers import MaxPooling2D\n",
        "  from keras.layers import Dense\n",
        "  from keras.layers import Flatten\n",
        "  from keras.optimizers import SGD\n",
        "except:\n",
        "  !pip install keras\n",
        "  !pip install tensorflow\n",
        "  from numpy import mean\n",
        "  from numpy import std\n",
        "  from matplotlib import pyplot\n",
        "  from sklearn.model_selection import KFold\n",
        "  from keras.datasets import mnist\n",
        "  from keras.utils import to_categorical\n",
        "  from keras.models import Sequential\n",
        "  from keras.layers import Conv2D\n",
        "  from keras.layers import MaxPooling2D\n",
        "  from keras.layers import Dense\n",
        "  from keras.layers import Flatten\n",
        "  from keras.optimizers import SGD\n",
        "from matplotlib import pyplot as plt"
      ],
      "execution_count": 1,
      "outputs": [
        {
          "output_type": "stream",
          "name": "stdout",
          "text": [
            "Requirement already satisfied: keras in /usr/local/lib/python3.11/dist-packages (3.8.0)\n",
            "Requirement already satisfied: absl-py in /usr/local/lib/python3.11/dist-packages (from keras) (1.4.0)\n",
            "Requirement already satisfied: numpy in /usr/local/lib/python3.11/dist-packages (from keras) (2.0.2)\n",
            "Requirement already satisfied: rich in /usr/local/lib/python3.11/dist-packages (from keras) (14.0.0)\n",
            "Requirement already satisfied: namex in /usr/local/lib/python3.11/dist-packages (from keras) (0.1.0)\n",
            "Requirement already satisfied: h5py in /usr/local/lib/python3.11/dist-packages (from keras) (3.13.0)\n",
            "Requirement already satisfied: optree in /usr/local/lib/python3.11/dist-packages (from keras) (0.16.0)\n",
            "Requirement already satisfied: ml-dtypes in /usr/local/lib/python3.11/dist-packages (from keras) (0.5.1)\n",
            "Requirement already satisfied: packaging in /usr/local/lib/python3.11/dist-packages (from keras) (25.0)\n",
            "Requirement already satisfied: typing-extensions>=4.6.0 in /usr/local/lib/python3.11/dist-packages (from optree->keras) (4.14.0)\n",
            "Requirement already satisfied: markdown-it-py>=2.2.0 in /usr/local/lib/python3.11/dist-packages (from rich->keras) (3.0.0)\n",
            "Requirement already satisfied: pygments<3.0.0,>=2.13.0 in /usr/local/lib/python3.11/dist-packages (from rich->keras) (2.19.1)\n",
            "Requirement already satisfied: mdurl~=0.1 in /usr/local/lib/python3.11/dist-packages (from markdown-it-py>=2.2.0->rich->keras) (0.1.2)\n",
            "Collecting tensorflow\n",
            "  Downloading tensorflow-2.19.0-cp311-cp311-manylinux_2_17_x86_64.manylinux2014_x86_64.whl.metadata (4.1 kB)\n",
            "Requirement already satisfied: absl-py>=1.0.0 in /usr/local/lib/python3.11/dist-packages (from tensorflow) (1.4.0)\n",
            "Collecting astunparse>=1.6.0 (from tensorflow)\n",
            "  Downloading astunparse-1.6.3-py2.py3-none-any.whl.metadata (4.4 kB)\n",
            "Collecting flatbuffers>=24.3.25 (from tensorflow)\n",
            "  Downloading flatbuffers-25.2.10-py2.py3-none-any.whl.metadata (875 bytes)\n",
            "Requirement already satisfied: gast!=0.5.0,!=0.5.1,!=0.5.2,>=0.2.1 in /usr/local/lib/python3.11/dist-packages (from tensorflow) (0.6.0)\n",
            "Collecting google-pasta>=0.1.1 (from tensorflow)\n",
            "  Downloading google_pasta-0.2.0-py3-none-any.whl.metadata (814 bytes)\n",
            "Collecting libclang>=13.0.0 (from tensorflow)\n",
            "  Downloading libclang-18.1.1-py2.py3-none-manylinux2010_x86_64.whl.metadata (5.2 kB)\n",
            "Requirement already satisfied: opt-einsum>=2.3.2 in /usr/local/lib/python3.11/dist-packages (from tensorflow) (3.4.0)\n",
            "Requirement already satisfied: packaging in /usr/local/lib/python3.11/dist-packages (from tensorflow) (25.0)\n",
            "Requirement already satisfied: protobuf!=4.21.0,!=4.21.1,!=4.21.2,!=4.21.3,!=4.21.4,!=4.21.5,<6.0.0dev,>=3.20.3 in /usr/local/lib/python3.11/dist-packages (from tensorflow) (5.29.5)\n",
            "Requirement already satisfied: requests<3,>=2.21.0 in /usr/local/lib/python3.11/dist-packages (from tensorflow) (2.32.3)\n",
            "Requirement already satisfied: setuptools in /usr/local/lib/python3.11/dist-packages (from tensorflow) (75.2.0)\n",
            "Requirement already satisfied: six>=1.12.0 in /usr/local/lib/python3.11/dist-packages (from tensorflow) (1.17.0)\n",
            "Requirement already satisfied: termcolor>=1.1.0 in /usr/local/lib/python3.11/dist-packages (from tensorflow) (3.1.0)\n",
            "Requirement already satisfied: typing-extensions>=3.6.6 in /usr/local/lib/python3.11/dist-packages (from tensorflow) (4.14.0)\n",
            "Requirement already satisfied: wrapt>=1.11.0 in /usr/local/lib/python3.11/dist-packages (from tensorflow) (1.17.2)\n",
            "Requirement already satisfied: grpcio<2.0,>=1.24.3 in /usr/local/lib/python3.11/dist-packages (from tensorflow) (1.72.1)\n",
            "Collecting tensorboard~=2.19.0 (from tensorflow)\n",
            "  Downloading tensorboard-2.19.0-py3-none-any.whl.metadata (1.8 kB)\n",
            "Requirement already satisfied: keras>=3.5.0 in /usr/local/lib/python3.11/dist-packages (from tensorflow) (3.8.0)\n",
            "Requirement already satisfied: numpy<2.2.0,>=1.26.0 in /usr/local/lib/python3.11/dist-packages (from tensorflow) (2.0.2)\n",
            "Requirement already satisfied: h5py>=3.11.0 in /usr/local/lib/python3.11/dist-packages (from tensorflow) (3.13.0)\n",
            "Requirement already satisfied: ml-dtypes<1.0.0,>=0.5.1 in /usr/local/lib/python3.11/dist-packages (from tensorflow) (0.5.1)\n",
            "Collecting tensorflow-io-gcs-filesystem>=0.23.1 (from tensorflow)\n",
            "  Downloading tensorflow_io_gcs_filesystem-0.37.1-cp311-cp311-manylinux_2_17_x86_64.manylinux2014_x86_64.whl.metadata (14 kB)\n",
            "Collecting wheel<1.0,>=0.23.0 (from astunparse>=1.6.0->tensorflow)\n",
            "  Downloading wheel-0.45.1-py3-none-any.whl.metadata (2.3 kB)\n",
            "Requirement already satisfied: rich in /usr/local/lib/python3.11/dist-packages (from keras>=3.5.0->tensorflow) (14.0.0)\n",
            "Requirement already satisfied: namex in /usr/local/lib/python3.11/dist-packages (from keras>=3.5.0->tensorflow) (0.1.0)\n",
            "Requirement already satisfied: optree in /usr/local/lib/python3.11/dist-packages (from keras>=3.5.0->tensorflow) (0.16.0)\n",
            "Requirement already satisfied: charset-normalizer<4,>=2 in /usr/local/lib/python3.11/dist-packages (from requests<3,>=2.21.0->tensorflow) (3.4.2)\n",
            "Requirement already satisfied: idna<4,>=2.5 in /usr/local/lib/python3.11/dist-packages (from requests<3,>=2.21.0->tensorflow) (3.10)\n",
            "Requirement already satisfied: urllib3<3,>=1.21.1 in /usr/local/lib/python3.11/dist-packages (from requests<3,>=2.21.0->tensorflow) (2.4.0)\n",
            "Requirement already satisfied: certifi>=2017.4.17 in /usr/local/lib/python3.11/dist-packages (from requests<3,>=2.21.0->tensorflow) (2025.4.26)\n",
            "Requirement already satisfied: markdown>=2.6.8 in /usr/lib/python3/dist-packages (from tensorboard~=2.19.0->tensorflow) (3.3.6)\n",
            "Collecting tensorboard-data-server<0.8.0,>=0.7.0 (from tensorboard~=2.19.0->tensorflow)\n",
            "  Downloading tensorboard_data_server-0.7.2-py3-none-manylinux_2_31_x86_64.whl.metadata (1.1 kB)\n",
            "Collecting werkzeug>=1.0.1 (from tensorboard~=2.19.0->tensorflow)\n",
            "  Downloading werkzeug-3.1.3-py3-none-any.whl.metadata (3.7 kB)\n",
            "Requirement already satisfied: MarkupSafe>=2.1.1 in /usr/local/lib/python3.11/dist-packages (from werkzeug>=1.0.1->tensorboard~=2.19.0->tensorflow) (3.0.2)\n",
            "Requirement already satisfied: markdown-it-py>=2.2.0 in /usr/local/lib/python3.11/dist-packages (from rich->keras>=3.5.0->tensorflow) (3.0.0)\n",
            "Requirement already satisfied: pygments<3.0.0,>=2.13.0 in /usr/local/lib/python3.11/dist-packages (from rich->keras>=3.5.0->tensorflow) (2.19.1)\n",
            "Requirement already satisfied: mdurl~=0.1 in /usr/local/lib/python3.11/dist-packages (from markdown-it-py>=2.2.0->rich->keras>=3.5.0->tensorflow) (0.1.2)\n",
            "Downloading tensorflow-2.19.0-cp311-cp311-manylinux_2_17_x86_64.manylinux2014_x86_64.whl (644.9 MB)\n",
            "\u001b[2K   \u001b[90m━━━━━━━━━━━━━━━━━━━━━━━━━━━━━━━━━━━━━━━━\u001b[0m \u001b[32m644.9/644.9 MB\u001b[0m \u001b[31m1.6 MB/s\u001b[0m eta \u001b[36m0:00:00\u001b[0m\n",
            "\u001b[?25hDownloading astunparse-1.6.3-py2.py3-none-any.whl (12 kB)\n",
            "Downloading flatbuffers-25.2.10-py2.py3-none-any.whl (30 kB)\n",
            "Downloading google_pasta-0.2.0-py3-none-any.whl (57 kB)\n",
            "\u001b[2K   \u001b[90m━━━━━━━━━━━━━━━━━━━━━━━━━━━━━━━━━━━━━━━━\u001b[0m \u001b[32m57.5/57.5 kB\u001b[0m \u001b[31m5.2 MB/s\u001b[0m eta \u001b[36m0:00:00\u001b[0m\n",
            "\u001b[?25hDownloading libclang-18.1.1-py2.py3-none-manylinux2010_x86_64.whl (24.5 MB)\n",
            "\u001b[2K   \u001b[90m━━━━━━━━━━━━━━━━━━━━━━━━━━━━━━━━━━━━━━━━\u001b[0m \u001b[32m24.5/24.5 MB\u001b[0m \u001b[31m81.6 MB/s\u001b[0m eta \u001b[36m0:00:00\u001b[0m\n",
            "\u001b[?25hDownloading tensorboard-2.19.0-py3-none-any.whl (5.5 MB)\n",
            "\u001b[2K   \u001b[90m━━━━━━━━━━━━━━━━━━━━━━━━━━━━━━━━━━━━━━━━\u001b[0m \u001b[32m5.5/5.5 MB\u001b[0m \u001b[31m103.6 MB/s\u001b[0m eta \u001b[36m0:00:00\u001b[0m\n",
            "\u001b[?25hDownloading tensorflow_io_gcs_filesystem-0.37.1-cp311-cp311-manylinux_2_17_x86_64.manylinux2014_x86_64.whl (5.1 MB)\n",
            "\u001b[2K   \u001b[90m━━━━━━━━━━━━━━━━━━━━━━━━━━━━━━━━━━━━━━━━\u001b[0m \u001b[32m5.1/5.1 MB\u001b[0m \u001b[31m77.2 MB/s\u001b[0m eta \u001b[36m0:00:00\u001b[0m\n",
            "\u001b[?25hDownloading tensorboard_data_server-0.7.2-py3-none-manylinux_2_31_x86_64.whl (6.6 MB)\n",
            "\u001b[2K   \u001b[90m━━━━━━━━━━━━━━━━━━━━━━━━━━━━━━━━━━━━━━━━\u001b[0m \u001b[32m6.6/6.6 MB\u001b[0m \u001b[31m118.2 MB/s\u001b[0m eta \u001b[36m0:00:00\u001b[0m\n",
            "\u001b[?25hDownloading werkzeug-3.1.3-py3-none-any.whl (224 kB)\n",
            "\u001b[2K   \u001b[90m━━━━━━━━━━━━━━━━━━━━━━━━━━━━━━━━━━━━━━━━\u001b[0m \u001b[32m224.5/224.5 kB\u001b[0m \u001b[31m17.2 MB/s\u001b[0m eta \u001b[36m0:00:00\u001b[0m\n",
            "\u001b[?25hDownloading wheel-0.45.1-py3-none-any.whl (72 kB)\n",
            "\u001b[2K   \u001b[90m━━━━━━━━━━━━━━━━━━━━━━━━━━━━━━━━━━━━━━━━\u001b[0m \u001b[32m72.5/72.5 kB\u001b[0m \u001b[31m6.4 MB/s\u001b[0m eta \u001b[36m0:00:00\u001b[0m\n",
            "\u001b[?25hInstalling collected packages: libclang, flatbuffers, wheel, werkzeug, tensorflow-io-gcs-filesystem, tensorboard-data-server, google-pasta, tensorboard, astunparse, tensorflow\n",
            "Successfully installed astunparse-1.6.3 flatbuffers-25.2.10 google-pasta-0.2.0 libclang-18.1.1 tensorboard-2.19.0 tensorboard-data-server-0.7.2 tensorflow-2.19.0 tensorflow-io-gcs-filesystem-0.37.1 werkzeug-3.1.3 wheel-0.45.1\n"
          ]
        }
      ]
    },
    {
      "cell_type": "markdown",
      "metadata": {
        "id": "-jTzMYDv71eV"
      },
      "source": [
        "# Block 2 - Load data from MNIST dataset\n"
      ]
    },
    {
      "cell_type": "code",
      "source": [
        "!python3 --version"
      ],
      "metadata": {
        "colab": {
          "base_uri": "https://localhost:8080/"
        },
        "id": "OJaD2LC-9eI3",
        "outputId": "a47f6061-0dac-4fb4-8601-8439b2896193"
      },
      "execution_count": 2,
      "outputs": [
        {
          "output_type": "stream",
          "name": "stdout",
          "text": [
            "Python 3.11.13\n"
          ]
        }
      ]
    },
    {
      "cell_type": "code",
      "source": [],
      "metadata": {
        "id": "NKD62jXA9gQc"
      },
      "execution_count": 2,
      "outputs": []
    },
    {
      "cell_type": "code",
      "source": [
        "!python3 --version"
      ],
      "metadata": {
        "colab": {
          "base_uri": "https://localhost:8080/"
        },
        "id": "mKDcerNo6mLx",
        "outputId": "d151ec02-8ed2-489a-ee2b-27fd6fcbf817"
      },
      "execution_count": 3,
      "outputs": [
        {
          "output_type": "stream",
          "name": "stdout",
          "text": [
            "Python 3.11.13\n"
          ]
        }
      ]
    },
    {
      "cell_type": "code",
      "metadata": {
        "id": "XOgaOraMKJB_",
        "colab": {
          "base_uri": "https://localhost:8080/",
          "height": 241
        },
        "outputId": "8088c393-69b5-4e9c-ec87-cc26aa00bac0"
      },
      "source": [
        "(trainX, trainY), (testX, testY) = mnist.load_data()\n",
        "print('Train: X=%s, y=%s' % (trainX.shape, trainY.shape))\n",
        "print('Test: X=%s, y=%s' % (testX.shape, testY.shape))\n",
        "i=0\n",
        "pyplot.subplot(330 + 1 + i)\n",
        "pyplot.imshow(trainX[0], cmap=pyplot.get_cmap('gray'))\n",
        "pyplot.show()"
      ],
      "execution_count": 4,
      "outputs": [
        {
          "output_type": "stream",
          "name": "stdout",
          "text": [
            "Downloading data from https://storage.googleapis.com/tensorflow/tf-keras-datasets/mnist.npz\n",
            "\u001b[1m11490434/11490434\u001b[0m \u001b[32m━━━━━━━━━━━━━━━━━━━━\u001b[0m\u001b[37m\u001b[0m \u001b[1m0s\u001b[0m 0us/step\n",
            "Train: X=(60000, 28, 28), y=(60000,)\n",
            "Test: X=(10000, 28, 28), y=(10000,)\n"
          ]
        },
        {
          "output_type": "display_data",
          "data": {
            "text/plain": [
              "<Figure size 640x480 with 1 Axes>"
            ],
            "image/png": "[encoded data removed]"
          },
          "metadata": {}
        }
      ]
    },
    {
      "cell_type": "markdown",
      "metadata": {
        "id": "HcQrlLHQ75oq"
      },
      "source": [
        "# Block 3 - Pre-processing\n"
      ]
    },
    {
      "cell_type": "code",
      "metadata": {
        "id": "55JEiVL6qxg1",
        "colab": {
          "base_uri": "https://localhost:8080/"
        },
        "outputId": "90ac8e46-0943-410e-a8c5-87a322d467ff"
      },
      "source": [
        "\n",
        "# reshape dataset to have a single channel\n",
        "trainX = trainX.reshape((trainX.shape[0], 28, 28, 1))\n",
        "testX = testX.reshape((testX.shape[0], 28, 28, 1))\n",
        "\n",
        "# one hot encode target values - since output is vector of 10 values\n",
        "trainY = to_categorical(trainY)\n",
        "testY = to_categorical(testY)\n",
        "\n",
        "print('Train: X=%s, y=%s' % (trainX.shape, trainY.shape))\n",
        "print('Test: X=%s, y=%s' % (testX.shape, testY.shape))\n",
        "\n",
        "# convert from integers to floats\n",
        "train_norm = trainX.astype('float32')\n",
        "test_norm = testX.astype('float32')\n",
        "\n",
        "# normalize to range 0-1\n",
        "trainX = train_norm / 255.0\n",
        "testX = test_norm / 255.0"
      ],
      "execution_count": 5,
      "outputs": [
        {
          "output_type": "stream",
          "name": "stdout",
          "text": [
            "Train: X=(60000, 28, 28, 1), y=(60000, 10)\n",
            "Test: X=(10000, 28, 28, 1), y=(10000, 10)\n"
          ]
        }
      ]
    },
    {
      "cell_type": "markdown",
      "metadata": {
        "id": "n9yRAf-a8R-6"
      },
      "source": [
        "# Block 4 - Model Definition\n"
      ]
    },
    {
      "cell_type": "code",
      "metadata": {
        "id": "iXY1vh6qKUj7"
      },
      "source": [
        "# def define_model():\n",
        "#   model = Sequential()\n",
        "#   # Convolution layer with 32 kernels of [3*3]\n",
        "#   model.add(Conv2D(2, (5, 5), activation='relu', kernel_initializer='he_uniform', input_shape=(28, 28, 1)))\n",
        "#   # Max Pooling with [2*2]\n",
        "#   model.add(MaxPooling2D((2, 2)))\n",
        "#   model.add(Conv2D(4, (3, 3), activation='relu', kernel_initializer='he_uniform', input_shape=(28, 28, 1)))\n",
        "#   model.add(MaxPooling2D((2, 2)))\n",
        "#   model.add(Flatten())\n",
        "#   # First layer of Fully connected layer with 100 nodes\n",
        "# #   model.add(Dense(100, activation='relu', kernel_initializer='he_uniform'))\n",
        "#   # Output layer with 10 nodes\n",
        "#   model.add(Dense(10, activation='sigmoid',    kernel_initializer='he_uniform'))\n",
        "\n",
        "#   # compile model\n",
        "# #   opt = SGD(lr=0.01, momentum=0.9)\n",
        "#   model.compile( loss='categorical_crossentropy', metrics=['accuracy'])\n",
        "\n",
        "#   return model\n",
        "# define_model().summary()"
      ],
      "execution_count": 6,
      "outputs": []
    },
    {
      "cell_type": "markdown",
      "metadata": {
        "id": "YGU283lc8WNp"
      },
      "source": [
        "# Block 5 - Model Evaluation\n"
      ]
    },
    {
      "cell_type": "code",
      "metadata": {
        "id": "aZoBp0B_KX2t"
      },
      "source": [
        "# scores, histories = list(), list()\n",
        "\n",
        "# # 2 fold cross validation\n",
        "# kfold = KFold(2, shuffle=True, random_state=1)\n",
        "\n",
        "# # enumerate splits\n",
        "# for train_ix, test_ix in kfold.split(trainX):\n",
        "# \tmodel = define_model()\n",
        "# \t# select rows for train and test\n",
        "# \ttrainX_temp, trainY_temp, testX_temp, testY_temp = trainX[train_ix], trainY[train_ix], trainX[test_ix], trainY[test_ix]\n",
        "# \t# fit model\n",
        "# \thistory = model.fit(trainX_temp, trainY_temp, epochs=5, batch_size=32, validation_data=(testX_temp, testY_temp), verbose=1)\n",
        "# \t# evaluate model\n",
        "# \t_, acc = model.evaluate(testX_temp, testY_temp, verbose=0)\n",
        "# \tprint('> %.3f' % (acc * 100.0))\n",
        "# \t# stores scores\n",
        "# \tscores.append(acc)\n",
        "# \t# break\n",
        "# \thistories.append(history)\n",
        "# \tbreak"
      ],
      "execution_count": 7,
      "outputs": []
    },
    {
      "cell_type": "markdown",
      "metadata": {
        "id": "xKgx85Il8aTG"
      },
      "source": [
        "# Block 6 - Plot learning curves\n"
      ]
    },
    {
      "cell_type": "code",
      "source": [
        "import tensorflow as tf"
      ],
      "metadata": {
        "id": "2N1Wij1TPpU0"
      },
      "execution_count": 8,
      "outputs": []
    },
    {
      "cell_type": "code",
      "source": [
        "model= tf.keras.models.load_model(\"/content/output00.h5\")"
      ],
      "metadata": {
        "colab": {
          "base_uri": "https://localhost:8080/"
        },
        "id": "Wg5lkRIoPgdD",
        "outputId": "16e13a79-1220-4d58-9742-be43e727fcab"
      },
      "execution_count": 9,
      "outputs": [
        {
          "output_type": "stream",
          "name": "stderr",
          "text": [
            "WARNING:absl:Compiled the loaded model, but the compiled metrics have yet to be built. `model.compile_metrics` will be empty until you train or evaluate the model.\n"
          ]
        }
      ]
    },
    {
      "cell_type": "code",
      "source": [
        "# !pip install keras_preprocessing"
      ],
      "metadata": {
        "id": "CJ4yqvDSXbcU"
      },
      "execution_count": 10,
      "outputs": []
    },
    {
      "cell_type": "code",
      "source": [
        "# import"
      ],
      "metadata": {
        "id": "pkxK329KXeQT"
      },
      "execution_count": 11,
      "outputs": []
    },
    {
      "cell_type": "code",
      "source": [],
      "metadata": {
        "id": "o6TN-P6nXgbf"
      },
      "execution_count": 11,
      "outputs": []
    },
    {
      "cell_type": "code",
      "source": [
        "img_tensor= testX[0:1].shape"
      ],
      "metadata": {
        "id": "_Zgm-Y5jHw5I"
      },
      "execution_count": 12,
      "outputs": []
    },
    {
      "cell_type": "code",
      "source": [
        "model.layers"
      ],
      "metadata": {
        "id": "Szq-KtksH6UO",
        "colab": {
          "base_uri": "https://localhost:8080/"
        },
        "outputId": "6886fdbd-e3b9-47ff-fc1e-7e433e33fcb3"
      },
      "execution_count": 13,
      "outputs": [
        {
          "output_type": "execute_result",
          "data": {
            "text/plain": [
              "[<Conv2D name=conv2d_6, built=True>,\n",
              " <MaxPooling2D name=max_pooling2d_6, built=True>,\n",
              " <Conv2D name=conv2d_7, built=True>,\n",
              " <MaxPooling2D name=max_pooling2d_7, built=True>,\n",
              " <Flatten name=flatten_3, built=True>,\n",
              " <Dense name=dense_3, built=True>]"
            ]
          },
          "metadata": {},
          "execution_count": 13
        }
      ]
    },
    {
      "cell_type": "code",
      "source": [
        "from keras import models\n",
        "\n",
        "\n",
        "# Outputs of the 8 layers, which include conv2D and max pooling layers\n",
        "layer_outputs = [layer.output for layer in model.layers[:8]]\n",
        "layer_outputs"
      ],
      "metadata": {
        "id": "hDV1Svz1I8fa",
        "colab": {
          "base_uri": "https://localhost:8080/"
        },
        "outputId": "a7aa8797-47c0-414f-f153-33ee9d0af47d"
      },
      "execution_count": 14,
      "outputs": [
        {
          "output_type": "execute_result",
          "data": {
            "text/plain": [
              "[<KerasTensor shape=(None, 24, 24, 2), dtype=float32, sparse=False, name=keras_tensor>,\n",
              " <KerasTensor shape=(None, 12, 12, 2), dtype=float32, sparse=False, name=keras_tensor_2>,\n",
              " <KerasTensor shape=(None, 10, 10, 4), dtype=float32, sparse=False, name=keras_tensor_5>,\n",
              " <KerasTensor shape=(None, 5, 5, 4), dtype=float32, sparse=False, name=keras_tensor_9>,\n",
              " <KerasTensor shape=(None, 100), dtype=float32, sparse=False, name=keras_tensor_14>,\n",
              " <KerasTensor shape=(None, 10), dtype=float32, sparse=False, name=keras_tensor_20>]"
            ]
          },
          "metadata": {},
          "execution_count": 14
        }
      ]
    },
    {
      "cell_type": "code",
      "source": [
        "img_tensor = testX[3:4]*(2**8-1)"
      ],
      "metadata": {
        "id": "cYYBM0LXKEYD"
      },
      "execution_count": 15,
      "outputs": []
    },
    {
      "cell_type": "code",
      "source": [],
      "metadata": {
        "id": "n2uhIGBXGQnI"
      },
      "execution_count": 15,
      "outputs": []
    },
    {
      "cell_type": "code",
      "source": [
        "img_tensor;"
      ],
      "metadata": {
        "id": "qwQkJAlMGOSb"
      },
      "execution_count": 37,
      "outputs": []
    },
    {
      "cell_type": "code",
      "source": [
        "model.save(\"10_05_2025_DigitClassif.h5\")"
      ],
      "metadata": {
        "id": "nYkgLwEWL0II",
        "colab": {
          "base_uri": "https://localhost:8080/"
        },
        "outputId": "659a540e-532c-4237-9e45-8220663b6197"
      },
      "execution_count": 17,
      "outputs": [
        {
          "output_type": "stream",
          "name": "stderr",
          "text": [
            "WARNING:absl:You are saving your model as an HDF5 file via `model.save()` or `keras.saving.save_model(model)`. This file format is considered legacy. We recommend using instead the native Keras format, e.g. `model.save('my_model.keras')` or `keras.saving.save_model(model, 'my_model.keras')`. \n"
          ]
        }
      ]
    },
    {
      "cell_type": "code",
      "source": [
        "import numpy as np"
      ],
      "metadata": {
        "id": "9lS88Xw6biyj"
      },
      "execution_count": 18,
      "outputs": []
    },
    {
      "cell_type": "code",
      "source": [
        "nbits=1"
      ],
      "metadata": {
        "id": "y2HAPyS4bUjy"
      },
      "execution_count": 19,
      "outputs": []
    },
    {
      "cell_type": "code",
      "source": [
        "# img_tensor = testX[0:1]\n",
        "# img_tensor.shape\n",
        "cmp = 'viridis'"
      ],
      "metadata": {
        "id": "CTB1jk2_by-O"
      },
      "execution_count": 20,
      "outputs": []
    },
    {
      "cell_type": "code",
      "source": [
        "# img_tensor = a.reshape(1,28,28,1)"
      ],
      "metadata": {
        "id": "bsVoBrmgbtCl"
      },
      "execution_count": 21,
      "outputs": []
    },
    {
      "cell_type": "code",
      "source": [
        "img_tensor = testX[0:1]*2**8\n",
        "plt.imshow(img_tensor.reshape(28,28))"
      ],
      "metadata": {
        "id": "JCwXYNtbdici",
        "colab": {
          "base_uri": "https://localhost:8080/",
          "height": 447
        },
        "outputId": "6307fe49-0a42-47aa-d216-a57c67d1e63d"
      },
      "execution_count": 22,
      "outputs": [
        {
          "output_type": "execute_result",
          "data": {
            "text/plain": [
              "<matplotlib.image.AxesImage at 0x79296aaf9790>"
            ]
          },
          "metadata": {},
          "execution_count": 22
        },
        {
          "output_type": "display_data",
          "data": {
            "text/plain": [
              "<Figure size 640x480 with 1 Axes>"
            ],
            "image/png": "[encoded data removed]"
          },
          "metadata": {}
        }
      ]
    },
    {
      "cell_type": "code",
      "source": [],
      "metadata": {
        "id": "T1r1JCPgGncv"
      },
      "execution_count": 36,
      "outputs": []
    },
    {
      "cell_type": "code",
      "source": [
        "from matplotlib import pyplot as plt"
      ],
      "metadata": {
        "id": "U2mI8UA0JGEo"
      },
      "execution_count": 24,
      "outputs": []
    },
    {
      "cell_type": "code",
      "source": [
        "# plt.imshow(img_tensor.reshape(28,28), cmap ='viridis')\n"
      ],
      "metadata": {
        "id": "qKYzcIzPP8iw"
      },
      "execution_count": 25,
      "outputs": []
    },
    {
      "cell_type": "code",
      "source": [
        "from keras import models\n",
        "\n",
        "\n",
        "# Outputs of the 8 layers, which include conv2D and max pooling layers\n",
        "layer_outputs = [layer.output for layer in model.layers[:8]]\n",
        "activation_model = models.Model(model.layers[0].input, outputs = layer_outputs)\n",
        "activations = activation_model.predict(img_tensor)\n",
        "\n",
        "# Getting Activations of first layer\n",
        "first_layer_activation = activations[0]\n",
        "\n",
        "# shape of first layer activation\n",
        "print(first_layer_activation.shape)\n",
        "\n",
        "# 6th channel of the image after first layer of convolution is applied\n",
        "plt.subplot(1,2,1)\n",
        "plt.imshow(first_layer_activation[0, :, :, 0], cmap =cmp)\n",
        "plt.subplot(1,2,2)\n",
        "plt.imshow(first_layer_activation[0, :, :, 1], cmap =cmp)\n",
        "\n",
        "# 15th channel of the image after first layer of convolution is applied\n",
        "# plt.matshow(first_layer_activation[0, :, :, 1], cmap ='viridis')"
      ],
      "metadata": {
        "id": "MnJfs8XpHeHn",
        "colab": {
          "base_uri": "https://localhost:8080/",
          "height": 338
        },
        "outputId": "002015a5-078c-41aa-f2ce-cf76e907ff14"
      },
      "execution_count": 26,
      "outputs": [
        {
          "output_type": "stream",
          "name": "stdout",
          "text": [
            "\u001b[1m1/1\u001b[0m \u001b[32m━━━━━━━━━━━━━━━━━━━━\u001b[0m\u001b[37m\u001b[0m \u001b[1m0s\u001b[0m 219ms/step\n",
            "(1, 24, 24, 2)\n"
          ]
        },
        {
          "output_type": "execute_result",
          "data": {
            "text/plain": [
              "<matplotlib.image.AxesImage at 0x7929678bd2d0>"
            ]
          },
          "metadata": {},
          "execution_count": 26
        },
        {
          "output_type": "display_data",
          "data": {
            "text/plain": [
              "<Figure size 640x480 with 2 Axes>"
            ],
            "image/png": "[encoded data removed]"
          },
          "metadata": {}
        }
      ]
    },
    {
      "cell_type": "code",
      "source": [
        "first_layer_activation = activations[1]\n",
        "plt.subplot(1,2,1)\n",
        "plt.imshow(first_layer_activation[0, :, :, 0], cmap =cmp)\n",
        "plt.subplot(1,2,2)\n",
        "plt.imshow(first_layer_activation[0, :, :, 1], cmap =cmp)\n",
        "# plt.subplot(1,4,3)\n",
        "# plt.imshow(first_layer_activation[0, :, :, 2], cmap ='viridis')"
      ],
      "metadata": {
        "id": "tqUea57mOX8z",
        "colab": {
          "base_uri": "https://localhost:8080/",
          "height": 303
        },
        "outputId": "7db9163a-0bbb-4e89-b8ed-d7419455392e"
      },
      "execution_count": 27,
      "outputs": [
        {
          "output_type": "execute_result",
          "data": {
            "text/plain": [
              "<matplotlib.image.AxesImage at 0x792967993c90>"
            ]
          },
          "metadata": {},
          "execution_count": 27
        },
        {
          "output_type": "display_data",
          "data": {
            "text/plain": [
              "<Figure size 640x480 with 2 Axes>"
            ],
            "image/png": "[encoded data removed]"
          },
          "metadata": {}
        }
      ]
    },
    {
      "cell_type": "code",
      "source": [
        "first_layer_activation[0, :, :, 1].astype(int)"
      ],
      "metadata": {
        "id": "L3vzBHgSHcbS",
        "colab": {
          "base_uri": "https://localhost:8080/"
        },
        "outputId": "21c4cacd-f5e6-4111-a7e8-536fd722d780"
      },
      "execution_count": 28,
      "outputs": [
        {
          "output_type": "execute_result",
          "data": {
            "text/plain": [
              "array([[  0,   0,   0,   0,   0,   0,   0,   0,   0,   0,   0,   0],\n",
              "       [  0,  71, 148, 120,  41,   1,   0,   0,   0,   0,   0,   0],\n",
              "       [  0, 324, 651, 864, 848, 751, 668, 664, 646, 390,  85,   0],\n",
              "       [  0,  33, 194, 602, 788, 846, 835, 881, 883, 723, 349,   0],\n",
              "       [  0,   0,   0,   0,   0,   0,   0, 227, 392, 454, 300,   0],\n",
              "       [  0,   0,   0,   0,   0,   0, 247, 312, 347, 368, 119,   0],\n",
              "       [  0,   0,   0,   0,   0,  49, 266, 236, 345, 240,  14,   0],\n",
              "       [  0,   0,   0,   0,   6, 275, 345, 328, 332,  89,   0,   0],\n",
              "       [  0,   0,   0,   0, 172, 398, 343, 355, 241,   0,   0,   0],\n",
              "       [  0,   0,   0,  60, 355, 322, 349, 319,  71,   0,   0,   0],\n",
              "       [  0,   0,   0, 242, 425, 519, 515, 138,   0,   0,   0,   0],\n",
              "       [  0,   0,   0, 247, 377, 534, 463,  51,   0,   0,   0,   0]])"
            ]
          },
          "metadata": {},
          "execution_count": 28
        }
      ]
    },
    {
      "cell_type": "code",
      "source": [
        "first_layer_activation = activations[2]\n",
        "plt.subplot(1,4,1)\n",
        "plt.imshow(first_layer_activation[0, :, :, 0], cmap =cmp)\n",
        "plt.subplot(1,4,2)\n",
        "plt.imshow(first_layer_activation[0, :, :, 1], cmap =cmp)\n",
        "plt.subplot(1,4,3)\n",
        "plt.imshow(first_layer_activation[0, :, :, 2], cmap =cmp)\n",
        "plt.subplot(1,4,4)\n",
        "plt.imshow(first_layer_activation[0, :, :, 3], cmap =cmp)"
      ],
      "metadata": {
        "id": "HMr-thDXSo7v",
        "colab": {
          "base_uri": "https://localhost:8080/",
          "height": 185
        },
        "outputId": "a85321d0-9221-4129-cf75-8fcfc41d99bb"
      },
      "execution_count": 29,
      "outputs": [
        {
          "output_type": "execute_result",
          "data": {
            "text/plain": [
              "<matplotlib.image.AxesImage at 0x7929307ecf90>"
            ]
          },
          "metadata": {},
          "execution_count": 29
        },
        {
          "output_type": "display_data",
          "data": {
            "text/plain": [
              "<Figure size 640x480 with 4 Axes>"
            ],
            "image/png": "[encoded data removed]"
          },
          "metadata": {}
        }
      ]
    },
    {
      "cell_type": "code",
      "source": [
        "first_layer_activation[0, :, :, 0]"
      ],
      "metadata": {
        "id": "1ALD1EOcOZBy",
        "colab": {
          "base_uri": "https://localhost:8080/"
        },
        "outputId": "a1c57a39-ebbd-4009-d215-50a2ea381f29"
      },
      "execution_count": 30,
      "outputs": [
        {
          "output_type": "execute_result",
          "data": {
            "text/plain": [
              "array([[0.00000000e+00, 8.40327988e+01, 2.28884979e+02, 2.06130219e+02,\n",
              "        1.46477219e+02, 1.64675629e+02, 2.34237717e+02, 3.56875977e+02,\n",
              "        3.81862396e+02, 2.44349396e+02],\n",
              "       [2.92765320e+02, 3.51399628e+02, 9.09752274e+00, 0.00000000e+00,\n",
              "        0.00000000e+00, 0.00000000e+00, 1.01824234e+02, 4.31985229e+02,\n",
              "        4.64881775e+02, 2.41330582e+02],\n",
              "       [4.69365936e+02, 3.44213562e+02, 3.54790955e+01, 0.00000000e+00,\n",
              "        0.00000000e+00, 0.00000000e+00, 2.36297470e+02, 5.32905823e+02,\n",
              "        3.80525909e+02, 1.85636306e+00],\n",
              "       [1.83294342e+02, 1.54253525e+02, 1.21015762e+02, 1.37312515e+02,\n",
              "        2.82435741e+01, 4.43296722e+02, 1.11654700e+03, 1.41482654e+03,\n",
              "        4.89215393e+02, 0.00000000e+00],\n",
              "       [0.00000000e+00, 3.43306198e+01, 2.93641262e+01, 5.15932121e+01,\n",
              "        3.06708126e+01, 8.81956116e+02, 1.86469019e+03, 1.27278955e+03,\n",
              "        2.79817383e+02, 0.00000000e+00],\n",
              "       [0.00000000e+00, 0.00000000e+00, 0.00000000e+00, 0.00000000e+00,\n",
              "        3.99599884e+02, 1.24130908e+03, 1.63085730e+03, 8.71397095e+02,\n",
              "        0.00000000e+00, 0.00000000e+00],\n",
              "       [0.00000000e+00, 0.00000000e+00, 0.00000000e+00, 3.78369255e+01,\n",
              "        9.01460205e+02, 1.81090210e+03, 1.23355151e+03, 2.84459839e+02,\n",
              "        0.00000000e+00, 0.00000000e+00],\n",
              "       [0.00000000e+00, 0.00000000e+00, 0.00000000e+00, 6.02884460e+02,\n",
              "        1.64489502e+03, 1.68829297e+03, 7.90499756e+02, 0.00000000e+00,\n",
              "        0.00000000e+00, 1.83994675e+00],\n",
              "       [0.00000000e+00, 0.00000000e+00, 1.28345367e+02, 1.04300244e+03,\n",
              "        1.88675110e+03, 1.15902344e+03, 9.55785446e+01, 0.00000000e+00,\n",
              "        0.00000000e+00, 0.00000000e+00],\n",
              "       [0.00000000e+00, 0.00000000e+00, 5.74716309e+02, 1.46057556e+03,\n",
              "        1.29768323e+03, 5.07852081e+02, 0.00000000e+00, 0.00000000e+00,\n",
              "        1.42594850e+00, 0.00000000e+00]], dtype=float32)"
            ]
          },
          "metadata": {},
          "execution_count": 30
        }
      ]
    },
    {
      "cell_type": "code",
      "source": [
        "first_layer_activation = activations[3]\n",
        "plt.subplot(1,4,1)\n",
        "plt.imshow(first_layer_activation[0, :, :, 0], cmap =cmp)\n",
        "plt.subplot(1,4,2)\n",
        "plt.imshow(first_layer_activation[0, :, :, 1], cmap =cmp)\n",
        "plt.subplot(1,4,3)\n",
        "plt.imshow(first_layer_activation[0, :, :, 2], cmap =cmp)\n",
        "plt.subplot(1,4,4)\n",
        "plt.imshow(first_layer_activation[0, :, :, 3], cmap =cmp)"
      ],
      "metadata": {
        "id": "m361T1pBSruo",
        "colab": {
          "base_uri": "https://localhost:8080/",
          "height": 185
        },
        "outputId": "6120c317-4f96-48f6-d4a9-2c7c42967fb8"
      },
      "execution_count": 31,
      "outputs": [
        {
          "output_type": "execute_result",
          "data": {
            "text/plain": [
              "<matplotlib.image.AxesImage at 0x7929306520d0>"
            ]
          },
          "metadata": {},
          "execution_count": 31
        },
        {
          "output_type": "display_data",
          "data": {
            "text/plain": [
              "<Figure size 640x480 with 4 Axes>"
            ],
            "image/png": "[encoded data removed]"
          },
          "metadata": {}
        }
      ]
    },
    {
      "cell_type": "code",
      "source": [
        "first_layer_activation[0, :, :, 0]"
      ],
      "metadata": {
        "id": "7vQ5t06TO-0X",
        "colab": {
          "base_uri": "https://localhost:8080/"
        },
        "outputId": "7d1a0e3d-0376-4055-8d98-4e48639a729c"
      },
      "execution_count": 32,
      "outputs": [
        {
          "output_type": "execute_result",
          "data": {
            "text/plain": [
              "array([[3.5139963e+02, 2.2888498e+02, 1.6467563e+02, 4.3198523e+02,\n",
              "        4.6488177e+02],\n",
              "       [4.6936594e+02, 1.3731252e+02, 4.4329672e+02, 1.4148265e+03,\n",
              "        4.8921539e+02],\n",
              "       [3.4330620e+01, 5.1593212e+01, 1.2413091e+03, 1.8646902e+03,\n",
              "        2.7981738e+02],\n",
              "       [0.0000000e+00, 6.0288446e+02, 1.8109021e+03, 1.2335515e+03,\n",
              "        1.8399467e+00],\n",
              "       [0.0000000e+00, 1.4605756e+03, 1.8867511e+03, 9.5578545e+01,\n",
              "        1.4259485e+00]], dtype=float32)"
            ]
          },
          "metadata": {},
          "execution_count": 32
        }
      ]
    },
    {
      "cell_type": "code",
      "source": [
        "first_layer_activation = activations[4].T\n",
        "# plt.subplot(1,4,4)\n",
        "plt.figure(figsize=(40,30))\n",
        "plt.imshow(first_layer_activation, cmap =cmp)"
      ],
      "metadata": {
        "id": "DGl7hLIFfsgg",
        "colab": {
          "base_uri": "https://localhost:8080/",
          "height": 1000
        },
        "outputId": "36726a03-2a56-4b5c-dbc0-ad8aeb6084e2"
      },
      "execution_count": 33,
      "outputs": [
        {
          "output_type": "execute_result",
          "data": {
            "text/plain": [
              "<matplotlib.image.AxesImage at 0x792930684810>"
            ]
          },
          "metadata": {},
          "execution_count": 33
        },
        {
          "output_type": "display_data",
          "data": {
            "text/plain": [
              "<Figure size 4000x3000 with 1 Axes>"
            ],
            "image/png": "[encoded data removed]"
          },
          "metadata": {}
        }
      ]
    },
    {
      "cell_type": "code",
      "source": [],
      "metadata": {
        "id": "6z2pAlmxEamW"
      },
      "execution_count": 36,
      "outputs": []
    },
    {
      "cell_type": "code",
      "source": [
        "first_layer_activation = activations[5]\n",
        "# plt.subplot(1,4,4)\n",
        "plt.figure(figsize=(40,30))\n",
        "plt.imshow(first_layer_activation, cmap =cmp)"
      ],
      "metadata": {
        "id": "yCcuFm4rgR5k",
        "colab": {
          "base_uri": "https://localhost:8080/",
          "height": 157
        },
        "outputId": "79d3ab7a-d5a7-46f2-aad1-c34db920a280"
      },
      "execution_count": 35,
      "outputs": [
        {
          "output_type": "execute_result",
          "data": {
            "text/plain": [
              "<matplotlib.image.AxesImage at 0x792930444490>"
            ]
          },
          "metadata": {},
          "execution_count": 35
        },
        {
          "output_type": "display_data",
          "data": {
            "text/plain": [
              "<Figure size 4000x3000 with 1 Axes>"
            ],
            "image/png": "[encoded data removed]"
          },
          "metadata": {}
        }
      ]
    },
    {
      "cell_type": "code",
      "source": [
        "first_layer_activation"
      ],
      "metadata": {
        "id": "x5eSWtIaDSDh",
        "colab": {
          "base_uri": "https://localhost:8080/"
        },
        "outputId": "2ccaf09e-de63-42b2-e70c-466b53875441"
      },
      "execution_count": 36,
      "outputs": [
        {
          "output_type": "execute_result",
          "data": {
            "text/plain": [
              "array([[0., 0., 0., 0., 0., 0., 0., 1., 0., 0.]], dtype=float32)"
            ]
          },
          "metadata": {},
          "execution_count": 36
        }
      ]
    }
  ]
}