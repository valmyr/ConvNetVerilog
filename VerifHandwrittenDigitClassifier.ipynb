{
  "cells": [
    {
      "cell_type": "markdown",
      "metadata": {
        "colab_type": "text",
        "id": "view-in-github"
      },
      "source": [
        "<a href=\"https://colab.research.google.com/github/valmyr/ConvNetVerilog/blob/single/VerifHandwrittenDigitClassifier.ipynb\" target=\"_parent\"><img src=\"https://colab.research.google.com/assets/colab-badge.svg\" alt=\"Open In Colab\"/></a>"
      ]
    },
    {
      "cell_type": "markdown",
      "metadata": {
        "id": "eH4zDb_Q7s5O"
      },
      "source": [
        "\n",
        "# Block 1 - Imports\n",
        "\n",
        "\n"
      ]
    },
    {
      "cell_type": "code",
      "execution_count": null,
      "metadata": {
        "id": "yQSGOB0qr9Eu"
      },
      "outputs": [],
      "source": []
    },
    {
      "cell_type": "code",
      "execution_count": 1,
      "metadata": {
        "colab": {
          "base_uri": "https://localhost:8080/"
        },
        "id": "hFtEaIvPKgIy",
        "outputId": "2be1d499-6eaa-44c2-ff99-aaa78ed82b3d"
      },
      "outputs": [
        {
          "name": "stdout",
          "output_type": "stream",
          "text": [
            "Requirement already satisfied: keras in ./.venv/lib64/python3.11/site-packages (3.8.0)\n",
            "Requirement already satisfied: absl-py in ./.venv/lib64/python3.11/site-packages (from keras) (2.3.0)\n",
            "Requirement already satisfied: numpy in ./.venv/lib64/python3.11/site-packages (from keras) (2.0.2)\n",
            "Requirement already satisfied: rich in ./.venv/lib64/python3.11/site-packages (from keras) (14.0.0)\n",
            "Requirement already satisfied: namex in ./.venv/lib64/python3.11/site-packages (from keras) (0.1.0)\n",
            "Requirement already satisfied: h5py in ./.venv/lib64/python3.11/site-packages (from keras) (3.14.0)\n",
            "Requirement already satisfied: optree in ./.venv/lib64/python3.11/site-packages (from keras) (0.16.0)\n",
            "Requirement already satisfied: ml-dtypes in ./.venv/lib64/python3.11/site-packages (from keras) (0.4.1)\n",
            "Requirement already satisfied: packaging in ./.venv/lib64/python3.11/site-packages (from keras) (25.0)\n",
            "Requirement already satisfied: typing-extensions>=4.6.0 in ./.venv/lib64/python3.11/site-packages (from optree->keras) (4.14.0)\n",
            "Requirement already satisfied: markdown-it-py>=2.2.0 in ./.venv/lib64/python3.11/site-packages (from rich->keras) (3.0.0)\n",
            "Requirement already satisfied: pygments<3.0.0,>=2.13.0 in ./.venv/lib64/python3.11/site-packages (from rich->keras) (2.19.1)\n",
            "Requirement already satisfied: mdurl~=0.1 in ./.venv/lib64/python3.11/site-packages (from markdown-it-py>=2.2.0->rich->keras) (0.1.2)\n",
            "Requirement already satisfied: tensorflow in ./.venv/lib64/python3.11/site-packages (2.18.0)\n",
            "Requirement already satisfied: absl-py>=1.0.0 in ./.venv/lib64/python3.11/site-packages (from tensorflow) (2.3.0)\n",
            "Requirement already satisfied: astunparse>=1.6.0 in ./.venv/lib64/python3.11/site-packages (from tensorflow) (1.6.3)\n",
            "Requirement already satisfied: flatbuffers>=24.3.25 in ./.venv/lib64/python3.11/site-packages (from tensorflow) (25.2.10)\n",
            "Requirement already satisfied: gast!=0.5.0,!=0.5.1,!=0.5.2,>=0.2.1 in ./.venv/lib64/python3.11/site-packages (from tensorflow) (0.6.0)\n",
            "Requirement already satisfied: google-pasta>=0.1.1 in ./.venv/lib64/python3.11/site-packages (from tensorflow) (0.2.0)\n",
            "Requirement already satisfied: libclang>=13.0.0 in ./.venv/lib64/python3.11/site-packages (from tensorflow) (18.1.1)\n",
            "Requirement already satisfied: opt-einsum>=2.3.2 in ./.venv/lib64/python3.11/site-packages (from tensorflow) (3.4.0)\n",
            "Requirement already satisfied: packaging in ./.venv/lib64/python3.11/site-packages (from tensorflow) (25.0)\n",
            "Requirement already satisfied: protobuf!=4.21.0,!=4.21.1,!=4.21.2,!=4.21.3,!=4.21.4,!=4.21.5,<6.0.0dev,>=3.20.3 in ./.venv/lib64/python3.11/site-packages (from tensorflow) (5.29.5)\n",
            "Requirement already satisfied: requests<3,>=2.21.0 in ./.venv/lib64/python3.11/site-packages (from tensorflow) (2.32.4)\n",
            "Requirement already satisfied: setuptools in ./.venv/lib64/python3.11/site-packages (from tensorflow) (80.9.0)\n",
            "Requirement already satisfied: six>=1.12.0 in ./.venv/lib64/python3.11/site-packages (from tensorflow) (1.17.0)\n",
            "Requirement already satisfied: termcolor>=1.1.0 in ./.venv/lib64/python3.11/site-packages (from tensorflow) (3.1.0)\n",
            "Requirement already satisfied: typing-extensions>=3.6.6 in ./.venv/lib64/python3.11/site-packages (from tensorflow) (4.14.0)\n",
            "Requirement already satisfied: wrapt>=1.11.0 in ./.venv/lib64/python3.11/site-packages (from tensorflow) (1.17.2)\n",
            "Requirement already satisfied: grpcio<2.0,>=1.24.3 in ./.venv/lib64/python3.11/site-packages (from tensorflow) (1.73.0)\n",
            "Requirement already satisfied: tensorboard<2.19,>=2.18 in ./.venv/lib64/python3.11/site-packages (from tensorflow) (2.18.0)\n",
            "Requirement already satisfied: keras>=3.5.0 in ./.venv/lib64/python3.11/site-packages (from tensorflow) (3.8.0)\n",
            "Requirement already satisfied: numpy<2.1.0,>=1.26.0 in ./.venv/lib64/python3.11/site-packages (from tensorflow) (2.0.2)\n",
            "Requirement already satisfied: h5py>=3.11.0 in ./.venv/lib64/python3.11/site-packages (from tensorflow) (3.14.0)\n",
            "Requirement already satisfied: ml-dtypes<0.5.0,>=0.4.0 in ./.venv/lib64/python3.11/site-packages (from tensorflow) (0.4.1)\n",
            "Requirement already satisfied: tensorflow-io-gcs-filesystem>=0.23.1 in ./.venv/lib64/python3.11/site-packages (from tensorflow) (0.37.1)\n",
            "Requirement already satisfied: charset_normalizer<4,>=2 in ./.venv/lib64/python3.11/site-packages (from requests<3,>=2.21.0->tensorflow) (3.4.2)\n",
            "Requirement already satisfied: idna<4,>=2.5 in ./.venv/lib64/python3.11/site-packages (from requests<3,>=2.21.0->tensorflow) (3.10)\n",
            "Requirement already satisfied: urllib3<3,>=1.21.1 in ./.venv/lib64/python3.11/site-packages (from requests<3,>=2.21.0->tensorflow) (2.4.0)\n",
            "Requirement already satisfied: certifi>=2017.4.17 in ./.venv/lib64/python3.11/site-packages (from requests<3,>=2.21.0->tensorflow) (2025.4.26)\n",
            "Requirement already satisfied: markdown>=2.6.8 in ./.venv/lib64/python3.11/site-packages (from tensorboard<2.19,>=2.18->tensorflow) (3.8)\n",
            "Requirement already satisfied: tensorboard-data-server<0.8.0,>=0.7.0 in ./.venv/lib64/python3.11/site-packages (from tensorboard<2.19,>=2.18->tensorflow) (0.7.2)\n",
            "Requirement already satisfied: werkzeug>=1.0.1 in ./.venv/lib64/python3.11/site-packages (from tensorboard<2.19,>=2.18->tensorflow) (3.1.3)\n",
            "Requirement already satisfied: wheel<1.0,>=0.23.0 in ./.venv/lib64/python3.11/site-packages (from astunparse>=1.6.0->tensorflow) (0.45.1)\n",
            "Requirement already satisfied: rich in ./.venv/lib64/python3.11/site-packages (from keras>=3.5.0->tensorflow) (14.0.0)\n",
            "Requirement already satisfied: namex in ./.venv/lib64/python3.11/site-packages (from keras>=3.5.0->tensorflow) (0.1.0)\n",
            "Requirement already satisfied: optree in ./.venv/lib64/python3.11/site-packages (from keras>=3.5.0->tensorflow) (0.16.0)\n",
            "Requirement already satisfied: MarkupSafe>=2.1.1 in ./.venv/lib64/python3.11/site-packages (from werkzeug>=1.0.1->tensorboard<2.19,>=2.18->tensorflow) (3.0.2)\n",
            "Requirement already satisfied: markdown-it-py>=2.2.0 in ./.venv/lib64/python3.11/site-packages (from rich->keras>=3.5.0->tensorflow) (3.0.0)\n",
            "Requirement already satisfied: pygments<3.0.0,>=2.13.0 in ./.venv/lib64/python3.11/site-packages (from rich->keras>=3.5.0->tensorflow) (2.19.1)\n",
            "Requirement already satisfied: mdurl~=0.1 in ./.venv/lib64/python3.11/site-packages (from markdown-it-py>=2.2.0->rich->keras>=3.5.0->tensorflow) (0.1.2)\n",
            "Requirement already satisfied: numpy in ./.venv/lib64/python3.11/site-packages (2.0.2)\n",
            "Collecting sklearn\n",
            "  Using cached sklearn-0.0.post12.tar.gz (2.6 kB)\n",
            "  Preparing metadata (setup.py) ... \u001b[?25lerror\n",
            "  \u001b[1;31merror\u001b[0m: \u001b[1msubprocess-exited-with-error\u001b[0m\n",
            "  \n",
            "  \u001b[31m×\u001b[0m \u001b[32mpython setup.py egg_info\u001b[0m did not run successfully.\n",
            "  \u001b[31m│\u001b[0m exit code: \u001b[1;36m1\u001b[0m\n",
            "  \u001b[31m╰─>\u001b[0m \u001b[31m[15 lines of output]\u001b[0m\n",
            "  \u001b[31m   \u001b[0m The 'sklearn' PyPI package is deprecated, use 'scikit-learn'\n",
            "  \u001b[31m   \u001b[0m rather than 'sklearn' for pip commands.\n",
            "  \u001b[31m   \u001b[0m \n",
            "  \u001b[31m   \u001b[0m Here is how to fix this error in the main use cases:\n",
            "  \u001b[31m   \u001b[0m - use 'pip install scikit-learn' rather than 'pip install sklearn'\n",
            "  \u001b[31m   \u001b[0m - replace 'sklearn' by 'scikit-learn' in your pip requirements files\n",
            "  \u001b[31m   \u001b[0m   (requirements.txt, setup.py, setup.cfg, Pipfile, etc ...)\n",
            "  \u001b[31m   \u001b[0m - if the 'sklearn' package is used by one of your dependencies,\n",
            "  \u001b[31m   \u001b[0m   it would be great if you take some time to track which package uses\n",
            "  \u001b[31m   \u001b[0m   'sklearn' instead of 'scikit-learn' and report it to their issue tracker\n",
            "  \u001b[31m   \u001b[0m - as a last resort, set the environment variable\n",
            "  \u001b[31m   \u001b[0m   SKLEARN_ALLOW_DEPRECATED_SKLEARN_PACKAGE_INSTALL=True to avoid this error\n",
            "  \u001b[31m   \u001b[0m \n",
            "  \u001b[31m   \u001b[0m More information is available at\n",
            "  \u001b[31m   \u001b[0m https://github.com/scikit-learn/sklearn-pypi-package\n",
            "  \u001b[31m   \u001b[0m \u001b[31m[end of output]\u001b[0m\n",
            "  \n",
            "  \u001b[1;35mnote\u001b[0m: This error originates from a subprocess, and is likely not a problem with pip.\n",
            "\u001b[?25h\u001b[1;31merror\u001b[0m: \u001b[1mmetadata-generation-failed\u001b[0m\n",
            "\n",
            "\u001b[31m×\u001b[0m Encountered error while generating package metadata.\n",
            "\u001b[31m╰─>\u001b[0m See above for output.\n",
            "\n",
            "\u001b[1;35mnote\u001b[0m: This is an issue with the package mentioned above, not pip.\n",
            "\u001b[1;36mhint\u001b[0m: See above for details.\n"
          ]
        },
        {
          "ename": "ModuleNotFoundError",
          "evalue": "No module named 'sklearn'",
          "output_type": "error",
          "traceback": [
            "\u001b[31m---------------------------------------------------------------------------\u001b[39m",
            "\u001b[31mModuleNotFoundError\u001b[39m                       Traceback (most recent call last)",
            "\u001b[36mCell\u001b[39m\u001b[36m \u001b[39m\u001b[32mIn[1]\u001b[39m\u001b[32m, line 5\u001b[39m\n\u001b[32m      4\u001b[39m \u001b[38;5;28;01mfrom\u001b[39;00m\u001b[38;5;250m \u001b[39m\u001b[34;01mmatplotlib\u001b[39;00m\u001b[38;5;250m \u001b[39m\u001b[38;5;28;01mimport\u001b[39;00m pyplot\n\u001b[32m----> \u001b[39m\u001b[32m5\u001b[39m \u001b[38;5;28;01mfrom\u001b[39;00m\u001b[38;5;250m \u001b[39m\u001b[34;01msklearn\u001b[39;00m\u001b[34;01m.\u001b[39;00m\u001b[34;01mmodel_selection\u001b[39;00m\u001b[38;5;250m \u001b[39m\u001b[38;5;28;01mimport\u001b[39;00m KFold\n\u001b[32m      6\u001b[39m \u001b[38;5;28;01mfrom\u001b[39;00m\u001b[38;5;250m \u001b[39m\u001b[34;01mkeras\u001b[39;00m\u001b[34;01m.\u001b[39;00m\u001b[34;01mdatasets\u001b[39;00m\u001b[38;5;250m \u001b[39m\u001b[38;5;28;01mimport\u001b[39;00m mnist\n",
            "\u001b[31mModuleNotFoundError\u001b[39m: No module named 'sklearn'",
            "\nDuring handling of the above exception, another exception occurred:\n",
            "\u001b[31mModuleNotFoundError\u001b[39m                       Traceback (most recent call last)",
            "\u001b[36mCell\u001b[39m\u001b[36m \u001b[39m\u001b[32mIn[1]\u001b[39m\u001b[32m, line 22\u001b[39m\n\u001b[32m     20\u001b[39m \u001b[38;5;28;01mfrom\u001b[39;00m\u001b[38;5;250m \u001b[39m\u001b[34;01mnumpy\u001b[39;00m\u001b[38;5;250m \u001b[39m\u001b[38;5;28;01mimport\u001b[39;00m std\n\u001b[32m     21\u001b[39m \u001b[38;5;28;01mfrom\u001b[39;00m\u001b[38;5;250m \u001b[39m\u001b[34;01mmatplotlib\u001b[39;00m\u001b[38;5;250m \u001b[39m\u001b[38;5;28;01mimport\u001b[39;00m pyplot\n\u001b[32m---> \u001b[39m\u001b[32m22\u001b[39m \u001b[38;5;28;01mfrom\u001b[39;00m\u001b[38;5;250m \u001b[39m\u001b[34;01msklearn\u001b[39;00m\u001b[34;01m.\u001b[39;00m\u001b[34;01mmodel_selection\u001b[39;00m\u001b[38;5;250m \u001b[39m\u001b[38;5;28;01mimport\u001b[39;00m KFold\n\u001b[32m     23\u001b[39m \u001b[38;5;28;01mfrom\u001b[39;00m\u001b[38;5;250m \u001b[39m\u001b[34;01mkeras\u001b[39;00m\u001b[34;01m.\u001b[39;00m\u001b[34;01mdatasets\u001b[39;00m\u001b[38;5;250m \u001b[39m\u001b[38;5;28;01mimport\u001b[39;00m mnist\n\u001b[32m     24\u001b[39m \u001b[38;5;28;01mfrom\u001b[39;00m\u001b[38;5;250m \u001b[39m\u001b[34;01mkeras\u001b[39;00m\u001b[34;01m.\u001b[39;00m\u001b[34;01mutils\u001b[39;00m\u001b[38;5;250m \u001b[39m\u001b[38;5;28;01mimport\u001b[39;00m to_categorical\n",
            "\u001b[31mModuleNotFoundError\u001b[39m: No module named 'sklearn'"
          ]
        }
      ],
      "source": [
        "try:\n",
        "  from numpy import mean\n",
        "  from numpy import std\n",
        "  from matplotlib import pyplot\n",
        "  from sklearn.model_selection import KFold\n",
        "  from keras.datasets import mnist\n",
        "  from keras.utils import to_categorical\n",
        "  from keras.models import Sequential\n",
        "  from keras.layers import Conv2D\n",
        "  from keras.layers import MaxPooling2D\n",
        "  from keras.layers import Dense\n",
        "  from keras.layers import Flatten\n",
        "  from keras.optimizers import SGD\n",
        "except:\n",
        "  !pip install keras\n",
        "  !pip install tensorflow\n",
        "  !pip install numpy\n",
        "  !pip install sklearn\n",
        "  from numpy import mean\n",
        "  from numpy import std\n",
        "  from matplotlib import pyplot\n",
        "  from sklearn.model_selection import KFold\n",
        "  from keras.datasets import mnist\n",
        "  from keras.utils import to_categorical\n",
        "  from keras.models import Sequential\n",
        "  from keras.layers import Conv2D\n",
        "  from keras.layers import MaxPooling2D\n",
        "  from keras.layers import Dense\n",
        "  from keras.layers import Flatten\n",
        "  from keras.optimizers import SGD\n",
        "from matplotlib import pyplot as plt"
      ]
    },
    {
      "cell_type": "markdown",
      "metadata": {
        "id": "-jTzMYDv71eV"
      },
      "source": [
        "# Block 2 - Load data from MNIST dataset\n"
      ]
    },
    {
      "cell_type": "code",
      "execution_count": null,
      "metadata": {
        "colab": {
          "base_uri": "https://localhost:8080/"
        },
        "id": "OJaD2LC-9eI3",
        "outputId": "a47f6061-0dac-4fb4-8601-8439b2896193"
      },
      "outputs": [],
      "source": [
        "!python3 --version"
      ]
    },
    {
      "cell_type": "code",
      "execution_count": null,
      "metadata": {
        "id": "NKD62jXA9gQc"
      },
      "outputs": [],
      "source": []
    },
    {
      "cell_type": "code",
      "execution_count": null,
      "metadata": {
        "colab": {
          "base_uri": "https://localhost:8080/"
        },
        "id": "mKDcerNo6mLx",
        "outputId": "d151ec02-8ed2-489a-ee2b-27fd6fcbf817"
      },
      "outputs": [],
      "source": [
        "!python3 --version"
      ]
    },
    {
      "cell_type": "code",
      "execution_count": null,
      "metadata": {
        "colab": {
          "base_uri": "https://localhost:8080/",
          "height": 241
        },
        "id": "XOgaOraMKJB_",
        "outputId": "8088c393-69b5-4e9c-ec87-cc26aa00bac0"
      },
      "outputs": [],
      "source": [
        "(trainX, trainY), (testX, testY) = mnist.load_data()\n",
        "print('Train: X=%s, y=%s' % (trainX.shape, trainY.shape))\n",
        "print('Test: X=%s, y=%s' % (testX.shape, testY.shape))\n",
        "i=0\n",
        "pyplot.subplot(330 + 1 + i)\n",
        "pyplot.imshow(trainX[0], cmap=pyplot.get_cmap('gray'))\n",
        "pyplot.show()"
      ]
    },
    {
      "cell_type": "markdown",
      "metadata": {
        "id": "HcQrlLHQ75oq"
      },
      "source": [
        "# Block 3 - Pre-processing\n"
      ]
    },
    {
      "cell_type": "code",
      "execution_count": null,
      "metadata": {
        "colab": {
          "base_uri": "https://localhost:8080/"
        },
        "id": "55JEiVL6qxg1",
        "outputId": "90ac8e46-0943-410e-a8c5-87a322d467ff"
      },
      "outputs": [],
      "source": [
        "\n",
        "# reshape dataset to have a single channel\n",
        "trainX = trainX.reshape((trainX.shape[0], 28, 28, 1))\n",
        "testX = testX.reshape((testX.shape[0], 28, 28, 1))\n",
        "\n",
        "# one hot encode target values - since output is vector of 10 values\n",
        "trainY = to_categorical(trainY)\n",
        "testY = to_categorical(testY)\n",
        "\n",
        "print('Train: X=%s, y=%s' % (trainX.shape, trainY.shape))\n",
        "print('Test: X=%s, y=%s' % (testX.shape, testY.shape))\n",
        "\n",
        "# convert from integers to floats\n",
        "train_norm = trainX.astype('float32')\n",
        "test_norm = testX.astype('float32')\n",
        "\n",
        "# normalize to range 0-1\n",
        "trainX = train_norm / 255.0\n",
        "testX = test_norm / 255.0"
      ]
    },
    {
      "cell_type": "markdown",
      "metadata": {
        "id": "n9yRAf-a8R-6"
      },
      "source": [
        "# Block 4 - Model Definition\n"
      ]
    },
    {
      "cell_type": "code",
      "execution_count": null,
      "metadata": {
        "id": "iXY1vh6qKUj7"
      },
      "outputs": [],
      "source": [
        "# def define_model():\n",
        "#   model = Sequential()\n",
        "#   # Convolution layer with 32 kernels of [3*3]\n",
        "#   model.add(Conv2D(2, (5, 5), activation='relu', kernel_initializer='he_uniform', input_shape=(28, 28, 1)))\n",
        "#   # Max Pooling with [2*2]\n",
        "#   model.add(MaxPooling2D((2, 2)))\n",
        "#   model.add(Conv2D(4, (3, 3), activation='relu', kernel_initializer='he_uniform', input_shape=(28, 28, 1)))\n",
        "#   model.add(MaxPooling2D((2, 2)))\n",
        "#   model.add(Flatten())\n",
        "#   # First layer of Fully connected layer with 100 nodes\n",
        "# #   model.add(Dense(100, activation='relu', kernel_initializer='he_uniform'))\n",
        "#   # Output layer with 10 nodes\n",
        "#   model.add(Dense(10, activation='sigmoid',    kernel_initializer='he_uniform'))\n",
        "\n",
        "#   # compile model\n",
        "# #   opt = SGD(lr=0.01, momentum=0.9)\n",
        "#   model.compile( loss='categorical_crossentropy', metrics=['accuracy'])\n",
        "\n",
        "#   return model\n",
        "# define_model().summary()"
      ]
    },
    {
      "cell_type": "markdown",
      "metadata": {
        "id": "YGU283lc8WNp"
      },
      "source": [
        "# Block 5 - Model Evaluation\n"
      ]
    },
    {
      "cell_type": "code",
      "execution_count": null,
      "metadata": {
        "id": "aZoBp0B_KX2t"
      },
      "outputs": [],
      "source": [
        "# scores, histories = list(), list()\n",
        "\n",
        "# # 2 fold cross validation\n",
        "# kfold = KFold(2, shuffle=True, random_state=1)\n",
        "\n",
        "# # enumerate splits\n",
        "# for train_ix, test_ix in kfold.split(trainX):\n",
        "# \tmodel = define_model()\n",
        "# \t# select rows for train and test\n",
        "# \ttrainX_temp, trainY_temp, testX_temp, testY_temp = trainX[train_ix], trainY[train_ix], trainX[test_ix], trainY[test_ix]\n",
        "# \t# fit model\n",
        "# \thistory = model.fit(trainX_temp, trainY_temp, epochs=5, batch_size=32, validation_data=(testX_temp, testY_temp), verbose=1)\n",
        "# \t# evaluate model\n",
        "# \t_, acc = model.evaluate(testX_temp, testY_temp, verbose=0)\n",
        "# \tprint('> %.3f' % (acc * 100.0))\n",
        "# \t# stores scores\n",
        "# \tscores.append(acc)\n",
        "# \t# break\n",
        "# \thistories.append(history)\n",
        "# \tbreak"
      ]
    },
    {
      "cell_type": "markdown",
      "metadata": {
        "id": "xKgx85Il8aTG"
      },
      "source": [
        "# Block 6 - Plot learning curves\n"
      ]
    },
    {
      "cell_type": "code",
      "execution_count": null,
      "metadata": {
        "id": "2N1Wij1TPpU0"
      },
      "outputs": [],
      "source": [
        "import tensorflow as tf"
      ]
    },
    {
      "cell_type": "code",
      "execution_count": null,
      "metadata": {
        "colab": {
          "base_uri": "https://localhost:8080/"
        },
        "id": "Wg5lkRIoPgdD",
        "outputId": "16e13a79-1220-4d58-9742-be43e727fcab"
      },
      "outputs": [],
      "source": [
        "model= tf.keras.models.load_model(\"model_network/output00.h5\")"
      ]
    },
    {
      "cell_type": "code",
      "execution_count": null,
      "metadata": {
        "id": "CJ4yqvDSXbcU"
      },
      "outputs": [],
      "source": [
        "# !pip install keras_preprocessing"
      ]
    },
    {
      "cell_type": "code",
      "execution_count": null,
      "metadata": {
        "id": "pkxK329KXeQT"
      },
      "outputs": [],
      "source": [
        "# import"
      ]
    },
    {
      "cell_type": "code",
      "execution_count": null,
      "metadata": {
        "id": "o6TN-P6nXgbf"
      },
      "outputs": [],
      "source": []
    },
    {
      "cell_type": "code",
      "execution_count": null,
      "metadata": {
        "id": "_Zgm-Y5jHw5I"
      },
      "outputs": [],
      "source": [
        "img_tensor= testX[0:1].shape"
      ]
    },
    {
      "cell_type": "code",
      "execution_count": null,
      "metadata": {
        "colab": {
          "base_uri": "https://localhost:8080/"
        },
        "id": "Szq-KtksH6UO",
        "outputId": "6886fdbd-e3b9-47ff-fc1e-7e433e33fcb3"
      },
      "outputs": [],
      "source": [
        "model.layers"
      ]
    },
    {
      "cell_type": "code",
      "execution_count": null,
      "metadata": {
        "colab": {
          "base_uri": "https://localhost:8080/"
        },
        "id": "hDV1Svz1I8fa",
        "outputId": "a7aa8797-47c0-414f-f153-33ee9d0af47d"
      },
      "outputs": [],
      "source": [
        "from keras import models\n",
        "\n",
        "\n",
        "# Outputs of the 8 layers, which include conv2D and max pooling layers\n",
        "layer_outputs = [layer.output for layer in model.layers[:8]]\n",
        "layer_outputs"
      ]
    },
    {
      "cell_type": "code",
      "execution_count": null,
      "metadata": {
        "id": "cYYBM0LXKEYD"
      },
      "outputs": [],
      "source": [
        "img_tensor = testX[3:4]*(2**8-1)"
      ]
    },
    {
      "cell_type": "code",
      "execution_count": null,
      "metadata": {
        "id": "n2uhIGBXGQnI"
      },
      "outputs": [],
      "source": []
    },
    {
      "cell_type": "code",
      "execution_count": null,
      "metadata": {
        "id": "qwQkJAlMGOSb"
      },
      "outputs": [],
      "source": [
        "img_tensor;"
      ]
    },
    {
      "cell_type": "code",
      "execution_count": null,
      "metadata": {
        "colab": {
          "base_uri": "https://localhost:8080/"
        },
        "id": "nYkgLwEWL0II",
        "outputId": "659a540e-532c-4237-9e45-8220663b6197"
      },
      "outputs": [],
      "source": [
        "model.save(\"10_05_2025_DigitClassif.h5\")"
      ]
    },
    {
      "cell_type": "code",
      "execution_count": null,
      "metadata": {
        "id": "9lS88Xw6biyj"
      },
      "outputs": [],
      "source": [
        "import numpy as np"
      ]
    },
    {
      "cell_type": "code",
      "execution_count": null,
      "metadata": {
        "id": "y2HAPyS4bUjy"
      },
      "outputs": [],
      "source": [
        "nbits=1"
      ]
    },
    {
      "cell_type": "code",
      "execution_count": null,
      "metadata": {
        "id": "CTB1jk2_by-O"
      },
      "outputs": [],
      "source": [
        "# img_tensor = testX[0:1]\n",
        "# img_tensor.shape\n",
        "cmp = 'viridis'"
      ]
    },
    {
      "cell_type": "code",
      "execution_count": null,
      "metadata": {
        "id": "bsVoBrmgbtCl"
      },
      "outputs": [],
      "source": [
        "# img_tensor = a.reshape(1,28,28,1)"
      ]
    },
    {
      "cell_type": "code",
      "execution_count": null,
      "metadata": {
        "colab": {
          "base_uri": "https://localhost:8080/",
          "height": 447
        },
        "id": "JCwXYNtbdici",
        "outputId": "6307fe49-0a42-47aa-d216-a57c67d1e63d"
      },
      "outputs": [],
      "source": [
        "img_tensor = testX[0:1]*2**8\n",
        "plt.imshow(img_tensor.reshape(28,28))"
      ]
    },
    {
      "cell_type": "code",
      "execution_count": null,
      "metadata": {
        "id": "T1r1JCPgGncv"
      },
      "outputs": [],
      "source": []
    },
    {
      "cell_type": "code",
      "execution_count": null,
      "metadata": {
        "id": "U2mI8UA0JGEo"
      },
      "outputs": [],
      "source": [
        "from matplotlib import pyplot as plt"
      ]
    },
    {
      "cell_type": "code",
      "execution_count": null,
      "metadata": {
        "id": "qKYzcIzPP8iw"
      },
      "outputs": [],
      "source": [
        "# plt.imshow(img_tensor.reshape(28,28), cmap ='viridis')\n"
      ]
    },
    {
      "cell_type": "code",
      "execution_count": null,
      "metadata": {
        "colab": {
          "base_uri": "https://localhost:8080/",
          "height": 338
        },
        "id": "MnJfs8XpHeHn",
        "outputId": "002015a5-078c-41aa-f2ce-cf76e907ff14"
      },
      "outputs": [],
      "source": [
        "from keras import models\n",
        "\n",
        "\n",
        "# Outputs of the 8 layers, which include conv2D and max pooling layers\n",
        "layer_outputs = [layer.output for layer in model.layers[:8]]\n",
        "activation_model = models.Model(model.layers[0].input, outputs = layer_outputs)\n",
        "activations = activation_model.predict(img_tensor)\n",
        "\n",
        "# Getting Activations of first layer\n",
        "first_layer_activation = activations[0]\n",
        "\n",
        "# shape of first layer activation\n",
        "print(first_layer_activation.shape)\n",
        "\n",
        "# 6th channel of the image after first layer of convolution is applied\n",
        "plt.subplot(1,2,1)\n",
        "plt.imshow(first_layer_activation[0, :, :, 0], cmap =cmp)\n",
        "plt.subplot(1,2,2)\n",
        "plt.imshow(first_layer_activation[0, :, :, 1], cmap =cmp)\n",
        "\n",
        "# 15th channel of the image after first layer of convolution is applied\n",
        "# plt.matshow(first_layer_activation[0, :, :, 1], cmap ='viridis')"
      ]
    },
    {
      "cell_type": "code",
      "execution_count": null,
      "metadata": {
        "colab": {
          "base_uri": "https://localhost:8080/",
          "height": 303
        },
        "id": "tqUea57mOX8z",
        "outputId": "7db9163a-0bbb-4e89-b8ed-d7419455392e"
      },
      "outputs": [],
      "source": [
        "first_layer_activation = activations[1]\n",
        "plt.subplot(1,2,1)\n",
        "plt.imshow(first_layer_activation[0, :, :, 0], cmap =cmp)\n",
        "plt.subplot(1,2,2)\n",
        "plt.imshow(first_layer_activation[0, :, :, 1], cmap =cmp)\n",
        "# plt.subplot(1,4,3)\n",
        "# plt.imshow(first_layer_activation[0, :, :, 2], cmap ='viridis')"
      ]
    },
    {
      "cell_type": "code",
      "execution_count": null,
      "metadata": {
        "colab": {
          "base_uri": "https://localhost:8080/"
        },
        "id": "L3vzBHgSHcbS",
        "outputId": "21c4cacd-f5e6-4111-a7e8-536fd722d780"
      },
      "outputs": [],
      "source": [
        "first_layer_activation[0, :, :, 1].astype(int)"
      ]
    },
    {
      "cell_type": "code",
      "execution_count": null,
      "metadata": {
        "colab": {
          "base_uri": "https://localhost:8080/",
          "height": 185
        },
        "id": "HMr-thDXSo7v",
        "outputId": "a85321d0-9221-4129-cf75-8fcfc41d99bb"
      },
      "outputs": [],
      "source": [
        "first_layer_activation = activations[2]\n",
        "plt.subplot(1,4,1)\n",
        "plt.imshow(first_layer_activation[0, :, :, 0], cmap =cmp)\n",
        "plt.subplot(1,4,2)\n",
        "plt.imshow(first_layer_activation[0, :, :, 1], cmap =cmp)\n",
        "plt.subplot(1,4,3)\n",
        "plt.imshow(first_layer_activation[0, :, :, 2], cmap =cmp)\n",
        "plt.subplot(1,4,4)\n",
        "plt.imshow(first_layer_activation[0, :, :, 3], cmap =cmp)"
      ]
    },
    {
      "cell_type": "code",
      "execution_count": null,
      "metadata": {
        "colab": {
          "base_uri": "https://localhost:8080/"
        },
        "id": "1ALD1EOcOZBy",
        "outputId": "a1c57a39-ebbd-4009-d215-50a2ea381f29"
      },
      "outputs": [],
      "source": [
        "first_layer_activation[0, :, :, 0]"
      ]
    },
    {
      "cell_type": "code",
      "execution_count": null,
      "metadata": {
        "colab": {
          "base_uri": "https://localhost:8080/",
          "height": 185
        },
        "id": "m361T1pBSruo",
        "outputId": "6120c317-4f96-48f6-d4a9-2c7c42967fb8"
      },
      "outputs": [],
      "source": [
        "first_layer_activation = activations[3]\n",
        "plt.subplot(1,4,1)\n",
        "plt.imshow(first_layer_activation[0, :, :, 0], cmap =cmp)\n",
        "plt.subplot(1,4,2)\n",
        "plt.imshow(first_layer_activation[0, :, :, 1], cmap =cmp)\n",
        "plt.subplot(1,4,3)\n",
        "plt.imshow(first_layer_activation[0, :, :, 2], cmap =cmp)\n",
        "plt.subplot(1,4,4)\n",
        "plt.imshow(first_layer_activation[0, :, :, 3], cmap =cmp)"
      ]
    },
    {
      "cell_type": "code",
      "execution_count": null,
      "metadata": {
        "colab": {
          "base_uri": "https://localhost:8080/"
        },
        "id": "7vQ5t06TO-0X",
        "outputId": "7d1a0e3d-0376-4055-8d98-4e48639a729c"
      },
      "outputs": [],
      "source": [
        "first_layer_activation[0, :, :, 0]"
      ]
    },
    {
      "cell_type": "code",
      "execution_count": null,
      "metadata": {
        "colab": {
          "base_uri": "https://localhost:8080/",
          "height": 1000
        },
        "id": "DGl7hLIFfsgg",
        "outputId": "36726a03-2a56-4b5c-dbc0-ad8aeb6084e2"
      },
      "outputs": [],
      "source": [
        "first_layer_activation = activations[4].T\n",
        "# plt.subplot(1,4,4)\n",
        "plt.figure(figsize=(40,30))\n",
        "plt.imshow(first_layer_activation, cmap =cmp)"
      ]
    },
    {
      "cell_type": "code",
      "execution_count": null,
      "metadata": {
        "id": "6z2pAlmxEamW"
      },
      "outputs": [],
      "source": []
    },
    {
      "cell_type": "code",
      "execution_count": null,
      "metadata": {
        "colab": {
          "base_uri": "https://localhost:8080/",
          "height": 157
        },
        "id": "yCcuFm4rgR5k",
        "outputId": "79d3ab7a-d5a7-46f2-aad1-c34db920a280"
      },
      "outputs": [],
      "source": [
        "first_layer_activation = activations[5]\n",
        "# plt.subplot(1,4,4)\n",
        "plt.figure(figsize=(40,30))\n",
        "plt.imshow(first_layer_activation, cmap =cmp)"
      ]
    },
    {
      "cell_type": "code",
      "execution_count": null,
      "metadata": {
        "colab": {
          "base_uri": "https://localhost:8080/"
        },
        "id": "x5eSWtIaDSDh",
        "outputId": "2ccaf09e-de63-42b2-e70c-466b53875441"
      },
      "outputs": [],
      "source": [
        "first_layer_activation"
      ]
    }
  ],
  "metadata": {
    "accelerator": "TPU",
    "colab": {
      "gpuType": "V28",
      "include_colab_link": true,
      "provenance": []
    },
    "kernelspec": {
      "display_name": ".venv",
      "language": "python",
      "name": "python3"
    },
    "language_info": {
      "codemirror_mode": {
        "name": "ipython",
        "version": 3
      },
      "file_extension": ".py",
      "mimetype": "text/x-python",
      "name": "python",
      "nbconvert_exporter": "python",
      "pygments_lexer": "ipython3",
      "version": "3.11.5"
    }
  },
  "nbformat": 4,
  "nbformat_minor": 0
}
