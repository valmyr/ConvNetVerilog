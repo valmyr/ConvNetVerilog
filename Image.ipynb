{
  "cells": [
    {
      "cell_type": "code",
      "execution_count": 381,
      "metadata": {
        "colab": {
          "base_uri": "https://localhost:8080/"
        },
        "id": "R7qQ4aHNKabD",
        "outputId": "2dde94c8-2502-4b2f-bc4f-1604669ad10a"
      },
      "outputs": [
        {
          "name": "stdout",
          "output_type": "stream",
          "text": [
            "Requirement already satisfied: keras_preprocessing in ./.venv/lib64/python3.11/site-packages (1.1.2)\n",
            "Requirement already satisfied: numpy>=1.9.1 in ./.venv/lib64/python3.11/site-packages (from keras_preprocessing) (1.23.5)\n",
            "Requirement already satisfied: six>=1.9.0 in ./.venv/lib64/python3.11/site-packages (from keras_preprocessing) (1.17.0)\n",
            "Note: you may need to restart the kernel to use updated packages.\n",
            "Requirement already satisfied: matplotlib in ./.venv/lib64/python3.11/site-packages (3.10.1)\n",
            "Requirement already satisfied: contourpy>=1.0.1 in ./.venv/lib64/python3.11/site-packages (from matplotlib) (1.3.2)\n",
            "Requirement already satisfied: cycler>=0.10 in ./.venv/lib64/python3.11/site-packages (from matplotlib) (0.12.1)\n",
            "Requirement already satisfied: fonttools>=4.22.0 in ./.venv/lib64/python3.11/site-packages (from matplotlib) (4.57.0)\n",
            "Requirement already satisfied: kiwisolver>=1.3.1 in ./.venv/lib64/python3.11/site-packages (from matplotlib) (1.4.8)\n",
            "Requirement already satisfied: numpy>=1.23 in ./.venv/lib64/python3.11/site-packages (from matplotlib) (1.23.5)\n",
            "Requirement already satisfied: packaging>=20.0 in ./.venv/lib64/python3.11/site-packages (from matplotlib) (25.0)\n",
            "Requirement already satisfied: pillow>=8 in ./.venv/lib64/python3.11/site-packages (from matplotlib) (11.2.1)\n",
            "Requirement already satisfied: pyparsing>=2.3.1 in ./.venv/lib64/python3.11/site-packages (from matplotlib) (3.2.3)\n",
            "Requirement already satisfied: python-dateutil>=2.7 in ./.venv/lib64/python3.11/site-packages (from matplotlib) (2.9.0.post0)\n",
            "Requirement already satisfied: six>=1.5 in ./.venv/lib64/python3.11/site-packages (from python-dateutil>=2.7->matplotlib) (1.17.0)\n",
            "Note: you may need to restart the kernel to use updated packages.\n",
            "Requirement already satisfied: idx2numpy in ./.venv/lib64/python3.11/site-packages (1.2.3)\n",
            "Requirement already satisfied: numpy in ./.venv/lib64/python3.11/site-packages (from idx2numpy) (1.23.5)\n",
            "Requirement already satisfied: six in ./.venv/lib64/python3.11/site-packages (from idx2numpy) (1.17.0)\n",
            "Note: you may need to restart the kernel to use updated packages.\n",
            "Requirement already satisfied: pillow in ./.venv/lib64/python3.11/site-packages (11.2.1)\n",
            "Note: you may need to restart the kernel to use updated packages.\n",
            "Requirement already satisfied: tensorflow in ./.venv/lib64/python3.11/site-packages (2.12.0)\n",
            "Requirement already satisfied: absl-py>=1.0.0 in ./.venv/lib64/python3.11/site-packages (from tensorflow) (2.2.2)\n",
            "Requirement already satisfied: astunparse>=1.6.0 in ./.venv/lib64/python3.11/site-packages (from tensorflow) (1.6.3)\n",
            "Requirement already satisfied: flatbuffers>=2.0 in ./.venv/lib64/python3.11/site-packages (from tensorflow) (25.2.10)\n",
            "Requirement already satisfied: gast<=0.4.0,>=0.2.1 in ./.venv/lib64/python3.11/site-packages (from tensorflow) (0.4.0)\n",
            "Requirement already satisfied: google-pasta>=0.1.1 in ./.venv/lib64/python3.11/site-packages (from tensorflow) (0.2.0)\n",
            "Requirement already satisfied: grpcio<2.0,>=1.24.3 in ./.venv/lib64/python3.11/site-packages (from tensorflow) (1.71.0)\n",
            "Requirement already satisfied: h5py>=2.9.0 in ./.venv/lib64/python3.11/site-packages (from tensorflow) (3.13.0)\n",
            "Requirement already satisfied: jax>=0.3.15 in ./.venv/lib64/python3.11/site-packages (from tensorflow) (0.4.30)\n",
            "Requirement already satisfied: keras<2.13,>=2.12.0 in ./.venv/lib64/python3.11/site-packages (from tensorflow) (2.12.0)\n",
            "Requirement already satisfied: libclang>=13.0.0 in ./.venv/lib64/python3.11/site-packages (from tensorflow) (18.1.1)\n",
            "Requirement already satisfied: numpy<1.24,>=1.22 in ./.venv/lib64/python3.11/site-packages (from tensorflow) (1.23.5)\n",
            "Requirement already satisfied: opt-einsum>=2.3.2 in ./.venv/lib64/python3.11/site-packages (from tensorflow) (3.4.0)\n",
            "Requirement already satisfied: packaging in ./.venv/lib64/python3.11/site-packages (from tensorflow) (25.0)\n",
            "Requirement already satisfied: protobuf!=4.21.0,!=4.21.1,!=4.21.2,!=4.21.3,!=4.21.4,!=4.21.5,<5.0.0dev,>=3.20.3 in ./.venv/lib64/python3.11/site-packages (from tensorflow) (4.25.7)\n",
            "Requirement already satisfied: setuptools in ./.venv/lib64/python3.11/site-packages (from tensorflow) (80.3.1)\n",
            "Requirement already satisfied: six>=1.12.0 in ./.venv/lib64/python3.11/site-packages (from tensorflow) (1.17.0)\n",
            "Requirement already satisfied: tensorboard<2.13,>=2.12 in ./.venv/lib64/python3.11/site-packages (from tensorflow) (2.12.3)\n",
            "Requirement already satisfied: tensorflow-estimator<2.13,>=2.12.0 in ./.venv/lib64/python3.11/site-packages (from tensorflow) (2.12.0)\n",
            "Requirement already satisfied: termcolor>=1.1.0 in ./.venv/lib64/python3.11/site-packages (from tensorflow) (3.1.0)\n",
            "Requirement already satisfied: typing-extensions>=3.6.6 in ./.venv/lib64/python3.11/site-packages (from tensorflow) (4.13.2)\n",
            "Requirement already satisfied: wrapt<1.15,>=1.11.0 in ./.venv/lib64/python3.11/site-packages (from tensorflow) (1.14.1)\n",
            "Requirement already satisfied: tensorflow-io-gcs-filesystem>=0.23.1 in ./.venv/lib64/python3.11/site-packages (from tensorflow) (0.37.1)\n",
            "Requirement already satisfied: google-auth<3,>=1.6.3 in ./.venv/lib64/python3.11/site-packages (from tensorboard<2.13,>=2.12->tensorflow) (2.40.0)\n",
            "Requirement already satisfied: google-auth-oauthlib<1.1,>=0.5 in ./.venv/lib64/python3.11/site-packages (from tensorboard<2.13,>=2.12->tensorflow) (1.0.0)\n",
            "Requirement already satisfied: markdown>=2.6.8 in ./.venv/lib64/python3.11/site-packages (from tensorboard<2.13,>=2.12->tensorflow) (3.8)\n",
            "Requirement already satisfied: requests<3,>=2.21.0 in ./.venv/lib64/python3.11/site-packages (from tensorboard<2.13,>=2.12->tensorflow) (2.32.3)\n",
            "Requirement already satisfied: tensorboard-data-server<0.8.0,>=0.7.0 in ./.venv/lib64/python3.11/site-packages (from tensorboard<2.13,>=2.12->tensorflow) (0.7.2)\n",
            "Requirement already satisfied: werkzeug>=1.0.1 in ./.venv/lib64/python3.11/site-packages (from tensorboard<2.13,>=2.12->tensorflow) (3.1.3)\n",
            "Requirement already satisfied: wheel>=0.26 in ./.venv/lib64/python3.11/site-packages (from tensorboard<2.13,>=2.12->tensorflow) (0.45.1)\n",
            "Requirement already satisfied: cachetools<6.0,>=2.0.0 in ./.venv/lib64/python3.11/site-packages (from google-auth<3,>=1.6.3->tensorboard<2.13,>=2.12->tensorflow) (5.5.2)\n",
            "Requirement already satisfied: pyasn1-modules>=0.2.1 in ./.venv/lib64/python3.11/site-packages (from google-auth<3,>=1.6.3->tensorboard<2.13,>=2.12->tensorflow) (0.4.2)\n",
            "Requirement already satisfied: rsa<5,>=3.1.4 in ./.venv/lib64/python3.11/site-packages (from google-auth<3,>=1.6.3->tensorboard<2.13,>=2.12->tensorflow) (4.9.1)\n",
            "Requirement already satisfied: requests-oauthlib>=0.7.0 in ./.venv/lib64/python3.11/site-packages (from google-auth-oauthlib<1.1,>=0.5->tensorboard<2.13,>=2.12->tensorflow) (2.0.0)\n",
            "Requirement already satisfied: charset-normalizer<4,>=2 in ./.venv/lib64/python3.11/site-packages (from requests<3,>=2.21.0->tensorboard<2.13,>=2.12->tensorflow) (3.4.2)\n",
            "Requirement already satisfied: idna<4,>=2.5 in ./.venv/lib64/python3.11/site-packages (from requests<3,>=2.21.0->tensorboard<2.13,>=2.12->tensorflow) (3.10)\n",
            "Requirement already satisfied: urllib3<3,>=1.21.1 in ./.venv/lib64/python3.11/site-packages (from requests<3,>=2.21.0->tensorboard<2.13,>=2.12->tensorflow) (2.4.0)\n",
            "Requirement already satisfied: certifi>=2017.4.17 in ./.venv/lib64/python3.11/site-packages (from requests<3,>=2.21.0->tensorboard<2.13,>=2.12->tensorflow) (2025.4.26)\n",
            "Requirement already satisfied: pyasn1>=0.1.3 in ./.venv/lib64/python3.11/site-packages (from rsa<5,>=3.1.4->google-auth<3,>=1.6.3->tensorboard<2.13,>=2.12->tensorflow) (0.6.1)\n",
            "Requirement already satisfied: jaxlib<=0.4.30,>=0.4.27 in ./.venv/lib64/python3.11/site-packages (from jax>=0.3.15->tensorflow) (0.4.30)\n",
            "Requirement already satisfied: ml-dtypes>=0.2.0 in ./.venv/lib64/python3.11/site-packages (from jax>=0.3.15->tensorflow) (0.5.1)\n",
            "Requirement already satisfied: scipy>=1.9 in ./.venv/lib64/python3.11/site-packages (from jax>=0.3.15->tensorflow) (1.15.2)\n",
            "Requirement already satisfied: oauthlib>=3.0.0 in ./.venv/lib64/python3.11/site-packages (from requests-oauthlib>=0.7.0->google-auth-oauthlib<1.1,>=0.5->tensorboard<2.13,>=2.12->tensorflow) (3.2.2)\n",
            "Requirement already satisfied: MarkupSafe>=2.1.1 in ./.venv/lib64/python3.11/site-packages (from werkzeug>=1.0.1->tensorboard<2.13,>=2.12->tensorflow) (3.0.2)\n",
            "Note: you may need to restart the kernel to use updated packages.\n",
            "Requirement already satisfied: tensorflow==2.12.0 in ./.venv/lib64/python3.11/site-packages (2.12.0)\n",
            "Requirement already satisfied: absl-py>=1.0.0 in ./.venv/lib64/python3.11/site-packages (from tensorflow==2.12.0) (2.2.2)\n",
            "Requirement already satisfied: astunparse>=1.6.0 in ./.venv/lib64/python3.11/site-packages (from tensorflow==2.12.0) (1.6.3)\n",
            "Requirement already satisfied: flatbuffers>=2.0 in ./.venv/lib64/python3.11/site-packages (from tensorflow==2.12.0) (25.2.10)\n",
            "Requirement already satisfied: gast<=0.4.0,>=0.2.1 in ./.venv/lib64/python3.11/site-packages (from tensorflow==2.12.0) (0.4.0)\n",
            "Requirement already satisfied: google-pasta>=0.1.1 in ./.venv/lib64/python3.11/site-packages (from tensorflow==2.12.0) (0.2.0)\n",
            "Requirement already satisfied: grpcio<2.0,>=1.24.3 in ./.venv/lib64/python3.11/site-packages (from tensorflow==2.12.0) (1.71.0)\n",
            "Requirement already satisfied: h5py>=2.9.0 in ./.venv/lib64/python3.11/site-packages (from tensorflow==2.12.0) (3.13.0)\n",
            "Requirement already satisfied: jax>=0.3.15 in ./.venv/lib64/python3.11/site-packages (from tensorflow==2.12.0) (0.4.30)\n",
            "Requirement already satisfied: keras<2.13,>=2.12.0 in ./.venv/lib64/python3.11/site-packages (from tensorflow==2.12.0) (2.12.0)\n",
            "Requirement already satisfied: libclang>=13.0.0 in ./.venv/lib64/python3.11/site-packages (from tensorflow==2.12.0) (18.1.1)\n",
            "Requirement already satisfied: numpy<1.24,>=1.22 in ./.venv/lib64/python3.11/site-packages (from tensorflow==2.12.0) (1.23.5)\n",
            "Requirement already satisfied: opt-einsum>=2.3.2 in ./.venv/lib64/python3.11/site-packages (from tensorflow==2.12.0) (3.4.0)\n",
            "Requirement already satisfied: packaging in ./.venv/lib64/python3.11/site-packages (from tensorflow==2.12.0) (25.0)\n",
            "Requirement already satisfied: protobuf!=4.21.0,!=4.21.1,!=4.21.2,!=4.21.3,!=4.21.4,!=4.21.5,<5.0.0dev,>=3.20.3 in ./.venv/lib64/python3.11/site-packages (from tensorflow==2.12.0) (4.25.7)\n",
            "Requirement already satisfied: setuptools in ./.venv/lib64/python3.11/site-packages (from tensorflow==2.12.0) (80.3.1)\n",
            "Requirement already satisfied: six>=1.12.0 in ./.venv/lib64/python3.11/site-packages (from tensorflow==2.12.0) (1.17.0)\n",
            "Requirement already satisfied: tensorboard<2.13,>=2.12 in ./.venv/lib64/python3.11/site-packages (from tensorflow==2.12.0) (2.12.3)\n",
            "Requirement already satisfied: tensorflow-estimator<2.13,>=2.12.0 in ./.venv/lib64/python3.11/site-packages (from tensorflow==2.12.0) (2.12.0)\n",
            "Requirement already satisfied: termcolor>=1.1.0 in ./.venv/lib64/python3.11/site-packages (from tensorflow==2.12.0) (3.1.0)\n",
            "Requirement already satisfied: typing-extensions>=3.6.6 in ./.venv/lib64/python3.11/site-packages (from tensorflow==2.12.0) (4.13.2)\n",
            "Requirement already satisfied: wrapt<1.15,>=1.11.0 in ./.venv/lib64/python3.11/site-packages (from tensorflow==2.12.0) (1.14.1)\n",
            "Requirement already satisfied: tensorflow-io-gcs-filesystem>=0.23.1 in ./.venv/lib64/python3.11/site-packages (from tensorflow==2.12.0) (0.37.1)\n",
            "Requirement already satisfied: google-auth<3,>=1.6.3 in ./.venv/lib64/python3.11/site-packages (from tensorboard<2.13,>=2.12->tensorflow==2.12.0) (2.40.0)\n",
            "Requirement already satisfied: google-auth-oauthlib<1.1,>=0.5 in ./.venv/lib64/python3.11/site-packages (from tensorboard<2.13,>=2.12->tensorflow==2.12.0) (1.0.0)\n",
            "Requirement already satisfied: markdown>=2.6.8 in ./.venv/lib64/python3.11/site-packages (from tensorboard<2.13,>=2.12->tensorflow==2.12.0) (3.8)\n",
            "Requirement already satisfied: requests<3,>=2.21.0 in ./.venv/lib64/python3.11/site-packages (from tensorboard<2.13,>=2.12->tensorflow==2.12.0) (2.32.3)\n",
            "Requirement already satisfied: tensorboard-data-server<0.8.0,>=0.7.0 in ./.venv/lib64/python3.11/site-packages (from tensorboard<2.13,>=2.12->tensorflow==2.12.0) (0.7.2)\n",
            "Requirement already satisfied: werkzeug>=1.0.1 in ./.venv/lib64/python3.11/site-packages (from tensorboard<2.13,>=2.12->tensorflow==2.12.0) (3.1.3)\n",
            "Requirement already satisfied: wheel>=0.26 in ./.venv/lib64/python3.11/site-packages (from tensorboard<2.13,>=2.12->tensorflow==2.12.0) (0.45.1)\n",
            "Requirement already satisfied: cachetools<6.0,>=2.0.0 in ./.venv/lib64/python3.11/site-packages (from google-auth<3,>=1.6.3->tensorboard<2.13,>=2.12->tensorflow==2.12.0) (5.5.2)\n",
            "Requirement already satisfied: pyasn1-modules>=0.2.1 in ./.venv/lib64/python3.11/site-packages (from google-auth<3,>=1.6.3->tensorboard<2.13,>=2.12->tensorflow==2.12.0) (0.4.2)\n",
            "Requirement already satisfied: rsa<5,>=3.1.4 in ./.venv/lib64/python3.11/site-packages (from google-auth<3,>=1.6.3->tensorboard<2.13,>=2.12->tensorflow==2.12.0) (4.9.1)\n",
            "Requirement already satisfied: requests-oauthlib>=0.7.0 in ./.venv/lib64/python3.11/site-packages (from google-auth-oauthlib<1.1,>=0.5->tensorboard<2.13,>=2.12->tensorflow==2.12.0) (2.0.0)\n",
            "Requirement already satisfied: charset-normalizer<4,>=2 in ./.venv/lib64/python3.11/site-packages (from requests<3,>=2.21.0->tensorboard<2.13,>=2.12->tensorflow==2.12.0) (3.4.2)\n",
            "Requirement already satisfied: idna<4,>=2.5 in ./.venv/lib64/python3.11/site-packages (from requests<3,>=2.21.0->tensorboard<2.13,>=2.12->tensorflow==2.12.0) (3.10)\n",
            "Requirement already satisfied: urllib3<3,>=1.21.1 in ./.venv/lib64/python3.11/site-packages (from requests<3,>=2.21.0->tensorboard<2.13,>=2.12->tensorflow==2.12.0) (2.4.0)\n",
            "Requirement already satisfied: certifi>=2017.4.17 in ./.venv/lib64/python3.11/site-packages (from requests<3,>=2.21.0->tensorboard<2.13,>=2.12->tensorflow==2.12.0) (2025.4.26)\n",
            "Requirement already satisfied: pyasn1>=0.1.3 in ./.venv/lib64/python3.11/site-packages (from rsa<5,>=3.1.4->google-auth<3,>=1.6.3->tensorboard<2.13,>=2.12->tensorflow==2.12.0) (0.6.1)\n",
            "Requirement already satisfied: jaxlib<=0.4.30,>=0.4.27 in ./.venv/lib64/python3.11/site-packages (from jax>=0.3.15->tensorflow==2.12.0) (0.4.30)\n",
            "Requirement already satisfied: ml-dtypes>=0.2.0 in ./.venv/lib64/python3.11/site-packages (from jax>=0.3.15->tensorflow==2.12.0) (0.5.1)\n",
            "Requirement already satisfied: scipy>=1.9 in ./.venv/lib64/python3.11/site-packages (from jax>=0.3.15->tensorflow==2.12.0) (1.15.2)\n",
            "Requirement already satisfied: oauthlib>=3.0.0 in ./.venv/lib64/python3.11/site-packages (from requests-oauthlib>=0.7.0->google-auth-oauthlib<1.1,>=0.5->tensorboard<2.13,>=2.12->tensorflow==2.12.0) (3.2.2)\n",
            "Requirement already satisfied: MarkupSafe>=2.1.1 in ./.venv/lib64/python3.11/site-packages (from werkzeug>=1.0.1->tensorboard<2.13,>=2.12->tensorflow==2.12.0) (3.0.2)\n",
            "Note: you may need to restart the kernel to use updated packages.\n"
          ]
        }
      ],
      "source": [
        "%pip install keras_preprocessing\n",
        "%pip install matplotlib\n",
        "%pip install idx2numpy\n",
        "%pip install pillow\n",
        "%pip install tensorflow\n",
        "%pip install tensorflow==2.12.0\n"
      ]
    },
    {
      "cell_type": "code",
      "execution_count": 382,
      "metadata": {},
      "outputs": [
        {
          "name": "stdout",
          "output_type": "stream",
          "text": [
            "Requirement already satisfied: ipykernel in ./.venv/lib64/python3.11/site-packages (6.29.5)\n",
            "Requirement already satisfied: comm>=0.1.1 in ./.venv/lib64/python3.11/site-packages (from ipykernel) (0.2.2)\n",
            "Requirement already satisfied: debugpy>=1.6.5 in ./.venv/lib64/python3.11/site-packages (from ipykernel) (1.8.14)\n",
            "Requirement already satisfied: ipython>=7.23.1 in ./.venv/lib64/python3.11/site-packages (from ipykernel) (9.2.0)\n",
            "Requirement already satisfied: jupyter-client>=6.1.12 in ./.venv/lib64/python3.11/site-packages (from ipykernel) (8.6.3)\n",
            "Requirement already satisfied: jupyter-core!=5.0.*,>=4.12 in ./.venv/lib64/python3.11/site-packages (from ipykernel) (5.7.2)\n",
            "Requirement already satisfied: matplotlib-inline>=0.1 in ./.venv/lib64/python3.11/site-packages (from ipykernel) (0.1.7)\n",
            "Requirement already satisfied: nest-asyncio in ./.venv/lib64/python3.11/site-packages (from ipykernel) (1.6.0)\n",
            "Requirement already satisfied: packaging in ./.venv/lib64/python3.11/site-packages (from ipykernel) (25.0)\n",
            "Requirement already satisfied: psutil in ./.venv/lib64/python3.11/site-packages (from ipykernel) (7.0.0)\n",
            "Requirement already satisfied: pyzmq>=24 in ./.venv/lib64/python3.11/site-packages (from ipykernel) (26.4.0)\n",
            "Requirement already satisfied: tornado>=6.1 in ./.venv/lib64/python3.11/site-packages (from ipykernel) (6.4.2)\n",
            "Requirement already satisfied: traitlets>=5.4.0 in ./.venv/lib64/python3.11/site-packages (from ipykernel) (5.14.3)\n",
            "Requirement already satisfied: decorator in ./.venv/lib64/python3.11/site-packages (from ipython>=7.23.1->ipykernel) (5.2.1)\n",
            "Requirement already satisfied: ipython-pygments-lexers in ./.venv/lib64/python3.11/site-packages (from ipython>=7.23.1->ipykernel) (1.1.1)\n",
            "Requirement already satisfied: jedi>=0.16 in ./.venv/lib64/python3.11/site-packages (from ipython>=7.23.1->ipykernel) (0.19.2)\n",
            "Requirement already satisfied: pexpect>4.3 in ./.venv/lib64/python3.11/site-packages (from ipython>=7.23.1->ipykernel) (4.9.0)\n",
            "Requirement already satisfied: prompt_toolkit<3.1.0,>=3.0.41 in ./.venv/lib64/python3.11/site-packages (from ipython>=7.23.1->ipykernel) (3.0.51)\n",
            "Requirement already satisfied: pygments>=2.4.0 in ./.venv/lib64/python3.11/site-packages (from ipython>=7.23.1->ipykernel) (2.19.1)\n",
            "Requirement already satisfied: stack_data in ./.venv/lib64/python3.11/site-packages (from ipython>=7.23.1->ipykernel) (0.6.3)\n",
            "Requirement already satisfied: typing_extensions>=4.6 in ./.venv/lib64/python3.11/site-packages (from ipython>=7.23.1->ipykernel) (4.13.2)\n",
            "Requirement already satisfied: wcwidth in ./.venv/lib64/python3.11/site-packages (from prompt_toolkit<3.1.0,>=3.0.41->ipython>=7.23.1->ipykernel) (0.2.13)\n",
            "Requirement already satisfied: parso<0.9.0,>=0.8.4 in ./.venv/lib64/python3.11/site-packages (from jedi>=0.16->ipython>=7.23.1->ipykernel) (0.8.4)\n",
            "Requirement already satisfied: python-dateutil>=2.8.2 in ./.venv/lib64/python3.11/site-packages (from jupyter-client>=6.1.12->ipykernel) (2.9.0.post0)\n",
            "Requirement already satisfied: platformdirs>=2.5 in ./.venv/lib64/python3.11/site-packages (from jupyter-core!=5.0.*,>=4.12->ipykernel) (4.3.7)\n",
            "Requirement already satisfied: ptyprocess>=0.5 in ./.venv/lib64/python3.11/site-packages (from pexpect>4.3->ipython>=7.23.1->ipykernel) (0.7.0)\n",
            "Requirement already satisfied: six>=1.5 in ./.venv/lib64/python3.11/site-packages (from python-dateutil>=2.8.2->jupyter-client>=6.1.12->ipykernel) (1.17.0)\n",
            "Requirement already satisfied: executing>=1.2.0 in ./.venv/lib64/python3.11/site-packages (from stack_data->ipython>=7.23.1->ipykernel) (2.2.0)\n",
            "Requirement already satisfied: asttokens>=2.1.0 in ./.venv/lib64/python3.11/site-packages (from stack_data->ipython>=7.23.1->ipykernel) (3.0.0)\n",
            "Requirement already satisfied: pure-eval in ./.venv/lib64/python3.11/site-packages (from stack_data->ipython>=7.23.1->ipykernel) (0.2.3)\n"
          ]
        }
      ],
      "source": [
        "!pip install ipykernel"
      ]
    },
    {
      "cell_type": "code",
      "execution_count": 383,
      "metadata": {},
      "outputs": [
        {
          "name": "stdout",
          "output_type": "stream",
          "text": [
            "Collecting manim\n",
            "  Using cached manim-0.19.0-py3-none-any.whl.metadata (11 kB)\n",
            "Requirement already satisfied: Pillow>=9.1 in ./.venv/lib64/python3.11/site-packages (from manim) (11.2.1)\n",
            "Requirement already satisfied: Pygments>=2.0.0 in ./.venv/lib64/python3.11/site-packages (from manim) (2.19.1)\n",
            "Collecting av<14.0.0,>=9.0.0 (from manim)\n",
            "  Using cached av-13.1.0-cp311-cp311-manylinux_2_17_x86_64.manylinux2014_x86_64.whl.metadata (4.4 kB)\n",
            "Collecting beautifulsoup4>=4.12 (from manim)\n",
            "  Using cached beautifulsoup4-4.13.4-py3-none-any.whl.metadata (3.8 kB)\n",
            "Collecting click>=8.0 (from manim)\n",
            "  Using cached click-8.1.8-py3-none-any.whl.metadata (2.3 kB)\n",
            "Collecting cloup>=2.0.0 (from manim)\n",
            "  Using cached cloup-3.0.7-py2.py3-none-any.whl.metadata (6.3 kB)\n",
            "Requirement already satisfied: decorator>=4.3.2 in ./.venv/lib64/python3.11/site-packages (from manim) (5.2.1)\n",
            "Collecting isosurfaces>=0.1.0 (from manim)\n",
            "  Using cached isosurfaces-0.1.2-py3-none-any.whl.metadata (3.3 kB)\n",
            "Collecting manimpango<1.0.0,>=0.5.0 (from manim)\n",
            "  Using cached manimpango-0.6.0.tar.gz (4.1 MB)\n",
            "  Installing build dependencies ... \u001b[?25ldone\n",
            "\u001b[?25h  Getting requirements to build wheel ... \u001b[?25lerror\n",
            "  \u001b[1;31merror\u001b[0m: \u001b[1msubprocess-exited-with-error\u001b[0m\n",
            "  \n",
            "  \u001b[31m×\u001b[0m \u001b[32mGetting requirements to build wheel\u001b[0m did not run successfully.\n",
            "  \u001b[31m│\u001b[0m exit code: \u001b[1;36m1\u001b[0m\n",
            "  \u001b[31m╰─>\u001b[0m \u001b[31m[28 lines of output]\u001b[0m\n",
            "  \u001b[31m   \u001b[0m Package 'pangocairo' was not found\n",
            "  \u001b[31m   \u001b[0m Traceback (most recent call last):\n",
            "  \u001b[31m   \u001b[0m   File \"<string>\", line 137, in check_min_version\n",
            "  \u001b[31m   \u001b[0m   File \"/usr/lib64/python3.11/subprocess.py\", line 413, in check_call\n",
            "  \u001b[31m   \u001b[0m     raise CalledProcessError(retcode, cmd)\n",
            "  \u001b[31m   \u001b[0m subprocess.CalledProcessError: Command '['pkg-config', '--print-errors', '--atleast-version', '1.30.0', 'pangocairo']' returned non-zero exit status 1.\n",
            "  \u001b[31m   \u001b[0m \n",
            "  \u001b[31m   \u001b[0m During handling of the above exception, another exception occurred:\n",
            "  \u001b[31m   \u001b[0m \n",
            "  \u001b[31m   \u001b[0m Traceback (most recent call last):\n",
            "  \u001b[31m   \u001b[0m   File \"/home/valmir.silva/2CC/ConvolutionMatrixVerilog/.venv/lib64/python3.11/site-packages/pip/_vendor/pyproject_hooks/_in_process/_in_process.py\", line 389, in <module>\n",
            "  \u001b[31m   \u001b[0m     main()\n",
            "  \u001b[31m   \u001b[0m   File \"/home/valmir.silva/2CC/ConvolutionMatrixVerilog/.venv/lib64/python3.11/site-packages/pip/_vendor/pyproject_hooks/_in_process/_in_process.py\", line 373, in main\n",
            "  \u001b[31m   \u001b[0m     json_out[\"return_val\"] = hook(**hook_input[\"kwargs\"])\n",
            "  \u001b[31m   \u001b[0m                              ^^^^^^^^^^^^^^^^^^^^^^^^^^^^\n",
            "  \u001b[31m   \u001b[0m   File \"/home/valmir.silva/2CC/ConvolutionMatrixVerilog/.venv/lib64/python3.11/site-packages/pip/_vendor/pyproject_hooks/_in_process/_in_process.py\", line 143, in get_requires_for_build_wheel\n",
            "  \u001b[31m   \u001b[0m     return hook(config_settings)\n",
            "  \u001b[31m   \u001b[0m            ^^^^^^^^^^^^^^^^^^^^^\n",
            "  \u001b[31m   \u001b[0m   File \"/tmp/pip-build-env-hh5tjv1t/overlay/lib/python3.11/site-packages/setuptools/build_meta.py\", line 331, in get_requires_for_build_wheel\n",
            "  \u001b[31m   \u001b[0m     return self._get_build_requires(config_settings, requirements=[])\n",
            "  \u001b[31m   \u001b[0m            ^^^^^^^^^^^^^^^^^^^^^^^^^^^^^^^^^^^^^^^^^^^^^^^^^^^^^^^^^^\n",
            "  \u001b[31m   \u001b[0m   File \"/tmp/pip-build-env-hh5tjv1t/overlay/lib/python3.11/site-packages/setuptools/build_meta.py\", line 301, in _get_build_requires\n",
            "  \u001b[31m   \u001b[0m     self.run_setup()\n",
            "  \u001b[31m   \u001b[0m   File \"/tmp/pip-build-env-hh5tjv1t/overlay/lib/python3.11/site-packages/setuptools/build_meta.py\", line 317, in run_setup\n",
            "  \u001b[31m   \u001b[0m     exec(code, locals())\n",
            "  \u001b[31m   \u001b[0m   File \"<string>\", line 204, in <module>\n",
            "  \u001b[31m   \u001b[0m   File \"<string>\", line 140, in check_min_version\n",
            "  \u001b[31m   \u001b[0m RequiredDependencyException: pangocairo >= 1.30.0 is required\n",
            "  \u001b[31m   \u001b[0m \u001b[31m[end of output]\u001b[0m\n",
            "  \n",
            "  \u001b[1;35mnote\u001b[0m: This error originates from a subprocess, and is likely not a problem with pip.\n",
            "\u001b[?25h\u001b[1;31merror\u001b[0m: \u001b[1msubprocess-exited-with-error\u001b[0m\n",
            "\n",
            "\u001b[31m×\u001b[0m \u001b[32mGetting requirements to build wheel\u001b[0m did not run successfully.\n",
            "\u001b[31m│\u001b[0m exit code: \u001b[1;36m1\u001b[0m\n",
            "\u001b[31m╰─>\u001b[0m See above for output.\n",
            "\n",
            "\u001b[1;35mnote\u001b[0m: This error originates from a subprocess, and is likely not a problem with pip.\n",
            "Note: you may need to restart the kernel to use updated packages.\n",
            "Requirement already satisfied: colour in ./.venv/lib64/python3.11/site-packages (0.1.5)\n",
            "Note: you may need to restart the kernel to use updated packages.\n",
            "Requirement already satisfied: tensorflow in ./.venv/lib64/python3.11/site-packages (2.12.0)\n",
            "Requirement already satisfied: absl-py>=1.0.0 in ./.venv/lib64/python3.11/site-packages (from tensorflow) (2.2.2)\n",
            "Requirement already satisfied: astunparse>=1.6.0 in ./.venv/lib64/python3.11/site-packages (from tensorflow) (1.6.3)\n",
            "Requirement already satisfied: flatbuffers>=2.0 in ./.venv/lib64/python3.11/site-packages (from tensorflow) (25.2.10)\n",
            "Requirement already satisfied: gast<=0.4.0,>=0.2.1 in ./.venv/lib64/python3.11/site-packages (from tensorflow) (0.4.0)\n",
            "Requirement already satisfied: google-pasta>=0.1.1 in ./.venv/lib64/python3.11/site-packages (from tensorflow) (0.2.0)\n",
            "Requirement already satisfied: grpcio<2.0,>=1.24.3 in ./.venv/lib64/python3.11/site-packages (from tensorflow) (1.71.0)\n",
            "Requirement already satisfied: h5py>=2.9.0 in ./.venv/lib64/python3.11/site-packages (from tensorflow) (3.13.0)\n",
            "Requirement already satisfied: jax>=0.3.15 in ./.venv/lib64/python3.11/site-packages (from tensorflow) (0.4.30)\n",
            "Requirement already satisfied: keras<2.13,>=2.12.0 in ./.venv/lib64/python3.11/site-packages (from tensorflow) (2.12.0)\n",
            "Requirement already satisfied: libclang>=13.0.0 in ./.venv/lib64/python3.11/site-packages (from tensorflow) (18.1.1)\n",
            "Requirement already satisfied: numpy<1.24,>=1.22 in ./.venv/lib64/python3.11/site-packages (from tensorflow) (1.23.5)\n",
            "Requirement already satisfied: opt-einsum>=2.3.2 in ./.venv/lib64/python3.11/site-packages (from tensorflow) (3.4.0)\n",
            "Requirement already satisfied: packaging in ./.venv/lib64/python3.11/site-packages (from tensorflow) (25.0)\n",
            "Requirement already satisfied: protobuf!=4.21.0,!=4.21.1,!=4.21.2,!=4.21.3,!=4.21.4,!=4.21.5,<5.0.0dev,>=3.20.3 in ./.venv/lib64/python3.11/site-packages (from tensorflow) (4.25.7)\n",
            "Requirement already satisfied: setuptools in ./.venv/lib64/python3.11/site-packages (from tensorflow) (80.3.1)\n",
            "Requirement already satisfied: six>=1.12.0 in ./.venv/lib64/python3.11/site-packages (from tensorflow) (1.17.0)\n",
            "Requirement already satisfied: tensorboard<2.13,>=2.12 in ./.venv/lib64/python3.11/site-packages (from tensorflow) (2.12.3)\n",
            "Requirement already satisfied: tensorflow-estimator<2.13,>=2.12.0 in ./.venv/lib64/python3.11/site-packages (from tensorflow) (2.12.0)\n",
            "Requirement already satisfied: termcolor>=1.1.0 in ./.venv/lib64/python3.11/site-packages (from tensorflow) (3.1.0)\n",
            "Requirement already satisfied: typing-extensions>=3.6.6 in ./.venv/lib64/python3.11/site-packages (from tensorflow) (4.13.2)\n",
            "Requirement already satisfied: wrapt<1.15,>=1.11.0 in ./.venv/lib64/python3.11/site-packages (from tensorflow) (1.14.1)\n",
            "Requirement already satisfied: tensorflow-io-gcs-filesystem>=0.23.1 in ./.venv/lib64/python3.11/site-packages (from tensorflow) (0.37.1)\n",
            "Requirement already satisfied: google-auth<3,>=1.6.3 in ./.venv/lib64/python3.11/site-packages (from tensorboard<2.13,>=2.12->tensorflow) (2.40.0)\n",
            "Requirement already satisfied: google-auth-oauthlib<1.1,>=0.5 in ./.venv/lib64/python3.11/site-packages (from tensorboard<2.13,>=2.12->tensorflow) (1.0.0)\n",
            "Requirement already satisfied: markdown>=2.6.8 in ./.venv/lib64/python3.11/site-packages (from tensorboard<2.13,>=2.12->tensorflow) (3.8)\n",
            "Requirement already satisfied: requests<3,>=2.21.0 in ./.venv/lib64/python3.11/site-packages (from tensorboard<2.13,>=2.12->tensorflow) (2.32.3)\n",
            "Requirement already satisfied: tensorboard-data-server<0.8.0,>=0.7.0 in ./.venv/lib64/python3.11/site-packages (from tensorboard<2.13,>=2.12->tensorflow) (0.7.2)\n",
            "Requirement already satisfied: werkzeug>=1.0.1 in ./.venv/lib64/python3.11/site-packages (from tensorboard<2.13,>=2.12->tensorflow) (3.1.3)\n",
            "Requirement already satisfied: wheel>=0.26 in ./.venv/lib64/python3.11/site-packages (from tensorboard<2.13,>=2.12->tensorflow) (0.45.1)\n",
            "Requirement already satisfied: cachetools<6.0,>=2.0.0 in ./.venv/lib64/python3.11/site-packages (from google-auth<3,>=1.6.3->tensorboard<2.13,>=2.12->tensorflow) (5.5.2)\n",
            "Requirement already satisfied: pyasn1-modules>=0.2.1 in ./.venv/lib64/python3.11/site-packages (from google-auth<3,>=1.6.3->tensorboard<2.13,>=2.12->tensorflow) (0.4.2)\n",
            "Requirement already satisfied: rsa<5,>=3.1.4 in ./.venv/lib64/python3.11/site-packages (from google-auth<3,>=1.6.3->tensorboard<2.13,>=2.12->tensorflow) (4.9.1)\n",
            "Requirement already satisfied: requests-oauthlib>=0.7.0 in ./.venv/lib64/python3.11/site-packages (from google-auth-oauthlib<1.1,>=0.5->tensorboard<2.13,>=2.12->tensorflow) (2.0.0)\n",
            "Requirement already satisfied: charset-normalizer<4,>=2 in ./.venv/lib64/python3.11/site-packages (from requests<3,>=2.21.0->tensorboard<2.13,>=2.12->tensorflow) (3.4.2)\n",
            "Requirement already satisfied: idna<4,>=2.5 in ./.venv/lib64/python3.11/site-packages (from requests<3,>=2.21.0->tensorboard<2.13,>=2.12->tensorflow) (3.10)\n",
            "Requirement already satisfied: urllib3<3,>=1.21.1 in ./.venv/lib64/python3.11/site-packages (from requests<3,>=2.21.0->tensorboard<2.13,>=2.12->tensorflow) (2.4.0)\n",
            "Requirement already satisfied: certifi>=2017.4.17 in ./.venv/lib64/python3.11/site-packages (from requests<3,>=2.21.0->tensorboard<2.13,>=2.12->tensorflow) (2025.4.26)\n",
            "Requirement already satisfied: pyasn1>=0.1.3 in ./.venv/lib64/python3.11/site-packages (from rsa<5,>=3.1.4->google-auth<3,>=1.6.3->tensorboard<2.13,>=2.12->tensorflow) (0.6.1)\n",
            "Requirement already satisfied: jaxlib<=0.4.30,>=0.4.27 in ./.venv/lib64/python3.11/site-packages (from jax>=0.3.15->tensorflow) (0.4.30)\n",
            "Requirement already satisfied: ml-dtypes>=0.2.0 in ./.venv/lib64/python3.11/site-packages (from jax>=0.3.15->tensorflow) (0.5.1)\n",
            "Requirement already satisfied: scipy>=1.9 in ./.venv/lib64/python3.11/site-packages (from jax>=0.3.15->tensorflow) (1.15.2)\n",
            "Requirement already satisfied: oauthlib>=3.0.0 in ./.venv/lib64/python3.11/site-packages (from requests-oauthlib>=0.7.0->google-auth-oauthlib<1.1,>=0.5->tensorboard<2.13,>=2.12->tensorflow) (3.2.2)\n",
            "Requirement already satisfied: MarkupSafe>=2.1.1 in ./.venv/lib64/python3.11/site-packages (from werkzeug>=1.0.1->tensorboard<2.13,>=2.12->tensorflow) (3.0.2)\n",
            "Note: you may need to restart the kernel to use updated packages.\n",
            "Requirement already satisfied: matplotlib in ./.venv/lib64/python3.11/site-packages (3.10.1)\n",
            "Requirement already satisfied: contourpy>=1.0.1 in ./.venv/lib64/python3.11/site-packages (from matplotlib) (1.3.2)\n",
            "Requirement already satisfied: cycler>=0.10 in ./.venv/lib64/python3.11/site-packages (from matplotlib) (0.12.1)\n",
            "Requirement already satisfied: fonttools>=4.22.0 in ./.venv/lib64/python3.11/site-packages (from matplotlib) (4.57.0)\n",
            "Requirement already satisfied: kiwisolver>=1.3.1 in ./.venv/lib64/python3.11/site-packages (from matplotlib) (1.4.8)\n",
            "Requirement already satisfied: numpy>=1.23 in ./.venv/lib64/python3.11/site-packages (from matplotlib) (1.23.5)\n",
            "Requirement already satisfied: packaging>=20.0 in ./.venv/lib64/python3.11/site-packages (from matplotlib) (25.0)\n",
            "Requirement already satisfied: pillow>=8 in ./.venv/lib64/python3.11/site-packages (from matplotlib) (11.2.1)\n",
            "Requirement already satisfied: pyparsing>=2.3.1 in ./.venv/lib64/python3.11/site-packages (from matplotlib) (3.2.3)\n",
            "Requirement already satisfied: python-dateutil>=2.7 in ./.venv/lib64/python3.11/site-packages (from matplotlib) (2.9.0.post0)\n",
            "Requirement already satisfied: six>=1.5 in ./.venv/lib64/python3.11/site-packages (from python-dateutil>=2.7->matplotlib) (1.17.0)\n",
            "Note: you may need to restart the kernel to use updated packages.\n",
            "Requirement already satisfied: tensorflow.keras in ./.venv/lib64/python3.11/site-packages (0.1)\n",
            "Note: you may need to restart the kernel to use updated packages.\n"
          ]
        }
      ],
      "source": [
        "\n",
        "%pip install manim\n",
        "# %pip install IPython --upgrade\n",
        "%pip install colour\n",
        "# %%python -m pip install --upgrade pip\n",
        "%pip install tensorflow\n",
        "%pip install matplotlib\n",
        "%pip install tensorflow.keras"
      ]
    },
    {
      "cell_type": "code",
      "execution_count": null,
      "metadata": {},
      "outputs": [],
      "source": []
    },
    {
      "cell_type": "code",
      "execution_count": 384,
      "metadata": {
        "id": "LeQOQlapKfvF"
      },
      "outputs": [],
      "source": [
        "from keras_preprocessing import image as img\n",
        "import os\n",
        "from matplotlib import pyplot as plt\n",
        "import idx2numpy\n",
        "import keras_preprocessing\n",
        "import tensorflow as tf\n",
        "import numpy as np\n",
        "import keras"
      ]
    },
    {
      "cell_type": "code",
      "execution_count": 385,
      "metadata": {},
      "outputs": [
        {
          "name": "stdout",
          "output_type": "stream",
          "text": [
            "Requirement already satisfied: pip in ./.venv/lib64/python3.11/site-packages (25.1.1)\n"
          ]
        }
      ],
      "source": [
        "!python3 -m pip install --upgrade pip"
      ]
    },
    {
      "cell_type": "markdown",
      "metadata": {
        "id": "ZTScsKMqRxwc"
      },
      "source": []
    },
    {
      "cell_type": "code",
      "execution_count": 386,
      "metadata": {},
      "outputs": [
        {
          "data": {
            "text/plain": [
              "0"
            ]
          },
          "execution_count": 386,
          "metadata": {},
          "output_type": "execute_result"
        }
      ],
      "source": [
        "os.system(\"rm ./simulation/I.txt\")"
      ]
    },
    {
      "cell_type": "code",
      "execution_count": 387,
      "metadata": {
        "id": "J8-0zNQULJcC"
      },
      "outputs": [],
      "source": [
        "sizt = 28\n",
        "path = \"mnist/data/t10k-images-idx3-ubyte\""
      ]
    },
    {
      "cell_type": "code",
      "execution_count": null,
      "metadata": {},
      "outputs": [],
      "source": []
    },
    {
      "cell_type": "code",
      "execution_count": 388,
      "metadata": {
        "id": "te-Hq9X6Qgj0"
      },
      "outputs": [],
      "source": [
        "sizeM = open(\"./simulation/sizeM.txt\",\"w\")\n",
        "sizeM.write(str(sizt))\n",
        "sizeM.close()\n",
        "f = open(\"./simulation/I.txt\",\"w\")"
      ]
    },
    {
      "cell_type": "code",
      "execution_count": null,
      "metadata": {},
      "outputs": [],
      "source": []
    },
    {
      "cell_type": "code",
      "execution_count": 389,
      "metadata": {},
      "outputs": [
        {
          "data": {
            "text/plain": [
              "<matplotlib.image.AxesImage at 0x7f90ff8a4690>"
            ]
          },
          "execution_count": 389,
          "metadata": {},
          "output_type": "execute_result"
        },
        {
          "data": {
            "image/png": "[encoded data removed]",
            "text/plain": [
              "<Figure size 640x480 with 1 Axes>"
            ]
          },
          "metadata": {},
          "output_type": "display_data"
        }
      ],
      "source": [
        "array = idx2numpy.convert_from_file(path)[2]\n",
        "plt.imshow(array)"
      ]
    },
    {
      "cell_type": "code",
      "execution_count": 390,
      "metadata": {
        "colab": {
          "base_uri": "https://localhost:8080/"
        },
        "id": "5DQtVefsLg3U",
        "outputId": "1405ba52-16b8-4941-99a6-e1c677993776"
      },
      "outputs": [],
      "source": [
        "\n",
        "k = 0\n",
        "l= 0\n",
        "\n",
        "for i in array:\n",
        "    for j in i:\n",
        "        strtmp = f'{hex(int((j/255)*2**3))[2:]}'\n",
        "        strtmp2 = '0'*(2-len(strtmp))+strtmp+' '\n",
        "        f.write(strtmp2)\n",
        "        # print(f'{strtmp2}',end='  ')\n",
        "    f.write(\"\\n\")\n",
        "    # print(\"\\n\")\n",
        "f.close()"
      ]
    },
    {
      "cell_type": "code",
      "execution_count": 391,
      "metadata": {},
      "outputs": [],
      "source": [
        "def concat(n):\n",
        "    # print(int('0x'+n,16))\n",
        "    integ = bin(int('0x'+n,16))\n",
        "    integ = ('0'*(16-len(integ[2:]))+integ[2:])\n",
        "    # print(integ[15])\n",
        "    # print(integ,\"c\")\n",
        "    # print(integ[0])\n",
        "    a = int(int(\"0b\"+integ,2)/16)\n",
        "    if(str(integ[0])=='1'):\n",
        "\n",
        "        # print (\"AJKHAH\")\n",
        "        # print(integ,n,\"a\")\n",
        "        temp1 = integ.replace(\"0\",\"k\")\n",
        "        # print(temp1)\n",
        "        temp2 = temp1.replace('1','0')\n",
        "        # print(temp2)\n",
        "        integ = temp2.replace('k','1')\n",
        "        # print(integ)\n",
        "        a = -int((int(\"0b\"+integ,2)+1)/16)\n",
        "    # print(integ,'h')\n",
        "\n",
        "    return [a]"
      ]
    },
    {
      "cell_type": "code",
      "execution_count": 392,
      "metadata": {},
      "outputs": [
        {
          "data": {
            "text/plain": [
              "'2.12.0'"
            ]
          },
          "execution_count": 392,
          "metadata": {},
          "output_type": "execute_result"
        }
      ],
      "source": [
        "keras.__version__"
      ]
    },
    {
      "cell_type": "code",
      "execution_count": 393,
      "metadata": {},
      "outputs": [],
      "source": [
        "import keras"
      ]
    },
    {
      "cell_type": "code",
      "execution_count": 394,
      "metadata": {},
      "outputs": [],
      "source": [
        "modelo_dig = keras.models.load_model(\"/home/valmir.silva/2CC/ConvolutionMatrixVerilog/model_network/okkk.h5\")"
      ]
    },
    {
      "cell_type": "code",
      "execution_count": 395,
      "metadata": {},
      "outputs": [
        {
          "name": "stdout",
          "output_type": "stream",
          "text": [
            "Model: \"sequential_9\"\n",
            "_________________________________________________________________\n",
            " Layer (type)                Output Shape              Param #   \n",
            "=================================================================\n",
            " conv2d_1 (Conv2D)           (None, 24, 24, 2)         52        \n",
            "                                                                 \n",
            " max_pooling2d_1 (MaxPooling  (None, 12, 12, 2)        0         \n",
            " 2D)                                                             \n",
            "                                                                 \n",
            " conv2d_2 (Conv2D)           (None, 10, 10, 4)         76        \n",
            "                                                                 \n",
            " max_pooling2d_2 (MaxPooling  (None, 5, 5, 4)          0         \n",
            " 2D)                                                             \n",
            "                                                                 \n",
            " flatten_1 (Flatten)         (None, 100)               0         \n",
            "                                                                 \n",
            " dense_1 (Dense)             (None, 10)                1010      \n",
            "                                                                 \n",
            "=================================================================\n",
            "Total params: 1,138\n",
            "Trainable params: 1,138\n",
            "Non-trainable params: 0\n",
            "_________________________________________________________________\n"
          ]
        }
      ],
      "source": [
        "modelo_dig.summary()"
      ]
    },
    {
      "cell_type": "code",
      "execution_count": 396,
      "metadata": {},
      "outputs": [],
      "source": [
        "# !sudo apt-get install graphviz"
      ]
    },
    {
      "cell_type": "code",
      "execution_count": 397,
      "metadata": {},
      "outputs": [
        {
          "name": "stdout",
          "output_type": "stream",
          "text": [
            "Requirement already satisfied: pydot in ./.venv/lib64/python3.11/site-packages (4.0.0)\n",
            "Requirement already satisfied: pyparsing>=3.0.9 in ./.venv/lib64/python3.11/site-packages (from pydot) (3.2.3)\n",
            "Requirement already satisfied: pydotplus in ./.venv/lib64/python3.11/site-packages (2.0.2)\n",
            "Requirement already satisfied: pyparsing>=2.0.1 in ./.venv/lib64/python3.11/site-packages (from pydotplus) (3.2.3)\n",
            "Requirement already satisfied: graphviz in ./.venv/lib64/python3.11/site-packages (0.20.3)\n"
          ]
        }
      ],
      "source": [
        "!pip install pydot\n",
        "!pip install pydotplus\n",
        "!pip install graphviz\n",
        "from keras.utils import plot_model"
      ]
    },
    {
      "cell_type": "code",
      "execution_count": 398,
      "metadata": {},
      "outputs": [
        {
          "data": {
            "image/png": "[encoded data removed]",
            "text/plain": [
              "<IPython.core.display.Image object>"
            ]
          },
          "execution_count": 398,
          "metadata": {},
          "output_type": "execute_result"
        }
      ],
      "source": [
        "plot_model(\n",
        "    modelo_dig,\n",
        "    show_shapes=True,\n",
        "    show_layer_names=True,\n",
        ")"
      ]
    },
    {
      "cell_type": "code",
      "execution_count": 399,
      "metadata": {},
      "outputs": [],
      "source": [
        "# modelo_dig.Sequential.call()"
      ]
    },
    {
      "cell_type": "code",
      "execution_count": null,
      "metadata": {},
      "outputs": [],
      "source": []
    },
    {
      "cell_type": "code",
      "execution_count": 400,
      "metadata": {},
      "outputs": [
        {
          "data": {
            "text/plain": [
              "<tf.Variable 'conv2d_1/kernel:0' shape=(5, 5, 1, 2) dtype=float32, numpy=\n",
              "array([[[[ 0.08475266, -0.08725488]],\n",
              "\n",
              "        [[ 0.45033455,  0.3889583 ]],\n",
              "\n",
              "        [[ 0.20711213,  0.48511887]],\n",
              "\n",
              "        [[ 0.11774347,  0.6007401 ]],\n",
              "\n",
              "        [[-0.28549802,  0.51012784]]],\n",
              "\n",
              "\n",
              "       [[[ 0.31692147, -0.24749407]],\n",
              "\n",
              "        [[ 0.06281384, -0.281575  ]],\n",
              "\n",
              "        [[ 0.5881084 ,  0.15293644]],\n",
              "\n",
              "        [[ 0.2193528 ,  0.5235892 ]],\n",
              "\n",
              "        [[ 0.03949977,  0.77730536]]],\n",
              "\n",
              "\n",
              "       [[[ 0.68635666, -0.31191224]],\n",
              "\n",
              "        [[ 0.61814624, -0.4217355 ]],\n",
              "\n",
              "        [[ 0.32533157,  0.02750364]],\n",
              "\n",
              "        [[ 0.40399504,  0.4609615 ]],\n",
              "\n",
              "        [[ 0.39017224,  0.44987288]]],\n",
              "\n",
              "\n",
              "       [[[ 0.611674  ,  0.13813913]],\n",
              "\n",
              "        [[ 0.49153015,  0.15389183]],\n",
              "\n",
              "        [[ 0.778292  ,  0.507933  ]],\n",
              "\n",
              "        [[ 0.630233  ,  0.26394913]],\n",
              "\n",
              "        [[ 0.5274251 ,  0.69082654]]],\n",
              "\n",
              "\n",
              "       [[[ 0.42634276,  0.18006702]],\n",
              "\n",
              "        [[ 0.10465914,  0.36649063]],\n",
              "\n",
              "        [[ 0.24383476,  0.60659504]],\n",
              "\n",
              "        [[-0.41063038,  0.3726624 ]],\n",
              "\n",
              "        [[-0.32078594,  0.05360319]]]], dtype=float32)>"
            ]
          },
          "execution_count": 400,
          "metadata": {},
          "output_type": "execute_result"
        }
      ],
      "source": [
        "kernels = modelo_dig.weights[0]\n",
        "kernel0 = kernels[:,:,:,0]\n",
        "\n",
        "kernels"
      ]
    },
    {
      "cell_type": "code",
      "execution_count": 401,
      "metadata": {},
      "outputs": [],
      "source": [
        "# base = "
      ]
    },
    {
      "cell_type": "code",
      "execution_count": 402,
      "metadata": {},
      "outputs": [],
      "source": [
        "NBITS = 128"
      ]
    },
    {
      "cell_type": "code",
      "execution_count": 403,
      "metadata": {},
      "outputs": [],
      "source": [
        "def tohex(val, nbits):\n",
        "    return hex((val + (1 << nbits)) % (1 << nbits))\n"
      ]
    },
    {
      "cell_type": "code",
      "execution_count": null,
      "metadata": {},
      "outputs": [],
      "source": []
    },
    {
      "cell_type": "code",
      "execution_count": 404,
      "metadata": {},
      "outputs": [],
      "source": [
        "def bias_txt(i,bias,string='bias'):\n",
        "    ker = open(f\"simulation/{string}{i}.txt\",'w')\n",
        "    kernel0_0 = np.array(bias)\n",
        "    base = 6\n",
        "    for j in kernel0_0:\n",
        "        # for j in i:\n",
        "            print((int(j*2**base)),end=' ')\n",
        "            strtmp2 = tohex(int(j*2**base),NBITS)+' '\n",
        "            ker.write(strtmp2[2:])\n",
        "            # print(f'{strtmp2}',end='  ')\n",
        "        # ker.write(\"\\n\")\n",
        "            # print('\\n')\n",
        "    ker.close()"
      ]
    },
    {
      "cell_type": "code",
      "execution_count": null,
      "metadata": {},
      "outputs": [],
      "source": []
    },
    {
      "cell_type": "code",
      "execution_count": 405,
      "metadata": {},
      "outputs": [
        {
          "data": {
            "text/plain": [
              "array([0.08459153, 0.06596182], dtype=float32)"
            ]
          },
          "execution_count": 405,
          "metadata": {},
          "output_type": "execute_result"
        }
      ],
      "source": [
        "bias = np.array(modelo_dig.weights[1])\n",
        "bias"
      ]
    },
    {
      "cell_type": "code",
      "execution_count": null,
      "metadata": {},
      "outputs": [],
      "source": []
    },
    {
      "cell_type": "code",
      "execution_count": 406,
      "metadata": {},
      "outputs": [
        {
          "name": "stdout",
          "output_type": "stream",
          "text": [
            "5 4 "
          ]
        }
      ],
      "source": [
        "bias_txt(0,modelo_dig.weights[1])"
      ]
    },
    {
      "cell_type": "code",
      "execution_count": 407,
      "metadata": {},
      "outputs": [],
      "source": [
        "cc = modelo_dig.weights[4]\n"
      ]
    },
    {
      "cell_type": "code",
      "execution_count": 408,
      "metadata": {},
      "outputs": [
        {
          "name": "stdout",
          "output_type": "stream",
          "text": [
            "5 4 "
          ]
        }
      ],
      "source": [
        "bias_txt(2,modelo_dig.weights[1])"
      ]
    },
    {
      "cell_type": "code",
      "execution_count": 409,
      "metadata": {},
      "outputs": [
        {
          "data": {
            "text/plain": [
              "<tf.Variable 'conv2d_2/bias:0' shape=(4,) dtype=float32, numpy=array([ 0.306023  ,  0.22849932, -0.03429479, -0.03208963], dtype=float32)>"
            ]
          },
          "execution_count": 409,
          "metadata": {},
          "output_type": "execute_result"
        }
      ],
      "source": [
        "modelo_dig.weights[3]"
      ]
    },
    {
      "cell_type": "code",
      "execution_count": 410,
      "metadata": {},
      "outputs": [
        {
          "name": "stdout",
          "output_type": "stream",
          "text": [
            "19 14 -2 -2 "
          ]
        }
      ],
      "source": [
        "bias_txt(2,modelo_dig.weights[3])\n"
      ]
    },
    {
      "cell_type": "code",
      "execution_count": 411,
      "metadata": {},
      "outputs": [],
      "source": [
        "def kernel_txt(i,j,kernel,string='Kernel'):\n",
        "    ker = open(f\"simulation/{string}{j}{i}.txt\",'w')\n",
        "    kernel0_0 = np.array(kernel)\n",
        "    base = 6\n",
        "    for i in kernel0_0:\n",
        "        for j in i:\n",
        "            print(int((j*2**base)),end=' ')\n",
        "            strtmp2 = tohex(int(j*2**base),NBITS)+' '\n",
        "            ker.write(strtmp2[2:])\n",
        "            # print(f'{strtmp2}',end='  ')\n",
        "        ker.write(\"\\n\")\n",
        "        print('\\n')\n",
        "    ker.close()"
      ]
    },
    {
      "cell_type": "code",
      "execution_count": 412,
      "metadata": {},
      "outputs": [
        {
          "data": {
            "text/plain": [
              "<tf.Tensor: shape=(5, 5), dtype=float32, numpy=\n",
              "array([[ 0.08475266,  0.45033455,  0.20711213,  0.11774347, -0.28549802],\n",
              "       [ 0.31692147,  0.06281384,  0.5881084 ,  0.2193528 ,  0.03949977],\n",
              "       [ 0.68635666,  0.61814624,  0.32533157,  0.40399504,  0.39017224],\n",
              "       [ 0.611674  ,  0.49153015,  0.778292  ,  0.630233  ,  0.5274251 ],\n",
              "       [ 0.42634276,  0.10465914,  0.24383476, -0.41063038, -0.32078594]],\n",
              "      dtype=float32)>"
            ]
          },
          "execution_count": 412,
          "metadata": {},
          "output_type": "execute_result"
        }
      ],
      "source": [
        "kernels[:,:,0,0]"
      ]
    },
    {
      "cell_type": "code",
      "execution_count": 413,
      "metadata": {},
      "outputs": [
        {
          "name": "stdout",
          "output_type": "stream",
          "text": [
            "5 28 13 7 -18 \n",
            "\n",
            "20 4 37 14 2 \n",
            "\n",
            "43 39 20 25 24 \n",
            "\n",
            "39 31 49 40 33 \n",
            "\n",
            "27 6 15 -26 -20 \n",
            "\n",
            "-------------------------------------------------------------------- 1\n",
            "-5 24 31 38 32 \n",
            "\n",
            "-15 -18 9 33 49 \n",
            "\n",
            "-19 -26 1 29 28 \n",
            "\n",
            "8 9 32 16 44 \n",
            "\n",
            "11 23 38 23 3 \n",
            "\n",
            "-------------------------------------------------------------------- 2\n"
          ]
        }
      ],
      "source": [
        "lim = np.array(kernels.shape)[::-1][0]\n",
        "for i in range(lim):\n",
        "    kernel_txt(i,0,kernels[:,:,0,i])\n",
        "    print(\"--------------------------------------------------------------------\",i+1)"
      ]
    },
    {
      "cell_type": "markdown",
      "metadata": {},
      "source": [
        "kernel0"
      ]
    },
    {
      "cell_type": "code",
      "execution_count": 414,
      "metadata": {},
      "outputs": [
        {
          "data": {
            "text/plain": [
              "<tf.Tensor: shape=(3, 3), dtype=float32, numpy=\n",
              "array([[ 0.18937016, -0.09749401,  0.15753552],\n",
              "       [ 0.19052488, -0.2841007 , -0.0434818 ],\n",
              "       [ 0.21938501,  0.2987245 ,  0.19110414]], dtype=float32)>"
            ]
          },
          "execution_count": 414,
          "metadata": {},
          "output_type": "execute_result"
        }
      ],
      "source": [
        "modelo_dig.weights[2][:,:,0,3]"
      ]
    },
    {
      "cell_type": "code",
      "execution_count": 415,
      "metadata": {},
      "outputs": [],
      "source": [
        "# kernel_txt(i,kernels2d_1[:,:,0,0],string=\"kernels2d_1_\")\n"
      ]
    },
    {
      "cell_type": "code",
      "execution_count": 416,
      "metadata": {},
      "outputs": [
        {
          "data": {
            "text/plain": [
              "(4, 2)"
            ]
          },
          "execution_count": 416,
          "metadata": {},
          "output_type": "execute_result"
        }
      ],
      "source": [
        "kernels2d_1 = modelo_dig.weights[2]\n",
        "# kernels2d_1[:,:,:,0]\n",
        "# kernel_txt(0,kernels2d_1[:,:,:,0])\n",
        "\n",
        "lims = np.array(kernels2d_1.shape)[::-1][0]\n",
        "limi = np.array(kernels2d_1.shape)[::-1][1]\n",
        "(lims,limi)"
      ]
    },
    {
      "cell_type": "code",
      "execution_count": 417,
      "metadata": {},
      "outputs": [
        {
          "data": {
            "text/plain": [
              "<tf.Variable 'conv2d_2/kernel:0' shape=(3, 3, 2, 4) dtype=float32, numpy=\n",
              "array([[[[ 0.45916486,  0.23778108, -0.0470986 ,  0.18937016],\n",
              "         [ 0.172498  ,  0.11757796, -0.07796647,  0.34203213]],\n",
              "\n",
              "        [[-0.35680747,  0.32365292,  0.04384774, -0.09749401],\n",
              "         [-0.5661963 , -0.08215383,  0.00954235,  0.41121835]],\n",
              "\n",
              "        [[-0.01788076,  0.07724161,  0.1768427 ,  0.15753552],\n",
              "         [ 0.28141296,  0.03454349, -0.27832192,  0.3836467 ]]],\n",
              "\n",
              "\n",
              "       [[[ 0.5635193 ,  0.3339399 , -0.1329428 ,  0.19052488],\n",
              "         [-0.32199904, -0.10289028, -0.02124786,  0.2472337 ]],\n",
              "\n",
              "        [[-0.2981748 ,  0.16074936, -0.25115585, -0.2841007 ],\n",
              "         [-0.7130251 ,  0.21837173, -0.1623529 ,  0.13113782]],\n",
              "\n",
              "        [[-0.16540289,  0.44088805, -0.2254515 , -0.0434818 ],\n",
              "         [ 0.2699127 ,  0.45296207, -0.27551308, -0.02417904]]],\n",
              "\n",
              "\n",
              "       [[[ 0.47566375, -0.59982646, -0.2627516 ,  0.21938501],\n",
              "         [-0.77387106, -0.1744466 , -0.17149052, -0.05769898]],\n",
              "\n",
              "        [[-0.75815433, -0.44004363,  0.1905849 ,  0.2987245 ],\n",
              "         [-0.1749561 , -0.49675623, -0.2841058 , -0.13697246]],\n",
              "\n",
              "        [[ 0.14259543, -0.2978434 ,  0.2111177 ,  0.19110414],\n",
              "         [ 0.5264162 , -0.274564  , -0.09819172, -0.01940774]]]],\n",
              "      dtype=float32)>"
            ]
          },
          "execution_count": 417,
          "metadata": {},
          "output_type": "execute_result"
        }
      ],
      "source": [
        "kernels2d_1"
      ]
    },
    {
      "cell_type": "code",
      "execution_count": 418,
      "metadata": {},
      "outputs": [
        {
          "data": {
            "text/plain": [
              "<tf.Tensor: shape=(3, 3), dtype=float32, numpy=\n",
              "array([[ 0.23778108,  0.32365292,  0.07724161],\n",
              "       [ 0.3339399 ,  0.16074936,  0.44088805],\n",
              "       [-0.59982646, -0.44004363, -0.2978434 ]], dtype=float32)>"
            ]
          },
          "execution_count": 418,
          "metadata": {},
          "output_type": "execute_result"
        }
      ],
      "source": [
        "kernels2d_1[:,:,j,i]"
      ]
    },
    {
      "cell_type": "code",
      "execution_count": 419,
      "metadata": {},
      "outputs": [
        {
          "name": "stdout",
          "output_type": "stream",
          "text": [
            "29 -22 -1 \n",
            "\n",
            "36 -19 -10 \n",
            "\n",
            "30 -48 9 \n",
            "\n",
            "------------------------------- 0\n",
            "11 -36 18 \n",
            "\n",
            "-20 -45 17 \n",
            "\n",
            "-49 -11 33 \n",
            "\n",
            "------------------------------- 0\n",
            "15 20 4 \n",
            "\n",
            "21 10 28 \n",
            "\n",
            "-38 -28 -19 \n",
            "\n",
            "------------------------------- 1\n",
            "7 -5 2 \n",
            "\n",
            "-6 13 28 \n",
            "\n",
            "-11 -31 -17 \n",
            "\n",
            "------------------------------- 1\n",
            "-3 2 11 \n",
            "\n",
            "-8 -16 -14 \n",
            "\n",
            "-16 12 13 \n",
            "\n",
            "------------------------------- 2\n",
            "-4 0 -17 \n",
            "\n",
            "-1 -10 -17 \n",
            "\n",
            "-10 -18 -6 \n",
            "\n",
            "------------------------------- 2\n",
            "12 -6 10 \n",
            "\n",
            "12 -18 -2 \n",
            "\n",
            "14 19 12 \n",
            "\n",
            "------------------------------- 3\n",
            "21 26 24 \n",
            "\n",
            "15 8 -1 \n",
            "\n",
            "-3 -8 -1 \n",
            "\n",
            "------------------------------- 3\n"
          ]
        }
      ],
      "source": [
        "kernels2d_1 = modelo_dig.weights[2]\n",
        "# kernels2d_1[:,:,:,0]\n",
        "# kernel_txt(0,kernels2d_1[:,:,:,0])\n",
        "\n",
        "lims = int(np.array(kernels2d_1.shape)[::-1][0])\n",
        "limi = int(np.array(kernels2d_1.shape)[::-1][1])\n",
        "\n",
        "for i in range(lims):\n",
        "    for j in range(limi):\n",
        "        kernel_txt(i,j,kernels2d_1[:,:,j,i],string=f\"kernels2d_{j}_\")\n",
        "        # print(kernels2d_1[:,:,j,i])\n",
        "\n",
        "        print(\"-------------------------------\",i)"
      ]
    },
    {
      "cell_type": "code",
      "execution_count": 420,
      "metadata": {},
      "outputs": [
        {
          "data": {
            "text/plain": [
              "<tf.Tensor: shape=(3, 3, 2), dtype=float32, numpy=\n",
              "array([[[ 0.18937016,  0.34203213],\n",
              "        [-0.09749401,  0.41121835],\n",
              "        [ 0.15753552,  0.3836467 ]],\n",
              "\n",
              "       [[ 0.19052488,  0.2472337 ],\n",
              "        [-0.2841007 ,  0.13113782],\n",
              "        [-0.0434818 , -0.02417904]],\n",
              "\n",
              "       [[ 0.21938501, -0.05769898],\n",
              "        [ 0.2987245 , -0.13697246],\n",
              "        [ 0.19110414, -0.01940774]]], dtype=float32)>"
            ]
          },
          "execution_count": 420,
          "metadata": {},
          "output_type": "execute_result"
        }
      ],
      "source": [
        "kernels2d_1[:,:,:,3]"
      ]
    },
    {
      "cell_type": "code",
      "execution_count": 421,
      "metadata": {},
      "outputs": [
        {
          "name": "stdout",
          "output_type": "stream",
          "text": [
            "-13 10 -8 -24 3 13 15 -11 8 7 \n",
            "\n",
            "-14 12 16 27 -30 -18 -51 30 -7 -43 \n",
            "\n",
            "-10 5 -14 4 4 0 0 -3 -7 12 \n",
            "\n",
            "6 -11 -6 -7 4 7 20 4 9 12 \n",
            "\n",
            "4 5 -4 -22 25 12 28 -30 6 -1 \n",
            "\n",
            "-11 -4 26 15 -31 -4 -40 21 -4 -10 \n",
            "\n",
            "10 9 1 13 14 -6 -13 4 3 -1 \n",
            "\n",
            "12 -4 0 8 -7 7 10 -25 6 5 \n",
            "\n",
            "-8 35 -22 -47 31 1 48 -51 -16 -30 \n",
            "\n",
            "1 -26 8 5 -46 2 -14 16 10 14 \n",
            "\n",
            "4 2 -12 0 15 -3 8 10 -1 -3 \n",
            "\n",
            "2 7 9 -6 -14 -3 7 -20 22 0 \n",
            "\n",
            "-31 40 -18 0 34 -22 24 -29 -28 -44 \n",
            "\n",
            "10 -6 4 -1 -25 13 0 4 -6 -9 \n",
            "\n",
            "5 14 -7 2 -8 0 -4 2 10 11 \n",
            "\n",
            "6 -6 -3 6 -14 0 17 -7 -7 -4 \n",
            "\n",
            "-20 1 -8 1 39 -2 8 -4 -4 -20 \n",
            "\n",
            "-20 3 -11 -6 -2 33 13 -11 3 -28 \n",
            "\n",
            "-13 11 13 1 -13 -14 11 9 -8 4 \n",
            "\n",
            "1 0 -7 0 10 -9 -9 -4 1 0 \n",
            "\n",
            "0 6 -3 -6 10 6 14 -14 -2 15 \n",
            "\n",
            "-36 -12 17 16 -6 -10 -55 27 -3 -21 \n",
            "\n",
            "0 13 13 -11 3 13 11 7 7 -6 \n",
            "\n",
            "9 -15 -8 -5 7 3 7 3 10 14 \n",
            "\n",
            "3 3 -14 -27 20 14 13 -20 -7 2 \n",
            "\n",
            "-7 -15 19 18 -12 16 -25 30 0 2 \n",
            "\n",
            "0 -12 -5 -7 -3 9 -6 8 6 -6 \n",
            "\n",
            "11 0 -17 -14 6 -2 -10 1 -2 0 \n",
            "\n",
            "6 17 -1 -13 10 -14 8 -14 -15 -16 \n",
            "\n",
            "9 -16 2 8 -19 8 -19 17 -18 0 \n",
            "\n",
            "-12 11 10 5 -9 8 2 7 11 9 \n",
            "\n",
            "5 -7 -5 3 -10 7 4 1 5 3 \n",
            "\n",
            "-6 22 14 19 18 -50 -19 2 -6 5 \n",
            "\n",
            "-4 -1 4 0 -33 11 0 4 4 0 \n",
            "\n",
            "-3 0 -5 0 1 10 7 -13 5 -7 \n",
            "\n",
            "0 3 2 19 0 -10 -15 -2 7 7 \n",
            "\n",
            "0 8 20 2 26 -46 -18 18 -5 6 \n",
            "\n",
            "-11 -7 -18 -9 -14 24 8 2 -5 -14 \n",
            "\n",
            "-6 9 3 -11 11 4 -10 0 -9 0 \n",
            "\n",
            "0 -13 -6 3 15 0 -26 13 5 -9 \n",
            "\n",
            "2 0 -14 -24 2 2 -3 3 6 -1 \n",
            "\n",
            "-19 -25 -2 10 3 16 -15 6 0 -3 \n",
            "\n",
            "10 -10 -2 -15 -1 0 -3 12 5 6 \n",
            "\n",
            "-1 -23 -1 -19 1 -17 -3 7 -1 2 \n",
            "\n",
            "20 0 -15 -20 -5 0 9 15 -7 -14 \n",
            "\n",
            "-12 -14 0 8 10 17 -22 11 -9 7 \n",
            "\n",
            "-6 -5 12 2 7 0 -6 0 -5 -8 \n",
            "\n",
            "-4 -3 2 2 9 5 16 -3 -3 -6 \n",
            "\n",
            "13 26 -4 -22 -5 -17 -2 22 -14 -12 \n",
            "\n",
            "-3 -8 -13 5 -1 16 -10 6 -7 0 \n",
            "\n",
            "0 -13 11 -9 -3 3 6 -13 2 11 \n",
            "\n",
            "8 13 -5 9 -15 3 5 3 9 2 \n",
            "\n",
            "15 13 7 -8 3 -30 -28 19 -27 17 \n",
            "\n",
            "-14 -4 -1 4 -7 2 -1 -1 -5 -4 \n",
            "\n",
            "-2 5 11 -7 -2 -10 -7 -5 13 -11 \n",
            "\n",
            "-11 13 -1 10 -6 -1 -6 -6 -4 1 \n",
            "\n",
            "20 7 14 0 0 -19 -9 0 -8 16 \n",
            "\n",
            "11 -13 15 0 2 16 11 6 14 -2 \n",
            "\n",
            "-2 -4 -7 9 -2 -1 -5 10 11 11 \n",
            "\n",
            "18 -13 3 -10 -8 -26 -9 9 3 19 \n",
            "\n",
            "12 -14 9 -7 1 -13 -6 -4 2 8 \n",
            "\n",
            "0 -11 4 0 10 9 -9 -7 -19 5 \n",
            "\n",
            "5 -7 -14 -8 11 -14 -12 12 -2 -8 \n",
            "\n",
            "18 -11 10 -15 15 -14 0 -2 5 -8 \n",
            "\n",
            "5 15 17 -18 -4 -11 8 -9 21 -19 \n",
            "\n",
            "-14 -24 -10 16 -2 14 -1 -3 -11 12 \n",
            "\n",
            "-15 -3 10 13 -4 10 3 5 12 -1 \n",
            "\n",
            "0 -4 -3 -28 -4 -17 0 3 14 -9 \n",
            "\n",
            "11 23 -5 -19 -6 -7 -7 28 -13 -13 \n",
            "\n",
            "-2 1 3 12 1 16 -3 -8 -9 -13 \n",
            "\n",
            "7 -15 0 7 9 -7 -14 -13 11 9 \n",
            "\n",
            "-21 7 10 -8 10 -7 7 -4 16 -6 \n",
            "\n",
            "14 0 -21 4 -10 14 -13 9 -12 9 \n",
            "\n",
            "-9 9 13 8 9 3 4 14 -1 5 \n",
            "\n",
            "1 1 -9 -11 -13 -8 13 11 6 12 \n",
            "\n",
            "-20 10 0 -6 4 -8 7 15 -6 20 \n",
            "\n",
            "5 5 -9 7 3 17 1 -6 -1 19 \n",
            "\n",
            "19 -28 6 -9 0 -10 1 12 -16 -18 \n",
            "\n",
            "-5 12 6 -1 2 13 -4 -1 11 3 \n",
            "\n",
            "23 -12 -10 -5 5 -5 1 4 -15 5 \n",
            "\n",
            "4 -7 10 -8 -9 7 11 6 19 17 \n",
            "\n",
            "-4 -14 -4 26 -4 10 -10 -19 -7 3 \n",
            "\n",
            "7 12 6 9 6 8 -13 -9 -7 6 \n",
            "\n",
            "0 -6 8 7 -15 9 -7 -21 -11 -7 \n",
            "\n",
            "-24 16 -2 -49 -4 -34 -24 21 -4 18 \n",
            "\n",
            "3 -6 0 -7 -5 5 1 -10 -7 0 \n",
            "\n",
            "12 9 5 -2 5 10 -13 -8 11 -11 \n",
            "\n",
            "1 -4 14 3 -21 -7 9 -14 4 -19 \n",
            "\n",
            "-36 19 -36 -32 22 -3 -46 43 -25 38 \n",
            "\n",
            "-18 6 0 -13 0 -3 2 -11 -15 -7 \n",
            "\n",
            "6 -9 2 -11 3 -15 0 -1 3 10 \n",
            "\n",
            "-3 -7 -2 6 -2 6 -6 -3 -8 -15 \n",
            "\n",
            "-15 6 -38 13 17 16 -29 18 -1 27 \n",
            "\n",
            "9 -6 10 4 1 4 4 4 1 -2 \n",
            "\n",
            "10 11 -10 7 -9 -4 9 6 4 -11 \n",
            "\n",
            "1 0 1 8 1 14 11 -1 0 -8 \n",
            "\n",
            "-3 3 -20 20 0 14 -16 10 20 10 \n",
            "\n",
            "5 -15 6 5 -10 0 15 -6 0 0 \n",
            "\n",
            "12 4 16 13 6 -7 10 6 -1 -1 \n",
            "\n",
            "-11 -12 8 9 -1 7 -6 -30 5 -7 \n",
            "\n"
          ]
        }
      ],
      "source": [
        "kernel_txt(0,0,cc,string=\"danse.txt\")"
      ]
    },
    {
      "cell_type": "code",
      "execution_count": 422,
      "metadata": {},
      "outputs": [
        {
          "ename": "FileNotFoundError",
          "evalue": "[Errno 2] No such file or directory: './simulation/IxKernel.txt'",
          "output_type": "error",
          "traceback": [
            "\u001b[31m---------------------------------------------------------------------------\u001b[39m",
            "\u001b[31mFileNotFoundError\u001b[39m                         Traceback (most recent call last)",
            "\u001b[36mCell\u001b[39m\u001b[36m \u001b[39m\u001b[32mIn[422]\u001b[39m\u001b[32m, line 1\u001b[39m\n\u001b[32m----> \u001b[39m\u001b[32m1\u001b[39m out = \u001b[38;5;28;43mopen\u001b[39;49m\u001b[43m(\u001b[49m\u001b[33;43m\"\u001b[39;49m\u001b[33;43m./simulation/IxKernel.txt\u001b[39;49m\u001b[33;43m\"\u001b[39;49m\u001b[43m,\u001b[49m\u001b[33;43m\"\u001b[39;49m\u001b[33;43mr\u001b[39;49m\u001b[33;43m\"\u001b[39;49m\u001b[43m)\u001b[49m\n\u001b[32m      3\u001b[39m klin1 = []\n\u001b[32m      4\u001b[39m m1=[]\n",
            "\u001b[36mFile \u001b[39m\u001b[32m~/2CC/ConvolutionMatrixVerilog/.venv/lib64/python3.11/site-packages/IPython/core/interactiveshell.py:326\u001b[39m, in \u001b[36m_modified_open\u001b[39m\u001b[34m(file, *args, **kwargs)\u001b[39m\n\u001b[32m    319\u001b[39m \u001b[38;5;28;01mif\u001b[39;00m file \u001b[38;5;129;01min\u001b[39;00m {\u001b[32m0\u001b[39m, \u001b[32m1\u001b[39m, \u001b[32m2\u001b[39m}:\n\u001b[32m    320\u001b[39m     \u001b[38;5;28;01mraise\u001b[39;00m \u001b[38;5;167;01mValueError\u001b[39;00m(\n\u001b[32m    321\u001b[39m         \u001b[33mf\u001b[39m\u001b[33m\"\u001b[39m\u001b[33mIPython won\u001b[39m\u001b[33m'\u001b[39m\u001b[33mt let you open fd=\u001b[39m\u001b[38;5;132;01m{\u001b[39;00mfile\u001b[38;5;132;01m}\u001b[39;00m\u001b[33m by default \u001b[39m\u001b[33m\"\u001b[39m\n\u001b[32m    322\u001b[39m         \u001b[33m\"\u001b[39m\u001b[33mas it is likely to crash IPython. If you know what you are doing, \u001b[39m\u001b[33m\"\u001b[39m\n\u001b[32m    323\u001b[39m         \u001b[33m\"\u001b[39m\u001b[33myou can use builtins\u001b[39m\u001b[33m'\u001b[39m\u001b[33m open.\u001b[39m\u001b[33m\"\u001b[39m\n\u001b[32m    324\u001b[39m     )\n\u001b[32m--> \u001b[39m\u001b[32m326\u001b[39m \u001b[38;5;28;01mreturn\u001b[39;00m \u001b[43mio_open\u001b[49m\u001b[43m(\u001b[49m\u001b[43mfile\u001b[49m\u001b[43m,\u001b[49m\u001b[43m \u001b[49m\u001b[43m*\u001b[49m\u001b[43margs\u001b[49m\u001b[43m,\u001b[49m\u001b[43m \u001b[49m\u001b[43m*\u001b[49m\u001b[43m*\u001b[49m\u001b[43mkwargs\u001b[49m\u001b[43m)\u001b[49m\n",
            "\u001b[31mFileNotFoundError\u001b[39m: [Errno 2] No such file or directory: './simulation/IxKernel.txt'"
          ]
        }
      ],
      "source": [
        "out = open(\"./simulation/IxKernel.txt\",\"r\")\n",
        "\n",
        "klin1 = []\n",
        "m1=[]\n",
        "k= out.readlines()\n",
        "for i in k:\n",
        "    m1.append(list(map(concat,i.split())))\n"
      ]
    },
    {
      "cell_type": "code",
      "execution_count": null,
      "metadata": {},
      "outputs": [
        {
          "data": {
            "image/png": "[encoded data removed]",
            "text/plain": [
              "<Figure size 3000x200 with 2 Axes>"
            ]
          },
          "metadata": {},
          "output_type": "display_data"
        }
      ],
      "source": [
        "array_out =[]\n",
        "\n",
        "for i in range(2):\n",
        "    array_out.append(open(f\"./simulation/maxIxKernelPooling{i}.txt\",\"r\"))\n",
        "klin2 = []\n",
        "plt.figure(figsize=(30,2))\n",
        "for ii in range(2):\n",
        "    k2 = array_out[ii].readlines()\n",
        "    m2=[]\n",
        "    for i in k2:\n",
        "        m2.append(list(map(concat,i.split())))\n",
        "    plt.subplot(1,2,ii+1)\n",
        "    plt.imshow(m2,cmap=\"gray\")\n",
        "# plt.imshow(m2)\n",
        "\n",
        "for i in range(2):\n",
        "    array_out[i].close()\n"
      ]
    },
    {
      "cell_type": "code",
      "execution_count": null,
      "metadata": {},
      "outputs": [
        {
          "data": {
            "text/plain": [
              "[[[0], [0], [0], [0], [0], [0], [0], [0], [0], [0], [0], [0]],\n",
              " [[0], [27], [47], [36], [12], [1], [0], [0], [0], [0], [0], [0]],\n",
              " [[0],\n",
              "  [58],\n",
              "  [114],\n",
              "  [144],\n",
              "  [167],\n",
              "  [161],\n",
              "  [156],\n",
              "  [156],\n",
              "  [156],\n",
              "  [101],\n",
              "  [19],\n",
              "  [0]],\n",
              " [[0], [0], [0], [0], [35], [59], [66], [68], [141], [120], [46], [0]],\n",
              " [[0], [1], [0], [0], [0], [0], [0], [0], [0], [32], [20], [0]],\n",
              " [[0], [0], [0], [0], [1], [0], [22], [26], [0], [19], [4], [0]],\n",
              " [[0], [0], [0], [0], [0], [9], [13], [0], [14], [7], [0], [0]],\n",
              " [[0], [0], [0], [0], [0], [41], [34], [0], [20], [0], [0], [0]],\n",
              " [[0], [0], [0], [0], [23], [42], [4], [15], [12], [0], [0], [0]],\n",
              " [[0], [0], [0], [13], [34], [13], [0], [4], [0], [0], [0], [0]],\n",
              " [[0], [0], [0], [24], [33], [20], [34], [4], [0], [0], [0], [0]],\n",
              " [[0], [0], [0], [2], [2], [21], [48], [2], [0], [0], [0], [0]]]"
            ]
          },
          "execution_count": 191,
          "metadata": {},
          "output_type": "execute_result"
        }
      ],
      "source": [
        "m2"
      ]
    },
    {
      "cell_type": "code",
      "execution_count": null,
      "metadata": {},
      "outputs": [
        {
          "data": {
            "text/plain": [
              "<matplotlib.image.AxesImage at 0x7fd170349450>"
            ]
          },
          "execution_count": 192,
          "metadata": {},
          "output_type": "execute_result"
        },
        {
          "data": {
            "image/png": "[encoded data removed]",
            "text/plain": [
              "<Figure size 640x480 with 1 Axes>"
            ]
          },
          "metadata": {},
          "output_type": "display_data"
        }
      ],
      "source": [
        "out2 = open(\"./simulation/maxIxKernelPooling4.txt\",\"r\")\n",
        "klin2 = []\n",
        "m2=[]\n",
        "k2 = out2.readlines()\n",
        "for i in k2:\n",
        "    m2.append(list(map(concat,i.split())))\n",
        "plt.imshow(m2,cmap=\"gray\")\n"
      ]
    },
    {
      "cell_type": "markdown",
      "metadata": {},
      "source": []
    },
    {
      "cell_type": "code",
      "execution_count": null,
      "metadata": {},
      "outputs": [
        {
          "data": {
            "text/plain": [
              "array([[  0,   0,   0,   0,   0,   0,   0,   0,   0,   0,   0,   0,   0,\n",
              "          0,   0,   0,   0,   0,   0,   0,   0,   0,   0,   0,   0,   0,\n",
              "          0,   0],\n",
              "       [  0,   0,   0,   0,   0,   0,   0,   0,   0,   0,   0,   0,   0,\n",
              "          0,   0,   0,   0,   0,   0,   0,   0,   0,   0,   0,   0,   0,\n",
              "          0,   0],\n",
              "       [  0,   0,   0,   0,   0,   0,   0,   0,   0,   0,   0,   0,   0,\n",
              "          0,   0,   0,   0,   0,   0,   0,   0,   0,   0,   0,   0,   0,\n",
              "          0,   0],\n",
              "       [  0,   0,   0,   0,   0,   0,   0,   0,   0,   0,   0,   0,   0,\n",
              "          0,   0,   0,   0,   0,   0,   0,   0,   0,   0,   0,   0,   0,\n",
              "          0,   0],\n",
              "       [  0,   0,   0,   0,   0,   0,   0,   0,   0,   0,   0,   0,   0,\n",
              "          0,   0,   0,   0,   0,   0,   0,   0,   0,   0,   0,   0,   0,\n",
              "          0,   0],\n",
              "       [  0,   0,   0,   0,   0,   0,   0,   0,   0,   0,   0,   0,   0,\n",
              "          0,   0,   0,   0,   0,   0,   0,   0,   0,   0,   0,   0,   0,\n",
              "          0,   0],\n",
              "       [  0,   0,   0,   0,   0,   0,   0,   0,   0,   0,   0,   0,   0,\n",
              "          0,   0,   0,   0,   0,   0,   0,   0,   0,   0,   0,   0,   0,\n",
              "          0,   0],\n",
              "       [  0,   0,   0,   0,   0,   0,  84, 185, 159, 151,  60,  36,   0,\n",
              "          0,   0,   0,   0,   0,   0,   0,   0,   0,   0,   0,   0,   0,\n",
              "          0,   0],\n",
              "       [  0,   0,   0,   0,   0,   0, 222, 254, 254, 254, 254, 241, 198,\n",
              "        198, 198, 198, 198, 198, 198, 198, 170,  52,   0,   0,   0,   0,\n",
              "          0,   0],\n",
              "       [  0,   0,   0,   0,   0,   0,  67, 114,  72, 114, 163, 227, 254,\n",
              "        225, 254, 254, 254, 250, 229, 254, 254, 140,   0,   0,   0,   0,\n",
              "          0,   0],\n",
              "       [  0,   0,   0,   0,   0,   0,   0,   0,   0,   0,   0,  17,  66,\n",
              "         14,  67,  67,  67,  59,  21, 236, 254, 106,   0,   0,   0,   0,\n",
              "          0,   0],\n",
              "       [  0,   0,   0,   0,   0,   0,   0,   0,   0,   0,   0,   0,   0,\n",
              "          0,   0,   0,   0,   0,  83, 253, 209,  18,   0,   0,   0,   0,\n",
              "          0,   0],\n",
              "       [  0,   0,   0,   0,   0,   0,   0,   0,   0,   0,   0,   0,   0,\n",
              "          0,   0,   0,   0,  22, 233, 255,  83,   0,   0,   0,   0,   0,\n",
              "          0,   0],\n",
              "       [  0,   0,   0,   0,   0,   0,   0,   0,   0,   0,   0,   0,   0,\n",
              "          0,   0,   0,   0, 129, 254, 238,  44,   0,   0,   0,   0,   0,\n",
              "          0,   0],\n",
              "       [  0,   0,   0,   0,   0,   0,   0,   0,   0,   0,   0,   0,   0,\n",
              "          0,   0,   0,  59, 249, 254,  62,   0,   0,   0,   0,   0,   0,\n",
              "          0,   0],\n",
              "       [  0,   0,   0,   0,   0,   0,   0,   0,   0,   0,   0,   0,   0,\n",
              "          0,   0,   0, 133, 254, 187,   5,   0,   0,   0,   0,   0,   0,\n",
              "          0,   0],\n",
              "       [  0,   0,   0,   0,   0,   0,   0,   0,   0,   0,   0,   0,   0,\n",
              "          0,   0,   9, 205, 248,  58,   0,   0,   0,   0,   0,   0,   0,\n",
              "          0,   0],\n",
              "       [  0,   0,   0,   0,   0,   0,   0,   0,   0,   0,   0,   0,   0,\n",
              "          0,   0, 126, 254, 182,   0,   0,   0,   0,   0,   0,   0,   0,\n",
              "          0,   0],\n",
              "       [  0,   0,   0,   0,   0,   0,   0,   0,   0,   0,   0,   0,   0,\n",
              "          0,  75, 251, 240,  57,   0,   0,   0,   0,   0,   0,   0,   0,\n",
              "          0,   0],\n",
              "       [  0,   0,   0,   0,   0,   0,   0,   0,   0,   0,   0,   0,   0,\n",
              "         19, 221, 254, 166,   0,   0,   0,   0,   0,   0,   0,   0,   0,\n",
              "          0,   0],\n",
              "       [  0,   0,   0,   0,   0,   0,   0,   0,   0,   0,   0,   0,   3,\n",
              "        203, 254, 219,  35,   0,   0,   0,   0,   0,   0,   0,   0,   0,\n",
              "          0,   0],\n",
              "       [  0,   0,   0,   0,   0,   0,   0,   0,   0,   0,   0,   0,  38,\n",
              "        254, 254,  77,   0,   0,   0,   0,   0,   0,   0,   0,   0,   0,\n",
              "          0,   0],\n",
              "       [  0,   0,   0,   0,   0,   0,   0,   0,   0,   0,   0,  31, 224,\n",
              "        254, 115,   1,   0,   0,   0,   0,   0,   0,   0,   0,   0,   0,\n",
              "          0,   0],\n",
              "       [  0,   0,   0,   0,   0,   0,   0,   0,   0,   0,   0, 133, 254,\n",
              "        254,  52,   0,   0,   0,   0,   0,   0,   0,   0,   0,   0,   0,\n",
              "          0,   0],\n",
              "       [  0,   0,   0,   0,   0,   0,   0,   0,   0,   0,  61, 242, 254,\n",
              "        254,  52,   0,   0,   0,   0,   0,   0,   0,   0,   0,   0,   0,\n",
              "          0,   0],\n",
              "       [  0,   0,   0,   0,   0,   0,   0,   0,   0,   0, 121, 254, 254,\n",
              "        219,  40,   0,   0,   0,   0,   0,   0,   0,   0,   0,   0,   0,\n",
              "          0,   0],\n",
              "       [  0,   0,   0,   0,   0,   0,   0,   0,   0,   0, 121, 254, 207,\n",
              "         18,   0,   0,   0,   0,   0,   0,   0,   0,   0,   0,   0,   0,\n",
              "          0,   0],\n",
              "       [  0,   0,   0,   0,   0,   0,   0,   0,   0,   0,   0,   0,   0,\n",
              "          0,   0,   0,   0,   0,   0,   0,   0,   0,   0,   0,   0,   0,\n",
              "          0,   0]], dtype=uint8)"
            ]
          },
          "execution_count": 201,
          "metadata": {},
          "output_type": "execute_result"
        }
      ],
      "source": [
        "array"
      ]
    },
    {
      "cell_type": "code",
      "execution_count": null,
      "metadata": {},
      "outputs": [
        {
          "ename": "NameError",
          "evalue": "name 'm1' is not defined",
          "output_type": "error",
          "traceback": [
            "\u001b[31m---------------------------------------------------------------------------\u001b[39m",
            "\u001b[31mNameError\u001b[39m                                 Traceback (most recent call last)",
            "\u001b[36mCell\u001b[39m\u001b[36m \u001b[39m\u001b[32mIn[253]\u001b[39m\u001b[32m, line 5\u001b[39m\n\u001b[32m      3\u001b[39m plt.imshow(array,cmap=\u001b[33m\"\u001b[39m\u001b[33mgray\u001b[39m\u001b[33m\"\u001b[39m)\n\u001b[32m      4\u001b[39m plt.subplot(\u001b[32m1\u001b[39m,\u001b[32m3\u001b[39m,\u001b[32m2\u001b[39m)\n\u001b[32m----> \u001b[39m\u001b[32m5\u001b[39m plt.imshow(\u001b[43mm1\u001b[49m,cmap=\u001b[33m\"\u001b[39m\u001b[33mgray\u001b[39m\u001b[33m\"\u001b[39m)\n\u001b[32m      6\u001b[39m plt.subplot(\u001b[32m1\u001b[39m,\u001b[32m3\u001b[39m,\u001b[32m3\u001b[39m)\n\u001b[32m      7\u001b[39m plt.imshow(m2,cmap=\u001b[33m\"\u001b[39m\u001b[33mgray\u001b[39m\u001b[33m\"\u001b[39m)\n",
            "\u001b[31mNameError\u001b[39m: name 'm1' is not defined"
          ]
        },
        {
          "data": {
            "image/png": "[encoded data removed]",
            "text/plain": [
              "<Figure size 3000x800 with 2 Axes>"
            ]
          },
          "metadata": {},
          "output_type": "display_data"
        }
      ],
      "source": [
        "plt.figure(figsize=(30,8))\n",
        "plt.subplot(1,3,1)\n",
        "plt.imshow(array,cmap=\"gray\")\n",
        "plt.subplot(1,3,2)\n",
        "plt.imshow(m1,cmap=\"gray\")\n",
        "plt.subplot(1,3,3)\n",
        "plt.imshow(m2,cmap=\"gray\")\n",
        "plt.show()\n"
      ]
    },
    {
      "cell_type": "code",
      "execution_count": null,
      "metadata": {},
      "outputs": [
        {
          "data": {
            "text/plain": [
              "[[[0], [0], [0], [0], [0], [0], [0], [0], [0], [0], [0], [0]],\n",
              " [[0], [8], [18], [16], [5], [0], [0], [0], [0], [0], [0], [0]],\n",
              " [[0], [32], [46], [53], [50], [60], [62], [62], [62], [35], [6], [0]],\n",
              " [[0], [57], [57], [0], [0], [5], [10], [9], [23], [4], [0], [0]],\n",
              " [[0], [59], [51], [19], [32], [1], [0], [59], [56], [0], [0], [0]],\n",
              " [[0], [0], [0], [0], [8], [6], [23], [110], [87], [0], [0], [0]],\n",
              " [[0], [0], [0], [0], [0], [2], [96], [108], [0], [0], [0], [0]],\n",
              " [[0], [0], [0], [0], [0], [29], [115], [89], [0], [0], [0], [0]],\n",
              " [[0], [0], [0], [0], [6], [96], [104], [0], [0], [0], [0], [0]],\n",
              " [[0], [0], [0], [3], [82], [106], [61], [0], [0], [0], [0], [0]],\n",
              " [[0], [0], [0], [21], [113], [117], [0], [0], [0], [0], [0], [0]],\n",
              " [[0], [0], [0], [64], [118], [23], [0], [0], [0], [0], [0], [0]]]"
            ]
          },
          "execution_count": 194,
          "metadata": {},
          "output_type": "execute_result"
        }
      ],
      "source": [
        "m2"
      ]
    },
    {
      "cell_type": "code",
      "execution_count": null,
      "metadata": {},
      "outputs": [],
      "source": []
    },
    {
      "cell_type": "code",
      "execution_count": null,
      "metadata": {},
      "outputs": [],
      "source": [
        "plt.imsave(\"7.png\",array,cmap=\"gray\")"
      ]
    },
    {
      "cell_type": "code",
      "execution_count": null,
      "metadata": {},
      "outputs": [],
      "source": [
        "plt.imsave()"
      ]
    },
    {
      "cell_type": "code",
      "execution_count": null,
      "metadata": {},
      "outputs": [
        {
          "ename": "ValueError",
          "evalue": "Expected image array to have rank 3 (single image). Got array with shape: (28, 28)",
          "output_type": "error",
          "traceback": [
            "\u001b[31m---------------------------------------------------------------------------\u001b[39m",
            "\u001b[31mValueError\u001b[39m                                Traceback (most recent call last)",
            "\u001b[36mCell\u001b[39m\u001b[36m \u001b[39m\u001b[32mIn[574]\u001b[39m\u001b[32m, line 1\u001b[39m\n\u001b[32m----> \u001b[39m\u001b[32m1\u001b[39m \u001b[43mimg\u001b[49m\u001b[43m.\u001b[49m\u001b[43msave_img\u001b[49m\u001b[43m(\u001b[49m\u001b[33;43m\"\u001b[39;49m\u001b[33;43m./images/preprocessamento.jpg\u001b[39;49m\u001b[33;43m\"\u001b[39;49m\u001b[43m,\u001b[49m\u001b[43marray\u001b[49m\u001b[43m)\u001b[49m\n",
            "\u001b[36mFile \u001b[39m\u001b[32m~/2CC/ConvolutionMatrixVerilog/.venv/lib64/python3.11/site-packages/keras_preprocessing/image/utils.py:71\u001b[39m, in \u001b[36msave_img\u001b[39m\u001b[34m(path, x, data_format, file_format, scale, **kwargs)\u001b[39m\n\u001b[32m     51\u001b[39m \u001b[38;5;28;01mdef\u001b[39;00m\u001b[38;5;250m \u001b[39m\u001b[34msave_img\u001b[39m(path,\n\u001b[32m     52\u001b[39m              x,\n\u001b[32m     53\u001b[39m              data_format=\u001b[33m'\u001b[39m\u001b[33mchannels_last\u001b[39m\u001b[33m'\u001b[39m,\n\u001b[32m     54\u001b[39m              file_format=\u001b[38;5;28;01mNone\u001b[39;00m,\n\u001b[32m     55\u001b[39m              scale=\u001b[38;5;28;01mTrue\u001b[39;00m,\n\u001b[32m     56\u001b[39m              **kwargs):\n\u001b[32m     57\u001b[39m \u001b[38;5;250m    \u001b[39m\u001b[33;03m\"\"\"Saves an image stored as a Numpy array to a path or file object.\u001b[39;00m\n\u001b[32m     58\u001b[39m \n\u001b[32m     59\u001b[39m \u001b[33;03m    # Arguments\u001b[39;00m\n\u001b[32m   (...)\u001b[39m\u001b[32m     69\u001b[39m \u001b[33;03m        **kwargs: Additional keyword arguments passed to `PIL.Image.save()`.\u001b[39;00m\n\u001b[32m     70\u001b[39m \u001b[33;03m    \"\"\"\u001b[39;00m\n\u001b[32m---> \u001b[39m\u001b[32m71\u001b[39m     img = \u001b[43marray_to_img\u001b[49m\u001b[43m(\u001b[49m\u001b[43mx\u001b[49m\u001b[43m,\u001b[49m\u001b[43m \u001b[49m\u001b[43mdata_format\u001b[49m\u001b[43m=\u001b[49m\u001b[43mdata_format\u001b[49m\u001b[43m,\u001b[49m\u001b[43m \u001b[49m\u001b[43mscale\u001b[49m\u001b[43m=\u001b[49m\u001b[43mscale\u001b[49m\u001b[43m)\u001b[49m\n\u001b[32m     72\u001b[39m     \u001b[38;5;28;01mif\u001b[39;00m img.mode == \u001b[33m'\u001b[39m\u001b[33mRGBA\u001b[39m\u001b[33m'\u001b[39m \u001b[38;5;129;01mand\u001b[39;00m (file_format == \u001b[33m'\u001b[39m\u001b[33mjpg\u001b[39m\u001b[33m'\u001b[39m \u001b[38;5;129;01mor\u001b[39;00m file_format == \u001b[33m'\u001b[39m\u001b[33mjpeg\u001b[39m\u001b[33m'\u001b[39m):\n\u001b[32m     73\u001b[39m         warnings.warn(\u001b[33m'\u001b[39m\u001b[33mThe JPG format does not support \u001b[39m\u001b[33m'\u001b[39m\n\u001b[32m     74\u001b[39m                       \u001b[33m'\u001b[39m\u001b[33mRGBA images, converting to RGB.\u001b[39m\u001b[33m'\u001b[39m)\n",
            "\u001b[36mFile \u001b[39m\u001b[32m~/2CC/ConvolutionMatrixVerilog/.venv/lib64/python3.11/site-packages/keras_preprocessing/image/utils.py:256\u001b[39m, in \u001b[36marray_to_img\u001b[39m\u001b[34m(x, data_format, scale, dtype)\u001b[39m\n\u001b[32m    254\u001b[39m x = np.asarray(x, dtype=dtype)\n\u001b[32m    255\u001b[39m \u001b[38;5;28;01mif\u001b[39;00m x.ndim != \u001b[32m3\u001b[39m:\n\u001b[32m--> \u001b[39m\u001b[32m256\u001b[39m     \u001b[38;5;28;01mraise\u001b[39;00m \u001b[38;5;167;01mValueError\u001b[39;00m(\u001b[33m'\u001b[39m\u001b[33mExpected image array to have rank 3 (single image). \u001b[39m\u001b[33m'\u001b[39m\n\u001b[32m    257\u001b[39m                      \u001b[33m'\u001b[39m\u001b[33mGot array with shape: \u001b[39m\u001b[38;5;132;01m%s\u001b[39;00m\u001b[33m'\u001b[39m % (x.shape,))\n\u001b[32m    259\u001b[39m \u001b[38;5;28;01mif\u001b[39;00m data_format \u001b[38;5;129;01mnot\u001b[39;00m \u001b[38;5;129;01min\u001b[39;00m {\u001b[33m'\u001b[39m\u001b[33mchannels_first\u001b[39m\u001b[33m'\u001b[39m, \u001b[33m'\u001b[39m\u001b[33mchannels_last\u001b[39m\u001b[33m'\u001b[39m}:\n\u001b[32m    260\u001b[39m     \u001b[38;5;28;01mraise\u001b[39;00m \u001b[38;5;167;01mValueError\u001b[39;00m(\u001b[33m'\u001b[39m\u001b[33mInvalid data_format: \u001b[39m\u001b[38;5;132;01m%s\u001b[39;00m\u001b[33m'\u001b[39m % data_format)\n",
            "\u001b[31mValueError\u001b[39m: Expected image array to have rank 3 (single image). Got array with shape: (28, 28)"
          ]
        }
      ],
      "source": [
        "img.save_img(\"./images/preprocessamento.jpg\",array)\n"
      ]
    },
    {
      "cell_type": "code",
      "execution_count": null,
      "metadata": {},
      "outputs": [
        {
          "name": "stderr",
          "output_type": "stream",
          "text": [
            "rm: cannot remove './images/preprocessamento.jpg': No such file or directory\n",
            "rm: cannot remove './images/posprocessamento.jpg': No such file or directory\n"
          ]
        },
        {
          "ename": "ValueError",
          "evalue": "Expected image array to have rank 3 (single image). Got array with shape: (28, 28)",
          "output_type": "error",
          "traceback": [
            "\u001b[31m---------------------------------------------------------------------------\u001b[39m",
            "\u001b[31mValueError\u001b[39m                                Traceback (most recent call last)",
            "\u001b[36mCell\u001b[39m\u001b[36m \u001b[39m\u001b[32mIn[195]\u001b[39m\u001b[32m, line 4\u001b[39m\n\u001b[32m      1\u001b[39m os.system(\u001b[33m\"\u001b[39m\u001b[33mrm ./images/preprocessamento.jpg\u001b[39m\u001b[33m\"\u001b[39m)\n\u001b[32m      2\u001b[39m os.system(\u001b[33m\"\u001b[39m\u001b[33mrm ./images/posprocessamento.jpg\u001b[39m\u001b[33m\"\u001b[39m)\n\u001b[32m----> \u001b[39m\u001b[32m4\u001b[39m \u001b[43mimg\u001b[49m\u001b[43m.\u001b[49m\u001b[43msave_img\u001b[49m\u001b[43m(\u001b[49m\u001b[33;43m\"\u001b[39;49m\u001b[33;43m./images/preprocessamento.jpg\u001b[39;49m\u001b[33;43m\"\u001b[39;49m\u001b[43m,\u001b[49m\u001b[43marray\u001b[49m\u001b[43m)\u001b[49m\n\u001b[32m      5\u001b[39m img.save_img(\u001b[33m\"\u001b[39m\u001b[33m./images/posprocessamento.jpg\u001b[39m\u001b[33m\"\u001b[39m,m1)\n\u001b[32m      6\u001b[39m img.save_img(\u001b[33m\"\u001b[39m\u001b[33m./images/maxpoolingposprocessamento.jpg\u001b[39m\u001b[33m\"\u001b[39m,m2)\n",
            "\u001b[36mFile \u001b[39m\u001b[32m~/2CC/ConvolutionMatrixVerilog/.venv/lib64/python3.11/site-packages/keras_preprocessing/image/utils.py:71\u001b[39m, in \u001b[36msave_img\u001b[39m\u001b[34m(path, x, data_format, file_format, scale, **kwargs)\u001b[39m\n\u001b[32m     51\u001b[39m \u001b[38;5;28;01mdef\u001b[39;00m\u001b[38;5;250m \u001b[39m\u001b[34msave_img\u001b[39m(path,\n\u001b[32m     52\u001b[39m              x,\n\u001b[32m     53\u001b[39m              data_format=\u001b[33m'\u001b[39m\u001b[33mchannels_last\u001b[39m\u001b[33m'\u001b[39m,\n\u001b[32m     54\u001b[39m              file_format=\u001b[38;5;28;01mNone\u001b[39;00m,\n\u001b[32m     55\u001b[39m              scale=\u001b[38;5;28;01mTrue\u001b[39;00m,\n\u001b[32m     56\u001b[39m              **kwargs):\n\u001b[32m     57\u001b[39m \u001b[38;5;250m    \u001b[39m\u001b[33;03m\"\"\"Saves an image stored as a Numpy array to a path or file object.\u001b[39;00m\n\u001b[32m     58\u001b[39m \n\u001b[32m     59\u001b[39m \u001b[33;03m    # Arguments\u001b[39;00m\n\u001b[32m   (...)\u001b[39m\u001b[32m     69\u001b[39m \u001b[33;03m        **kwargs: Additional keyword arguments passed to `PIL.Image.save()`.\u001b[39;00m\n\u001b[32m     70\u001b[39m \u001b[33;03m    \"\"\"\u001b[39;00m\n\u001b[32m---> \u001b[39m\u001b[32m71\u001b[39m     img = \u001b[43marray_to_img\u001b[49m\u001b[43m(\u001b[49m\u001b[43mx\u001b[49m\u001b[43m,\u001b[49m\u001b[43m \u001b[49m\u001b[43mdata_format\u001b[49m\u001b[43m=\u001b[49m\u001b[43mdata_format\u001b[49m\u001b[43m,\u001b[49m\u001b[43m \u001b[49m\u001b[43mscale\u001b[49m\u001b[43m=\u001b[49m\u001b[43mscale\u001b[49m\u001b[43m)\u001b[49m\n\u001b[32m     72\u001b[39m     \u001b[38;5;28;01mif\u001b[39;00m img.mode == \u001b[33m'\u001b[39m\u001b[33mRGBA\u001b[39m\u001b[33m'\u001b[39m \u001b[38;5;129;01mand\u001b[39;00m (file_format == \u001b[33m'\u001b[39m\u001b[33mjpg\u001b[39m\u001b[33m'\u001b[39m \u001b[38;5;129;01mor\u001b[39;00m file_format == \u001b[33m'\u001b[39m\u001b[33mjpeg\u001b[39m\u001b[33m'\u001b[39m):\n\u001b[32m     73\u001b[39m         warnings.warn(\u001b[33m'\u001b[39m\u001b[33mThe JPG format does not support \u001b[39m\u001b[33m'\u001b[39m\n\u001b[32m     74\u001b[39m                       \u001b[33m'\u001b[39m\u001b[33mRGBA images, converting to RGB.\u001b[39m\u001b[33m'\u001b[39m)\n",
            "\u001b[36mFile \u001b[39m\u001b[32m~/2CC/ConvolutionMatrixVerilog/.venv/lib64/python3.11/site-packages/keras_preprocessing/image/utils.py:256\u001b[39m, in \u001b[36marray_to_img\u001b[39m\u001b[34m(x, data_format, scale, dtype)\u001b[39m\n\u001b[32m    254\u001b[39m x = np.asarray(x, dtype=dtype)\n\u001b[32m    255\u001b[39m \u001b[38;5;28;01mif\u001b[39;00m x.ndim != \u001b[32m3\u001b[39m:\n\u001b[32m--> \u001b[39m\u001b[32m256\u001b[39m     \u001b[38;5;28;01mraise\u001b[39;00m \u001b[38;5;167;01mValueError\u001b[39;00m(\u001b[33m'\u001b[39m\u001b[33mExpected image array to have rank 3 (single image). \u001b[39m\u001b[33m'\u001b[39m\n\u001b[32m    257\u001b[39m                      \u001b[33m'\u001b[39m\u001b[33mGot array with shape: \u001b[39m\u001b[38;5;132;01m%s\u001b[39;00m\u001b[33m'\u001b[39m % (x.shape,))\n\u001b[32m    259\u001b[39m \u001b[38;5;28;01mif\u001b[39;00m data_format \u001b[38;5;129;01mnot\u001b[39;00m \u001b[38;5;129;01min\u001b[39;00m {\u001b[33m'\u001b[39m\u001b[33mchannels_first\u001b[39m\u001b[33m'\u001b[39m, \u001b[33m'\u001b[39m\u001b[33mchannels_last\u001b[39m\u001b[33m'\u001b[39m}:\n\u001b[32m    260\u001b[39m     \u001b[38;5;28;01mraise\u001b[39;00m \u001b[38;5;167;01mValueError\u001b[39;00m(\u001b[33m'\u001b[39m\u001b[33mInvalid data_format: \u001b[39m\u001b[38;5;132;01m%s\u001b[39;00m\u001b[33m'\u001b[39m % data_format)\n",
            "\u001b[31mValueError\u001b[39m: Expected image array to have rank 3 (single image). Got array with shape: (28, 28)"
          ]
        }
      ],
      "source": [
        "os.system(\"rm ./images/preprocessamento.jpg\")\n",
        "os.system(\"rm ./images/posprocessamento.jpg\")\n",
        "\n",
        "img.save_img(\"./images/preprocessamento.jpg\",array)\n",
        "img.save_img(\"./images/posprocessamento.jpg\",m1)\n",
        "img.save_img(\"./images/maxpoolingposprocessamento.jpg\",m2)\n"
      ]
    },
    {
      "cell_type": "code",
      "execution_count": null,
      "metadata": {},
      "outputs": [],
      "source": []
    },
    {
      "cell_type": "code",
      "execution_count": null,
      "metadata": {},
      "outputs": [
        {
          "name": "stdout",
          "output_type": "stream",
          "text": [
            "[ -51936738   -4843792  -32957726   -5841077  -65187315  -22737449\n",
            "  -55283783 -111268025   -1164540  -37874797]\n"
          ]
        }
      ],
      "source": [
        "dens = open(\"simulation/dense.txt\")\n",
        "klin2 = []\n",
        "m2=[]\n",
        "k2 = dens.readlines()\n",
        "for i in k2:\n",
        "    m2.append(list(map(concat,i.split()))[0][0])\n",
        "m2 = np.array(m2)\n",
        "print(np.array(m2))"
      ]
    },
    {
      "cell_type": "code",
      "execution_count": null,
      "metadata": {},
      "outputs": [],
      "source": []
    },
    {
      "cell_type": "markdown",
      "metadata": {},
      "source": [
        "hex(1)"
      ]
    },
    {
      "cell_type": "code",
      "execution_count": null,
      "metadata": {},
      "outputs": [],
      "source": []
    }
  ],
  "metadata": {
    "colab": {
      "provenance": []
    },
    "kernelspec": {
      "display_name": ".venv",
      "language": "python",
      "name": "python3"
    },
    "language_info": {
      "codemirror_mode": {
        "name": "ipython",
        "version": 3
      },
      "file_extension": ".py",
      "mimetype": "text/x-python",
      "name": "python",
      "nbconvert_exporter": "python",
      "pygments_lexer": "ipython3",
      "version": "3.11.5"
    }
  },
  "nbformat": 4,
  "nbformat_minor": 0
}
