{
  "cells": [
    {
      "cell_type": "code",
      "execution_count": 505,
      "metadata": {
        "colab": {
          "base_uri": "https://localhost:8080/"
        },
        "id": "R7qQ4aHNKabD",
        "outputId": "2dde94c8-2502-4b2f-bc4f-1604669ad10a"
      },
      "outputs": [
        {
          "name": "stdout",
          "output_type": "stream",
          "text": [
            "Requirement already satisfied: keras_preprocessing in ./.venv/lib/python3.6/site-packages (1.1.2)\n",
            "Requirement already satisfied: numpy>=1.9.1 in ./.venv/lib/python3.6/site-packages (from keras_preprocessing) (1.19.5)\n",
            "Requirement already satisfied: six>=1.9.0 in ./.venv/lib/python3.6/site-packages (from keras_preprocessing) (1.15.0)\n",
            "Note: you may need to restart the kernel to use updated packages.\n",
            "Requirement already satisfied: matplotlib in ./.venv/lib/python3.6/site-packages (3.3.4)\n",
            "Requirement already satisfied: kiwisolver>=1.0.1 in ./.venv/lib/python3.6/site-packages (from matplotlib) (1.3.1)\n",
            "Requirement already satisfied: cycler>=0.10 in ./.venv/lib/python3.6/site-packages (from matplotlib) (0.11.0)\n",
            "Requirement already satisfied: numpy>=1.15 in ./.venv/lib/python3.6/site-packages (from matplotlib) (1.19.5)\n",
            "Requirement already satisfied: python-dateutil>=2.1 in ./.venv/lib/python3.6/site-packages (from matplotlib) (2.9.0.post0)\n",
            "Requirement already satisfied: pyparsing!=2.0.4,!=2.1.2,!=2.1.6,>=2.0.3 in ./.venv/lib/python3.6/site-packages (from matplotlib) (3.1.4)\n",
            "Requirement already satisfied: pillow>=6.2.0 in ./.venv/lib/python3.6/site-packages (from matplotlib) (8.4.0)\n",
            "Requirement already satisfied: six>=1.5 in ./.venv/lib/python3.6/site-packages (from python-dateutil>=2.1->matplotlib) (1.15.0)\n",
            "Note: you may need to restart the kernel to use updated packages.\n",
            "Requirement already satisfied: idx2numpy in ./.venv/lib/python3.6/site-packages (1.2.3)\n",
            "Requirement already satisfied: numpy in ./.venv/lib/python3.6/site-packages (from idx2numpy) (1.19.5)\n",
            "Requirement already satisfied: six in ./.venv/lib/python3.6/site-packages (from idx2numpy) (1.15.0)\n",
            "Note: you may need to restart the kernel to use updated packages.\n",
            "Requirement already satisfied: pillow in ./.venv/lib/python3.6/site-packages (8.4.0)\n",
            "Note: you may need to restart the kernel to use updated packages.\n",
            "Requirement already satisfied: tensorflow in ./.venv/lib/python3.6/site-packages (2.6.2)\n",
            "Requirement already satisfied: keras-preprocessing~=1.1.2 in ./.venv/lib/python3.6/site-packages (from tensorflow) (1.1.2)\n",
            "Requirement already satisfied: termcolor~=1.1.0 in ./.venv/lib/python3.6/site-packages (from tensorflow) (1.1.0)\n",
            "Requirement already satisfied: opt-einsum~=3.3.0 in ./.venv/lib/python3.6/site-packages (from tensorflow) (3.3.0)\n",
            "Requirement already satisfied: astunparse~=1.6.3 in ./.venv/lib/python3.6/site-packages (from tensorflow) (1.6.3)\n",
            "Requirement already satisfied: tensorflow-estimator<2.7,>=2.6.0 in ./.venv/lib/python3.6/site-packages (from tensorflow) (2.6.0)\n",
            "Requirement already satisfied: gast==0.4.0 in ./.venv/lib/python3.6/site-packages (from tensorflow) (0.4.0)\n",
            "Requirement already satisfied: typing-extensions~=3.7.4 in ./.venv/lib/python3.6/site-packages (from tensorflow) (3.7.4.3)\n",
            "Requirement already satisfied: flatbuffers~=1.12.0 in ./.venv/lib/python3.6/site-packages (from tensorflow) (1.12)\n",
            "Requirement already satisfied: protobuf>=3.9.2 in ./.venv/lib/python3.6/site-packages (from tensorflow) (3.19.6)\n",
            "Requirement already satisfied: keras<2.7,>=2.6.0 in ./.venv/lib/python3.6/site-packages (from tensorflow) (2.6.0)\n",
            "Requirement already satisfied: absl-py~=0.10 in ./.venv/lib/python3.6/site-packages (from tensorflow) (0.15.0)\n",
            "Requirement already satisfied: numpy~=1.19.2 in ./.venv/lib/python3.6/site-packages (from tensorflow) (1.19.5)\n",
            "Requirement already satisfied: h5py~=3.1.0 in ./.venv/lib/python3.6/site-packages (from tensorflow) (3.1.0)\n",
            "Requirement already satisfied: google-pasta~=0.2 in ./.venv/lib/python3.6/site-packages (from tensorflow) (0.2.0)\n",
            "Requirement already satisfied: six~=1.15.0 in ./.venv/lib/python3.6/site-packages (from tensorflow) (1.15.0)\n",
            "Requirement already satisfied: wrapt~=1.12.1 in ./.venv/lib/python3.6/site-packages (from tensorflow) (1.12.1)\n",
            "Requirement already satisfied: tensorboard<2.7,>=2.6.0 in ./.venv/lib/python3.6/site-packages (from tensorflow) (2.6.0)\n",
            "Requirement already satisfied: clang~=5.0 in ./.venv/lib/python3.6/site-packages (from tensorflow) (5.0)\n",
            "Requirement already satisfied: grpcio<2.0,>=1.37.0 in ./.venv/lib/python3.6/site-packages (from tensorflow) (1.48.2)\n",
            "Requirement already satisfied: wheel~=0.35 in ./.venv/lib/python3.6/site-packages (from tensorflow) (0.37.1)\n",
            "Requirement already satisfied: cached-property in ./.venv/lib/python3.6/site-packages (from h5py~=3.1.0->tensorflow) (1.5.2)\n",
            "Requirement already satisfied: requests<3,>=2.21.0 in ./.venv/lib/python3.6/site-packages (from tensorboard<2.7,>=2.6.0->tensorflow) (2.27.1)\n",
            "Requirement already satisfied: tensorboard-data-server<0.7.0,>=0.6.0 in ./.venv/lib/python3.6/site-packages (from tensorboard<2.7,>=2.6.0->tensorflow) (0.6.1)\n",
            "Requirement already satisfied: werkzeug>=0.11.15 in ./.venv/lib/python3.6/site-packages (from tensorboard<2.7,>=2.6.0->tensorflow) (2.0.3)\n",
            "Requirement already satisfied: tensorboard-plugin-wit>=1.6.0 in ./.venv/lib/python3.6/site-packages (from tensorboard<2.7,>=2.6.0->tensorflow) (1.8.1)\n",
            "Requirement already satisfied: google-auth-oauthlib<0.5,>=0.4.1 in ./.venv/lib/python3.6/site-packages (from tensorboard<2.7,>=2.6.0->tensorflow) (0.4.6)\n",
            "Requirement already satisfied: google-auth<2,>=1.6.3 in ./.venv/lib/python3.6/site-packages (from tensorboard<2.7,>=2.6.0->tensorflow) (1.35.0)\n",
            "Requirement already satisfied: setuptools>=41.0.0 in ./.venv/lib/python3.6/site-packages (from tensorboard<2.7,>=2.6.0->tensorflow) (59.6.0)\n",
            "Requirement already satisfied: markdown>=2.6.8 in ./.venv/lib/python3.6/site-packages (from tensorboard<2.7,>=2.6.0->tensorflow) (3.3.7)\n",
            "Requirement already satisfied: cachetools<5.0,>=2.0.0 in ./.venv/lib/python3.6/site-packages (from google-auth<2,>=1.6.3->tensorboard<2.7,>=2.6.0->tensorflow) (4.2.4)\n",
            "Requirement already satisfied: pyasn1-modules>=0.2.1 in ./.venv/lib/python3.6/site-packages (from google-auth<2,>=1.6.3->tensorboard<2.7,>=2.6.0->tensorflow) (0.3.0)\n",
            "Requirement already satisfied: rsa<5,>=3.1.4 in ./.venv/lib/python3.6/site-packages (from google-auth<2,>=1.6.3->tensorboard<2.7,>=2.6.0->tensorflow) (4.9.1)\n",
            "Requirement already satisfied: requests-oauthlib>=0.7.0 in ./.venv/lib/python3.6/site-packages (from google-auth-oauthlib<0.5,>=0.4.1->tensorboard<2.7,>=2.6.0->tensorflow) (2.0.0)\n",
            "Requirement already satisfied: importlib-metadata>=4.4 in ./.venv/lib/python3.6/site-packages (from markdown>=2.6.8->tensorboard<2.7,>=2.6.0->tensorflow) (4.8.3)\n",
            "Requirement already satisfied: certifi>=2017.4.17 in ./.venv/lib/python3.6/site-packages (from requests<3,>=2.21.0->tensorboard<2.7,>=2.6.0->tensorflow) (2025.4.26)\n",
            "Requirement already satisfied: idna<4,>=2.5 in ./.venv/lib/python3.6/site-packages (from requests<3,>=2.21.0->tensorboard<2.7,>=2.6.0->tensorflow) (3.10)\n",
            "Requirement already satisfied: charset-normalizer~=2.0.0 in ./.venv/lib/python3.6/site-packages (from requests<3,>=2.21.0->tensorboard<2.7,>=2.6.0->tensorflow) (2.0.12)\n",
            "Requirement already satisfied: urllib3<1.27,>=1.21.1 in ./.venv/lib/python3.6/site-packages (from requests<3,>=2.21.0->tensorboard<2.7,>=2.6.0->tensorflow) (1.26.20)\n",
            "Requirement already satisfied: dataclasses in ./.venv/lib/python3.6/site-packages (from werkzeug>=0.11.15->tensorboard<2.7,>=2.6.0->tensorflow) (0.8)\n",
            "Requirement already satisfied: zipp>=0.5 in ./.venv/lib/python3.6/site-packages (from importlib-metadata>=4.4->markdown>=2.6.8->tensorboard<2.7,>=2.6.0->tensorflow) (3.6.0)\n",
            "Requirement already satisfied: pyasn1<0.6.0,>=0.4.6 in ./.venv/lib/python3.6/site-packages (from pyasn1-modules>=0.2.1->google-auth<2,>=1.6.3->tensorboard<2.7,>=2.6.0->tensorflow) (0.5.1)\n",
            "Requirement already satisfied: oauthlib>=3.0.0 in ./.venv/lib/python3.6/site-packages (from requests-oauthlib>=0.7.0->google-auth-oauthlib<0.5,>=0.4.1->tensorboard<2.7,>=2.6.0->tensorflow) (3.2.2)\n",
            "Note: you may need to restart the kernel to use updated packages.\n"
          ]
        }
      ],
      "source": [
        "%pip install keras_preprocessing\n",
        "%pip install matplotlib\n",
        "%pip install idx2numpy\n",
        "%pip install pillow\n",
        "%pip install tensorflow"
      ]
    },
    {
      "cell_type": "code",
      "execution_count": null,
      "metadata": {},
      "outputs": [],
      "source": []
    },
    {
      "cell_type": "code",
      "execution_count": 506,
      "metadata": {
        "id": "LeQOQlapKfvF"
      },
      "outputs": [],
      "source": [
        "from keras_preprocessing import image as img\n",
        "import os\n",
        "from matplotlib import pyplot as plt\n",
        "import idx2numpy\n",
        "import keras_preprocessing\n",
        "import tensorflow as tf\n",
        "import numpy as np"
      ]
    },
    {
      "cell_type": "markdown",
      "metadata": {
        "id": "ZTScsKMqRxwc"
      },
      "source": []
    },
    {
      "cell_type": "code",
      "execution_count": 507,
      "metadata": {},
      "outputs": [
        {
          "data": {
            "text/plain": [
              "0"
            ]
          },
          "execution_count": 507,
          "metadata": {},
          "output_type": "execute_result"
        }
      ],
      "source": [
        "os.system(\"rm ./simulation/I.txt\")"
      ]
    },
    {
      "cell_type": "code",
      "execution_count": 508,
      "metadata": {
        "id": "J8-0zNQULJcC"
      },
      "outputs": [],
      "source": [
        "sizt = 28\n",
        "path = \"mnist/data/t10k-images-idx3-ubyte\""
      ]
    },
    {
      "cell_type": "code",
      "execution_count": null,
      "metadata": {},
      "outputs": [],
      "source": []
    },
    {
      "cell_type": "code",
      "execution_count": 509,
      "metadata": {
        "id": "te-Hq9X6Qgj0"
      },
      "outputs": [],
      "source": [
        "sizeM = open(\"./simulation/sizeM.txt\",\"w\")\n",
        "sizeM.write(str(sizt))\n",
        "sizeM.close()\n",
        "f = open(\"./simulation/I.txt\",\"w\")"
      ]
    },
    {
      "cell_type": "code",
      "execution_count": 510,
      "metadata": {
        "colab": {
          "base_uri": "https://localhost:8080/"
        },
        "id": "5DQtVefsLg3U",
        "outputId": "1405ba52-16b8-4941-99a6-e1c677993776"
      },
      "outputs": [],
      "source": [
        "array = idx2numpy.convert_from_file(path)[0]\n",
        "k = 0\n",
        "l= 0\n",
        "\n",
        "for i in array:\n",
        "    for j in i:\n",
        "        strtmp = f'{hex(int((j/255)*2**3))[2:]}'\n",
        "        strtmp2 = '0'*(2-len(strtmp))+strtmp+' '\n",
        "        f.write(strtmp2)\n",
        "        # print(f'{strtmp2}',end='  ')\n",
        "    f.write(\"\\n\")\n",
        "    # print(\"\\n\")\n",
        "f.close()"
      ]
    },
    {
      "cell_type": "code",
      "execution_count": 511,
      "metadata": {},
      "outputs": [],
      "source": [
        "def concat(n):\n",
        "    # print(int('0x'+n,16))\n",
        "    integ = bin(int('0x'+n,16))\n",
        "    integ = ('0'*(16-len(integ[2:]))+integ[2:])\n",
        "    # print(integ[15])\n",
        "    # print(integ,\"c\")\n",
        "    # print(integ[0])\n",
        "    a = int(int(\"0b\"+integ,2)/16)\n",
        "    if(str(integ[0])=='1'):\n",
        "\n",
        "        # print (\"AJKHAH\")\n",
        "        # print(integ,n,\"a\")\n",
        "        temp1 = integ.replace(\"0\",\"k\")\n",
        "        # print(temp1)\n",
        "        temp2 = temp1.replace('1','0')\n",
        "        # print(temp2)\n",
        "        integ = temp2.replace('k','1')\n",
        "        # print(integ)\n",
        "        a = -int((int(\"0b\"+integ,2)+1)/16)\n",
        "    # print(integ,'h')\n",
        "\n",
        "    return [a]"
      ]
    },
    {
      "cell_type": "code",
      "execution_count": 512,
      "metadata": {},
      "outputs": [],
      "source": [
        "modelo_dig = tf.keras.models.load_model(\"./model_network/digits_recognition_cnn.h5\")"
      ]
    },
    {
      "cell_type": "code",
      "execution_count": 547,
      "metadata": {},
      "outputs": [
        {
          "data": {
            "text/plain": [
              "<tf.Variable 'conv2d/kernel:0' shape=(5, 5, 1, 8) dtype=float32, numpy=\n",
              "array([[[[-0.20271891,  0.4280199 , -0.01574893,  0.11573859,\n",
              "          -0.53908044, -0.31554586, -0.18040085, -0.3849555 ]],\n",
              "\n",
              "        [[ 0.23361   ,  0.11672499,  0.04608683, -0.03984576,\n",
              "          -0.50565386,  0.11871683, -0.3267204 , -0.63071305]],\n",
              "\n",
              "        [[ 0.06837018, -0.07272813, -0.1481508 ,  0.31113368,\n",
              "          -0.16036785, -0.01259172, -0.246288  ,  0.04089832]],\n",
              "\n",
              "        [[ 0.22307533, -0.33017382, -0.39290714, -0.06284754,\n",
              "           0.40477252,  0.49210456,  0.3224305 , -0.17939396]],\n",
              "\n",
              "        [[-0.0425005 , -0.15981999,  0.07168826,  0.07913549,\n",
              "           0.5135836 ,  0.17230046,  0.17002568,  0.14156283]]],\n",
              "\n",
              "\n",
              "       [[[ 0.01020676, -0.04461861, -0.00516608,  0.17475085,\n",
              "          -0.33004624, -0.26157534, -0.11756092,  0.23284341]],\n",
              "\n",
              "        [[ 0.36547714,  0.14792763, -0.24324055,  0.1665582 ,\n",
              "          -0.32842246,  0.25442225,  0.03145333,  0.15766165]],\n",
              "\n",
              "        [[ 0.09862181,  0.20779471, -0.5412249 ,  0.18961693,\n",
              "           0.07899261,  0.2148867 ,  0.16680051,  0.48103592]],\n",
              "\n",
              "        [[-0.09471191,  0.41143152, -0.4571417 ,  0.2009866 ,\n",
              "          -0.05936247,  0.21920818,  0.16481502,  0.20576146]],\n",
              "\n",
              "        [[-0.28155628, -0.20009696, -0.33269385, -0.55398834,\n",
              "           0.50606096,  0.31414324, -0.08461573,  0.5123264 ]]],\n",
              "\n",
              "\n",
              "       [[[ 0.08112716,  0.03123153,  0.19401501,  0.12102202,\n",
              "          -0.24232271, -0.00491216, -0.00134633, -0.02445409]],\n",
              "\n",
              "        [[ 0.13098021,  0.29827857,  0.26279923,  0.11505808,\n",
              "          -0.3702229 , -0.03999815,  0.575575  ,  0.35723668]],\n",
              "\n",
              "        [[-0.22548854,  0.4921439 , -0.15971854,  0.2357952 ,\n",
              "          -0.29126772,  0.01653797,  0.13923839,  0.38469926]],\n",
              "\n",
              "        [[ 0.5008666 ,  0.30410656, -0.49473715, -0.43552023,\n",
              "          -0.00912533,  0.15783499,  0.53744274,  0.10097808]],\n",
              "\n",
              "        [[ 0.39932057, -0.01434739, -0.62406486, -0.54479814,\n",
              "           0.23583397,  0.15405187,  0.13775854,  0.03593044]]],\n",
              "\n",
              "\n",
              "       [[[ 0.0198684 , -0.2557609 ,  0.19111946,  0.32877156,\n",
              "           0.07143699, -0.5098529 ,  0.5487945 ,  0.18763351]],\n",
              "\n",
              "        [[-0.0693731 , -0.1996132 ,  0.44411293,  0.50772935,\n",
              "           0.20626315,  0.2095671 ,  0.36349165, -0.0145761 ]],\n",
              "\n",
              "        [[-0.20429876,  0.27606106,  0.53429097,  0.11911649,\n",
              "          -0.0022899 , -0.14110284, -0.29086855,  0.08924714]],\n",
              "\n",
              "        [[ 0.1778196 ,  0.07939356,  0.39248046, -0.35717937,\n",
              "           0.38238996, -0.5407247 ,  0.04034293, -0.00342133]],\n",
              "\n",
              "        [[ 0.22038545, -0.22550409, -0.11458078, -0.02884218,\n",
              "          -0.03836789, -0.54507357,  0.16629441, -0.3152183 ]]],\n",
              "\n",
              "\n",
              "       [[[-0.10207634, -0.40495753,  0.17794289,  0.19685012,\n",
              "          -0.00612479, -0.08323326, -0.44705936,  0.06481025]],\n",
              "\n",
              "        [[-0.04572858, -0.25597245, -0.04875067,  0.34370694,\n",
              "           0.07706349, -0.02306852, -0.5693449 , -0.39511517]],\n",
              "\n",
              "        [[-0.06558974,  0.09669693,  0.30962792,  0.12667316,\n",
              "           0.11071686, -0.20454042, -0.6317901 , -0.3216875 ]],\n",
              "\n",
              "        [[-0.31783402,  0.4634738 ,  0.7115011 , -0.5144918 ,\n",
              "           0.3025323 , -0.4150998 , -0.5081162 , -0.49547884]],\n",
              "\n",
              "        [[-0.21912451, -0.11772501,  0.4092095 , -0.45906454,\n",
              "           0.09829918, -0.1737278 , -0.18279372, -0.4923024 ]]]],\n",
              "      dtype=float32)>"
            ]
          },
          "execution_count": 547,
          "metadata": {},
          "output_type": "execute_result"
        }
      ],
      "source": [
        "kernels = modelo_dig.weights[0]\n",
        "kernel0 = kernels[:,:,:,0]\n",
        "kernels"
      ]
    },
    {
      "cell_type": "code",
      "execution_count": 514,
      "metadata": {},
      "outputs": [
        {
          "name": "stdout",
          "output_type": "stream",
          "text": [
            "fffe\n"
          ]
        }
      ],
      "source": [
        "def tohex(val, nbits):\n",
        "    return hex((val + (1 << nbits)) % (1 << nbits))\n",
        "print(tohex(-2, 16).lstrip('0x').lower())\n",
        "# print(hex(-1518255953).replace('0x','').upper())\n",
        "# print(tohex(-1518255953, 32).lstrip('0x').upper())"
      ]
    },
    {
      "cell_type": "code",
      "execution_count": 559,
      "metadata": {},
      "outputs": [],
      "source": [
        "def kernel_txt(i,kernel,string='Kernel'):\n",
        "    ker = open(f\"simulation/{string}{i}.txt\",'w')\n",
        "    kernel0_0 = np.array(kernel[:,:,0])\n",
        "    base = 8\n",
        "    for i in kernel0_0:\n",
        "        for j in i:\n",
        "            print((int(j*2**base)),end=' ')\n",
        "            strtmp2 = tohex(int(j*2**base),16)+' '\n",
        "            ker.write(strtmp2[2:])\n",
        "            # print(f'{strtmp2}',end='  ')\n",
        "        ker.write(\"\\n\")\n",
        "        print('\\n')\n",
        "    ker.close()"
      ]
    },
    {
      "cell_type": "code",
      "execution_count": 561,
      "metadata": {},
      "outputs": [
        {
          "name": "stdout",
          "output_type": "stream",
          "text": [
            "-51 59 17 57 -10 \n",
            "\n",
            "2 93 25 -24 -72 \n",
            "\n",
            "20 33 -57 128 102 \n",
            "\n",
            "5 -17 -52 45 56 \n",
            "\n",
            "-26 -11 -16 -81 -56 \n",
            "\n",
            "109 29 -18 -84 -40 \n",
            "\n",
            "-11 37 53 105 -51 \n",
            "\n",
            "7 76 125 77 -3 \n",
            "\n",
            "-65 -51 70 20 -57 \n",
            "\n",
            "-103 -65 24 118 -30 \n",
            "\n",
            "-4 11 -37 -100 18 \n",
            "\n",
            "-1 -62 -138 -117 -85 \n",
            "\n",
            "49 67 -40 -126 -159 \n",
            "\n",
            "48 113 136 100 -29 \n",
            "\n",
            "45 -12 79 182 104 \n",
            "\n",
            "29 -10 79 -16 20 \n",
            "\n",
            "44 42 48 51 -141 \n",
            "\n",
            "30 29 60 -111 -139 \n",
            "\n",
            "84 129 30 -91 -7 \n",
            "\n",
            "50 87 32 -131 -117 \n",
            "\n",
            "-138 -129 -41 103 131 \n",
            "\n",
            "-84 -84 20 -15 129 \n",
            "\n",
            "-62 -94 -74 -2 60 \n",
            "\n",
            "18 52 0 97 -9 \n",
            "\n",
            "-1 19 28 77 25 \n",
            "\n",
            "-80 30 -3 125 44 \n",
            "\n",
            "-66 65 55 56 80 \n",
            "\n",
            "-1 -10 4 40 39 \n",
            "\n",
            "-130 53 -36 -138 -139 \n",
            "\n",
            "-21 -5 -52 -106 -44 \n",
            "\n",
            "-46 -83 -63 82 43 \n",
            "\n",
            "-30 8 42 42 -21 \n",
            "\n",
            "0 147 35 137 35 \n",
            "\n",
            "140 93 -74 10 42 \n",
            "\n",
            "-114 -145 -161 -130 -46 \n",
            "\n",
            "-98 -161 10 -45 36 \n",
            "\n",
            "59 40 123 52 131 \n",
            "\n",
            "-6 91 98 25 9 \n",
            "\n",
            "48 -3 22 0 -80 \n",
            "\n",
            "16 -101 -82 -126 -126 \n",
            "\n"
          ]
        }
      ],
      "source": [
        "lim = np.array(kernels.shape)[::-1][0]\n",
        "for i in range(lim):\n",
        "    kernel_txt(i,kernels[:,:,:,i])"
      ]
    },
    {
      "cell_type": "markdown",
      "metadata": {},
      "source": [
        "kernel0"
      ]
    },
    {
      "cell_type": "code",
      "execution_count": 563,
      "metadata": {},
      "outputs": [
        {
          "name": "stdout",
          "output_type": "stream",
          "text": [
            "46 -4 60 2 19 \n",
            "\n",
            "44 0 78 43 -3 \n",
            "\n",
            "-43 -59 -47 -52 -20 \n",
            "\n",
            "3 -26 -73 0 23 \n",
            "\n",
            "4 3 -28 -20 28 \n",
            "\n",
            "2 -16 3 -3 -45 \n",
            "\n",
            "-30 -36 -39 -22 23 \n",
            "\n",
            "-38 -7 -14 -15 12 \n",
            "\n",
            "22 -11 6 47 30 \n",
            "\n",
            "-17 58 13 -11 1 \n",
            "\n",
            "-22 33 24 -19 -48 \n",
            "\n",
            "-17 8 40 14 2 \n",
            "\n",
            "-25 49 42 -18 -26 \n",
            "\n",
            "-28 36 55 -13 -14 \n",
            "\n",
            "-40 6 -11 -21 -20 \n",
            "\n",
            "6 0 42 -1 6 \n",
            "\n",
            "-12 8 27 26 -13 \n",
            "\n",
            "-35 21 27 -35 -12 \n",
            "\n",
            "-10 40 27 -25 -53 \n",
            "\n",
            "-18 31 17 6 -4 \n",
            "\n",
            "27 34 -6 43 12 \n",
            "\n",
            "-24 -26 22 22 4 \n",
            "\n",
            "-27 -35 1 12 -26 \n",
            "\n",
            "-47 -33 -25 28 -22 \n",
            "\n",
            "9 12 -38 -12 -52 \n",
            "\n",
            "13 0 27 -23 -30 \n",
            "\n",
            "0 7 -21 27 -16 \n",
            "\n",
            "-15 0 0 35 4 \n",
            "\n",
            "-25 21 15 -9 -53 \n",
            "\n",
            "14 -8 -27 30 7 \n",
            "\n",
            "4 3 -6 9 7 \n",
            "\n",
            "-11 -8 12 53 19 \n",
            "\n",
            "48 50 23 -1 0 \n",
            "\n",
            "49 15 -12 -29 9 \n",
            "\n",
            "2 9 -9 -54 -35 \n",
            "\n",
            "-41 3 -28 4 -34 \n",
            "\n",
            "43 23 21 40 17 \n",
            "\n",
            "37 18 36 30 37 \n",
            "\n",
            "2 -4 -36 -23 -3 \n",
            "\n",
            "-27 -14 -45 -53 -19 \n",
            "\n",
            "29 -24 27 40 -25 \n",
            "\n",
            "3 30 0 -1 -26 \n",
            "\n",
            "-2 17 26 12 -6 \n",
            "\n",
            "-80 -24 26 -25 -53 \n",
            "\n",
            "-41 -37 -31 -66 -32 \n",
            "\n",
            "-13 0 -12 -31 -21 \n",
            "\n",
            "-22 43 37 18 -45 \n",
            "\n",
            "4 -8 35 -10 -11 \n",
            "\n",
            "-6 23 0 11 -17 \n",
            "\n",
            "18 39 15 -17 -12 \n",
            "\n",
            "19 -14 -29 -13 -22 \n",
            "\n",
            "10 -1 -25 -7 3 \n",
            "\n",
            "13 22 14 2 26 \n",
            "\n",
            "46 13 38 67 0 \n",
            "\n",
            "-59 -75 -35 38 -30 \n",
            "\n",
            "-9 -39 -78 -98 -57 \n",
            "\n",
            "-6 -26 -28 -66 -20 \n",
            "\n",
            "-14 -50 -7 1 -9 \n",
            "\n",
            "-68 -47 -10 16 60 \n",
            "\n",
            "-6 29 31 8 -8 \n",
            "\n",
            "-38 3 -29 44 20 \n",
            "\n",
            "17 -9 -45 -22 19 \n",
            "\n",
            "1 10 -32 -26 0 \n",
            "\n",
            "-10 23 -10 16 24 \n",
            "\n",
            "0 -3 -58 16 17 \n",
            "\n",
            "-11 0 -15 -34 -51 \n",
            "\n",
            "-20 -35 -15 -8 16 \n",
            "\n",
            "-30 7 -42 26 -5 \n",
            "\n",
            "22 0 -4 21 6 \n",
            "\n",
            "38 80 35 50 34 \n",
            "\n",
            "21 16 30 12 -5 \n",
            "\n",
            "-1 -49 -6 13 -29 \n",
            "\n",
            "-54 -88 -105 -31 -27 \n",
            "\n",
            "0 14 9 15 -7 \n",
            "\n",
            "26 -2 45 3 26 \n",
            "\n",
            "-59 -8 26 -15 -44 \n",
            "\n",
            "-23 21 -15 9 13 \n",
            "\n",
            "17 -18 14 8 -48 \n",
            "\n",
            "-5 -25 -10 2 -21 \n",
            "\n",
            "-22 -4 39 29 14 \n",
            "\n"
          ]
        }
      ],
      "source": [
        "kernels2d_1 = modelo_dig.weights[2]\n",
        "# kernels2d_1[:,:,:,0]\n",
        "# kernel_txt(0,kernels2d_1[:,:,:,0])\n",
        "\n",
        "lim = np.array(kernels2d_1.shape)[::-1][0]\n",
        "for i in range(lim):\n",
        "    kernel_txt(i,kernels2d_1[:,:,:,i],string=\"kernels2d_1_\")"
      ]
    },
    {
      "cell_type": "code",
      "execution_count": 518,
      "metadata": {},
      "outputs": [],
      "source": [
        "out = open(\"./simulation/IxKernel.txt\",\"r\")\n",
        "\n",
        "klin1 = []\n",
        "m1=[]\n",
        "k= out.readlines()\n",
        "for i in k:\n",
        "    m1.append(list(map(concat,i.split())))\n"
      ]
    },
    {
      "cell_type": "code",
      "execution_count": 541,
      "metadata": {},
      "outputs": [
        {
          "data": {
            "image/png": "[encoded data removed]",
            "text/plain": [
              "<Figure size 2160x576 with 8 Axes>"
            ]
          },
          "metadata": {
            "needs_background": "light"
          },
          "output_type": "display_data"
        }
      ],
      "source": [
        "array_out =[]\n",
        "\n",
        "for i in range(8):\n",
        "    array_out.append(open(f\"./simulation/maxIxKernelPooling{i}.txt\",\"r\"))\n",
        "klin2 = []\n",
        "plt.figure(figsize=(30,8))\n",
        "for ii in range(8):\n",
        "    k2 = array_out[ii].readlines()\n",
        "    m2=[]\n",
        "    for i in k2:\n",
        "        m2.append(list(map(concat,i.split())))\n",
        "    plt.subplot(1,8,ii+1)\n",
        "    plt.imshow(m2,cmap=\"gray\")\n",
        "# plt.imshow(m2)\n",
        "\n",
        "for i in range(8):\n",
        "    array_out[i].close()\n"
      ]
    },
    {
      "cell_type": "code",
      "execution_count": 529,
      "metadata": {},
      "outputs": [
        {
          "data": {
            "text/plain": [
              "<matplotlib.image.AxesImage at 0x7efe867efb38>"
            ]
          },
          "execution_count": 529,
          "metadata": {},
          "output_type": "execute_result"
        },
        {
          "data": {
            "image/png": "[encoded data removed]",
            "text/plain": [
              "<Figure size 432x288 with 1 Axes>"
            ]
          },
          "metadata": {
            "needs_background": "light"
          },
          "output_type": "display_data"
        }
      ],
      "source": [
        "out2 = open(\"./simulation/maxIxKernelPooling4.txt\",\"r\")\n",
        "klin2 = []\n",
        "m2=[]\n",
        "k2 = out2.readlines()\n",
        "for i in k2:\n",
        "    m2.append(list(map(concat,i.split())))\n",
        "plt.imshow(m2,cmap=\"gray\")\n"
      ]
    },
    {
      "cell_type": "markdown",
      "metadata": {},
      "source": []
    },
    {
      "cell_type": "code",
      "execution_count": 523,
      "metadata": {},
      "outputs": [
        {
          "data": {
            "image/png": "[encoded data removed]",
            "text/plain": [
              "<Figure size 2160x576 with 3 Axes>"
            ]
          },
          "metadata": {
            "needs_background": "light"
          },
          "output_type": "display_data"
        }
      ],
      "source": [
        "plt.figure(figsize=(30,8))\n",
        "plt.subplot(1,3,1)\n",
        "plt.imshow(array,cmap=\"gray\")\n",
        "plt.subplot(1,3,2)\n",
        "plt.imshow(m1,cmap=\"gray\")\n",
        "plt.subplot(1,3,3)\n",
        "plt.imshow(m2,cmap=\"gray\")\n",
        "plt.show()\n"
      ]
    },
    {
      "cell_type": "code",
      "execution_count": null,
      "metadata": {},
      "outputs": [
        {
          "data": {
            "text/plain": [
              "[[[0], [0], [0], [0], [0], [0], [0], [0], [0], [0], [0], [0]],\n",
              " [[0], [0], [0], [0], [0], [0], [0], [0], [0], [0], [0], [0]],\n",
              " [[0], [34], [29], [6], [0], [0], [0], [0], [0], [0], [0], [0]],\n",
              " [[0], [41], [43], [75], [67], [57], [57], [47], [48], [18], [6], [0]],\n",
              " [[0], [2], [24], [14], [21], [33], [30], [28], [61], [31], [12], [0]],\n",
              " [[0], [0], [0], [0], [3], [6], [4], [27], [32], [45], [0], [0]],\n",
              " [[0], [0], [0], [0], [0], [0], [13], [17], [48], [31], [0], [0]],\n",
              " [[0], [0], [0], [0], [0], [0], [17], [30], [42], [0], [0], [0]],\n",
              " [[0], [0], [0], [0], [0], [13], [13], [44], [24], [0], [0], [0]],\n",
              " [[0], [0], [0], [0], [2], [26], [49], [46], [0], [0], [0], [0]],\n",
              " [[0], [0], [0], [6], [13], [16], [42], [7], [0], [0], [0], [0]],\n",
              " [[0], [0], [0], [33], [45], [52], [33], [0], [0], [0], [0], [0]]]"
            ]
          },
          "execution_count": 488,
          "metadata": {},
          "output_type": "execute_result"
        }
      ],
      "source": [
        "m2"
      ]
    },
    {
      "cell_type": "code",
      "execution_count": null,
      "metadata": {},
      "outputs": [
        {
          "ename": "ValueError",
          "evalue": "Expected image array to have rank 3 (single image). Got array with shape: (28, 28)",
          "output_type": "error",
          "traceback": [
            "\u001b[0;31m---------------------------------------------------------------------------\u001b[0m",
            "\u001b[0;31mValueError\u001b[0m                                Traceback (most recent call last)",
            "\u001b[0;32m<ipython-input-489-f135b1805f97>\u001b[0m in \u001b[0;36m<module>\u001b[0;34m\u001b[0m\n\u001b[1;32m      2\u001b[0m \u001b[0mos\u001b[0m\u001b[0;34m.\u001b[0m\u001b[0msystem\u001b[0m\u001b[0;34m(\u001b[0m\u001b[0;34m\"rm ./images/posprocessamento.jpg\"\u001b[0m\u001b[0;34m)\u001b[0m\u001b[0;34m\u001b[0m\u001b[0;34m\u001b[0m\u001b[0m\n\u001b[1;32m      3\u001b[0m \u001b[0;34m\u001b[0m\u001b[0m\n\u001b[0;32m----> 4\u001b[0;31m \u001b[0mimg\u001b[0m\u001b[0;34m.\u001b[0m\u001b[0msave_img\u001b[0m\u001b[0;34m(\u001b[0m\u001b[0;34m\"./images/preprocessamento.jpg\"\u001b[0m\u001b[0;34m,\u001b[0m\u001b[0marray\u001b[0m\u001b[0;34m)\u001b[0m\u001b[0;34m\u001b[0m\u001b[0;34m\u001b[0m\u001b[0m\n\u001b[0m\u001b[1;32m      5\u001b[0m \u001b[0mimg\u001b[0m\u001b[0;34m.\u001b[0m\u001b[0msave_img\u001b[0m\u001b[0;34m(\u001b[0m\u001b[0;34m\"./images/posprocessamento.jpg\"\u001b[0m\u001b[0;34m,\u001b[0m\u001b[0mm1\u001b[0m\u001b[0;34m)\u001b[0m\u001b[0;34m\u001b[0m\u001b[0;34m\u001b[0m\u001b[0m\n\u001b[1;32m      6\u001b[0m \u001b[0mimg\u001b[0m\u001b[0;34m.\u001b[0m\u001b[0msave_img\u001b[0m\u001b[0;34m(\u001b[0m\u001b[0;34m\"./images/maxpoolingposprocessamento.jpg\"\u001b[0m\u001b[0;34m,\u001b[0m\u001b[0mm2\u001b[0m\u001b[0;34m)\u001b[0m\u001b[0;34m\u001b[0m\u001b[0;34m\u001b[0m\u001b[0m\n",
            "\u001b[0;32m~/2CC/ConvolutionMatrixVerilog/.venv/lib64/python3.6/site-packages/keras_preprocessing/image/utils.py\u001b[0m in \u001b[0;36msave_img\u001b[0;34m(path, x, data_format, file_format, scale, **kwargs)\u001b[0m\n\u001b[1;32m     69\u001b[0m         \u001b[0;34m**\u001b[0m\u001b[0mkwargs\u001b[0m\u001b[0;34m:\u001b[0m \u001b[0mAdditional\u001b[0m \u001b[0mkeyword\u001b[0m \u001b[0marguments\u001b[0m \u001b[0mpassed\u001b[0m \u001b[0mto\u001b[0m\u001b[0;31m \u001b[0m\u001b[0;31m`\u001b[0m\u001b[0mPIL\u001b[0m\u001b[0;34m.\u001b[0m\u001b[0mImage\u001b[0m\u001b[0;34m.\u001b[0m\u001b[0msave\u001b[0m\u001b[0;34m(\u001b[0m\u001b[0;34m)\u001b[0m\u001b[0;31m`\u001b[0m\u001b[0;34m.\u001b[0m\u001b[0;34m\u001b[0m\u001b[0;34m\u001b[0m\u001b[0m\n\u001b[1;32m     70\u001b[0m     \"\"\"\n\u001b[0;32m---> 71\u001b[0;31m     \u001b[0mimg\u001b[0m \u001b[0;34m=\u001b[0m \u001b[0marray_to_img\u001b[0m\u001b[0;34m(\u001b[0m\u001b[0mx\u001b[0m\u001b[0;34m,\u001b[0m \u001b[0mdata_format\u001b[0m\u001b[0;34m=\u001b[0m\u001b[0mdata_format\u001b[0m\u001b[0;34m,\u001b[0m \u001b[0mscale\u001b[0m\u001b[0;34m=\u001b[0m\u001b[0mscale\u001b[0m\u001b[0;34m)\u001b[0m\u001b[0;34m\u001b[0m\u001b[0;34m\u001b[0m\u001b[0m\n\u001b[0m\u001b[1;32m     72\u001b[0m     \u001b[0;32mif\u001b[0m \u001b[0mimg\u001b[0m\u001b[0;34m.\u001b[0m\u001b[0mmode\u001b[0m \u001b[0;34m==\u001b[0m \u001b[0;34m'RGBA'\u001b[0m \u001b[0;32mand\u001b[0m \u001b[0;34m(\u001b[0m\u001b[0mfile_format\u001b[0m \u001b[0;34m==\u001b[0m \u001b[0;34m'jpg'\u001b[0m \u001b[0;32mor\u001b[0m \u001b[0mfile_format\u001b[0m \u001b[0;34m==\u001b[0m \u001b[0;34m'jpeg'\u001b[0m\u001b[0;34m)\u001b[0m\u001b[0;34m:\u001b[0m\u001b[0;34m\u001b[0m\u001b[0;34m\u001b[0m\u001b[0m\n\u001b[1;32m     73\u001b[0m         warnings.warn('The JPG format does not support '\n",
            "\u001b[0;32m~/2CC/ConvolutionMatrixVerilog/.venv/lib64/python3.6/site-packages/keras_preprocessing/image/utils.py\u001b[0m in \u001b[0;36marray_to_img\u001b[0;34m(x, data_format, scale, dtype)\u001b[0m\n\u001b[1;32m    255\u001b[0m     \u001b[0;32mif\u001b[0m \u001b[0mx\u001b[0m\u001b[0;34m.\u001b[0m\u001b[0mndim\u001b[0m \u001b[0;34m!=\u001b[0m \u001b[0;36m3\u001b[0m\u001b[0;34m:\u001b[0m\u001b[0;34m\u001b[0m\u001b[0;34m\u001b[0m\u001b[0m\n\u001b[1;32m    256\u001b[0m         raise ValueError('Expected image array to have rank 3 (single image). '\n\u001b[0;32m--> 257\u001b[0;31m                          'Got array with shape: %s' % (x.shape,))\n\u001b[0m\u001b[1;32m    258\u001b[0m \u001b[0;34m\u001b[0m\u001b[0m\n\u001b[1;32m    259\u001b[0m     \u001b[0;32mif\u001b[0m \u001b[0mdata_format\u001b[0m \u001b[0;32mnot\u001b[0m \u001b[0;32min\u001b[0m \u001b[0;34m{\u001b[0m\u001b[0;34m'channels_first'\u001b[0m\u001b[0;34m,\u001b[0m \u001b[0;34m'channels_last'\u001b[0m\u001b[0;34m}\u001b[0m\u001b[0;34m:\u001b[0m\u001b[0;34m\u001b[0m\u001b[0;34m\u001b[0m\u001b[0m\n",
            "\u001b[0;31mValueError\u001b[0m: Expected image array to have rank 3 (single image). Got array with shape: (28, 28)"
          ]
        }
      ],
      "source": [
        "os.system(\"rm ./images/preprocessamento.jpg\")\n",
        "os.system(\"rm ./images/posprocessamento.jpg\")\n",
        "\n",
        "img.save_img(\"./images/preprocessamento.jpg\",array)\n",
        "img.save_img(\"./images/posprocessamento.jpg\",m1)\n",
        "img.save_img(\"./images/maxpoolingposprocessamento.jpg\",m2)\n"
      ]
    },
    {
      "cell_type": "code",
      "execution_count": null,
      "metadata": {},
      "outputs": [],
      "source": []
    },
    {
      "cell_type": "code",
      "execution_count": null,
      "metadata": {},
      "outputs": [],
      "source": []
    },
    {
      "cell_type": "markdown",
      "metadata": {},
      "source": [
        "hex(1)"
      ]
    },
    {
      "cell_type": "code",
      "execution_count": null,
      "metadata": {},
      "outputs": [
        {
          "data": {
            "text/plain": [
              "'0x1'"
            ]
          },
          "execution_count": 75,
          "metadata": {},
          "output_type": "execute_result"
        }
      ],
      "source": [
        "hex(1)"
      ]
    }
  ],
  "metadata": {
    "colab": {
      "provenance": []
    },
    "kernelspec": {
      "display_name": ".venv",
      "language": "python",
      "name": "python3"
    },
    "language_info": {
      "codemirror_mode": {
        "name": "ipython",
        "version": 3
      },
      "file_extension": ".py",
      "mimetype": "text/x-python",
      "name": "python",
      "nbconvert_exporter": "python",
      "pygments_lexer": "ipython3",
      "version": "3.6.8"
    }
  },
  "nbformat": 4,
  "nbformat_minor": 0
}
