{
  "cells": [
    {
      "cell_type": "code",
      "execution_count": 77,
      "metadata": {
        "id": "LeQOQlapKfvF"
      },
      "outputs": [],
      "source": [
        "try:\n",
        "    from keras_preprocessing import image as img\n",
        "    import os\n",
        "    from matplotlib import pyplot as plt\n",
        "    import idx2numpy\n",
        "    import keras_preprocessing\n",
        "    import tensorflow as tf\n",
        "    import numpy as np\n",
        "    import keras\n",
        "    from functools import partial\n",
        "except:\n",
        "    %pip install manim\n",
        "    %pip install colour\n",
        "    %pip install matplotlib\n",
        "    %pip install tensorflow.keras\n",
        "    %pip install pydot\n",
        "    %pip install pydotplus\n",
        "    %pip install graphviz\n",
        "    %pip install ipykernel\n",
        "    %pip install keras_preprocessing\n",
        "    %pip install matplotlib\n",
        "    %pip install idx2numpy\n",
        "    %pip install pillow\n",
        "    %pip install tensorflow==2.18.0\n",
        "    %pip install keras==3.8.0\n",
        "    from keras_preprocessing import image as img\n",
        "    import os\n",
        "    from matplotlib import pyplot as plt\n",
        "    import idx2numpy\n",
        "    import keras_preprocessing\n",
        "    import tensorflow as tf\n",
        "    import numpy as np\n",
        "    import keras\n",
        "    from functools import partial"
      ]
    },
    {
      "cell_type": "code",
      "execution_count": 78,
      "metadata": {},
      "outputs": [
        {
          "data": {
            "text/plain": [
              "<Figure size 1900x1000 with 0 Axes>"
            ]
          },
          "execution_count": 78,
          "metadata": {},
          "output_type": "execute_result"
        },
        {
          "data": {
            "text/plain": [
              "<Figure size 1900x1000 with 0 Axes>"
            ]
          },
          "metadata": {},
          "output_type": "display_data"
        }
      ],
      "source": [
        "plt.figure(figsize=(19,10))"
      ]
    },
    {
      "cell_type": "markdown",
      "metadata": {
        "id": "ZTScsKMqRxwc"
      },
      "source": []
    },
    {
      "cell_type": "code",
      "execution_count": 79,
      "metadata": {},
      "outputs": [
        {
          "name": "stderr",
          "output_type": "stream",
          "text": [
            "WARNING:absl:Compiled the loaded model, but the compiled metrics have yet to be built. `model.compile_metrics` will be empty until you train or evaluate the model.\n"
          ]
        }
      ],
      "source": [
        "modelo_dig = tf.keras.models.load_model(\"model_network/output00.h5\")"
      ]
    },
    {
      "cell_type": "code",
      "execution_count": 80,
      "metadata": {},
      "outputs": [
        {
          "data": {
            "text/html": [
              "<pre style=\"white-space:pre;overflow-x:auto;line-height:normal;font-family:Menlo,'DejaVu Sans Mono',consolas,'Courier New',monospace\"><span style=\"font-weight: bold\">Model: \"sequential_3\"</span>\n",
              "</pre>\n"
            ],
            "text/plain": [
              "\u001b[1mModel: \"sequential_3\"\u001b[0m\n"
            ]
          },
          "metadata": {},
          "output_type": "display_data"
        },
        {
          "data": {
            "text/html": [
              "<pre style=\"white-space:pre;overflow-x:auto;line-height:normal;font-family:Menlo,'DejaVu Sans Mono',consolas,'Courier New',monospace\">┏━━━━━━━━━━━━━━━━━━━━━━━━━━━━━━━━━┳━━━━━━━━━━━━━━━━━━━━━━━━┳━━━━━━━━━━━━━━━┓\n",
              "┃<span style=\"font-weight: bold\"> Layer (type)                    </span>┃<span style=\"font-weight: bold\"> Output Shape           </span>┃<span style=\"font-weight: bold\">       Param # </span>┃\n",
              "┡━━━━━━━━━━━━━━━━━━━━━━━━━━━━━━━━━╇━━━━━━━━━━━━━━━━━━━━━━━━╇━━━━━━━━━━━━━━━┩\n",
              "│ conv2d_6 (<span style=\"color: #0087ff; text-decoration-color: #0087ff\">Conv2D</span>)               │ (<span style=\"color: #00d7ff; text-decoration-color: #00d7ff\">None</span>, <span style=\"color: #00af00; text-decoration-color: #00af00\">24</span>, <span style=\"color: #00af00; text-decoration-color: #00af00\">24</span>, <span style=\"color: #00af00; text-decoration-color: #00af00\">2</span>)      │            <span style=\"color: #00af00; text-decoration-color: #00af00\">52</span> │\n",
              "├─────────────────────────────────┼────────────────────────┼───────────────┤\n",
              "│ max_pooling2d_6 (<span style=\"color: #0087ff; text-decoration-color: #0087ff\">MaxPooling2D</span>)  │ (<span style=\"color: #00d7ff; text-decoration-color: #00d7ff\">None</span>, <span style=\"color: #00af00; text-decoration-color: #00af00\">12</span>, <span style=\"color: #00af00; text-decoration-color: #00af00\">12</span>, <span style=\"color: #00af00; text-decoration-color: #00af00\">2</span>)      │             <span style=\"color: #00af00; text-decoration-color: #00af00\">0</span> │\n",
              "├─────────────────────────────────┼────────────────────────┼───────────────┤\n",
              "│ conv2d_7 (<span style=\"color: #0087ff; text-decoration-color: #0087ff\">Conv2D</span>)               │ (<span style=\"color: #00d7ff; text-decoration-color: #00d7ff\">None</span>, <span style=\"color: #00af00; text-decoration-color: #00af00\">10</span>, <span style=\"color: #00af00; text-decoration-color: #00af00\">10</span>, <span style=\"color: #00af00; text-decoration-color: #00af00\">4</span>)      │            <span style=\"color: #00af00; text-decoration-color: #00af00\">76</span> │\n",
              "├─────────────────────────────────┼────────────────────────┼───────────────┤\n",
              "│ max_pooling2d_7 (<span style=\"color: #0087ff; text-decoration-color: #0087ff\">MaxPooling2D</span>)  │ (<span style=\"color: #00d7ff; text-decoration-color: #00d7ff\">None</span>, <span style=\"color: #00af00; text-decoration-color: #00af00\">5</span>, <span style=\"color: #00af00; text-decoration-color: #00af00\">5</span>, <span style=\"color: #00af00; text-decoration-color: #00af00\">4</span>)        │             <span style=\"color: #00af00; text-decoration-color: #00af00\">0</span> │\n",
              "├─────────────────────────────────┼────────────────────────┼───────────────┤\n",
              "│ flatten_3 (<span style=\"color: #0087ff; text-decoration-color: #0087ff\">Flatten</span>)             │ (<span style=\"color: #00d7ff; text-decoration-color: #00d7ff\">None</span>, <span style=\"color: #00af00; text-decoration-color: #00af00\">100</span>)            │             <span style=\"color: #00af00; text-decoration-color: #00af00\">0</span> │\n",
              "├─────────────────────────────────┼────────────────────────┼───────────────┤\n",
              "│ dense_3 (<span style=\"color: #0087ff; text-decoration-color: #0087ff\">Dense</span>)                 │ (<span style=\"color: #00d7ff; text-decoration-color: #00d7ff\">None</span>, <span style=\"color: #00af00; text-decoration-color: #00af00\">10</span>)             │         <span style=\"color: #00af00; text-decoration-color: #00af00\">1,010</span> │\n",
              "└─────────────────────────────────┴────────────────────────┴───────────────┘\n",
              "</pre>\n"
            ],
            "text/plain": [
              "┏━━━━━━━━━━━━━━━━━━━━━━━━━━━━━━━━━┳━━━━━━━━━━━━━━━━━━━━━━━━┳━━━━━━━━━━━━━━━┓\n",
              "┃\u001b[1m \u001b[0m\u001b[1mLayer (type)                   \u001b[0m\u001b[1m \u001b[0m┃\u001b[1m \u001b[0m\u001b[1mOutput Shape          \u001b[0m\u001b[1m \u001b[0m┃\u001b[1m \u001b[0m\u001b[1m      Param #\u001b[0m\u001b[1m \u001b[0m┃\n",
              "┡━━━━━━━━━━━━━━━━━━━━━━━━━━━━━━━━━╇━━━━━━━━━━━━━━━━━━━━━━━━╇━━━━━━━━━━━━━━━┩\n",
              "│ conv2d_6 (\u001b[38;5;33mConv2D\u001b[0m)               │ (\u001b[38;5;45mNone\u001b[0m, \u001b[38;5;34m24\u001b[0m, \u001b[38;5;34m24\u001b[0m, \u001b[38;5;34m2\u001b[0m)      │            \u001b[38;5;34m52\u001b[0m │\n",
              "├─────────────────────────────────┼────────────────────────┼───────────────┤\n",
              "│ max_pooling2d_6 (\u001b[38;5;33mMaxPooling2D\u001b[0m)  │ (\u001b[38;5;45mNone\u001b[0m, \u001b[38;5;34m12\u001b[0m, \u001b[38;5;34m12\u001b[0m, \u001b[38;5;34m2\u001b[0m)      │             \u001b[38;5;34m0\u001b[0m │\n",
              "├─────────────────────────────────┼────────────────────────┼───────────────┤\n",
              "│ conv2d_7 (\u001b[38;5;33mConv2D\u001b[0m)               │ (\u001b[38;5;45mNone\u001b[0m, \u001b[38;5;34m10\u001b[0m, \u001b[38;5;34m10\u001b[0m, \u001b[38;5;34m4\u001b[0m)      │            \u001b[38;5;34m76\u001b[0m │\n",
              "├─────────────────────────────────┼────────────────────────┼───────────────┤\n",
              "│ max_pooling2d_7 (\u001b[38;5;33mMaxPooling2D\u001b[0m)  │ (\u001b[38;5;45mNone\u001b[0m, \u001b[38;5;34m5\u001b[0m, \u001b[38;5;34m5\u001b[0m, \u001b[38;5;34m4\u001b[0m)        │             \u001b[38;5;34m0\u001b[0m │\n",
              "├─────────────────────────────────┼────────────────────────┼───────────────┤\n",
              "│ flatten_3 (\u001b[38;5;33mFlatten\u001b[0m)             │ (\u001b[38;5;45mNone\u001b[0m, \u001b[38;5;34m100\u001b[0m)            │             \u001b[38;5;34m0\u001b[0m │\n",
              "├─────────────────────────────────┼────────────────────────┼───────────────┤\n",
              "│ dense_3 (\u001b[38;5;33mDense\u001b[0m)                 │ (\u001b[38;5;45mNone\u001b[0m, \u001b[38;5;34m10\u001b[0m)             │         \u001b[38;5;34m1,010\u001b[0m │\n",
              "└─────────────────────────────────┴────────────────────────┴───────────────┘\n"
            ]
          },
          "metadata": {},
          "output_type": "display_data"
        },
        {
          "data": {
            "text/html": [
              "<pre style=\"white-space:pre;overflow-x:auto;line-height:normal;font-family:Menlo,'DejaVu Sans Mono',consolas,'Courier New',monospace\"><span style=\"font-weight: bold\"> Total params: </span><span style=\"color: #00af00; text-decoration-color: #00af00\">1,140</span> (4.46 KB)\n",
              "</pre>\n"
            ],
            "text/plain": [
              "\u001b[1m Total params: \u001b[0m\u001b[38;5;34m1,140\u001b[0m (4.46 KB)\n"
            ]
          },
          "metadata": {},
          "output_type": "display_data"
        },
        {
          "data": {
            "text/html": [
              "<pre style=\"white-space:pre;overflow-x:auto;line-height:normal;font-family:Menlo,'DejaVu Sans Mono',consolas,'Courier New',monospace\"><span style=\"font-weight: bold\"> Trainable params: </span><span style=\"color: #00af00; text-decoration-color: #00af00\">1,138</span> (4.45 KB)\n",
              "</pre>\n"
            ],
            "text/plain": [
              "\u001b[1m Trainable params: \u001b[0m\u001b[38;5;34m1,138\u001b[0m (4.45 KB)\n"
            ]
          },
          "metadata": {},
          "output_type": "display_data"
        },
        {
          "data": {
            "text/html": [
              "<pre style=\"white-space:pre;overflow-x:auto;line-height:normal;font-family:Menlo,'DejaVu Sans Mono',consolas,'Courier New',monospace\"><span style=\"font-weight: bold\"> Non-trainable params: </span><span style=\"color: #00af00; text-decoration-color: #00af00\">0</span> (0.00 B)\n",
              "</pre>\n"
            ],
            "text/plain": [
              "\u001b[1m Non-trainable params: \u001b[0m\u001b[38;5;34m0\u001b[0m (0.00 B)\n"
            ]
          },
          "metadata": {},
          "output_type": "display_data"
        },
        {
          "data": {
            "text/html": [
              "<pre style=\"white-space:pre;overflow-x:auto;line-height:normal;font-family:Menlo,'DejaVu Sans Mono',consolas,'Courier New',monospace\"><span style=\"font-weight: bold\"> Optimizer params: </span><span style=\"color: #00af00; text-decoration-color: #00af00\">2</span> (12.00 B)\n",
              "</pre>\n"
            ],
            "text/plain": [
              "\u001b[1m Optimizer params: \u001b[0m\u001b[38;5;34m2\u001b[0m (12.00 B)\n"
            ]
          },
          "metadata": {},
          "output_type": "display_data"
        }
      ],
      "source": [
        "modelo_dig.summary()"
      ]
    },
    {
      "cell_type": "code",
      "execution_count": 81,
      "metadata": {},
      "outputs": [],
      "source": [
        "nbits = 128\n",
        "point_fixed = 8"
      ]
    },
    {
      "cell_type": "code",
      "execution_count": 82,
      "metadata": {},
      "outputs": [
        {
          "data": {
            "text/plain": [
              "0"
            ]
          },
          "execution_count": 82,
          "metadata": {},
          "output_type": "execute_result"
        }
      ],
      "source": [
        "os.system(\"rm ./simulation/I.txt\")"
      ]
    },
    {
      "cell_type": "code",
      "execution_count": 83,
      "metadata": {
        "id": "J8-0zNQULJcC"
      },
      "outputs": [],
      "source": [
        "sizt = 28\n",
        "path = \"mnist/data/t10k-images-idx3-ubyte\""
      ]
    },
    {
      "cell_type": "code",
      "execution_count": 84,
      "metadata": {},
      "outputs": [],
      "source": [
        "def int2comp2(val, nbits=nbits):\n",
        "    return hex((val + (1 << nbits)) % (1 << nbits))\n"
      ]
    },
    {
      "cell_type": "code",
      "execution_count": 85,
      "metadata": {},
      "outputs": [],
      "source": [
        "def comp2int(val, nbits=nbits):\n",
        "    val=int(val,16)\n",
        "    if(val & 1 << nbits-1):\n",
        "        return (~val+1)%(1<<nbits)*(-1)\n",
        "    return val\n"
      ]
    },
    {
      "cell_type": "code",
      "execution_count": 86,
      "metadata": {},
      "outputs": [],
      "source": [
        "def concat(n,nbits=nbits,fator=1):\n",
        "    return [comp2int(n,nbits)/fator]"
      ]
    },
    {
      "cell_type": "code",
      "execution_count": 87,
      "metadata": {},
      "outputs": [],
      "source": [
        "def concat2(n,nbits=nbits,fator=16):\n",
        "    # print([comp2int(n,nbits)/fator])\n",
        "    return [comp2int(n,nbits)/fator]"
      ]
    },
    {
      "cell_type": "code",
      "execution_count": 88,
      "metadata": {},
      "outputs": [],
      "source": [
        "def import_img(path_file,fator=1):\n",
        "    out2 = path_file\n",
        "    m2=[]\n",
        "    k2 = out2.readlines()\n",
        "    for i in k2:\n",
        "        m2.append(list(map(concat,i.split())))\n",
        "    plt.imshow(m2,cmap=\"gray\")\n",
        "    # plt.imsave('fig7.png',m2,cmap='gray')\n",
        "    return np.array(m2).copy()"
      ]
    },
    {
      "cell_type": "code",
      "execution_count": 178,
      "metadata": {},
      "outputs": [],
      "source": [
        "def import_img2(path_file,fator=1,string='fig.png',transpor=0):\n",
        "    out2 = path_file\n",
        "    m2=[]\n",
        "    k2 = out2.readlines()\n",
        "    for i in k2:\n",
        "        m2.append(list(map(concat2,i.split())))\n",
        "    plt.imshow(m2,cmap ='viridis')\n",
        "    plt.imsave(string,m2,cmap='viridis')\n",
        "    if(transpor):\n",
        "        return m2.T\n",
        "    return m2"
      ]
    },
    {
      "cell_type": "code",
      "execution_count": 185,
      "metadata": {},
      "outputs": [],
      "source": [
        "def import_img3(path_file,fator=1,string='fig.png',transpor=0):\n",
        "    out2 = path_file\n",
        "    m2=[]\n",
        "    k2 = out2.readlines()\n",
        "    for i in k2:\n",
        "        m2.append(list(map(concat2,i.split())))\n",
        "    m2 = list(np.array(m2).T)\n",
        "    plt.imshow(m2,cmap ='viridis')\n",
        "    plt.imsave(string,m2,cmap='viridis')\n",
        "    if(transpor):\n",
        "        return m2.T"
      ]
    },
    {
      "cell_type": "code",
      "execution_count": 168,
      "metadata": {},
      "outputs": [
        {
          "data": {
            "text/plain": [
              "<matplotlib.image.AxesImage at 0x7ff744f74a10>"
            ]
          },
          "execution_count": 168,
          "metadata": {},
          "output_type": "execute_result"
        },
        {
          "data": {
            "image/png": "[encoded data removed]",
            "text/plain": [
              "<Figure size 640x480 with 1 Axes>"
            ]
          },
          "metadata": {},
          "output_type": "display_data"
        }
      ],
      "source": [
        "a = import_img2(path_file=open('simulation/convIxKernelOut0.txt'),fator=1,string=\"images/conv1_layer0.png\")\n",
        "plt.imshow(a)\n",
        "# plt.imsave(a,'aa.png',cmap='gray')\n",
        "# a/np.array(a).max()"
      ]
    },
    {
      "cell_type": "code",
      "execution_count": 90,
      "metadata": {},
      "outputs": [],
      "source": [
        "def exportInput_txt(imag,path_file,nbits=16,fixed_point=8):\n",
        "    for i in imag:\n",
        "        for j in i:\n",
        "            # strtmp = int2comp2(1 if(j >=50) else 0, nbits)[2:]\n",
        "            strtmp = int2comp2((int(j/255*2**fixed_point)), nbits)[2:]\n",
        "\n",
        "            strtmp2 = strtmp+' '\n",
        "            print(strtmp2,end=' ')\n",
        "            path_file.write(strtmp2)\n",
        "            # print(f'{strtmp2}',end='  ')\n",
        "        print(\"\\n\")\n",
        "        path_file.write(\"\\n\")\n",
        "    path_file.close()\n"
      ]
    },
    {
      "cell_type": "code",
      "execution_count": 91,
      "metadata": {},
      "outputs": [],
      "source": [
        "def kernel_txt(nbits,point_fixed,i,j,kernel,string='Kernel'):\n",
        "    ker = open(f\"simulation/{string}{j}{i}.txt\",'w')\n",
        "    kernel0_0 = np.array(kernel)\n",
        "    for i in kernel0_0:\n",
        "        for j in i:\n",
        "            print(int((j*2**point_fixed)),end=' ')\n",
        "            strtmp2 = int2comp2(int(j*2**point_fixed),nbits)+' '\n",
        "            ker.write(strtmp2[2:])\n",
        "            # print(f'{strtmp2}',end='  ')\n",
        "        ker.write(\"\\n\")\n",
        "        print('\\n')\n",
        "    ker.close()"
      ]
    },
    {
      "cell_type": "code",
      "execution_count": 92,
      "metadata": {},
      "outputs": [],
      "source": [
        "def bias_txt(nbits,point_fixed,i,bias,string='bias'):\n",
        "    ker = open(f\"simulation/{string}{i}.txt\",'w')\n",
        "    kernel0_0 = np.array(bias)\n",
        "    base = point_fixed\n",
        "    print(base)\n",
        "    for j in kernel0_0:\n",
        "        # for j in i:\n",
        "            print((int(j*2**base)),end=' ')\n",
        "            strtmp2 = int2comp2(int(j*2**point_fixed),nbits)+' '\n",
        "            ker.write(strtmp2[2:])\n",
        "            # print(f'{strtmp2}',end='  ')\n",
        "        # ker.write(\"\\n\")\n",
        "            # print('\\n')\n",
        "    ker.close()"
      ]
    },
    {
      "cell_type": "code",
      "execution_count": 93,
      "metadata": {
        "id": "te-Hq9X6Qgj0"
      },
      "outputs": [],
      "source": [
        "sizeM = open(\"./simulation/sizeM.txt\",\"w\")\n",
        "sizeM.write(str(sizt))\n",
        "sizeM.close()\n",
        "f = open(\"./simulation/I.txt\",\"w\")"
      ]
    },
    {
      "cell_type": "code",
      "execution_count": null,
      "metadata": {},
      "outputs": [],
      "source": []
    },
    {
      "cell_type": "code",
      "execution_count": 94,
      "metadata": {},
      "outputs": [
        {
          "data": {
            "text/plain": [
              "<matplotlib.image.AxesImage at 0x7ff7841efd10>"
            ]
          },
          "execution_count": 94,
          "metadata": {},
          "output_type": "execute_result"
        },
        {
          "data": {
            "image/png": "[encoded data removed]",
            "text/plain": [
              "<Figure size 640x480 with 1 Axes>"
            ]
          },
          "metadata": {},
          "output_type": "display_data"
        }
      ],
      "source": [
        "array = idx2numpy.convert_from_file(path)[7]\n",
        "plt.imshow(array,cmap='binary')\n",
        "# array"
      ]
    },
    {
      "cell_type": "code",
      "execution_count": 95,
      "metadata": {
        "colab": {
          "base_uri": "https://localhost:8080/"
        },
        "id": "5DQtVefsLg3U",
        "outputId": "1405ba52-16b8-4941-99a6-e1c677993776"
      },
      "outputs": [
        {
          "name": "stdout",
          "output_type": "stream",
          "text": [
            "0  0  0  0  0  0  0  0  0  0  0  0  0  0  0  0  0  0  0  0  0  0  0  0  0  0  0  0  \n",
            "\n",
            "0  0  0  0  0  0  0  0  0  0  0  0  0  0  0  0  0  0  0  0  0  0  0  0  0  0  0  0  \n",
            "\n",
            "0  0  0  0  0  0  0  0  0  0  0  0  0  0  0  0  0  0  0  0  0  0  0  0  0  0  0  0  \n",
            "\n",
            "0  0  0  0  0  0  0  0  0  0  0  0  0  0  0  0  0  0  0  0  0  0  0  0  0  0  0  0  \n",
            "\n",
            "0  0  0  0  0  0  0  0  0  0  0  0  0  0  0  0  0  0  0  0  0  0  0  0  0  0  0  0  \n",
            "\n",
            "0  0  0  0  0  0  0  0  0  0  0  0  0  0  0  0  0  0  0  0  0  0  0  0  0  0  0  0  \n",
            "\n",
            "0  0  0  0  0  0  0  0  0  0  0  e  95  c1  5  0  0  0  0  0  0  0  0  0  0  0  0  0  \n",
            "\n",
            "0  0  0  0  0  0  0  0  0  0  5b  e0  fd  fd  13  0  0  0  0  0  0  0  0  0  0  0  0  0  \n",
            "\n",
            "0  0  0  0  0  0  0  0  0  1c  eb  fe  fd  fd  a6  12  0  0  0  0  0  0  0  0  0  0  0  0  \n",
            "\n",
            "0  0  0  0  0  0  0  0  0  90  fd  fe  fd  fd  fd  ee  73  6  0  0  0  0  0  0  0  0  0  0  \n",
            "\n",
            "0  0  0  0  0  0  0  0  1f  f1  fd  d0  b9  fd  fd  fd  e7  18  0  0  0  0  0  0  0  0  0  0  \n",
            "\n",
            "0  0  0  0  0  0  0  0  4f  fe  c1  0  8  62  db  fe  100  c9  12  0  0  0  0  0  0  0  0  0  \n",
            "\n",
            "0  0  0  0  0  0  0  0  56  fd  50  0  0  0  b6  fd  fe  bf  c  0  0  0  0  0  0  0  0  0  \n",
            "\n",
            "0  0  0  0  0  0  0  0  af  fd  9b  0  0  0  ea  fd  fe  87  0  0  0  0  0  0  0  0  0  0  \n",
            "\n",
            "0  0  0  0  0  0  0  0  56  fd  d0  28  55  a6  fb  ed  fe  ec  2a  0  0  0  0  0  0  0  0  0  \n",
            "\n",
            "0  0  0  0  0  0  0  0  12  ee  fd  fe  fd  fd  b9  24  d8  fd  98  0  0  0  0  0  0  0  0  0  \n",
            "\n",
            "0  0  0  0  0  0  0  0  0  44  f0  100  fe  91  8  0  86  fe  df  23  0  0  0  0  0  0  0  0  \n",
            "\n",
            "0  0  0  0  0  0  0  0  0  0  44  9e  8e  c  0  0  9  af  fd  a1  0  0  0  0  0  0  0  0  \n",
            "\n",
            "0  0  0  0  0  0  0  0  0  0  0  0  0  0  0  0  0  58  fd  e2  12  0  0  0  0  0  0  0  \n",
            "\n",
            "0  0  0  0  0  0  0  0  0  0  0  0  0  0  0  0  0  2  a6  fd  7e  0  0  0  0  0  0  0  \n",
            "\n",
            "0  0  0  0  0  0  0  0  0  0  0  0  0  0  0  0  0  0  30  f5  fd  26  0  0  0  0  0  0  \n",
            "\n",
            "0  0  0  0  0  0  0  0  0  0  0  0  0  0  0  0  0  0  0  73  fe  ac  9  0  0  0  0  0  \n",
            "\n",
            "0  0  0  0  0  0  0  0  0  0  0  0  0  0  0  0  0  0  0  15  da  fe  2e  0  0  0  0  0  \n",
            "\n",
            "0  0  0  0  0  0  0  0  0  0  0  0  0  0  0  0  0  0  0  0  1e  fe  a5  0  0  0  0  0  \n",
            "\n",
            "0  0  0  0  0  0  0  0  0  0  0  0  0  0  0  0  0  0  0  0  0  ba  f4  2a  0  0  0  0  \n",
            "\n",
            "0  0  0  0  0  0  0  0  0  0  0  0  0  0  0  0  0  0  0  0  0  e  df  4e  0  0  0  0  \n",
            "\n",
            "0  0  0  0  0  0  0  0  0  0  0  0  0  0  0  0  0  0  0  0  0  0  0  0  0  0  0  0  \n",
            "\n",
            "0  0  0  0  0  0  0  0  0  0  0  0  0  0  0  0  0  0  0  0  0  0  0  0  0  0  0  0  \n",
            "\n"
          ]
        }
      ],
      "source": [
        "exportInput_txt(imag=array,path_file=f)"
      ]
    },
    {
      "cell_type": "code",
      "execution_count": 96,
      "metadata": {},
      "outputs": [
        {
          "data": {
            "text/plain": [
              "array([[  0,   0,   0,   0,   0,   0,   0,   0,   0,   0,   0,   0,   0,\n",
              "          0,   0,   0,   0,   0,   0,   0,   0,   0,   0,   0,   0,   0,\n",
              "          0,   0],\n",
              "       [  0,   0,   0,   0,   0,   0,   0,   0,   0,   0,   0,   0,   0,\n",
              "          0,   0,   0,   0,   0,   0,   0,   0,   0,   0,   0,   0,   0,\n",
              "          0,   0],\n",
              "       [  0,   0,   0,   0,   0,   0,   0,   0,   0,   0,   0,   0,   0,\n",
              "          0,   0,   0,   0,   0,   0,   0,   0,   0,   0,   0,   0,   0,\n",
              "          0,   0],\n",
              "       [  0,   0,   0,   0,   0,   0,   0,   0,   0,   0,   0,   0,   0,\n",
              "          0,   0,   0,   0,   0,   0,   0,   0,   0,   0,   0,   0,   0,\n",
              "          0,   0],\n",
              "       [  0,   0,   0,   0,   0,   0,   0,   0,   0,   0,   0,   0,   0,\n",
              "          0,   0,   0,   0,   0,   0,   0,   0,   0,   0,   0,   0,   0,\n",
              "          0,   0],\n",
              "       [  0,   0,   0,   0,   0,   0,   0,   0,   0,   0,   0,   0,   0,\n",
              "          0,   0,   0,   0,   0,   0,   0,   0,   0,   0,   0,   0,   0,\n",
              "          0,   0],\n",
              "       [  0,   0,   0,   0,   0,   0,   0,   0,   0,   0,   0,  14, 149,\n",
              "        193,   5,   0,   0,   0,   0,   0,   0,   0,   0,   0,   0,   0,\n",
              "          0,   0],\n",
              "       [  0,   0,   0,   0,   0,   0,   0,   0,   0,   0,  91, 224, 253,\n",
              "        253,  19,   0,   0,   0,   0,   0,   0,   0,   0,   0,   0,   0,\n",
              "          0,   0],\n",
              "       [  0,   0,   0,   0,   0,   0,   0,   0,   0,  28, 235, 254, 253,\n",
              "        253, 166,  18,   0,   0,   0,   0,   0,   0,   0,   0,   0,   0,\n",
              "          0,   0],\n",
              "       [  0,   0,   0,   0,   0,   0,   0,   0,   0, 144, 253, 254, 253,\n",
              "        253, 253, 238, 115,   6,   0,   0,   0,   0,   0,   0,   0,   0,\n",
              "          0,   0],\n",
              "       [  0,   0,   0,   0,   0,   0,   0,   0,  31, 241, 253, 208, 185,\n",
              "        253, 253, 253, 231,  24,   0,   0,   0,   0,   0,   0,   0,   0,\n",
              "          0,   0],\n",
              "       [  0,   0,   0,   0,   0,   0,   0,   0,  79, 254, 193,   0,   8,\n",
              "         98, 219, 254, 255, 201,  18,   0,   0,   0,   0,   0,   0,   0,\n",
              "          0,   0],\n",
              "       [  0,   0,   0,   0,   0,   0,   0,   0,  86, 253,  80,   0,   0,\n",
              "          0, 182, 253, 254, 191,  12,   0,   0,   0,   0,   0,   0,   0,\n",
              "          0,   0],\n",
              "       [  0,   0,   0,   0,   0,   0,   0,   0, 175, 253, 155,   0,   0,\n",
              "          0, 234, 253, 254, 135,   0,   0,   0,   0,   0,   0,   0,   0,\n",
              "          0,   0],\n",
              "       [  0,   0,   0,   0,   0,   0,   0,   0,  86, 253, 208,  40,  85,\n",
              "        166, 251, 237, 254, 236,  42,   0,   0,   0,   0,   0,   0,   0,\n",
              "          0,   0],\n",
              "       [  0,   0,   0,   0,   0,   0,   0,   0,  18, 238, 253, 254, 253,\n",
              "        253, 185,  36, 216, 253, 152,   0,   0,   0,   0,   0,   0,   0,\n",
              "          0,   0],\n",
              "       [  0,   0,   0,   0,   0,   0,   0,   0,   0,  68, 240, 255, 254,\n",
              "        145,   8,   0, 134, 254, 223,  35,   0,   0,   0,   0,   0,   0,\n",
              "          0,   0],\n",
              "       [  0,   0,   0,   0,   0,   0,   0,   0,   0,   0,  68, 158, 142,\n",
              "         12,   0,   0,   9, 175, 253, 161,   0,   0,   0,   0,   0,   0,\n",
              "          0,   0],\n",
              "       [  0,   0,   0,   0,   0,   0,   0,   0,   0,   0,   0,   0,   0,\n",
              "          0,   0,   0,   0,  88, 253, 226,  18,   0,   0,   0,   0,   0,\n",
              "          0,   0],\n",
              "       [  0,   0,   0,   0,   0,   0,   0,   0,   0,   0,   0,   0,   0,\n",
              "          0,   0,   0,   0,   2, 166, 253, 126,   0,   0,   0,   0,   0,\n",
              "          0,   0],\n",
              "       [  0,   0,   0,   0,   0,   0,   0,   0,   0,   0,   0,   0,   0,\n",
              "          0,   0,   0,   0,   0,  48, 245, 253,  38,   0,   0,   0,   0,\n",
              "          0,   0],\n",
              "       [  0,   0,   0,   0,   0,   0,   0,   0,   0,   0,   0,   0,   0,\n",
              "          0,   0,   0,   0,   0,   0, 115, 254, 172,   9,   0,   0,   0,\n",
              "          0,   0],\n",
              "       [  0,   0,   0,   0,   0,   0,   0,   0,   0,   0,   0,   0,   0,\n",
              "          0,   0,   0,   0,   0,   0,  21, 218, 254,  46,   0,   0,   0,\n",
              "          0,   0],\n",
              "       [  0,   0,   0,   0,   0,   0,   0,   0,   0,   0,   0,   0,   0,\n",
              "          0,   0,   0,   0,   0,   0,   0,  30, 254, 165,   0,   0,   0,\n",
              "          0,   0],\n",
              "       [  0,   0,   0,   0,   0,   0,   0,   0,   0,   0,   0,   0,   0,\n",
              "          0,   0,   0,   0,   0,   0,   0,   0, 186, 244,  42,   0,   0,\n",
              "          0,   0],\n",
              "       [  0,   0,   0,   0,   0,   0,   0,   0,   0,   0,   0,   0,   0,\n",
              "          0,   0,   0,   0,   0,   0,   0,   0,  14, 223,  78,   0,   0,\n",
              "          0,   0],\n",
              "       [  0,   0,   0,   0,   0,   0,   0,   0,   0,   0,   0,   0,   0,\n",
              "          0,   0,   0,   0,   0,   0,   0,   0,   0,   0,   0,   0,   0,\n",
              "          0,   0],\n",
              "       [  0,   0,   0,   0,   0,   0,   0,   0,   0,   0,   0,   0,   0,\n",
              "          0,   0,   0,   0,   0,   0,   0,   0,   0,   0,   0,   0,   0,\n",
              "          0,   0]], dtype=uint8)"
            ]
          },
          "execution_count": 96,
          "metadata": {},
          "output_type": "execute_result"
        }
      ],
      "source": [
        "array"
      ]
    },
    {
      "cell_type": "code",
      "execution_count": 97,
      "metadata": {},
      "outputs": [
        {
          "name": "stdout",
          "output_type": "stream",
          "text": [
            "\u001b[1m1/1\u001b[0m \u001b[32m━━━━━━━━━━━━━━━━━━━━\u001b[0m\u001b[37m\u001b[0m \u001b[1m0s\u001b[0m 71ms/step\n"
          ]
        },
        {
          "data": {
            "text/plain": [
              "array([[0., 0., 0., 0., 0., 0., 0., 0., 0., 1.]], dtype=float32)"
            ]
          },
          "execution_count": 97,
          "metadata": {},
          "output_type": "execute_result"
        }
      ],
      "source": [
        "modelo_dig.predict(array.reshape(1,28,28,1))"
      ]
    },
    {
      "cell_type": "code",
      "execution_count": 98,
      "metadata": {},
      "outputs": [
        {
          "name": "stdout",
          "output_type": "stream",
          "text": [
            "\u001b[1m1/1\u001b[0m \u001b[32m━━━━━━━━━━━━━━━━━━━━\u001b[0m\u001b[37m\u001b[0m \u001b[1m0s\u001b[0m 32ms/step\n"
          ]
        },
        {
          "data": {
            "text/plain": [
              "array([[0., 0., 0., 0., 0., 0., 0., 0., 0., 1.]], dtype=float32)"
            ]
          },
          "execution_count": 98,
          "metadata": {},
          "output_type": "execute_result"
        }
      ],
      "source": [
        "modelo_dig.predict(array.reshape(1,28,28,1))"
      ]
    },
    {
      "cell_type": "code",
      "execution_count": 99,
      "metadata": {},
      "outputs": [
        {
          "data": {
            "text/html": [
              "<pre style=\"white-space:pre;overflow-x:auto;line-height:normal;font-family:Menlo,'DejaVu Sans Mono',consolas,'Courier New',monospace\"><span style=\"font-weight: bold\">Model: \"sequential_3\"</span>\n",
              "</pre>\n"
            ],
            "text/plain": [
              "\u001b[1mModel: \"sequential_3\"\u001b[0m\n"
            ]
          },
          "metadata": {},
          "output_type": "display_data"
        },
        {
          "data": {
            "text/html": [
              "<pre style=\"white-space:pre;overflow-x:auto;line-height:normal;font-family:Menlo,'DejaVu Sans Mono',consolas,'Courier New',monospace\">┏━━━━━━━━━━━━━━━━━━━━━━━━━━━━━━━━━┳━━━━━━━━━━━━━━━━━━━━━━━━┳━━━━━━━━━━━━━━━┓\n",
              "┃<span style=\"font-weight: bold\"> Layer (type)                    </span>┃<span style=\"font-weight: bold\"> Output Shape           </span>┃<span style=\"font-weight: bold\">       Param # </span>┃\n",
              "┡━━━━━━━━━━━━━━━━━━━━━━━━━━━━━━━━━╇━━━━━━━━━━━━━━━━━━━━━━━━╇━━━━━━━━━━━━━━━┩\n",
              "│ conv2d_6 (<span style=\"color: #0087ff; text-decoration-color: #0087ff\">Conv2D</span>)               │ (<span style=\"color: #00d7ff; text-decoration-color: #00d7ff\">None</span>, <span style=\"color: #00af00; text-decoration-color: #00af00\">24</span>, <span style=\"color: #00af00; text-decoration-color: #00af00\">24</span>, <span style=\"color: #00af00; text-decoration-color: #00af00\">2</span>)      │            <span style=\"color: #00af00; text-decoration-color: #00af00\">52</span> │\n",
              "├─────────────────────────────────┼────────────────────────┼───────────────┤\n",
              "│ max_pooling2d_6 (<span style=\"color: #0087ff; text-decoration-color: #0087ff\">MaxPooling2D</span>)  │ (<span style=\"color: #00d7ff; text-decoration-color: #00d7ff\">None</span>, <span style=\"color: #00af00; text-decoration-color: #00af00\">12</span>, <span style=\"color: #00af00; text-decoration-color: #00af00\">12</span>, <span style=\"color: #00af00; text-decoration-color: #00af00\">2</span>)      │             <span style=\"color: #00af00; text-decoration-color: #00af00\">0</span> │\n",
              "├─────────────────────────────────┼────────────────────────┼───────────────┤\n",
              "│ conv2d_7 (<span style=\"color: #0087ff; text-decoration-color: #0087ff\">Conv2D</span>)               │ (<span style=\"color: #00d7ff; text-decoration-color: #00d7ff\">None</span>, <span style=\"color: #00af00; text-decoration-color: #00af00\">10</span>, <span style=\"color: #00af00; text-decoration-color: #00af00\">10</span>, <span style=\"color: #00af00; text-decoration-color: #00af00\">4</span>)      │            <span style=\"color: #00af00; text-decoration-color: #00af00\">76</span> │\n",
              "├─────────────────────────────────┼────────────────────────┼───────────────┤\n",
              "│ max_pooling2d_7 (<span style=\"color: #0087ff; text-decoration-color: #0087ff\">MaxPooling2D</span>)  │ (<span style=\"color: #00d7ff; text-decoration-color: #00d7ff\">None</span>, <span style=\"color: #00af00; text-decoration-color: #00af00\">5</span>, <span style=\"color: #00af00; text-decoration-color: #00af00\">5</span>, <span style=\"color: #00af00; text-decoration-color: #00af00\">4</span>)        │             <span style=\"color: #00af00; text-decoration-color: #00af00\">0</span> │\n",
              "├─────────────────────────────────┼────────────────────────┼───────────────┤\n",
              "│ flatten_3 (<span style=\"color: #0087ff; text-decoration-color: #0087ff\">Flatten</span>)             │ (<span style=\"color: #00d7ff; text-decoration-color: #00d7ff\">None</span>, <span style=\"color: #00af00; text-decoration-color: #00af00\">100</span>)            │             <span style=\"color: #00af00; text-decoration-color: #00af00\">0</span> │\n",
              "├─────────────────────────────────┼────────────────────────┼───────────────┤\n",
              "│ dense_3 (<span style=\"color: #0087ff; text-decoration-color: #0087ff\">Dense</span>)                 │ (<span style=\"color: #00d7ff; text-decoration-color: #00d7ff\">None</span>, <span style=\"color: #00af00; text-decoration-color: #00af00\">10</span>)             │         <span style=\"color: #00af00; text-decoration-color: #00af00\">1,010</span> │\n",
              "└─────────────────────────────────┴────────────────────────┴───────────────┘\n",
              "</pre>\n"
            ],
            "text/plain": [
              "┏━━━━━━━━━━━━━━━━━━━━━━━━━━━━━━━━━┳━━━━━━━━━━━━━━━━━━━━━━━━┳━━━━━━━━━━━━━━━┓\n",
              "┃\u001b[1m \u001b[0m\u001b[1mLayer (type)                   \u001b[0m\u001b[1m \u001b[0m┃\u001b[1m \u001b[0m\u001b[1mOutput Shape          \u001b[0m\u001b[1m \u001b[0m┃\u001b[1m \u001b[0m\u001b[1m      Param #\u001b[0m\u001b[1m \u001b[0m┃\n",
              "┡━━━━━━━━━━━━━━━━━━━━━━━━━━━━━━━━━╇━━━━━━━━━━━━━━━━━━━━━━━━╇━━━━━━━━━━━━━━━┩\n",
              "│ conv2d_6 (\u001b[38;5;33mConv2D\u001b[0m)               │ (\u001b[38;5;45mNone\u001b[0m, \u001b[38;5;34m24\u001b[0m, \u001b[38;5;34m24\u001b[0m, \u001b[38;5;34m2\u001b[0m)      │            \u001b[38;5;34m52\u001b[0m │\n",
              "├─────────────────────────────────┼────────────────────────┼───────────────┤\n",
              "│ max_pooling2d_6 (\u001b[38;5;33mMaxPooling2D\u001b[0m)  │ (\u001b[38;5;45mNone\u001b[0m, \u001b[38;5;34m12\u001b[0m, \u001b[38;5;34m12\u001b[0m, \u001b[38;5;34m2\u001b[0m)      │             \u001b[38;5;34m0\u001b[0m │\n",
              "├─────────────────────────────────┼────────────────────────┼───────────────┤\n",
              "│ conv2d_7 (\u001b[38;5;33mConv2D\u001b[0m)               │ (\u001b[38;5;45mNone\u001b[0m, \u001b[38;5;34m10\u001b[0m, \u001b[38;5;34m10\u001b[0m, \u001b[38;5;34m4\u001b[0m)      │            \u001b[38;5;34m76\u001b[0m │\n",
              "├─────────────────────────────────┼────────────────────────┼───────────────┤\n",
              "│ max_pooling2d_7 (\u001b[38;5;33mMaxPooling2D\u001b[0m)  │ (\u001b[38;5;45mNone\u001b[0m, \u001b[38;5;34m5\u001b[0m, \u001b[38;5;34m5\u001b[0m, \u001b[38;5;34m4\u001b[0m)        │             \u001b[38;5;34m0\u001b[0m │\n",
              "├─────────────────────────────────┼────────────────────────┼───────────────┤\n",
              "│ flatten_3 (\u001b[38;5;33mFlatten\u001b[0m)             │ (\u001b[38;5;45mNone\u001b[0m, \u001b[38;5;34m100\u001b[0m)            │             \u001b[38;5;34m0\u001b[0m │\n",
              "├─────────────────────────────────┼────────────────────────┼───────────────┤\n",
              "│ dense_3 (\u001b[38;5;33mDense\u001b[0m)                 │ (\u001b[38;5;45mNone\u001b[0m, \u001b[38;5;34m10\u001b[0m)             │         \u001b[38;5;34m1,010\u001b[0m │\n",
              "└─────────────────────────────────┴────────────────────────┴───────────────┘\n"
            ]
          },
          "metadata": {},
          "output_type": "display_data"
        },
        {
          "data": {
            "text/html": [
              "<pre style=\"white-space:pre;overflow-x:auto;line-height:normal;font-family:Menlo,'DejaVu Sans Mono',consolas,'Courier New',monospace\"><span style=\"font-weight: bold\"> Total params: </span><span style=\"color: #00af00; text-decoration-color: #00af00\">1,140</span> (4.46 KB)\n",
              "</pre>\n"
            ],
            "text/plain": [
              "\u001b[1m Total params: \u001b[0m\u001b[38;5;34m1,140\u001b[0m (4.46 KB)\n"
            ]
          },
          "metadata": {},
          "output_type": "display_data"
        },
        {
          "data": {
            "text/html": [
              "<pre style=\"white-space:pre;overflow-x:auto;line-height:normal;font-family:Menlo,'DejaVu Sans Mono',consolas,'Courier New',monospace\"><span style=\"font-weight: bold\"> Trainable params: </span><span style=\"color: #00af00; text-decoration-color: #00af00\">1,138</span> (4.45 KB)\n",
              "</pre>\n"
            ],
            "text/plain": [
              "\u001b[1m Trainable params: \u001b[0m\u001b[38;5;34m1,138\u001b[0m (4.45 KB)\n"
            ]
          },
          "metadata": {},
          "output_type": "display_data"
        },
        {
          "data": {
            "text/html": [
              "<pre style=\"white-space:pre;overflow-x:auto;line-height:normal;font-family:Menlo,'DejaVu Sans Mono',consolas,'Courier New',monospace\"><span style=\"font-weight: bold\"> Non-trainable params: </span><span style=\"color: #00af00; text-decoration-color: #00af00\">0</span> (0.00 B)\n",
              "</pre>\n"
            ],
            "text/plain": [
              "\u001b[1m Non-trainable params: \u001b[0m\u001b[38;5;34m0\u001b[0m (0.00 B)\n"
            ]
          },
          "metadata": {},
          "output_type": "display_data"
        },
        {
          "data": {
            "text/html": [
              "<pre style=\"white-space:pre;overflow-x:auto;line-height:normal;font-family:Menlo,'DejaVu Sans Mono',consolas,'Courier New',monospace\"><span style=\"font-weight: bold\"> Optimizer params: </span><span style=\"color: #00af00; text-decoration-color: #00af00\">2</span> (12.00 B)\n",
              "</pre>\n"
            ],
            "text/plain": [
              "\u001b[1m Optimizer params: \u001b[0m\u001b[38;5;34m2\u001b[0m (12.00 B)\n"
            ]
          },
          "metadata": {},
          "output_type": "display_data"
        }
      ],
      "source": [
        "modelo_dig.summary()"
      ]
    },
    {
      "cell_type": "code",
      "execution_count": 100,
      "metadata": {},
      "outputs": [],
      "source": [
        "kernels = modelo_dig.weights[5]\n"
      ]
    },
    {
      "cell_type": "code",
      "execution_count": 101,
      "metadata": {},
      "outputs": [],
      "source": [
        "bias = np.array(modelo_dig.weights[1])"
      ]
    },
    {
      "cell_type": "code",
      "execution_count": 102,
      "metadata": {},
      "outputs": [
        {
          "name": "stdout",
          "output_type": "stream",
          "text": [
            "8\n",
            "-23 -42 "
          ]
        }
      ],
      "source": [
        "bias_txt(nbits,point_fixed,0,modelo_dig.weights[1])"
      ]
    },
    {
      "cell_type": "code",
      "execution_count": 103,
      "metadata": {},
      "outputs": [
        {
          "name": "stdout",
          "output_type": "stream",
          "text": [
            "8\n",
            "5 183 -13 -134 49 49 -64 128 -187 -123 "
          ]
        }
      ],
      "source": [
        "bias_txt(nbits,point_fixed,5,modelo_dig.weights[5])"
      ]
    },
    {
      "cell_type": "code",
      "execution_count": 104,
      "metadata": {},
      "outputs": [],
      "source": [
        "cc = modelo_dig.weights[4]"
      ]
    },
    {
      "cell_type": "code",
      "execution_count": 105,
      "metadata": {},
      "outputs": [
        {
          "name": "stdout",
          "output_type": "stream",
          "text": [
            "8\n",
            "-23 -42 "
          ]
        }
      ],
      "source": [
        "bias_txt(nbits,point_fixed,2,modelo_dig.weights[1])"
      ]
    },
    {
      "cell_type": "code",
      "execution_count": 106,
      "metadata": {},
      "outputs": [],
      "source": [
        "modelo_dig.weights[0]\n",
        "kernels = modelo_dig.weights[0]\n",
        "kernels;"
      ]
    },
    {
      "cell_type": "code",
      "execution_count": 107,
      "metadata": {},
      "outputs": [
        {
          "name": "stdout",
          "output_type": "stream",
          "text": [
            "8\n",
            "-66 -85 -14 -38 "
          ]
        }
      ],
      "source": [
        "bias_txt(nbits,point_fixed,2,modelo_dig.weights[3])\n"
      ]
    },
    {
      "cell_type": "code",
      "execution_count": 108,
      "metadata": {},
      "outputs": [
        {
          "name": "stdout",
          "output_type": "stream",
          "text": [
            "-17 17 -99 49 114 \n",
            "\n",
            "-41 -50 141 87 80 \n",
            "\n",
            "-34 90 104 160 -54 \n",
            "\n",
            "59 122 85 67 -71 \n",
            "\n",
            "69 72 19 27 -80 \n",
            "\n",
            "-------------------------------------------------------------------- 1\n",
            "-10 -11 -10 -27 -60 \n",
            "\n",
            "106 -20 -47 -9 -129 \n",
            "\n",
            "111 97 46 -34 61 \n",
            "\n",
            "75 150 69 182 87 \n",
            "\n",
            "-30 63 90 9 95 \n",
            "\n",
            "-------------------------------------------------------------------- 2\n"
          ]
        }
      ],
      "source": [
        "lim = np.array(kernels.shape)[::-1][0]\n",
        "for i in range(lim):\n",
        "    kernel_txt(nbits,point_fixed,i,0,modelo_dig.weights[0][:,:,0,i])\n",
        "    print(\"--------------------------------------------------------------------\",i+1)"
      ]
    },
    {
      "cell_type": "markdown",
      "metadata": {},
      "source": [
        "kernel0"
      ]
    },
    {
      "cell_type": "code",
      "execution_count": 109,
      "metadata": {},
      "outputs": [],
      "source": [
        "#  modelo_dig.weights[2].shape"
      ]
    },
    {
      "cell_type": "code",
      "execution_count": 110,
      "metadata": {},
      "outputs": [],
      "source": [
        "# lims = int(np.array(kernels2d_1.shape)[::-1][0])\n",
        "# limi = int(np.array(kernels2d_1.shape)[::-1][1])\n",
        "# (limi,lims)"
      ]
    },
    {
      "cell_type": "code",
      "execution_count": 111,
      "metadata": {},
      "outputs": [
        {
          "name": "stdout",
          "output_type": "stream",
          "text": [
            "------------------------------- 1 1\n",
            "82 -11 -35 \n",
            "\n",
            "13 269 102 \n",
            "\n",
            "123 193 245 \n",
            "\n",
            "------------------------------- 1 2\n",
            "-80 -90 -57 \n",
            "\n",
            "10 131 120 \n",
            "\n",
            "-6 -122 -43 \n",
            "\n",
            "------------------------------- 1 3\n",
            "-137 -106 -64 \n",
            "\n",
            "61 29 45 \n",
            "\n",
            "-71 -33 -33 \n",
            "\n",
            "------------------------------- 1 4\n",
            "67 -13 75 \n",
            "\n",
            "144 34 -11 \n",
            "\n",
            "-52 46 -18 \n",
            "\n",
            "------------------------------- 2 1\n",
            "5 -129 -22 \n",
            "\n",
            "-113 -123 -119 \n",
            "\n",
            "-20 -120 -60 \n",
            "\n",
            "------------------------------- 2 2\n",
            "111 187 170 \n",
            "\n",
            "93 -51 -10 \n",
            "\n",
            "-106 -87 -135 \n",
            "\n",
            "------------------------------- 2 3\n",
            "77 -90 113 \n",
            "\n",
            "246 123 45 \n",
            "\n",
            "82 72 -50 \n",
            "\n",
            "------------------------------- 2 4\n",
            "-44 84 -15 \n",
            "\n",
            "-19 83 -65 \n",
            "\n",
            "79 -6 141 \n",
            "\n"
          ]
        }
      ],
      "source": [
        "kernels2d_1 = modelo_dig.weights[2]\n",
        "lims = int(np.array(kernels2d_1.shape)[::-1][0])\n",
        "limi = int(np.array(kernels2d_1.shape)[::-1][1])\n",
        "for i in range(limi):\n",
        "    for j in range(lims):\n",
        "        print(\"-------------------------------\",i+1,j+1)\n",
        "        kernel_txt(nbits,point_fixed,j,i,kernels2d_1[:,:,i,j],string=f\"kernels2d_\")\n"
      ]
    },
    {
      "cell_type": "code",
      "execution_count": 112,
      "metadata": {},
      "outputs": [
        {
          "name": "stdout",
          "output_type": "stream",
          "text": [
            "-81 -133 -69 -107 -40 -45 14 -148 20 -21 \n",
            "\n",
            "-224 -128 6 -73 -11 -216 -164 -51 -230 -270 \n",
            "\n",
            "-84 -43 -122 -57 36 -115 -91 -17 -109 -25 \n",
            "\n",
            "-93 -107 -126 -60 -52 -103 16 12 -37 -121 \n",
            "\n",
            "-115 -115 -64 -102 37 -39 2 -74 12 12 \n",
            "\n",
            "-96 -46 -29 42 -315 -131 -257 -7 -51 -22 \n",
            "\n",
            "-92 -80 -64 -33 9 5 -120 48 -10 -62 \n",
            "\n",
            "-57 -65 -18 -60 3 -22 -44 24 -27 -104 \n",
            "\n",
            "-46 -41 -74 -96 -10 -32 37 -58 -26 16 \n",
            "\n",
            "-106 -311 11 -48 -277 -56 -54 43 -53 -82 \n",
            "\n",
            "4 -84 -61 -10 -142 -28 -164 -4 -63 58 \n",
            "\n",
            "-20 32 -14 -49 24 -98 -62 31 21 -109 \n",
            "\n",
            "-100 4 -129 -98 86 -8 -35 -24 -82 -112 \n",
            "\n",
            "-41 -111 -89 -61 -346 111 70 -77 -79 -93 \n",
            "\n",
            "16 -25 20 38 -74 -94 -215 -25 -52 56 \n",
            "\n",
            "27 4 -7 -23 1 -61 -128 -99 32 18 \n",
            "\n",
            "-102 -22 -175 -189 77 101 -52 -30 -136 -141 \n",
            "\n",
            "-133 -109 -111 -179 -115 -49 57 -216 -85 -253 \n",
            "\n",
            "3 -111 -21 -90 14 33 -145 -48 46 28 \n",
            "\n",
            "-17 -25 -95 -58 0 2 14 -16 -6 -23 \n",
            "\n",
            "-2 -58 -139 -132 8 -96 45 -119 -104 30 \n",
            "\n",
            "-108 -43 65 39 -290 -120 -421 -51 -187 -222 \n",
            "\n",
            "-63 -68 26 -70 -82 -175 -126 -32 -69 -56 \n",
            "\n",
            "-32 -23 -72 -26 -101 -76 -4 -108 -1 -66 \n",
            "\n",
            "0 -84 -120 -16 23 -44 -16 -147 -98 -36 \n",
            "\n",
            "-127 -33 22 62 -376 -131 -286 69 -70 -121 \n",
            "\n",
            "-85 -111 -49 -21 -77 -40 -57 -29 -57 -31 \n",
            "\n",
            "2 -77 -101 -114 11 -24 -9 -86 -5 57 \n",
            "\n",
            "-41 63 -88 96 -61 -120 0 -41 -121 -39 \n",
            "\n",
            "-63 -244 -9 -87 -248 -45 -144 91 -76 -84 \n",
            "\n",
            "-83 -48 -62 -29 -20 11 -88 -27 25 0 \n",
            "\n",
            "-56 -22 -64 -57 -71 69 -28 -7 4 95 \n",
            "\n",
            "-87 -101 25 126 3 -255 -53 12 74 -14 \n",
            "\n",
            "-16 -149 -76 -35 -278 72 37 1 36 -60 \n",
            "\n",
            "-97 41 -113 -52 -129 55 -64 -51 -30 -7 \n",
            "\n",
            "3 56 -115 -43 11 -85 -66 16 -58 105 \n",
            "\n",
            "-61 -134 -82 -21 -74 -149 -52 -127 33 -101 \n",
            "\n",
            "-72 -90 -157 -14 -51 99 -68 24 -42 -59 \n",
            "\n",
            "67 -117 -32 -80 -87 39 -14 27 -79 -35 \n",
            "\n",
            "-2 -40 -63 -13 -25 -71 -43 29 -38 -21 \n",
            "\n",
            "18 -109 17 -164 22 -115 6 -11 -119 -154 \n",
            "\n",
            "-229 -70 9 -41 -90 -57 -366 87 -76 -166 \n",
            "\n",
            "-53 -154 96 -2 -73 -160 -177 -40 -179 -142 \n",
            "\n",
            "-9 -47 -129 -76 -60 -84 -52 -77 -4 -43 \n",
            "\n",
            "32 -73 52 -22 -62 -21 8 9 -42 -142 \n",
            "\n",
            "-195 -83 -110 -101 7 3 -246 -45 -65 -49 \n",
            "\n",
            "-72 -78 -24 -49 -83 -9 -46 -12 -64 -24 \n",
            "\n",
            "54 -76 -72 -55 -23 -2 9 -43 -22 -13 \n",
            "\n",
            "-161 65 49 -68 -41 -93 -20 -16 33 -24 \n",
            "\n",
            "-196 -255 -131 -10 -1 -26 -51 -180 -75 41 \n",
            "\n",
            "-88 -172 -37 -69 56 29 -2 -173 -14 -6 \n",
            "\n",
            "-78 36 -111 102 -36 -36 -4 -65 4 -12 \n",
            "\n",
            "61 -65 63 -25 57 -98 -85 32 -46 -13 \n",
            "\n",
            "-172 -97 -130 19 -37 -11 -2 -88 -35 -152 \n",
            "\n",
            "-171 -52 -78 -19 -12 -63 32 -155 9 -91 \n",
            "\n",
            "-48 83 -25 29 -13 -75 16 20 3 18 \n",
            "\n",
            "-1 -76 -8 -247 -67 -234 -18 -35 -64 -30 \n",
            "\n",
            "-30 -142 -51 -141 -34 -76 -1 -73 -6 -107 \n",
            "\n",
            "-80 -121 -96 -26 -10 -7 -35 22 -97 -92 \n",
            "\n",
            "25 -59 -11 11 19 -113 -88 21 -8 65 \n",
            "\n",
            "-48 -22 11 -169 -157 -188 -35 -48 53 -155 \n",
            "\n",
            "-254 -198 -104 9 -20 15 -215 -89 -164 -38 \n",
            "\n",
            "-219 -28 5 29 -116 2 -256 -12 -55 -348 \n",
            "\n",
            "12 60 -4 -138 0 -85 -17 -71 -9 -71 \n",
            "\n",
            "-18 -46 90 -153 -105 -50 -11 -46 58 -195 \n",
            "\n",
            "-148 -234 -122 -77 -6 10 -186 -152 -159 39 \n",
            "\n",
            "-91 -55 -75 -15 -23 -36 -37 -97 -176 14 \n",
            "\n",
            "42 -13 19 -91 -30 -53 -29 -36 -26 -1 \n",
            "\n",
            "-34 -33 -3 -101 -59 -4 -18 -16 -68 11 \n",
            "\n",
            "-39 -223 -71 -59 5 -37 -43 -105 -94 -81 \n",
            "\n",
            "7 -156 -76 -72 -49 -25 35 -97 -96 -57 \n",
            "\n",
            "-14 90 72 -67 -53 -73 71 -92 10 -99 \n",
            "\n",
            "24 -197 -23 10 -92 -34 36 -24 -81 -24 \n",
            "\n",
            "-199 -49 -41 -79 -20 -106 -53 -27 -51 -183 \n",
            "\n",
            "-73 31 -30 21 -94 -9 -30 -132 -2 -186 \n",
            "\n",
            "-91 105 0 -75 -43 -32 9 33 -50 -41 \n",
            "\n",
            "-59 -2 -123 -78 -224 -89 -32 -165 -174 -140 \n",
            "\n",
            "7 -82 121 -131 -23 -88 -34 -10 -158 -189 \n",
            "\n",
            "-98 4 32 -41 -9 -63 -89 -35 4 -144 \n",
            "\n",
            "-25 -101 -6 0 -66 -53 14 16 -132 -7 \n",
            "\n",
            "-135 -5 -83 -64 -11 -80 -130 8 -173 -25 \n",
            "\n",
            "-118 -13 -168 15 -162 49 -194 -167 -153 -91 \n",
            "\n",
            "-165 30 -118 20 -38 -29 -591 -4 -232 -43 \n",
            "\n",
            "14 -3 15 16 -173 -88 -89 -138 -8 -63 \n",
            "\n",
            "-6 -40 -66 -8 -6 -20 -85 14 -138 -20 \n",
            "\n",
            "6 -163 -39 -44 -116 3 -27 -167 -58 -20 \n",
            "\n",
            "-169 -113 -101 18 -148 -43 -183 -187 -91 -60 \n",
            "\n",
            "35 -21 0 -51 -94 -68 -24 -83 -1 7 \n",
            "\n",
            "-127 -94 -136 8 16 14 -144 -33 -34 -13 \n",
            "\n",
            "13 -121 -34 -53 -174 -59 27 -243 -14 -220 \n",
            "\n",
            "63 -100 6 -5 -239 -4 -16 -245 -12 -185 \n",
            "\n",
            "-44 8 -70 -55 4 -39 -64 -60 -18 -117 \n",
            "\n",
            "-99 -145 -223 -7 -88 51 -146 -81 -4 -84 \n",
            "\n",
            "-103 51 12 -82 -63 -91 -18 -91 -52 -146 \n",
            "\n",
            "-68 64 -36 -144 -82 -102 -88 8 -44 -90 \n",
            "\n",
            "-52 -84 -93 -35 56 -47 24 61 -71 -1 \n",
            "\n",
            "-22 -233 -176 -71 -138 70 -129 -403 -4 -38 \n",
            "\n",
            "-36 -32 86 -55 -10 -41 -54 -80 -56 -91 \n",
            "\n",
            "-163 -39 107 -114 20 -129 -64 -169 -116 -34 \n",
            "\n",
            "-75 0 -71 -61 -59 -31 -55 -145 -99 -17 \n",
            "\n"
          ]
        }
      ],
      "source": [
        "kernel_txt(nbits,point_fixed,0,0,modelo_dig.weights[4],string=\"danse.txt\")"
      ]
    },
    {
      "cell_type": "code",
      "execution_count": 113,
      "metadata": {},
      "outputs": [
        {
          "name": "stderr",
          "output_type": "stream",
          "text": [
            "/bin/sh: cds: command not found\n",
            "/bin/sh: cds: command not found\n"
          ]
        },
        {
          "data": {
            "text/plain": [
              "CompletedProcess(args='cds && runp.sh', returncode=127)"
            ]
          },
          "execution_count": 113,
          "metadata": {},
          "output_type": "execute_result"
        }
      ],
      "source": [
        "import subprocess\n",
        "subprocess.run('cds',shell=True)\n",
        "subprocess.run('cds && runp.sh',shell=True)"
      ]
    },
    {
      "cell_type": "code",
      "execution_count": 114,
      "metadata": {},
      "outputs": [],
      "source": [
        "out = open(\"simulation/maxpooling0.txt\",\"r\")\n",
        "\n",
        "klin1 = []\n",
        "m1=[]\n",
        "k= out.readlines()\n",
        "for i in k:\n",
        "    m1.append(list(map(concat,i.split())))\n"
      ]
    },
    {
      "cell_type": "code",
      "execution_count": 115,
      "metadata": {},
      "outputs": [],
      "source": [
        "# array_out =[]\n",
        "\n",
        "# for i in range(1):\n",
        "#     array_out.append(open(f\"./simulation/maxIxKernelPooling{i}.txt\",\"r\"))\n",
        "# klin2 = []\n",
        "# plt.figure(figsize=(30,2))\n",
        "# for ii in range(2):\n",
        "#     k2 = array_out[ii].readlines()\n",
        "#     m2=[]\n",
        "#     for i in k2:\n",
        "#         m2.append(list(map(concat,i.split())))\n",
        "#     plt.subplot(1,2,ii+1)\n",
        "#     plt.imshow(m2,cmap=\"gray\")\n",
        "# # plt.imshow(m2)\n",
        "\n",
        "# for i in range(2):\n",
        "#     array_out[i].close()\n"
      ]
    },
    {
      "cell_type": "code",
      "execution_count": 116,
      "metadata": {},
      "outputs": [],
      "source": [
        "# m2"
      ]
    },
    {
      "cell_type": "code",
      "execution_count": 117,
      "metadata": {},
      "outputs": [
        {
          "data": {
            "image/png": "[encoded data removed]",
            "text/plain": [
              "<Figure size 640x480 with 1 Axes>"
            ]
          },
          "metadata": {},
          "output_type": "display_data"
        }
      ],
      "source": [
        "out2 = open(\"./simulation/I.txt\",\"r\")\n",
        "import_img(path_file=out2);"
      ]
    },
    {
      "cell_type": "markdown",
      "metadata": {},
      "source": []
    },
    {
      "cell_type": "code",
      "execution_count": 118,
      "metadata": {},
      "outputs": [
        {
          "data": {
            "text/plain": [
              "<matplotlib.image.AxesImage at 0x7ff7646c1c50>"
            ]
          },
          "execution_count": 118,
          "metadata": {},
          "output_type": "execute_result"
        },
        {
          "data": {
            "image/png": "[encoded data removed]",
            "text/plain": [
              "<Figure size 3000x800 with 1 Axes>"
            ]
          },
          "metadata": {},
          "output_type": "display_data"
        }
      ],
      "source": [
        "plt.figure(figsize=(30,8))\n",
        "plt.subplot(1,3,1)\n",
        "plt.imshow(array,cmap=\"gray\")\n"
      ]
    },
    {
      "cell_type": "code",
      "execution_count": 119,
      "metadata": {},
      "outputs": [],
      "source": [
        "cmap='viridis'"
      ]
    },
    {
      "cell_type": "code",
      "execution_count": 120,
      "metadata": {},
      "outputs": [],
      "source": [
        "plt.imsave(\"7.png\",array,cmap=\"gray\")"
      ]
    },
    {
      "cell_type": "code",
      "execution_count": 236,
      "metadata": {},
      "outputs": [
        {
          "data": {
            "image/png": "[encoded data removed]",
            "text/plain": [
              "<Figure size 1000x1000 with 1 Axes>"
            ]
          },
          "metadata": {},
          "output_type": "display_data"
        }
      ],
      "source": [
        "plt.figure(figsize=(10,10))\n",
        "a = import_img2(path_file=open('./simulation/I.txt'),fator=1,string=\"images/input.png\");\n",
        "plt.savefig(\"images/input.png\")\n",
        "# plt.imsave('images/input.png',a.reshape(28,28),cmap=cmap)\n",
        "# a.shape"
      ]
    },
    {
      "cell_type": "code",
      "execution_count": 234,
      "metadata": {},
      "outputs": [
        {
          "data": {
            "image/png": "[encoded data removed]",
            "text/plain": [
              "<Figure size 2000x2000 with 2 Axes>"
            ]
          },
          "metadata": {},
          "output_type": "display_data"
        }
      ],
      "source": [
        "plt.figure(figsize=(20,20))\n",
        "plt.subplot(1,2,1)\n",
        "a = import_img2(path_file=open('simulation/convIxKernelOut0.txt'),fator=1,string=\"images/conv1_layer0.png\")\n",
        "# plt.savefig(\"images/conv1_layer0.png\")\n",
        "\n",
        "plt.subplot(1,2,2)\n",
        "import_img2(path_file=open('simulation/convIxKernelOut1.txt'),fator=1,string=\"images/conv1_layer1.png\");\n",
        "plt.savefig(\"images/conv1_layer0.png\")"
      ]
    },
    {
      "cell_type": "code",
      "execution_count": 241,
      "metadata": {},
      "outputs": [
        {
          "data": {
            "image/png": "[encoded data removed]",
            "text/plain": [
              "<Figure size 2000x2000 with 2 Axes>"
            ]
          },
          "metadata": {},
          "output_type": "display_data"
        }
      ],
      "source": [
        "plt.figure(figsize=(20,20))\n",
        "plt.subplot(1,2,1)\n",
        "import_img2(path_file=open('simulation/maxpooling0.txt'),fator=1,string=\"images/maxpooling0_layer2.png\");\n",
        "plt.subplot(1,2,2)\n",
        "import_img2(path_file=open('simulation/maxpooling1.txt'),fator=1,string=\"images/maxpooling1_layer2.png\");\n",
        "plt.savefig(\"images/maxpooling0_layer2.png\")"
      ]
    },
    {
      "cell_type": "markdown",
      "metadata": {},
      "source": []
    },
    {
      "cell_type": "code",
      "execution_count": 233,
      "metadata": {},
      "outputs": [
        {
          "data": {
            "image/png": "[encoded data removed]",
            "text/plain": [
              "<Figure size 2000x2000 with 4 Axes>"
            ]
          },
          "metadata": {},
          "output_type": "display_data"
        }
      ],
      "source": [
        "plt.figure(figsize=(20,20))\n",
        "plt.subplot(1,4,1)\n",
        "import_img2(path_file=open('simulation/convIxKernelOut_F01.txt'),fator=1,string=\"images/conv0_layer3.png\");\n",
        "plt.subplot(1,4,2)\n",
        "import_img2(path_file=open('simulation/convIxKernelOut_F02.txt'),fator=1,string=\"images/conv1_layer3.png\");\n",
        "plt.subplot(1,4,3)\n",
        "import_img2(path_file=open('simulation/convIxKernelOut_F03.txt'),fator=1,string=\"images/conv2_layer3.png\");\n",
        "plt.subplot(1,4,4)\n",
        "import_img2(path_file=open('simulation/convIxKernelOut_F04.txt'),fator=1,string=\"images/conv3_layer3.png\");\n",
        "plt.savefig(\"images/conv0_layer3.png\")\n"
      ]
    },
    {
      "cell_type": "code",
      "execution_count": 232,
      "metadata": {},
      "outputs": [
        {
          "data": {
            "image/png": "[encoded data removed]",
            "text/plain": [
              "<Figure size 2000x2000 with 4 Axes>"
            ]
          },
          "metadata": {},
          "output_type": "display_data"
        }
      ],
      "source": [
        "plt.figure(figsize=(20,20))\n",
        "plt.subplot(1,4,1)\n",
        "import_img2(path_file=open('simulation/maxpoolingF1.txt'),fator=1,string=\"images/maxpooling0_layer4.png\");\n",
        "plt.subplot(1,4,2)\n",
        "import_img2(path_file=open('simulation/maxpoolingF2.txt'),fator=1,string=\"images/maxpooling1_layer4.png\");\n",
        "plt.subplot(1,4,3)\n",
        "import_img2(path_file=open('simulation/maxpoolingF3.txt'),fator=1,string=\"images/maxpooling2_layer4.png\");\n",
        "plt.subplot(1,4,4)\n",
        "import_img2(path_file=open('simulation/maxpoolingF4.txt'),fator=1,string=\"images/maxpooling3_layer4.png\");\n",
        "plt.savefig(\"images/maxpooling0_layer4.png\")"
      ]
    },
    {
      "cell_type": "code",
      "execution_count": 226,
      "metadata": {},
      "outputs": [],
      "source": [
        "def import_img3(path_file,fator=1,string='fig.png',transpor=0):\n",
        "    out2 = path_file\n",
        "    m2=[]\n",
        "    k2 = out2.readlines()\n",
        "    for i in k2:\n",
        "        m2.append(list(map(concat2,i.split()))[0])\n",
        "    # m2 = list(np.array(m2).T)\n",
        "    # print(m2)\n",
        "    plt.imshow(np.array(m2).T,cmap ='viridis')\n",
        "    plt.imsave(string,np.array(m2).T,cmap='viridis')\n",
        "    if(transpor):\n",
        "        return m2\n",
        "    "
      ]
    },
    {
      "cell_type": "code",
      "execution_count": 230,
      "metadata": {},
      "outputs": [
        {
          "data": {
            "image/png": "[encoded data removed]",
            "text/plain": [
              "<Figure size 8000x4000 with 1 Axes>"
            ]
          },
          "metadata": {},
          "output_type": "display_data"
        }
      ],
      "source": [
        "plt.figure(figsize=(80,40))\n",
        "import_img3(path_file=open('simulation/flatten.txt'),fator=1,string='images/flatten_layer5.png');\n",
        "plt.savefig(\"images/flatten_layer5.png\")"
      ]
    },
    {
      "cell_type": "code",
      "execution_count": 231,
      "metadata": {},
      "outputs": [
        {
          "data": {
            "image/png": "[encoded data removed]",
            "text/plain": [
              "<Figure size 8000x4000 with 1 Axes>"
            ]
          },
          "metadata": {},
          "output_type": "display_data"
        }
      ],
      "source": [
        "plt.figure(figsize=(80,40))\n",
        "import_img3(path_file=open('simulation/dense.txt'),fator=1,string='images/dense_layer6.png');\n",
        "plt.savefig(\"images/dense_layer6.png\")"
      ]
    },
    {
      "cell_type": "code",
      "execution_count": null,
      "metadata": {},
      "outputs": [],
      "source": [
        "# plt.imsave()"
      ]
    },
    {
      "cell_type": "code",
      "execution_count": null,
      "metadata": {},
      "outputs": [],
      "source": [
        "# img.save_img(\"./images/preprocessamento.jpg\",array)\n"
      ]
    },
    {
      "cell_type": "code",
      "execution_count": null,
      "metadata": {},
      "outputs": [],
      "source": [
        "# os.system(\"rm ./images/preprocessamento.jpg\")\n",
        "# os.system(\"rm ./images/posprocessamento.jpg\")\n",
        "\n",
        "# img.save_img(\"./images/preprocessamento.jpg\",array)\n",
        "# img.save_img(\"./images/posprocessamento.jpg\",m1)\n",
        "# img.save_img(\"./images/maxpoolingposprocessamento.jpg\",m2)\n"
      ]
    },
    {
      "cell_type": "code",
      "execution_count": null,
      "metadata": {},
      "outputs": [],
      "source": []
    },
    {
      "cell_type": "code",
      "execution_count": null,
      "metadata": {},
      "outputs": [
        {
          "name": "stdout",
          "output_type": "stream",
          "text": [
            "[-212166517874.0]\n",
            "[-212166517874.0, -180574259603.0]\n",
            "[-212166517874.0, -180574259603.0, -154815530711.0]\n",
            "[-212166517874.0, -180574259603.0, -154815530711.0, -142683347227.0]\n",
            "[-212166517874.0, -180574259603.0, -154815530711.0, -142683347227.0, -134785383842.0]\n",
            "[-212166517874.0, -180574259603.0, -154815530711.0, -142683347227.0, -134785383842.0, -145781953376.0]\n",
            "[-212166517874.0, -180574259603.0, -154815530711.0, -142683347227.0, -134785383842.0, -145781953376.0, -185307901171.0]\n",
            "[-212166517874.0, -180574259603.0, -154815530711.0, -142683347227.0, -134785383842.0, -145781953376.0, -185307901171.0, -167681425335.0]\n",
            "[-212166517874.0, -180574259603.0, -154815530711.0, -142683347227.0, -134785383842.0, -145781953376.0, -185307901171.0, -167681425335.0, -139479319049.0]\n",
            "[-212166517874.0, -180574259603.0, -154815530711.0, -142683347227.0, -134785383842.0, -145781953376.0, -185307901171.0, -167681425335.0, -139479319049.0, -116425649451.0]\n"
          ]
        },
        {
          "data": {
            "text/plain": [
              "array([-212166517874, -180574259603, -154815530711, -142683347227,\n",
              "       -134785383842, -145781953376, -185307901171, -167681425335,\n",
              "       -139479319049, -116425649451])"
            ]
          },
          "execution_count": 54,
          "metadata": {},
          "output_type": "execute_result"
        }
      ],
      "source": [
        "dens = open(\"simulation/dense.txt\")\n",
        "klin2 = []\n",
        "m2=[]\n",
        "k2 = dens.readlines()\n",
        "for i in k2:\n",
        "    m2.append(list(map(concat,i.split()))[0][0])\n",
        "    print(m2)\n",
        "m2 =(np.array(m2))\n",
        "m2\n",
        "(np.array(m2,int))"
      ]
    },
    {
      "cell_type": "code",
      "execution_count": null,
      "metadata": {},
      "outputs": [
        {
          "data": {
            "text/plain": [
              "np.int64(9)"
            ]
          },
          "execution_count": 55,
          "metadata": {},
          "output_type": "execute_result"
        }
      ],
      "source": [
        "m2.argmax()"
      ]
    },
    {
      "cell_type": "code",
      "execution_count": null,
      "metadata": {},
      "outputs": [
        {
          "name": "stdout",
          "output_type": "stream",
          "text": [
            "9.994389394150303\n"
          ]
        },
        {
          "data": {
            "text/plain": [
              "(np.int64(9), np.float64(0.1000147601933082))"
            ]
          },
          "execution_count": 56,
          "metadata": {},
          "output_type": "execute_result"
        }
      ],
      "source": [
        "a =m2\n",
        "n = 48\n",
        "s = sum([np.exp(a[i]/2**n) for i in range(len(a))])\n",
        "print(s)\n",
        "h = np.array([np.exp(a[i]/2**n)/s for i in range(len(a))])\n",
        "(h.argmax(),h.max())"
      ]
    },
    {
      "cell_type": "code",
      "execution_count": null,
      "metadata": {},
      "outputs": [
        {
          "data": {
            "text/plain": [
              "array([49.39886692, 42.04322109, 36.04579966, 33.22105557, 31.38216768,\n",
              "       33.94250604, 43.1453579 , 39.04137419, 32.47505963, 27.1074589 ])"
            ]
          },
          "execution_count": 57,
          "metadata": {},
          "output_type": "execute_result"
        }
      ],
      "source": [
        "-np.array(m2/2**32,float)"
      ]
    },
    {
      "cell_type": "code",
      "execution_count": null,
      "metadata": {},
      "outputs": [
        {
          "name": "stdout",
          "output_type": "stream",
          "text": [
            "1.7251796807544356e-12\n"
          ]
        },
        {
          "data": {
            "text/plain": [
              "(np.int64(9), np.float64(0.9784662430793594))"
            ]
          },
          "execution_count": 58,
          "metadata": {},
          "output_type": "execute_result"
        }
      ],
      "source": [
        "a =np.array(m2/2**32,float)\n",
        "n = 0\n",
        "s = sum([np.exp(a[i]/2**n) for i in range(len(a))])\n",
        "print(s)\n",
        "h = np.array([np.exp(a[i]/2**n)/s for i in range(len(a))])\n",
        "(h.argmax(),h.max())"
      ]
    },
    {
      "cell_type": "code",
      "execution_count": null,
      "metadata": {},
      "outputs": [],
      "source": [
        "# from matplotlib import pyplot as plt"
      ]
    },
    {
      "cell_type": "code",
      "execution_count": null,
      "metadata": {},
      "outputs": [
        {
          "ename": "TypeError",
          "evalue": "Invalid shape (10,) for image data",
          "output_type": "error",
          "traceback": [
            "\u001b[31m---------------------------------------------------------------------------\u001b[39m",
            "\u001b[31mTypeError\u001b[39m                                 Traceback (most recent call last)",
            "\u001b[36mCell\u001b[39m\u001b[36m \u001b[39m\u001b[32mIn[60]\u001b[39m\u001b[32m, line 1\u001b[39m\n\u001b[32m----> \u001b[39m\u001b[32m1\u001b[39m \u001b[43mplt\u001b[49m\u001b[43m.\u001b[49m\u001b[43mimshow\u001b[49m\u001b[43m(\u001b[49m\u001b[43mh\u001b[49m\u001b[43m)\u001b[49m\n",
            "\u001b[36mFile \u001b[39m\u001b[32m~/2CC/ConvolutionMatrixVerilog/.venv/lib64/python3.11/site-packages/matplotlib/pyplot.py:3590\u001b[39m, in \u001b[36mimshow\u001b[39m\u001b[34m(X, cmap, norm, aspect, interpolation, alpha, vmin, vmax, colorizer, origin, extent, interpolation_stage, filternorm, filterrad, resample, url, data, **kwargs)\u001b[39m\n\u001b[32m   3568\u001b[39m \u001b[38;5;129m@_copy_docstring_and_deprecators\u001b[39m(Axes.imshow)\n\u001b[32m   3569\u001b[39m \u001b[38;5;28;01mdef\u001b[39;00m\u001b[38;5;250m \u001b[39m\u001b[34mimshow\u001b[39m(\n\u001b[32m   3570\u001b[39m     X: ArrayLike | PIL.Image.Image,\n\u001b[32m   (...)\u001b[39m\u001b[32m   3588\u001b[39m     **kwargs,\n\u001b[32m   3589\u001b[39m ) -> AxesImage:\n\u001b[32m-> \u001b[39m\u001b[32m3590\u001b[39m     __ret = \u001b[43mgca\u001b[49m\u001b[43m(\u001b[49m\u001b[43m)\u001b[49m\u001b[43m.\u001b[49m\u001b[43mimshow\u001b[49m\u001b[43m(\u001b[49m\n\u001b[32m   3591\u001b[39m \u001b[43m        \u001b[49m\u001b[43mX\u001b[49m\u001b[43m,\u001b[49m\n\u001b[32m   3592\u001b[39m \u001b[43m        \u001b[49m\u001b[43mcmap\u001b[49m\u001b[43m=\u001b[49m\u001b[43mcmap\u001b[49m\u001b[43m,\u001b[49m\n\u001b[32m   3593\u001b[39m \u001b[43m        \u001b[49m\u001b[43mnorm\u001b[49m\u001b[43m=\u001b[49m\u001b[43mnorm\u001b[49m\u001b[43m,\u001b[49m\n\u001b[32m   3594\u001b[39m \u001b[43m        \u001b[49m\u001b[43maspect\u001b[49m\u001b[43m=\u001b[49m\u001b[43maspect\u001b[49m\u001b[43m,\u001b[49m\n\u001b[32m   3595\u001b[39m \u001b[43m        \u001b[49m\u001b[43minterpolation\u001b[49m\u001b[43m=\u001b[49m\u001b[43minterpolation\u001b[49m\u001b[43m,\u001b[49m\n\u001b[32m   3596\u001b[39m \u001b[43m        \u001b[49m\u001b[43malpha\u001b[49m\u001b[43m=\u001b[49m\u001b[43malpha\u001b[49m\u001b[43m,\u001b[49m\n\u001b[32m   3597\u001b[39m \u001b[43m        \u001b[49m\u001b[43mvmin\u001b[49m\u001b[43m=\u001b[49m\u001b[43mvmin\u001b[49m\u001b[43m,\u001b[49m\n\u001b[32m   3598\u001b[39m \u001b[43m        \u001b[49m\u001b[43mvmax\u001b[49m\u001b[43m=\u001b[49m\u001b[43mvmax\u001b[49m\u001b[43m,\u001b[49m\n\u001b[32m   3599\u001b[39m \u001b[43m        \u001b[49m\u001b[43mcolorizer\u001b[49m\u001b[43m=\u001b[49m\u001b[43mcolorizer\u001b[49m\u001b[43m,\u001b[49m\n\u001b[32m   3600\u001b[39m \u001b[43m        \u001b[49m\u001b[43morigin\u001b[49m\u001b[43m=\u001b[49m\u001b[43morigin\u001b[49m\u001b[43m,\u001b[49m\n\u001b[32m   3601\u001b[39m \u001b[43m        \u001b[49m\u001b[43mextent\u001b[49m\u001b[43m=\u001b[49m\u001b[43mextent\u001b[49m\u001b[43m,\u001b[49m\n\u001b[32m   3602\u001b[39m \u001b[43m        \u001b[49m\u001b[43minterpolation_stage\u001b[49m\u001b[43m=\u001b[49m\u001b[43minterpolation_stage\u001b[49m\u001b[43m,\u001b[49m\n\u001b[32m   3603\u001b[39m \u001b[43m        \u001b[49m\u001b[43mfilternorm\u001b[49m\u001b[43m=\u001b[49m\u001b[43mfilternorm\u001b[49m\u001b[43m,\u001b[49m\n\u001b[32m   3604\u001b[39m \u001b[43m        \u001b[49m\u001b[43mfilterrad\u001b[49m\u001b[43m=\u001b[49m\u001b[43mfilterrad\u001b[49m\u001b[43m,\u001b[49m\n\u001b[32m   3605\u001b[39m \u001b[43m        \u001b[49m\u001b[43mresample\u001b[49m\u001b[43m=\u001b[49m\u001b[43mresample\u001b[49m\u001b[43m,\u001b[49m\n\u001b[32m   3606\u001b[39m \u001b[43m        \u001b[49m\u001b[43murl\u001b[49m\u001b[43m=\u001b[49m\u001b[43murl\u001b[49m\u001b[43m,\u001b[49m\n\u001b[32m   3607\u001b[39m \u001b[43m        \u001b[49m\u001b[43m*\u001b[49m\u001b[43m*\u001b[49m\u001b[43m(\u001b[49m\u001b[43m{\u001b[49m\u001b[33;43m\"\u001b[39;49m\u001b[33;43mdata\u001b[39;49m\u001b[33;43m\"\u001b[39;49m\u001b[43m:\u001b[49m\u001b[43m \u001b[49m\u001b[43mdata\u001b[49m\u001b[43m}\u001b[49m\u001b[43m \u001b[49m\u001b[38;5;28;43;01mif\u001b[39;49;00m\u001b[43m \u001b[49m\u001b[43mdata\u001b[49m\u001b[43m \u001b[49m\u001b[38;5;129;43;01mis\u001b[39;49;00m\u001b[43m \u001b[49m\u001b[38;5;129;43;01mnot\u001b[39;49;00m\u001b[43m \u001b[49m\u001b[38;5;28;43;01mNone\u001b[39;49;00m\u001b[43m \u001b[49m\u001b[38;5;28;43;01melse\u001b[39;49;00m\u001b[43m \u001b[49m\u001b[43m{\u001b[49m\u001b[43m}\u001b[49m\u001b[43m)\u001b[49m\u001b[43m,\u001b[49m\n\u001b[32m   3608\u001b[39m \u001b[43m        \u001b[49m\u001b[43m*\u001b[49m\u001b[43m*\u001b[49m\u001b[43mkwargs\u001b[49m\u001b[43m,\u001b[49m\n\u001b[32m   3609\u001b[39m \u001b[43m    \u001b[49m\u001b[43m)\u001b[49m\n\u001b[32m   3610\u001b[39m     sci(__ret)\n\u001b[32m   3611\u001b[39m     \u001b[38;5;28;01mreturn\u001b[39;00m __ret\n",
            "\u001b[36mFile \u001b[39m\u001b[32m~/2CC/ConvolutionMatrixVerilog/.venv/lib64/python3.11/site-packages/matplotlib/__init__.py:1521\u001b[39m, in \u001b[36m_preprocess_data.<locals>.inner\u001b[39m\u001b[34m(ax, data, *args, **kwargs)\u001b[39m\n\u001b[32m   1518\u001b[39m \u001b[38;5;129m@functools\u001b[39m.wraps(func)\n\u001b[32m   1519\u001b[39m \u001b[38;5;28;01mdef\u001b[39;00m\u001b[38;5;250m \u001b[39m\u001b[34minner\u001b[39m(ax, *args, data=\u001b[38;5;28;01mNone\u001b[39;00m, **kwargs):\n\u001b[32m   1520\u001b[39m     \u001b[38;5;28;01mif\u001b[39;00m data \u001b[38;5;129;01mis\u001b[39;00m \u001b[38;5;28;01mNone\u001b[39;00m:\n\u001b[32m-> \u001b[39m\u001b[32m1521\u001b[39m         \u001b[38;5;28;01mreturn\u001b[39;00m \u001b[43mfunc\u001b[49m\u001b[43m(\u001b[49m\n\u001b[32m   1522\u001b[39m \u001b[43m            \u001b[49m\u001b[43max\u001b[49m\u001b[43m,\u001b[49m\n\u001b[32m   1523\u001b[39m \u001b[43m            \u001b[49m\u001b[43m*\u001b[49m\u001b[38;5;28;43mmap\u001b[39;49m\u001b[43m(\u001b[49m\u001b[43mcbook\u001b[49m\u001b[43m.\u001b[49m\u001b[43msanitize_sequence\u001b[49m\u001b[43m,\u001b[49m\u001b[43m \u001b[49m\u001b[43margs\u001b[49m\u001b[43m)\u001b[49m\u001b[43m,\u001b[49m\n\u001b[32m   1524\u001b[39m \u001b[43m            \u001b[49m\u001b[43m*\u001b[49m\u001b[43m*\u001b[49m\u001b[43m{\u001b[49m\u001b[43mk\u001b[49m\u001b[43m:\u001b[49m\u001b[43m \u001b[49m\u001b[43mcbook\u001b[49m\u001b[43m.\u001b[49m\u001b[43msanitize_sequence\u001b[49m\u001b[43m(\u001b[49m\u001b[43mv\u001b[49m\u001b[43m)\u001b[49m\u001b[43m \u001b[49m\u001b[38;5;28;43;01mfor\u001b[39;49;00m\u001b[43m \u001b[49m\u001b[43mk\u001b[49m\u001b[43m,\u001b[49m\u001b[43m \u001b[49m\u001b[43mv\u001b[49m\u001b[43m \u001b[49m\u001b[38;5;129;43;01min\u001b[39;49;00m\u001b[43m \u001b[49m\u001b[43mkwargs\u001b[49m\u001b[43m.\u001b[49m\u001b[43mitems\u001b[49m\u001b[43m(\u001b[49m\u001b[43m)\u001b[49m\u001b[43m}\u001b[49m\u001b[43m)\u001b[49m\n\u001b[32m   1526\u001b[39m     bound = new_sig.bind(ax, *args, **kwargs)\n\u001b[32m   1527\u001b[39m     auto_label = (bound.arguments.get(label_namer)\n\u001b[32m   1528\u001b[39m                   \u001b[38;5;129;01mor\u001b[39;00m bound.kwargs.get(label_namer))\n",
            "\u001b[36mFile \u001b[39m\u001b[32m~/2CC/ConvolutionMatrixVerilog/.venv/lib64/python3.11/site-packages/matplotlib/axes/_axes.py:5976\u001b[39m, in \u001b[36mAxes.imshow\u001b[39m\u001b[34m(self, X, cmap, norm, aspect, interpolation, alpha, vmin, vmax, colorizer, origin, extent, interpolation_stage, filternorm, filterrad, resample, url, **kwargs)\u001b[39m\n\u001b[32m   5973\u001b[39m \u001b[38;5;28;01mif\u001b[39;00m aspect \u001b[38;5;129;01mis\u001b[39;00m \u001b[38;5;129;01mnot\u001b[39;00m \u001b[38;5;28;01mNone\u001b[39;00m:\n\u001b[32m   5974\u001b[39m     \u001b[38;5;28mself\u001b[39m.set_aspect(aspect)\n\u001b[32m-> \u001b[39m\u001b[32m5976\u001b[39m \u001b[43mim\u001b[49m\u001b[43m.\u001b[49m\u001b[43mset_data\u001b[49m\u001b[43m(\u001b[49m\u001b[43mX\u001b[49m\u001b[43m)\u001b[49m\n\u001b[32m   5977\u001b[39m im.set_alpha(alpha)\n\u001b[32m   5978\u001b[39m \u001b[38;5;28;01mif\u001b[39;00m im.get_clip_path() \u001b[38;5;129;01mis\u001b[39;00m \u001b[38;5;28;01mNone\u001b[39;00m:\n\u001b[32m   5979\u001b[39m     \u001b[38;5;66;03m# image does not already have clipping set, clip to Axes patch\u001b[39;00m\n",
            "\u001b[36mFile \u001b[39m\u001b[32m~/2CC/ConvolutionMatrixVerilog/.venv/lib64/python3.11/site-packages/matplotlib/image.py:685\u001b[39m, in \u001b[36m_ImageBase.set_data\u001b[39m\u001b[34m(self, A)\u001b[39m\n\u001b[32m    683\u001b[39m \u001b[38;5;28;01mif\u001b[39;00m \u001b[38;5;28misinstance\u001b[39m(A, PIL.Image.Image):\n\u001b[32m    684\u001b[39m     A = pil_to_array(A)  \u001b[38;5;66;03m# Needed e.g. to apply png palette.\u001b[39;00m\n\u001b[32m--> \u001b[39m\u001b[32m685\u001b[39m \u001b[38;5;28mself\u001b[39m._A = \u001b[38;5;28;43mself\u001b[39;49m\u001b[43m.\u001b[49m\u001b[43m_normalize_image_array\u001b[49m\u001b[43m(\u001b[49m\u001b[43mA\u001b[49m\u001b[43m)\u001b[49m\n\u001b[32m    686\u001b[39m \u001b[38;5;28mself\u001b[39m._imcache = \u001b[38;5;28;01mNone\u001b[39;00m\n\u001b[32m    687\u001b[39m \u001b[38;5;28mself\u001b[39m.stale = \u001b[38;5;28;01mTrue\u001b[39;00m\n",
            "\u001b[36mFile \u001b[39m\u001b[32m~/2CC/ConvolutionMatrixVerilog/.venv/lib64/python3.11/site-packages/matplotlib/image.py:653\u001b[39m, in \u001b[36m_ImageBase._normalize_image_array\u001b[39m\u001b[34m(A)\u001b[39m\n\u001b[32m    651\u001b[39m     A = A.squeeze(-\u001b[32m1\u001b[39m)  \u001b[38;5;66;03m# If just (M, N, 1), assume scalar and apply colormap.\u001b[39;00m\n\u001b[32m    652\u001b[39m \u001b[38;5;28;01mif\u001b[39;00m \u001b[38;5;129;01mnot\u001b[39;00m (A.ndim == \u001b[32m2\u001b[39m \u001b[38;5;129;01mor\u001b[39;00m A.ndim == \u001b[32m3\u001b[39m \u001b[38;5;129;01mand\u001b[39;00m A.shape[-\u001b[32m1\u001b[39m] \u001b[38;5;129;01min\u001b[39;00m [\u001b[32m3\u001b[39m, \u001b[32m4\u001b[39m]):\n\u001b[32m--> \u001b[39m\u001b[32m653\u001b[39m     \u001b[38;5;28;01mraise\u001b[39;00m \u001b[38;5;167;01mTypeError\u001b[39;00m(\u001b[33mf\u001b[39m\u001b[33m\"\u001b[39m\u001b[33mInvalid shape \u001b[39m\u001b[38;5;132;01m{\u001b[39;00mA.shape\u001b[38;5;132;01m}\u001b[39;00m\u001b[33m for image data\u001b[39m\u001b[33m\"\u001b[39m)\n\u001b[32m    654\u001b[39m \u001b[38;5;28;01mif\u001b[39;00m A.ndim == \u001b[32m3\u001b[39m:\n\u001b[32m    655\u001b[39m     \u001b[38;5;66;03m# If the input data has values outside the valid range (after\u001b[39;00m\n\u001b[32m    656\u001b[39m     \u001b[38;5;66;03m# normalisation), we issue a warning and then clip X to the bounds\u001b[39;00m\n\u001b[32m    657\u001b[39m     \u001b[38;5;66;03m# - otherwise casting wraps extreme values, hiding outliers and\u001b[39;00m\n\u001b[32m    658\u001b[39m     \u001b[38;5;66;03m# making reliable interpretation impossible.\u001b[39;00m\n\u001b[32m    659\u001b[39m     high = \u001b[32m255\u001b[39m \u001b[38;5;28;01mif\u001b[39;00m np.issubdtype(A.dtype, np.integer) \u001b[38;5;28;01melse\u001b[39;00m \u001b[32m1\u001b[39m\n",
            "\u001b[31mTypeError\u001b[39m: Invalid shape (10,) for image data"
          ]
        },
        {
          "data": {
            "image/png": "[encoded data removed]",
            "text/plain": [
              "<Figure size 640x480 with 1 Axes>"
            ]
          },
          "metadata": {},
          "output_type": "display_data"
        }
      ],
      "source": [
        "plt.imshow(h)"
      ]
    }
  ],
  "metadata": {
    "colab": {
      "provenance": []
    },
    "kernelspec": {
      "display_name": ".venv",
      "language": "python",
      "name": "python3"
    },
    "language_info": {
      "codemirror_mode": {
        "name": "ipython",
        "version": 3
      },
      "file_extension": ".py",
      "mimetype": "text/x-python",
      "name": "python",
      "nbconvert_exporter": "python",
      "pygments_lexer": "ipython3",
      "version": "3.11.5"
    }
  },
  "nbformat": 4,
  "nbformat_minor": 0
}
