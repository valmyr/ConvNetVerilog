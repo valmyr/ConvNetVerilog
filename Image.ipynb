{
  "cells": [
    {
      "cell_type": "code",
      "execution_count": 89,
      "metadata": {},
      "outputs": [
        {
          "name": "stdout",
          "output_type": "stream",
          "text": [
            "Requirement already satisfied: pip in ./.venv/lib64/python3.11/site-packages (25.1.1)\n"
          ]
        }
      ],
      "source": [
        "!python -m pip install --upgrade pip\n"
      ]
    },
    {
      "cell_type": "code",
      "execution_count": 90,
      "metadata": {},
      "outputs": [
        {
          "name": "stdout",
          "output_type": "stream",
          "text": [
            "Requirement already satisfied: pip in ./.venv/lib64/python3.11/site-packages (25.1.1)\n"
          ]
        }
      ],
      "source": [
        "!python -m pip install --upgrade pip "
      ]
    },
    {
      "cell_type": "code",
      "execution_count": 91,
      "metadata": {},
      "outputs": [
        {
          "name": "stdout",
          "output_type": "stream",
          "text": [
            "Requirement already satisfied: pip in ./.venv/lib64/python3.11/site-packages (25.1.1)\n"
          ]
        }
      ],
      "source": [
        "!python3 -m pip install --upgrade pip"
      ]
    },
    {
      "cell_type": "code",
      "execution_count": 92,
      "metadata": {},
      "outputs": [
        {
          "name": "stdout",
          "output_type": "stream",
          "text": [
            "Python 3.11.5\n"
          ]
        }
      ],
      "source": [
        "!python3 --version"
      ]
    },
    {
      "cell_type": "code",
      "execution_count": 93,
      "metadata": {
        "id": "LeQOQlapKfvF"
      },
      "outputs": [
        {
          "name": "stdout",
          "output_type": "stream",
          "text": [
            "Collecting colour\n",
            "  Using cached colour-0.1.5-py2.py3-none-any.whl.metadata (18 kB)\n",
            "Using cached colour-0.1.5-py2.py3-none-any.whl (23 kB)\n",
            "Installing collected packages: colour\n",
            "Successfully installed colour-0.1.5\n",
            "Note: you may need to restart the kernel to use updated packages.\n",
            "Collecting matplotlib\n",
            "  Using cached matplotlib-3.10.3-cp311-cp311-manylinux_2_17_x86_64.manylinux2014_x86_64.whl.metadata (11 kB)\n",
            "Collecting contourpy>=1.0.1 (from matplotlib)\n",
            "  Using cached contourpy-1.3.2-cp311-cp311-manylinux_2_17_x86_64.manylinux2014_x86_64.whl.metadata (5.5 kB)\n",
            "Collecting cycler>=0.10 (from matplotlib)\n",
            "  Using cached cycler-0.12.1-py3-none-any.whl.metadata (3.8 kB)\n",
            "Collecting fonttools>=4.22.0 (from matplotlib)\n",
            "  Using cached fonttools-4.58.4-cp311-cp311-manylinux2014_x86_64.manylinux_2_17_x86_64.whl.metadata (106 kB)\n",
            "Collecting kiwisolver>=1.3.1 (from matplotlib)\n",
            "  Using cached kiwisolver-1.4.8-cp311-cp311-manylinux_2_17_x86_64.manylinux2014_x86_64.whl.metadata (6.2 kB)\n",
            "Requirement already satisfied: numpy>=1.23 in ./.venv/lib64/python3.11/site-packages (from matplotlib) (2.3.0)\n",
            "Requirement already satisfied: packaging>=20.0 in ./.venv/lib64/python3.11/site-packages (from matplotlib) (25.0)\n",
            "Collecting pillow>=8 (from matplotlib)\n",
            "  Using cached pillow-11.2.1-cp311-cp311-manylinux_2_28_x86_64.whl.metadata (8.9 kB)\n",
            "Collecting pyparsing>=2.3.1 (from matplotlib)\n",
            "  Using cached pyparsing-3.2.3-py3-none-any.whl.metadata (5.0 kB)\n",
            "Requirement already satisfied: python-dateutil>=2.7 in ./.venv/lib64/python3.11/site-packages (from matplotlib) (2.9.0.post0)\n",
            "Requirement already satisfied: six>=1.5 in ./.venv/lib64/python3.11/site-packages (from python-dateutil>=2.7->matplotlib) (1.17.0)\n",
            "Using cached matplotlib-3.10.3-cp311-cp311-manylinux_2_17_x86_64.manylinux2014_x86_64.whl (8.6 MB)\n",
            "Using cached contourpy-1.3.2-cp311-cp311-manylinux_2_17_x86_64.manylinux2014_x86_64.whl (326 kB)\n",
            "Using cached cycler-0.12.1-py3-none-any.whl (8.3 kB)\n",
            "Using cached fonttools-4.58.4-cp311-cp311-manylinux2014_x86_64.manylinux_2_17_x86_64.whl (5.0 MB)\n",
            "Using cached kiwisolver-1.4.8-cp311-cp311-manylinux_2_17_x86_64.manylinux2014_x86_64.whl (1.4 MB)\n",
            "Using cached pillow-11.2.1-cp311-cp311-manylinux_2_28_x86_64.whl (4.6 MB)\n",
            "Using cached pyparsing-3.2.3-py3-none-any.whl (111 kB)\n",
            "Installing collected packages: pyparsing, pillow, kiwisolver, fonttools, cycler, contourpy, matplotlib\n",
            "\u001b[2K   \u001b[90m━━━━━━━━━━━━━━━━━━━━━━━━━━━━━━━━━━━━━━━━\u001b[0m \u001b[32m7/7\u001b[0m [matplotlib]7\u001b[0m [matplotlib]\n",
            "\u001b[1A\u001b[2KSuccessfully installed contourpy-1.3.2 cycler-0.12.1 fonttools-4.58.4 kiwisolver-1.4.8 matplotlib-3.10.3 pillow-11.2.1 pyparsing-3.2.3\n",
            "Note: you may need to restart the kernel to use updated packages.\n",
            "Collecting tensorflow.keras\n",
            "  Using cached tensorflow_keras-0.1-py3-none-any.whl.metadata (63 bytes)\n",
            "Using cached tensorflow_keras-0.1-py3-none-any.whl (5.2 kB)\n",
            "Installing collected packages: tensorflow.keras\n",
            "Successfully installed tensorflow.keras-0.1\n",
            "Note: you may need to restart the kernel to use updated packages.\n",
            "Collecting pydot\n",
            "  Using cached pydot-4.0.0-py3-none-any.whl.metadata (10 kB)\n",
            "Requirement already satisfied: pyparsing>=3.0.9 in ./.venv/lib64/python3.11/site-packages (from pydot) (3.2.3)\n",
            "Using cached pydot-4.0.0-py3-none-any.whl (37 kB)\n",
            "Installing collected packages: pydot\n",
            "Successfully installed pydot-4.0.0\n",
            "Note: you may need to restart the kernel to use updated packages.\n",
            "Collecting pydotplus\n",
            "  Using cached pydotplus-2.0.2-py3-none-any.whl\n",
            "Requirement already satisfied: pyparsing>=2.0.1 in ./.venv/lib64/python3.11/site-packages (from pydotplus) (3.2.3)\n",
            "Installing collected packages: pydotplus\n",
            "Successfully installed pydotplus-2.0.2\n",
            "Note: you may need to restart the kernel to use updated packages.\n",
            "Collecting graphviz\n",
            "  Using cached graphviz-0.20.3-py3-none-any.whl.metadata (12 kB)\n",
            "Using cached graphviz-0.20.3-py3-none-any.whl (47 kB)\n",
            "Installing collected packages: graphviz\n",
            "Successfully installed graphviz-0.20.3\n",
            "Note: you may need to restart the kernel to use updated packages.\n",
            "Requirement already satisfied: ipykernel in ./.venv/lib64/python3.11/site-packages (6.29.5)\n",
            "Requirement already satisfied: comm>=0.1.1 in ./.venv/lib64/python3.11/site-packages (from ipykernel) (0.2.2)\n",
            "Requirement already satisfied: debugpy>=1.6.5 in ./.venv/lib64/python3.11/site-packages (from ipykernel) (1.8.14)\n",
            "Requirement already satisfied: ipython>=7.23.1 in ./.venv/lib64/python3.11/site-packages (from ipykernel) (9.3.0)\n",
            "Requirement already satisfied: jupyter-client>=6.1.12 in ./.venv/lib64/python3.11/site-packages (from ipykernel) (8.6.3)\n",
            "Requirement already satisfied: jupyter-core!=5.0.*,>=4.12 in ./.venv/lib64/python3.11/site-packages (from ipykernel) (5.8.1)\n",
            "Requirement already satisfied: matplotlib-inline>=0.1 in ./.venv/lib64/python3.11/site-packages (from ipykernel) (0.1.7)\n",
            "Requirement already satisfied: nest-asyncio in ./.venv/lib64/python3.11/site-packages (from ipykernel) (1.6.0)\n",
            "Requirement already satisfied: packaging in ./.venv/lib64/python3.11/site-packages (from ipykernel) (25.0)\n",
            "Requirement already satisfied: psutil in ./.venv/lib64/python3.11/site-packages (from ipykernel) (7.0.0)\n",
            "Requirement already satisfied: pyzmq>=24 in ./.venv/lib64/python3.11/site-packages (from ipykernel) (27.0.0)\n",
            "Requirement already satisfied: tornado>=6.1 in ./.venv/lib64/python3.11/site-packages (from ipykernel) (6.5.1)\n",
            "Requirement already satisfied: traitlets>=5.4.0 in ./.venv/lib64/python3.11/site-packages (from ipykernel) (5.14.3)\n",
            "Requirement already satisfied: decorator in ./.venv/lib64/python3.11/site-packages (from ipython>=7.23.1->ipykernel) (5.2.1)\n",
            "Requirement already satisfied: ipython-pygments-lexers in ./.venv/lib64/python3.11/site-packages (from ipython>=7.23.1->ipykernel) (1.1.1)\n",
            "Requirement already satisfied: jedi>=0.16 in ./.venv/lib64/python3.11/site-packages (from ipython>=7.23.1->ipykernel) (0.19.2)\n",
            "Requirement already satisfied: pexpect>4.3 in ./.venv/lib64/python3.11/site-packages (from ipython>=7.23.1->ipykernel) (4.9.0)\n",
            "Requirement already satisfied: prompt_toolkit<3.1.0,>=3.0.41 in ./.venv/lib64/python3.11/site-packages (from ipython>=7.23.1->ipykernel) (3.0.51)\n",
            "Requirement already satisfied: pygments>=2.4.0 in ./.venv/lib64/python3.11/site-packages (from ipython>=7.23.1->ipykernel) (2.19.1)\n",
            "Requirement already satisfied: stack_data in ./.venv/lib64/python3.11/site-packages (from ipython>=7.23.1->ipykernel) (0.6.3)\n",
            "Requirement already satisfied: typing_extensions>=4.6 in ./.venv/lib64/python3.11/site-packages (from ipython>=7.23.1->ipykernel) (4.14.0)\n",
            "Requirement already satisfied: wcwidth in ./.venv/lib64/python3.11/site-packages (from prompt_toolkit<3.1.0,>=3.0.41->ipython>=7.23.1->ipykernel) (0.2.13)\n",
            "Requirement already satisfied: parso<0.9.0,>=0.8.4 in ./.venv/lib64/python3.11/site-packages (from jedi>=0.16->ipython>=7.23.1->ipykernel) (0.8.4)\n",
            "Requirement already satisfied: python-dateutil>=2.8.2 in ./.venv/lib64/python3.11/site-packages (from jupyter-client>=6.1.12->ipykernel) (2.9.0.post0)\n",
            "Requirement already satisfied: platformdirs>=2.5 in ./.venv/lib64/python3.11/site-packages (from jupyter-core!=5.0.*,>=4.12->ipykernel) (4.3.8)\n",
            "Requirement already satisfied: ptyprocess>=0.5 in ./.venv/lib64/python3.11/site-packages (from pexpect>4.3->ipython>=7.23.1->ipykernel) (0.7.0)\n",
            "Requirement already satisfied: six>=1.5 in ./.venv/lib64/python3.11/site-packages (from python-dateutil>=2.8.2->jupyter-client>=6.1.12->ipykernel) (1.17.0)\n",
            "Requirement already satisfied: executing>=1.2.0 in ./.venv/lib64/python3.11/site-packages (from stack_data->ipython>=7.23.1->ipykernel) (2.2.0)\n",
            "Requirement already satisfied: asttokens>=2.1.0 in ./.venv/lib64/python3.11/site-packages (from stack_data->ipython>=7.23.1->ipykernel) (3.0.0)\n",
            "Requirement already satisfied: pure-eval in ./.venv/lib64/python3.11/site-packages (from stack_data->ipython>=7.23.1->ipykernel) (0.2.3)\n",
            "Note: you may need to restart the kernel to use updated packages.\n",
            "Collecting keras_preprocessing\n",
            "  Using cached Keras_Preprocessing-1.1.2-py2.py3-none-any.whl.metadata (1.9 kB)\n",
            "Requirement already satisfied: numpy>=1.9.1 in ./.venv/lib64/python3.11/site-packages (from keras_preprocessing) (2.1.3)\n",
            "Requirement already satisfied: six>=1.9.0 in ./.venv/lib64/python3.11/site-packages (from keras_preprocessing) (1.17.0)\n",
            "Using cached Keras_Preprocessing-1.1.2-py2.py3-none-any.whl (42 kB)\n",
            "Installing collected packages: keras_preprocessing\n",
            "Successfully installed keras_preprocessing-1.1.2\n",
            "Note: you may need to restart the kernel to use updated packages.\n",
            "Requirement already satisfied: matplotlib in ./.venv/lib64/python3.11/site-packages (3.10.3)\n",
            "Requirement already satisfied: contourpy>=1.0.1 in ./.venv/lib64/python3.11/site-packages (from matplotlib) (1.3.2)\n",
            "Requirement already satisfied: cycler>=0.10 in ./.venv/lib64/python3.11/site-packages (from matplotlib) (0.12.1)\n",
            "Requirement already satisfied: fonttools>=4.22.0 in ./.venv/lib64/python3.11/site-packages (from matplotlib) (4.58.4)\n",
            "Requirement already satisfied: kiwisolver>=1.3.1 in ./.venv/lib64/python3.11/site-packages (from matplotlib) (1.4.8)\n",
            "Requirement already satisfied: numpy>=1.23 in ./.venv/lib64/python3.11/site-packages (from matplotlib) (2.1.3)\n",
            "Requirement already satisfied: packaging>=20.0 in ./.venv/lib64/python3.11/site-packages (from matplotlib) (25.0)\n",
            "Requirement already satisfied: pillow>=8 in ./.venv/lib64/python3.11/site-packages (from matplotlib) (11.2.1)\n",
            "Requirement already satisfied: pyparsing>=2.3.1 in ./.venv/lib64/python3.11/site-packages (from matplotlib) (3.2.3)\n",
            "Requirement already satisfied: python-dateutil>=2.7 in ./.venv/lib64/python3.11/site-packages (from matplotlib) (2.9.0.post0)\n",
            "Requirement already satisfied: six>=1.5 in ./.venv/lib64/python3.11/site-packages (from python-dateutil>=2.7->matplotlib) (1.17.0)\n",
            "Note: you may need to restart the kernel to use updated packages.\n",
            "Collecting idx2numpy\n",
            "  Using cached idx2numpy-1.2.3-py3-none-any.whl\n",
            "Requirement already satisfied: numpy in ./.venv/lib64/python3.11/site-packages (from idx2numpy) (2.1.3)\n",
            "Requirement already satisfied: six in ./.venv/lib64/python3.11/site-packages (from idx2numpy) (1.17.0)\n",
            "Installing collected packages: idx2numpy\n",
            "Successfully installed idx2numpy-1.2.3\n",
            "Note: you may need to restart the kernel to use updated packages.\n",
            "Requirement already satisfied: pillow in ./.venv/lib64/python3.11/site-packages (11.2.1)\n",
            "Note: you may need to restart the kernel to use updated packages.\n",
            "Collecting tensorflow==2.18.0\n",
            "  Using cached tensorflow-2.18.0-cp311-cp311-manylinux_2_17_x86_64.manylinux2014_x86_64.whl.metadata (4.1 kB)\n",
            "Requirement already satisfied: absl-py>=1.0.0 in ./.venv/lib64/python3.11/site-packages (from tensorflow==2.18.0) (2.3.0)\n",
            "Requirement already satisfied: astunparse>=1.6.0 in ./.venv/lib64/python3.11/site-packages (from tensorflow==2.18.0) (1.6.3)\n",
            "Requirement already satisfied: flatbuffers>=24.3.25 in ./.venv/lib64/python3.11/site-packages (from tensorflow==2.18.0) (25.2.10)\n",
            "Requirement already satisfied: gast!=0.5.0,!=0.5.1,!=0.5.2,>=0.2.1 in ./.venv/lib64/python3.11/site-packages (from tensorflow==2.18.0) (0.6.0)\n",
            "Requirement already satisfied: google-pasta>=0.1.1 in ./.venv/lib64/python3.11/site-packages (from tensorflow==2.18.0) (0.2.0)\n",
            "Requirement already satisfied: libclang>=13.0.0 in ./.venv/lib64/python3.11/site-packages (from tensorflow==2.18.0) (18.1.1)\n",
            "Requirement already satisfied: opt-einsum>=2.3.2 in ./.venv/lib64/python3.11/site-packages (from tensorflow==2.18.0) (3.4.0)\n",
            "Requirement already satisfied: packaging in ./.venv/lib64/python3.11/site-packages (from tensorflow==2.18.0) (25.0)\n",
            "Requirement already satisfied: protobuf!=4.21.0,!=4.21.1,!=4.21.2,!=4.21.3,!=4.21.4,!=4.21.5,<6.0.0dev,>=3.20.3 in ./.venv/lib64/python3.11/site-packages (from tensorflow==2.18.0) (5.29.5)\n",
            "Requirement already satisfied: requests<3,>=2.21.0 in ./.venv/lib64/python3.11/site-packages (from tensorflow==2.18.0) (2.32.4)\n",
            "Requirement already satisfied: setuptools in ./.venv/lib64/python3.11/site-packages (from tensorflow==2.18.0) (80.9.0)\n",
            "Requirement already satisfied: six>=1.12.0 in ./.venv/lib64/python3.11/site-packages (from tensorflow==2.18.0) (1.17.0)\n",
            "Requirement already satisfied: termcolor>=1.1.0 in ./.venv/lib64/python3.11/site-packages (from tensorflow==2.18.0) (3.1.0)\n",
            "Requirement already satisfied: typing-extensions>=3.6.6 in ./.venv/lib64/python3.11/site-packages (from tensorflow==2.18.0) (4.14.0)\n",
            "Requirement already satisfied: wrapt>=1.11.0 in ./.venv/lib64/python3.11/site-packages (from tensorflow==2.18.0) (1.17.2)\n",
            "Requirement already satisfied: grpcio<2.0,>=1.24.3 in ./.venv/lib64/python3.11/site-packages (from tensorflow==2.18.0) (1.73.0)\n",
            "Collecting tensorboard<2.19,>=2.18 (from tensorflow==2.18.0)\n",
            "  Using cached tensorboard-2.18.0-py3-none-any.whl.metadata (1.6 kB)\n",
            "Requirement already satisfied: keras>=3.5.0 in ./.venv/lib64/python3.11/site-packages (from tensorflow==2.18.0) (3.10.0)\n",
            "Collecting numpy<2.1.0,>=1.26.0 (from tensorflow==2.18.0)\n",
            "  Using cached numpy-2.0.2-cp311-cp311-manylinux_2_17_x86_64.manylinux2014_x86_64.whl.metadata (60 kB)\n",
            "Requirement already satisfied: h5py>=3.11.0 in ./.venv/lib64/python3.11/site-packages (from tensorflow==2.18.0) (3.14.0)\n",
            "Collecting ml-dtypes<0.5.0,>=0.4.0 (from tensorflow==2.18.0)\n",
            "  Using cached ml_dtypes-0.4.1-cp311-cp311-manylinux_2_17_x86_64.manylinux2014_x86_64.whl.metadata (20 kB)\n",
            "Requirement already satisfied: tensorflow-io-gcs-filesystem>=0.23.1 in ./.venv/lib64/python3.11/site-packages (from tensorflow==2.18.0) (0.37.1)\n",
            "Requirement already satisfied: charset_normalizer<4,>=2 in ./.venv/lib64/python3.11/site-packages (from requests<3,>=2.21.0->tensorflow==2.18.0) (3.4.2)\n",
            "Requirement already satisfied: idna<4,>=2.5 in ./.venv/lib64/python3.11/site-packages (from requests<3,>=2.21.0->tensorflow==2.18.0) (3.10)\n",
            "Requirement already satisfied: urllib3<3,>=1.21.1 in ./.venv/lib64/python3.11/site-packages (from requests<3,>=2.21.0->tensorflow==2.18.0) (2.4.0)\n",
            "Requirement already satisfied: certifi>=2017.4.17 in ./.venv/lib64/python3.11/site-packages (from requests<3,>=2.21.0->tensorflow==2.18.0) (2025.4.26)\n",
            "Requirement already satisfied: markdown>=2.6.8 in ./.venv/lib64/python3.11/site-packages (from tensorboard<2.19,>=2.18->tensorflow==2.18.0) (3.8)\n",
            "Requirement already satisfied: tensorboard-data-server<0.8.0,>=0.7.0 in ./.venv/lib64/python3.11/site-packages (from tensorboard<2.19,>=2.18->tensorflow==2.18.0) (0.7.2)\n",
            "Requirement already satisfied: werkzeug>=1.0.1 in ./.venv/lib64/python3.11/site-packages (from tensorboard<2.19,>=2.18->tensorflow==2.18.0) (3.1.3)\n",
            "Requirement already satisfied: wheel<1.0,>=0.23.0 in ./.venv/lib64/python3.11/site-packages (from astunparse>=1.6.0->tensorflow==2.18.0) (0.45.1)\n",
            "Requirement already satisfied: rich in ./.venv/lib64/python3.11/site-packages (from keras>=3.5.0->tensorflow==2.18.0) (14.0.0)\n",
            "Requirement already satisfied: namex in ./.venv/lib64/python3.11/site-packages (from keras>=3.5.0->tensorflow==2.18.0) (0.1.0)\n",
            "Requirement already satisfied: optree in ./.venv/lib64/python3.11/site-packages (from keras>=3.5.0->tensorflow==2.18.0) (0.16.0)\n",
            "Requirement already satisfied: MarkupSafe>=2.1.1 in ./.venv/lib64/python3.11/site-packages (from werkzeug>=1.0.1->tensorboard<2.19,>=2.18->tensorflow==2.18.0) (3.0.2)\n",
            "Requirement already satisfied: markdown-it-py>=2.2.0 in ./.venv/lib64/python3.11/site-packages (from rich->keras>=3.5.0->tensorflow==2.18.0) (3.0.0)\n",
            "Requirement already satisfied: pygments<3.0.0,>=2.13.0 in ./.venv/lib64/python3.11/site-packages (from rich->keras>=3.5.0->tensorflow==2.18.0) (2.19.1)\n",
            "Requirement already satisfied: mdurl~=0.1 in ./.venv/lib64/python3.11/site-packages (from markdown-it-py>=2.2.0->rich->keras>=3.5.0->tensorflow==2.18.0) (0.1.2)\n",
            "Using cached tensorflow-2.18.0-cp311-cp311-manylinux_2_17_x86_64.manylinux2014_x86_64.whl (615.4 MB)\n",
            "Using cached ml_dtypes-0.4.1-cp311-cp311-manylinux_2_17_x86_64.manylinux2014_x86_64.whl (2.2 MB)\n",
            "Using cached numpy-2.0.2-cp311-cp311-manylinux_2_17_x86_64.manylinux2014_x86_64.whl (19.5 MB)\n",
            "Using cached tensorboard-2.18.0-py3-none-any.whl (5.5 MB)\n",
            "Installing collected packages: numpy, tensorboard, ml-dtypes, tensorflow\n",
            "\u001b[2K  Attempting uninstall: numpy\n",
            "\u001b[2K    Found existing installation: numpy 2.1.3\n",
            "\u001b[2K    Uninstalling numpy-2.1.3:\n",
            "\u001b[2K      Successfully uninstalled numpy-2.1.3\n",
            "\u001b[2K  Attempting uninstall: tensorboard━━━━━━━━━━━━━\u001b[0m \u001b[32m0/4\u001b[0m [numpy]\n",
            "\u001b[2K    Found existing installation: tensorboard 2.19.032m0/4\u001b[0m [numpy]\n",
            "\u001b[2K    Uninstalling tensorboard-2.19.0:━━━━━━━━\u001b[0m \u001b[32m0/4\u001b[0m [numpy]\n",
            "\u001b[2K      Successfully uninstalled tensorboard-2.19.0\u001b[32m0/4\u001b[0m [numpy]\n",
            "\u001b[2K  Attempting uninstall: ml-dtypes[90m━━━━━━━━━━━━━━━━━━━━━━━━━━━━━\u001b[0m \u001b[32m1/4\u001b[0m [tensorboard]\n",
            "\u001b[2K    Found existing installation: ml_dtypes 0.5.1━━━━━━━━━━━━━━\u001b[0m \u001b[32m1/4\u001b[0m [tensorboard]\n",
            "\u001b[2K    Uninstalling ml_dtypes-0.5.1:━━━━━━━━━━━━━━━━━━━━━━━━━━━━━\u001b[0m \u001b[32m1/4\u001b[0m [tensorboard]\n",
            "\u001b[2K      Successfully uninstalled ml_dtypes-0.5.1━━━━━━━━━━━━━━━━\u001b[0m \u001b[32m1/4\u001b[0m [tensorboard]\n",
            "\u001b[2K   \u001b[90m━━━━━━━━━━━━━━━━━━━━━━━━━━━━━━━━━━━━━━━━\u001b[0m \u001b[32m4/4\u001b[0m [tensorflow]4\u001b[0m [tensorflow]\n",
            "\u001b[1A\u001b[2KSuccessfully installed ml-dtypes-0.4.1 numpy-2.0.2 tensorboard-2.18.0 tensorflow-2.18.0\n",
            "Note: you may need to restart the kernel to use updated packages.\n",
            "Collecting keras==3.8.0\n",
            "  Using cached keras-3.8.0-py3-none-any.whl.metadata (5.8 kB)\n",
            "Requirement already satisfied: absl-py in ./.venv/lib64/python3.11/site-packages (from keras==3.8.0) (2.3.0)\n",
            "Requirement already satisfied: numpy in ./.venv/lib64/python3.11/site-packages (from keras==3.8.0) (2.0.2)\n",
            "Requirement already satisfied: rich in ./.venv/lib64/python3.11/site-packages (from keras==3.8.0) (14.0.0)\n",
            "Requirement already satisfied: namex in ./.venv/lib64/python3.11/site-packages (from keras==3.8.0) (0.1.0)\n",
            "Requirement already satisfied: h5py in ./.venv/lib64/python3.11/site-packages (from keras==3.8.0) (3.14.0)\n",
            "Requirement already satisfied: optree in ./.venv/lib64/python3.11/site-packages (from keras==3.8.0) (0.16.0)\n",
            "Requirement already satisfied: ml-dtypes in ./.venv/lib64/python3.11/site-packages (from keras==3.8.0) (0.4.1)\n",
            "Requirement already satisfied: packaging in ./.venv/lib64/python3.11/site-packages (from keras==3.8.0) (25.0)\n",
            "Requirement already satisfied: typing-extensions>=4.6.0 in ./.venv/lib64/python3.11/site-packages (from optree->keras==3.8.0) (4.14.0)\n",
            "Requirement already satisfied: markdown-it-py>=2.2.0 in ./.venv/lib64/python3.11/site-packages (from rich->keras==3.8.0) (3.0.0)\n",
            "Requirement already satisfied: pygments<3.0.0,>=2.13.0 in ./.venv/lib64/python3.11/site-packages (from rich->keras==3.8.0) (2.19.1)\n",
            "Requirement already satisfied: mdurl~=0.1 in ./.venv/lib64/python3.11/site-packages (from markdown-it-py>=2.2.0->rich->keras==3.8.0) (0.1.2)\n",
            "Using cached keras-3.8.0-py3-none-any.whl (1.3 MB)\n",
            "Installing collected packages: keras\n",
            "  Attempting uninstall: keras\n",
            "    Found existing installation: keras 3.10.0\n",
            "    Uninstalling keras-3.10.0:\n",
            "      Successfully uninstalled keras-3.10.0\n",
            "Successfully installed keras-3.8.0\n",
            "Note: you may need to restart the kernel to use updated packages.\n"
          ]
        }
      ],
      "source": [
        "# try:\n",
        "#     from keras_preprocessing import image as img\n",
        "#     import os\n",
        "#     from matplotlib import pyplot as plt\n",
        "#     import idx2numpy\n",
        "#     import keras_preprocessing\n",
        "#     import tensorflow as tf\n",
        "#     import numpy as np\n",
        "#     import keras\n",
        "#     from functools import partial\n",
        "# except:\n",
        "# %pip install manim\n",
        "%pip install colour\n",
        "%pip install matplotlib\n",
        "%pip install tensorflow.keras\n",
        "%pip install pydot\n",
        "%pip install pydotplus\n",
        "%pip install graphviz\n",
        "%pip install ipykernel\n",
        "%pip install keras_preprocessing\n",
        "%pip install matplotlib\n",
        "%pip install idx2numpy\n",
        "%pip install pillow\n",
        "%pip install tensorflow==2.18.0\n",
        "%pip install keras==3.8.0\n",
        "from keras_preprocessing import image as img\n",
        "import os\n",
        "from matplotlib import pyplot as plt\n",
        "import idx2numpy\n",
        "import keras_preprocessing\n",
        "# import tensorflow as tf\n",
        "import numpy as np\n",
        "# import keras\n",
        "from functools import partial"
      ]
    },
    {
      "cell_type": "code",
      "execution_count": 94,
      "metadata": {},
      "outputs": [],
      "source": [
        "# !pip install tensorflow==2.6.2"
      ]
    },
    {
      "cell_type": "code",
      "execution_count": 95,
      "metadata": {},
      "outputs": [],
      "source": [
        "import tensorflow as tf"
      ]
    },
    {
      "cell_type": "code",
      "execution_count": 96,
      "metadata": {},
      "outputs": [
        {
          "data": {
            "text/plain": [
              "'2.18.0'"
            ]
          },
          "execution_count": 96,
          "metadata": {},
          "output_type": "execute_result"
        }
      ],
      "source": [
        "tf.__version__"
      ]
    },
    {
      "cell_type": "code",
      "execution_count": 97,
      "metadata": {},
      "outputs": [
        {
          "data": {
            "text/plain": [
              "<Figure size 1900x1000 with 0 Axes>"
            ]
          },
          "execution_count": 97,
          "metadata": {},
          "output_type": "execute_result"
        },
        {
          "data": {
            "text/plain": [
              "<Figure size 1900x1000 with 0 Axes>"
            ]
          },
          "metadata": {},
          "output_type": "display_data"
        }
      ],
      "source": [
        "plt.figure(figsize=(19,10))"
      ]
    },
    {
      "cell_type": "markdown",
      "metadata": {
        "id": "ZTScsKMqRxwc"
      },
      "source": []
    },
    {
      "cell_type": "code",
      "execution_count": 98,
      "metadata": {},
      "outputs": [
        {
          "name": "stderr",
          "output_type": "stream",
          "text": [
            "WARNING:absl:Compiled the loaded model, but the compiled metrics have yet to be built. `model.compile_metrics` will be empty until you train or evaluate the model.\n"
          ]
        }
      ],
      "source": [
        "modelo_dig = tf.keras.models.load_model(\"model_network/output00.h5\")"
      ]
    },
    {
      "cell_type": "code",
      "execution_count": 99,
      "metadata": {},
      "outputs": [
        {
          "data": {
            "text/html": [
              "<pre style=\"white-space:pre;overflow-x:auto;line-height:normal;font-family:Menlo,'DejaVu Sans Mono',consolas,'Courier New',monospace\"><span style=\"font-weight: bold\">Model: \"sequential_3\"</span>\n",
              "</pre>\n"
            ],
            "text/plain": [
              "\u001b[1mModel: \"sequential_3\"\u001b[0m\n"
            ]
          },
          "metadata": {},
          "output_type": "display_data"
        },
        {
          "data": {
            "text/html": [
              "<pre style=\"white-space:pre;overflow-x:auto;line-height:normal;font-family:Menlo,'DejaVu Sans Mono',consolas,'Courier New',monospace\">┏━━━━━━━━━━━━━━━━━━━━━━━━━━━━━━━━━┳━━━━━━━━━━━━━━━━━━━━━━━━┳━━━━━━━━━━━━━━━┓\n",
              "┃<span style=\"font-weight: bold\"> Layer (type)                    </span>┃<span style=\"font-weight: bold\"> Output Shape           </span>┃<span style=\"font-weight: bold\">       Param # </span>┃\n",
              "┡━━━━━━━━━━━━━━━━━━━━━━━━━━━━━━━━━╇━━━━━━━━━━━━━━━━━━━━━━━━╇━━━━━━━━━━━━━━━┩\n",
              "│ conv2d_6 (<span style=\"color: #0087ff; text-decoration-color: #0087ff\">Conv2D</span>)               │ (<span style=\"color: #00d7ff; text-decoration-color: #00d7ff\">None</span>, <span style=\"color: #00af00; text-decoration-color: #00af00\">24</span>, <span style=\"color: #00af00; text-decoration-color: #00af00\">24</span>, <span style=\"color: #00af00; text-decoration-color: #00af00\">2</span>)      │            <span style=\"color: #00af00; text-decoration-color: #00af00\">52</span> │\n",
              "├─────────────────────────────────┼────────────────────────┼───────────────┤\n",
              "│ max_pooling2d_6 (<span style=\"color: #0087ff; text-decoration-color: #0087ff\">MaxPooling2D</span>)  │ (<span style=\"color: #00d7ff; text-decoration-color: #00d7ff\">None</span>, <span style=\"color: #00af00; text-decoration-color: #00af00\">12</span>, <span style=\"color: #00af00; text-decoration-color: #00af00\">12</span>, <span style=\"color: #00af00; text-decoration-color: #00af00\">2</span>)      │             <span style=\"color: #00af00; text-decoration-color: #00af00\">0</span> │\n",
              "├─────────────────────────────────┼────────────────────────┼───────────────┤\n",
              "│ conv2d_7 (<span style=\"color: #0087ff; text-decoration-color: #0087ff\">Conv2D</span>)               │ (<span style=\"color: #00d7ff; text-decoration-color: #00d7ff\">None</span>, <span style=\"color: #00af00; text-decoration-color: #00af00\">10</span>, <span style=\"color: #00af00; text-decoration-color: #00af00\">10</span>, <span style=\"color: #00af00; text-decoration-color: #00af00\">4</span>)      │            <span style=\"color: #00af00; text-decoration-color: #00af00\">76</span> │\n",
              "├─────────────────────────────────┼────────────────────────┼───────────────┤\n",
              "│ max_pooling2d_7 (<span style=\"color: #0087ff; text-decoration-color: #0087ff\">MaxPooling2D</span>)  │ (<span style=\"color: #00d7ff; text-decoration-color: #00d7ff\">None</span>, <span style=\"color: #00af00; text-decoration-color: #00af00\">5</span>, <span style=\"color: #00af00; text-decoration-color: #00af00\">5</span>, <span style=\"color: #00af00; text-decoration-color: #00af00\">4</span>)        │             <span style=\"color: #00af00; text-decoration-color: #00af00\">0</span> │\n",
              "├─────────────────────────────────┼────────────────────────┼───────────────┤\n",
              "│ flatten_3 (<span style=\"color: #0087ff; text-decoration-color: #0087ff\">Flatten</span>)             │ (<span style=\"color: #00d7ff; text-decoration-color: #00d7ff\">None</span>, <span style=\"color: #00af00; text-decoration-color: #00af00\">100</span>)            │             <span style=\"color: #00af00; text-decoration-color: #00af00\">0</span> │\n",
              "├─────────────────────────────────┼────────────────────────┼───────────────┤\n",
              "│ dense_3 (<span style=\"color: #0087ff; text-decoration-color: #0087ff\">Dense</span>)                 │ (<span style=\"color: #00d7ff; text-decoration-color: #00d7ff\">None</span>, <span style=\"color: #00af00; text-decoration-color: #00af00\">10</span>)             │         <span style=\"color: #00af00; text-decoration-color: #00af00\">1,010</span> │\n",
              "└─────────────────────────────────┴────────────────────────┴───────────────┘\n",
              "</pre>\n"
            ],
            "text/plain": [
              "┏━━━━━━━━━━━━━━━━━━━━━━━━━━━━━━━━━┳━━━━━━━━━━━━━━━━━━━━━━━━┳━━━━━━━━━━━━━━━┓\n",
              "┃\u001b[1m \u001b[0m\u001b[1mLayer (type)                   \u001b[0m\u001b[1m \u001b[0m┃\u001b[1m \u001b[0m\u001b[1mOutput Shape          \u001b[0m\u001b[1m \u001b[0m┃\u001b[1m \u001b[0m\u001b[1m      Param #\u001b[0m\u001b[1m \u001b[0m┃\n",
              "┡━━━━━━━━━━━━━━━━━━━━━━━━━━━━━━━━━╇━━━━━━━━━━━━━━━━━━━━━━━━╇━━━━━━━━━━━━━━━┩\n",
              "│ conv2d_6 (\u001b[38;5;33mConv2D\u001b[0m)               │ (\u001b[38;5;45mNone\u001b[0m, \u001b[38;5;34m24\u001b[0m, \u001b[38;5;34m24\u001b[0m, \u001b[38;5;34m2\u001b[0m)      │            \u001b[38;5;34m52\u001b[0m │\n",
              "├─────────────────────────────────┼────────────────────────┼───────────────┤\n",
              "│ max_pooling2d_6 (\u001b[38;5;33mMaxPooling2D\u001b[0m)  │ (\u001b[38;5;45mNone\u001b[0m, \u001b[38;5;34m12\u001b[0m, \u001b[38;5;34m12\u001b[0m, \u001b[38;5;34m2\u001b[0m)      │             \u001b[38;5;34m0\u001b[0m │\n",
              "├─────────────────────────────────┼────────────────────────┼───────────────┤\n",
              "│ conv2d_7 (\u001b[38;5;33mConv2D\u001b[0m)               │ (\u001b[38;5;45mNone\u001b[0m, \u001b[38;5;34m10\u001b[0m, \u001b[38;5;34m10\u001b[0m, \u001b[38;5;34m4\u001b[0m)      │            \u001b[38;5;34m76\u001b[0m │\n",
              "├─────────────────────────────────┼────────────────────────┼───────────────┤\n",
              "│ max_pooling2d_7 (\u001b[38;5;33mMaxPooling2D\u001b[0m)  │ (\u001b[38;5;45mNone\u001b[0m, \u001b[38;5;34m5\u001b[0m, \u001b[38;5;34m5\u001b[0m, \u001b[38;5;34m4\u001b[0m)        │             \u001b[38;5;34m0\u001b[0m │\n",
              "├─────────────────────────────────┼────────────────────────┼───────────────┤\n",
              "│ flatten_3 (\u001b[38;5;33mFlatten\u001b[0m)             │ (\u001b[38;5;45mNone\u001b[0m, \u001b[38;5;34m100\u001b[0m)            │             \u001b[38;5;34m0\u001b[0m │\n",
              "├─────────────────────────────────┼────────────────────────┼───────────────┤\n",
              "│ dense_3 (\u001b[38;5;33mDense\u001b[0m)                 │ (\u001b[38;5;45mNone\u001b[0m, \u001b[38;5;34m10\u001b[0m)             │         \u001b[38;5;34m1,010\u001b[0m │\n",
              "└─────────────────────────────────┴────────────────────────┴───────────────┘\n"
            ]
          },
          "metadata": {},
          "output_type": "display_data"
        },
        {
          "data": {
            "text/html": [
              "<pre style=\"white-space:pre;overflow-x:auto;line-height:normal;font-family:Menlo,'DejaVu Sans Mono',consolas,'Courier New',monospace\"><span style=\"font-weight: bold\"> Total params: </span><span style=\"color: #00af00; text-decoration-color: #00af00\">1,140</span> (4.46 KB)\n",
              "</pre>\n"
            ],
            "text/plain": [
              "\u001b[1m Total params: \u001b[0m\u001b[38;5;34m1,140\u001b[0m (4.46 KB)\n"
            ]
          },
          "metadata": {},
          "output_type": "display_data"
        },
        {
          "data": {
            "text/html": [
              "<pre style=\"white-space:pre;overflow-x:auto;line-height:normal;font-family:Menlo,'DejaVu Sans Mono',consolas,'Courier New',monospace\"><span style=\"font-weight: bold\"> Trainable params: </span><span style=\"color: #00af00; text-decoration-color: #00af00\">1,138</span> (4.45 KB)\n",
              "</pre>\n"
            ],
            "text/plain": [
              "\u001b[1m Trainable params: \u001b[0m\u001b[38;5;34m1,138\u001b[0m (4.45 KB)\n"
            ]
          },
          "metadata": {},
          "output_type": "display_data"
        },
        {
          "data": {
            "text/html": [
              "<pre style=\"white-space:pre;overflow-x:auto;line-height:normal;font-family:Menlo,'DejaVu Sans Mono',consolas,'Courier New',monospace\"><span style=\"font-weight: bold\"> Non-trainable params: </span><span style=\"color: #00af00; text-decoration-color: #00af00\">0</span> (0.00 B)\n",
              "</pre>\n"
            ],
            "text/plain": [
              "\u001b[1m Non-trainable params: \u001b[0m\u001b[38;5;34m0\u001b[0m (0.00 B)\n"
            ]
          },
          "metadata": {},
          "output_type": "display_data"
        },
        {
          "data": {
            "text/html": [
              "<pre style=\"white-space:pre;overflow-x:auto;line-height:normal;font-family:Menlo,'DejaVu Sans Mono',consolas,'Courier New',monospace\"><span style=\"font-weight: bold\"> Optimizer params: </span><span style=\"color: #00af00; text-decoration-color: #00af00\">2</span> (12.00 B)\n",
              "</pre>\n"
            ],
            "text/plain": [
              "\u001b[1m Optimizer params: \u001b[0m\u001b[38;5;34m2\u001b[0m (12.00 B)\n"
            ]
          },
          "metadata": {},
          "output_type": "display_data"
        }
      ],
      "source": [
        "modelo_dig.summary()"
      ]
    },
    {
      "cell_type": "code",
      "execution_count": 100,
      "metadata": {},
      "outputs": [],
      "source": [
        "nbits = 64\n",
        "point_fixed = 8"
      ]
    },
    {
      "cell_type": "code",
      "execution_count": 101,
      "metadata": {},
      "outputs": [
        {
          "data": {
            "text/plain": [
              "0"
            ]
          },
          "execution_count": 101,
          "metadata": {},
          "output_type": "execute_result"
        }
      ],
      "source": [
        "os.system(\"rm ./simulation/I.txt\")"
      ]
    },
    {
      "cell_type": "code",
      "execution_count": 102,
      "metadata": {
        "id": "J8-0zNQULJcC"
      },
      "outputs": [],
      "source": [
        "sizt = 28\n",
        "path = \"mnist/data/t10k-images-idx3-ubyte\""
      ]
    },
    {
      "cell_type": "code",
      "execution_count": 103,
      "metadata": {},
      "outputs": [],
      "source": [
        "def int2comp2(val, nbits=nbits):\n",
        "    return hex((val + (1 << nbits)) % (1 << nbits))\n"
      ]
    },
    {
      "cell_type": "code",
      "execution_count": 104,
      "metadata": {},
      "outputs": [],
      "source": [
        "def comp2int(val, nbits=nbits):\n",
        "    val=int(val,16)\n",
        "    if(val & 1 << nbits-1):\n",
        "        return (~val+1)%(1<<nbits)*(-1)\n",
        "    return val\n"
      ]
    },
    {
      "cell_type": "code",
      "execution_count": 105,
      "metadata": {},
      "outputs": [],
      "source": [
        "def concat(n,nbits=nbits,fator=1):\n",
        "    return [comp2int(n,nbits)/fator]"
      ]
    },
    {
      "cell_type": "code",
      "execution_count": 106,
      "metadata": {},
      "outputs": [],
      "source": [
        "def concat2(n,nbits=nbits,fator=1):\n",
        "    # print([comp2int(n,nbits)/fator])\n",
        "    return [comp2int(n,nbits)/fator]"
      ]
    },
    {
      "cell_type": "code",
      "execution_count": 107,
      "metadata": {},
      "outputs": [],
      "source": [
        "def import_img(path_file,fator=1):\n",
        "    out2 = path_file\n",
        "    m2=[]\n",
        "    k2 = out2.readlines()\n",
        "    for i in k2:\n",
        "        m2.append(list(map(concat,i.split())))\n",
        "    plt.imshow(m2,cmap=\"gray\")\n",
        "    # plt.imsave('fig7.png',m2,cmap='gray')\n",
        "    return np.array(m2).copy()"
      ]
    },
    {
      "cell_type": "code",
      "execution_count": 108,
      "metadata": {},
      "outputs": [],
      "source": [
        "def import_img2(path_file,fator=1,string='fig.png',transpor=0):\n",
        "    out2 = path_file\n",
        "    m2=[]\n",
        "    k2 = out2.readlines()\n",
        "    for i in k2:\n",
        "        m2.append(list(map(concat2,i.split())))\n",
        "    plt.imshow(m2,cmap ='viridis')\n",
        "    # plt.imsave(string,m2,cmap='viridis')\n",
        "    if(transpor):\n",
        "        return m2.T\n",
        "    return m2"
      ]
    },
    {
      "cell_type": "code",
      "execution_count": 109,
      "metadata": {},
      "outputs": [],
      "source": [
        "def import_img3(path_file,fator=1,string='fig.png',transpor=0):\n",
        "    out2 = path_file\n",
        "    m2=[]\n",
        "    k2 = out2.readlines()\n",
        "    for i in k2:\n",
        "        m2.append(list(map(concat2,i.split())))\n",
        "    m2 = list(np.array(m2).T)\n",
        "    plt.imshow(m2,cmap ='viridis')\n",
        "    plt.imsave(string,m2,cmap='viridis')\n",
        "    if(transpor):\n",
        "        return m2.T"
      ]
    },
    {
      "cell_type": "code",
      "execution_count": null,
      "metadata": {},
      "outputs": [],
      "source": []
    },
    {
      "cell_type": "code",
      "execution_count": 110,
      "metadata": {},
      "outputs": [],
      "source": [
        "def exportInput_txt(imag,path_file,nbits=32,point_fixed=8):\n",
        "    for i in imag:\n",
        "        for j in i:\n",
        "            # strtmp = int2comp2(1 if(j >=50) else 0, nbits)[2:]\n",
        "            strtmp = int2comp2((int(j/255*2**point_fixed)), nbits)[2:]\n",
        "\n",
        "            strtmp2 = strtmp+' '\n",
        "            print(strtmp2,end=' ')\n",
        "            path_file.write(strtmp2)\n",
        "            # print(f'{strtmp2}',end='  ')\n",
        "        print(\"\\n\")\n",
        "        path_file.write(\"\\n\")\n",
        "    path_file.close()\n"
      ]
    },
    {
      "cell_type": "code",
      "execution_count": 111,
      "metadata": {},
      "outputs": [],
      "source": [
        "def kernel_txt(nbits,point_fixed,i,j,kernel,string='Kernel'):\n",
        "    ker = open(f\"simulation/{string}{j}{i}.txt\",'w')\n",
        "    kernel0_0 = np.array(kernel)\n",
        "    for i in kernel0_0:\n",
        "        for j in i:\n",
        "            print(int((j*2**point_fixed)),end=' ')\n",
        "            strtmp2 = int2comp2(int(j*2**point_fixed),nbits)+' '\n",
        "            ker.write(strtmp2[2:])\n",
        "            # print(f'{strtmp2}',end='  ')\n",
        "        ker.write(\"\\n\")\n",
        "        print('\\n')\n",
        "    ker.close()"
      ]
    },
    {
      "cell_type": "code",
      "execution_count": 112,
      "metadata": {},
      "outputs": [],
      "source": [
        "def bias_txt(nbits,point_fixed,i,bias,string='bias'):\n",
        "    ker = open(f\"simulation/{string}{i}.txt\",'w')\n",
        "    kernel0_0 = np.array(bias)\n",
        "    base = point_fixed\n",
        "    print(base)\n",
        "    for j in kernel0_0:\n",
        "        # for j in i:\n",
        "            print((int(j*2**base)),end=' ')\n",
        "            strtmp2 = int2comp2(int(j*2**point_fixed),nbits)+' '\n",
        "            ker.write(strtmp2[2:])\n",
        "            # print(f'{strtmp2}',end='  ')\n",
        "        # ker.write(\"\\n\")\n",
        "            # print('\\n')\n",
        "    ker.close()"
      ]
    },
    {
      "cell_type": "code",
      "execution_count": 113,
      "metadata": {
        "id": "te-Hq9X6Qgj0"
      },
      "outputs": [],
      "source": [
        "sizeM = open(\"./simulation/sizeM.txt\",\"w\")\n",
        "sizeM.write(str(sizt))\n",
        "sizeM.close()\n",
        "f = open(\"./simulation/I.txt\",\"w\")"
      ]
    },
    {
      "cell_type": "code",
      "execution_count": null,
      "metadata": {},
      "outputs": [],
      "source": []
    },
    {
      "cell_type": "code",
      "execution_count": 114,
      "metadata": {},
      "outputs": [
        {
          "data": {
            "text/plain": [
              "<matplotlib.image.AxesImage at 0x7fb258111c50>"
            ]
          },
          "execution_count": 114,
          "metadata": {},
          "output_type": "execute_result"
        },
        {
          "data": {
            "image/png": "[encoded data removed]",
            "text/plain": [
              "<Figure size 640x480 with 1 Axes>"
            ]
          },
          "metadata": {},
          "output_type": "display_data"
        }
      ],
      "source": [
        "array = idx2numpy.convert_from_file(path)[21]\n",
        "plt.imshow(array,cmap='binary')\n",
        "# array"
      ]
    },
    {
      "cell_type": "code",
      "execution_count": 115,
      "metadata": {},
      "outputs": [
        {
          "data": {
            "text/plain": [
              "array([[  0,   0,   0,   0,   0,   0,   0,   0,   0,   0,   0,   0,   0,\n",
              "          0,   0,   0,   0,   0,   0,   0,   0,   0,   0,   0,   0,   0,\n",
              "          0,   0],\n",
              "       [  0,   0,   0,   0,   0,   0,   0,   0,   0,   0,   0,   0,   0,\n",
              "          0,   0,   0,   0,   0,   0,   0,   0,   0,   0,   0,   0,   0,\n",
              "          0,   0],\n",
              "       [  0,   0,   0,   0,   0,   0,   0,   0,   0,   0,   0,   0,   0,\n",
              "          0,   0,   0,   0,   0,   0,   0,   0,   0,   0,   0,   0,   0,\n",
              "          0,   0],\n",
              "       [  0,   0,   0,   0,   0,   0,   0,   0,   0,   0,   0,   0,  49,\n",
              "        180, 253, 244,  50,   0,   0,   0,   0,   0,   0,   0,   0,   0,\n",
              "          0,   0],\n",
              "       [  0,   0,   0,   0,   0,   0,   0,   0,   0,   0,   0,   0, 184,\n",
              "        252, 252, 232, 164,   0,   0,   0,   0,   0,   0,   0,   0,   0,\n",
              "          0,   0],\n",
              "       [  0,   0,   0,   0,   0,   0,   0,   0,   0,   0,   0,  66, 234,\n",
              "        252, 136,  38,  56,   0,   0,   0,   0,   0,   0,   0,   0,   0,\n",
              "          0,   0],\n",
              "       [  0,   0,   0,   0,   0,   0,   0,   0,   0,   0,  19, 236, 252,\n",
              "        176,   4,   0,   0,   0,   0,   0,   0,   0,   0,   0,   0,   0,\n",
              "          0,   0],\n",
              "       [  0,   0,   0,   0,   0,   0,   0,   0,   0,   0,  76, 252, 252,\n",
              "         56,   0,   0,   0,   0,   0,   0,   0,   0,   0,   0,   0,   0,\n",
              "          0,   0],\n",
              "       [  0,   0,   0,   0,   0,   0,   0,   0,   0,   0, 139, 253, 173,\n",
              "          0,   0,   0,   0,   0,   0,   0,   0,   0,   0,   0,   0,   0,\n",
              "          0,   0],\n",
              "       [  0,   0,   0,   0,   0,   0,   0,   0,   0,  22, 212, 252,  69,\n",
              "          0,   0,   0,   0,   0,   0,   0,   0,   0,   0,   0,   0,   0,\n",
              "          0,   0],\n",
              "       [  0,   0,   0,   0,   0,   0,   0,   0,   0, 116, 253, 240,  50,\n",
              "          0,   0,   0,   0,   0,   0,   0,   0,   0,   0,   0,   0,   0,\n",
              "          0,   0],\n",
              "       [  0,   0,   0,   0,   0,   0,   0,   0,   0, 157, 253, 206,   0,\n",
              "          0,   0,   0,   0,   0,   0,   0,   0,   0,   0,   0,   0,   0,\n",
              "          0,   0],\n",
              "       [  0,   0,   0,   0,   0,   0,   0,   0,   0, 230, 253, 102,   0,\n",
              "          0,   0,   0,   0,   0,   0,   0,   0,   0,   0,   0,   0,   0,\n",
              "          0,   0],\n",
              "       [  0,   0,   0,   0,   0,   0,   0,   0,   0, 231, 255, 180, 138,\n",
              "        180, 253, 255, 253, 222,  97,   3,   0,   0,   0,   0,   0,   0,\n",
              "          0,   0],\n",
              "       [  0,   0,   0,   0,   0,   0,   0,   0,   0, 230, 253, 252, 252,\n",
              "        252, 252, 211, 252, 252, 252, 117,   0,   0,   0,   0,   0,   0,\n",
              "          0,   0],\n",
              "       [  0,   0,   0,   0,   0,   0,   0,   0,   0, 230, 253, 240, 183,\n",
              "         89,  69,   7,  69, 171, 252, 252,  85,   0,   0,   0,   0,   0,\n",
              "          0,   0],\n",
              "       [  0,   0,   0,   0,   0,   0,   0,   0,   0, 135, 253, 153,   0,\n",
              "          0,   0,   0,   0,  13, 215, 252, 116,   0,   0,   0,   0,   0,\n",
              "          0,   0],\n",
              "       [  0,   0,   0,   0,   0,   0,   0,   0,   0, 116, 253, 206,   0,\n",
              "          0,   0,   0,   0,   0, 155, 252, 116,   0,   0,   0,   0,   0,\n",
              "          0,   0],\n",
              "       [  0,   0,   0,   0,   0,   0,   0,   0,   0, 106, 255, 211,   7,\n",
              "          0,   0,   0,   0,  49, 233, 253, 116,   0,   0,   0,   0,   0,\n",
              "          0,   0],\n",
              "       [  0,   0,   0,   0,   0,   0,   0,   0,   0,   0, 159, 252, 154,\n",
              "          9,   0,   0,  30, 197, 252, 252,  95,   0,   0,   0,   0,   0,\n",
              "          0,   0],\n",
              "       [  0,   0,   0,   0,   0,   0,   0,   0,   0,   0,  17, 227, 252,\n",
              "        154,  70,  81, 228, 252, 227, 130,   0,   0,   0,   0,   0,   0,\n",
              "          0,   0],\n",
              "       [  0,   0,   0,   0,   0,   0,   0,   0,   0,   0,   0,  50, 227,\n",
              "        252, 252, 253, 252, 185,  50,   0,   0,   0,   0,   0,   0,   0,\n",
              "          0,   0],\n",
              "       [  0,   0,   0,   0,   0,   0,   0,   0,   0,   0,   0,   0,  48,\n",
              "        179, 252, 190, 117,   6,   0,   0,   0,   0,   0,   0,   0,   0,\n",
              "          0,   0],\n",
              "       [  0,   0,   0,   0,   0,   0,   0,   0,   0,   0,   0,   0,   0,\n",
              "          0,   0,   0,   0,   0,   0,   0,   0,   0,   0,   0,   0,   0,\n",
              "          0,   0],\n",
              "       [  0,   0,   0,   0,   0,   0,   0,   0,   0,   0,   0,   0,   0,\n",
              "          0,   0,   0,   0,   0,   0,   0,   0,   0,   0,   0,   0,   0,\n",
              "          0,   0],\n",
              "       [  0,   0,   0,   0,   0,   0,   0,   0,   0,   0,   0,   0,   0,\n",
              "          0,   0,   0,   0,   0,   0,   0,   0,   0,   0,   0,   0,   0,\n",
              "          0,   0],\n",
              "       [  0,   0,   0,   0,   0,   0,   0,   0,   0,   0,   0,   0,   0,\n",
              "          0,   0,   0,   0,   0,   0,   0,   0,   0,   0,   0,   0,   0,\n",
              "          0,   0],\n",
              "       [  0,   0,   0,   0,   0,   0,   0,   0,   0,   0,   0,   0,   0,\n",
              "          0,   0,   0,   0,   0,   0,   0,   0,   0,   0,   0,   0,   0,\n",
              "          0,   0]], dtype=uint8)"
            ]
          },
          "execution_count": 115,
          "metadata": {},
          "output_type": "execute_result"
        }
      ],
      "source": [
        "array"
      ]
    },
    {
      "cell_type": "code",
      "execution_count": 116,
      "metadata": {
        "colab": {
          "base_uri": "https://localhost:8080/"
        },
        "id": "5DQtVefsLg3U",
        "outputId": "1405ba52-16b8-4941-99a6-e1c677993776"
      },
      "outputs": [
        {
          "name": "stdout",
          "output_type": "stream",
          "text": [
            "0  0  0  0  0  0  0  0  0  0  0  0  0  0  0  0  0  0  0  0  0  0  0  0  0  0  0  0  \n",
            "\n",
            "0  0  0  0  0  0  0  0  0  0  0  0  0  0  0  0  0  0  0  0  0  0  0  0  0  0  0  0  \n",
            "\n",
            "0  0  0  0  0  0  0  0  0  0  0  0  0  0  0  0  0  0  0  0  0  0  0  0  0  0  0  0  \n",
            "\n",
            "0  0  0  0  0  0  0  0  0  0  0  0  31  b4  fd  f4  32  0  0  0  0  0  0  0  0  0  0  0  \n",
            "\n",
            "0  0  0  0  0  0  0  0  0  0  0  0  b8  fc  fc  e8  a4  0  0  0  0  0  0  0  0  0  0  0  \n",
            "\n",
            "0  0  0  0  0  0  0  0  0  0  0  42  ea  fc  88  26  38  0  0  0  0  0  0  0  0  0  0  0  \n",
            "\n",
            "0  0  0  0  0  0  0  0  0  0  13  ec  fc  b0  4  0  0  0  0  0  0  0  0  0  0  0  0  0  \n",
            "\n",
            "0  0  0  0  0  0  0  0  0  0  4c  fc  fc  38  0  0  0  0  0  0  0  0  0  0  0  0  0  0  \n",
            "\n",
            "0  0  0  0  0  0  0  0  0  0  8b  fd  ad  0  0  0  0  0  0  0  0  0  0  0  0  0  0  0  \n",
            "\n",
            "0  0  0  0  0  0  0  0  0  16  d4  fc  45  0  0  0  0  0  0  0  0  0  0  0  0  0  0  0  \n",
            "\n",
            "0  0  0  0  0  0  0  0  0  74  fd  f0  32  0  0  0  0  0  0  0  0  0  0  0  0  0  0  0  \n",
            "\n",
            "0  0  0  0  0  0  0  0  0  9d  fd  ce  0  0  0  0  0  0  0  0  0  0  0  0  0  0  0  0  \n",
            "\n",
            "0  0  0  0  0  0  0  0  0  e6  fd  66  0  0  0  0  0  0  0  0  0  0  0  0  0  0  0  0  \n",
            "\n",
            "0  0  0  0  0  0  0  0  0  e7  100  b4  8a  b4  fd  100  fd  de  61  3  0  0  0  0  0  0  0  0  \n",
            "\n",
            "0  0  0  0  0  0  0  0  0  e6  fd  fc  fc  fc  fc  d3  fc  fc  fc  75  0  0  0  0  0  0  0  0  \n",
            "\n",
            "0  0  0  0  0  0  0  0  0  e6  fd  f0  b7  59  45  7  45  ab  fc  fc  55  0  0  0  0  0  0  0  \n",
            "\n",
            "0  0  0  0  0  0  0  0  0  87  fd  99  0  0  0  0  0  d  d7  fc  74  0  0  0  0  0  0  0  \n",
            "\n",
            "0  0  0  0  0  0  0  0  0  74  fd  ce  0  0  0  0  0  0  9b  fc  74  0  0  0  0  0  0  0  \n",
            "\n",
            "0  0  0  0  0  0  0  0  0  6a  100  d3  7  0  0  0  0  31  e9  fd  74  0  0  0  0  0  0  0  \n",
            "\n",
            "0  0  0  0  0  0  0  0  0  0  9f  fc  9a  9  0  0  1e  c5  fc  fc  5f  0  0  0  0  0  0  0  \n",
            "\n",
            "0  0  0  0  0  0  0  0  0  0  11  e3  fc  9a  46  51  e4  fc  e3  82  0  0  0  0  0  0  0  0  \n",
            "\n",
            "0  0  0  0  0  0  0  0  0  0  0  32  e3  fc  fc  fd  fc  b9  32  0  0  0  0  0  0  0  0  0  \n",
            "\n",
            "0  0  0  0  0  0  0  0  0  0  0  0  30  b3  fc  be  75  6  0  0  0  0  0  0  0  0  0  0  \n",
            "\n",
            "0  0  0  0  0  0  0  0  0  0  0  0  0  0  0  0  0  0  0  0  0  0  0  0  0  0  0  0  \n",
            "\n",
            "0  0  0  0  0  0  0  0  0  0  0  0  0  0  0  0  0  0  0  0  0  0  0  0  0  0  0  0  \n",
            "\n",
            "0  0  0  0  0  0  0  0  0  0  0  0  0  0  0  0  0  0  0  0  0  0  0  0  0  0  0  0  \n",
            "\n",
            "0  0  0  0  0  0  0  0  0  0  0  0  0  0  0  0  0  0  0  0  0  0  0  0  0  0  0  0  \n",
            "\n",
            "0  0  0  0  0  0  0  0  0  0  0  0  0  0  0  0  0  0  0  0  0  0  0  0  0  0  0  0  \n",
            "\n"
          ]
        }
      ],
      "source": [
        "exportInput_txt(imag=array,path_file=f)"
      ]
    },
    {
      "cell_type": "code",
      "execution_count": 117,
      "metadata": {},
      "outputs": [
        {
          "data": {
            "text/plain": [
              "array([[  0,   0,   0,   0,   0,   0,   0,   0,   0,   0,   0,   0,   0,\n",
              "          0,   0,   0,   0,   0,   0,   0,   0,   0,   0,   0,   0,   0,\n",
              "          0,   0],\n",
              "       [  0,   0,   0,   0,   0,   0,   0,   0,   0,   0,   0,   0,   0,\n",
              "          0,   0,   0,   0,   0,   0,   0,   0,   0,   0,   0,   0,   0,\n",
              "          0,   0],\n",
              "       [  0,   0,   0,   0,   0,   0,   0,   0,   0,   0,   0,   0,   0,\n",
              "          0,   0,   0,   0,   0,   0,   0,   0,   0,   0,   0,   0,   0,\n",
              "          0,   0],\n",
              "       [  0,   0,   0,   0,   0,   0,   0,   0,   0,   0,   0,   0,  49,\n",
              "        180, 253, 244,  50,   0,   0,   0,   0,   0,   0,   0,   0,   0,\n",
              "          0,   0],\n",
              "       [  0,   0,   0,   0,   0,   0,   0,   0,   0,   0,   0,   0, 184,\n",
              "        252, 252, 232, 164,   0,   0,   0,   0,   0,   0,   0,   0,   0,\n",
              "          0,   0],\n",
              "       [  0,   0,   0,   0,   0,   0,   0,   0,   0,   0,   0,  66, 234,\n",
              "        252, 136,  38,  56,   0,   0,   0,   0,   0,   0,   0,   0,   0,\n",
              "          0,   0],\n",
              "       [  0,   0,   0,   0,   0,   0,   0,   0,   0,   0,  19, 236, 252,\n",
              "        176,   4,   0,   0,   0,   0,   0,   0,   0,   0,   0,   0,   0,\n",
              "          0,   0],\n",
              "       [  0,   0,   0,   0,   0,   0,   0,   0,   0,   0,  76, 252, 252,\n",
              "         56,   0,   0,   0,   0,   0,   0,   0,   0,   0,   0,   0,   0,\n",
              "          0,   0],\n",
              "       [  0,   0,   0,   0,   0,   0,   0,   0,   0,   0, 139, 253, 173,\n",
              "          0,   0,   0,   0,   0,   0,   0,   0,   0,   0,   0,   0,   0,\n",
              "          0,   0],\n",
              "       [  0,   0,   0,   0,   0,   0,   0,   0,   0,  22, 212, 252,  69,\n",
              "          0,   0,   0,   0,   0,   0,   0,   0,   0,   0,   0,   0,   0,\n",
              "          0,   0],\n",
              "       [  0,   0,   0,   0,   0,   0,   0,   0,   0, 116, 253, 240,  50,\n",
              "          0,   0,   0,   0,   0,   0,   0,   0,   0,   0,   0,   0,   0,\n",
              "          0,   0],\n",
              "       [  0,   0,   0,   0,   0,   0,   0,   0,   0, 157, 253, 206,   0,\n",
              "          0,   0,   0,   0,   0,   0,   0,   0,   0,   0,   0,   0,   0,\n",
              "          0,   0],\n",
              "       [  0,   0,   0,   0,   0,   0,   0,   0,   0, 230, 253, 102,   0,\n",
              "          0,   0,   0,   0,   0,   0,   0,   0,   0,   0,   0,   0,   0,\n",
              "          0,   0],\n",
              "       [  0,   0,   0,   0,   0,   0,   0,   0,   0, 231, 255, 180, 138,\n",
              "        180, 253, 255, 253, 222,  97,   3,   0,   0,   0,   0,   0,   0,\n",
              "          0,   0],\n",
              "       [  0,   0,   0,   0,   0,   0,   0,   0,   0, 230, 253, 252, 252,\n",
              "        252, 252, 211, 252, 252, 252, 117,   0,   0,   0,   0,   0,   0,\n",
              "          0,   0],\n",
              "       [  0,   0,   0,   0,   0,   0,   0,   0,   0, 230, 253, 240, 183,\n",
              "         89,  69,   7,  69, 171, 252, 252,  85,   0,   0,   0,   0,   0,\n",
              "          0,   0],\n",
              "       [  0,   0,   0,   0,   0,   0,   0,   0,   0, 135, 253, 153,   0,\n",
              "          0,   0,   0,   0,  13, 215, 252, 116,   0,   0,   0,   0,   0,\n",
              "          0,   0],\n",
              "       [  0,   0,   0,   0,   0,   0,   0,   0,   0, 116, 253, 206,   0,\n",
              "          0,   0,   0,   0,   0, 155, 252, 116,   0,   0,   0,   0,   0,\n",
              "          0,   0],\n",
              "       [  0,   0,   0,   0,   0,   0,   0,   0,   0, 106, 255, 211,   7,\n",
              "          0,   0,   0,   0,  49, 233, 253, 116,   0,   0,   0,   0,   0,\n",
              "          0,   0],\n",
              "       [  0,   0,   0,   0,   0,   0,   0,   0,   0,   0, 159, 252, 154,\n",
              "          9,   0,   0,  30, 197, 252, 252,  95,   0,   0,   0,   0,   0,\n",
              "          0,   0],\n",
              "       [  0,   0,   0,   0,   0,   0,   0,   0,   0,   0,  17, 227, 252,\n",
              "        154,  70,  81, 228, 252, 227, 130,   0,   0,   0,   0,   0,   0,\n",
              "          0,   0],\n",
              "       [  0,   0,   0,   0,   0,   0,   0,   0,   0,   0,   0,  50, 227,\n",
              "        252, 252, 253, 252, 185,  50,   0,   0,   0,   0,   0,   0,   0,\n",
              "          0,   0],\n",
              "       [  0,   0,   0,   0,   0,   0,   0,   0,   0,   0,   0,   0,  48,\n",
              "        179, 252, 190, 117,   6,   0,   0,   0,   0,   0,   0,   0,   0,\n",
              "          0,   0],\n",
              "       [  0,   0,   0,   0,   0,   0,   0,   0,   0,   0,   0,   0,   0,\n",
              "          0,   0,   0,   0,   0,   0,   0,   0,   0,   0,   0,   0,   0,\n",
              "          0,   0],\n",
              "       [  0,   0,   0,   0,   0,   0,   0,   0,   0,   0,   0,   0,   0,\n",
              "          0,   0,   0,   0,   0,   0,   0,   0,   0,   0,   0,   0,   0,\n",
              "          0,   0],\n",
              "       [  0,   0,   0,   0,   0,   0,   0,   0,   0,   0,   0,   0,   0,\n",
              "          0,   0,   0,   0,   0,   0,   0,   0,   0,   0,   0,   0,   0,\n",
              "          0,   0],\n",
              "       [  0,   0,   0,   0,   0,   0,   0,   0,   0,   0,   0,   0,   0,\n",
              "          0,   0,   0,   0,   0,   0,   0,   0,   0,   0,   0,   0,   0,\n",
              "          0,   0],\n",
              "       [  0,   0,   0,   0,   0,   0,   0,   0,   0,   0,   0,   0,   0,\n",
              "          0,   0,   0,   0,   0,   0,   0,   0,   0,   0,   0,   0,   0,\n",
              "          0,   0]], dtype=uint8)"
            ]
          },
          "execution_count": 117,
          "metadata": {},
          "output_type": "execute_result"
        }
      ],
      "source": [
        "array"
      ]
    },
    {
      "cell_type": "code",
      "execution_count": 118,
      "metadata": {},
      "outputs": [
        {
          "name": "stdout",
          "output_type": "stream",
          "text": [
            "\u001b[1m1/1\u001b[0m \u001b[32m━━━━━━━━━━━━━━━━━━━━\u001b[0m\u001b[37m\u001b[0m \u001b[1m0s\u001b[0m 71ms/step\n"
          ]
        },
        {
          "data": {
            "text/plain": [
              "array([[0., 0., 0., 0., 0., 0., 1., 0., 0., 0.]], dtype=float32)"
            ]
          },
          "execution_count": 118,
          "metadata": {},
          "output_type": "execute_result"
        }
      ],
      "source": [
        "modelo_dig.predict(array.reshape(1,28,28,1))"
      ]
    },
    {
      "cell_type": "code",
      "execution_count": 119,
      "metadata": {},
      "outputs": [
        {
          "name": "stdout",
          "output_type": "stream",
          "text": [
            "\u001b[1m1/1\u001b[0m \u001b[32m━━━━━━━━━━━━━━━━━━━━\u001b[0m\u001b[37m\u001b[0m \u001b[1m0s\u001b[0m 32ms/step\n"
          ]
        },
        {
          "data": {
            "text/plain": [
              "array([[0., 0., 0., 0., 0., 0., 1., 0., 0., 0.]], dtype=float32)"
            ]
          },
          "execution_count": 119,
          "metadata": {},
          "output_type": "execute_result"
        }
      ],
      "source": [
        "modelo_dig.predict(array.reshape(1,28,28,1))"
      ]
    },
    {
      "cell_type": "code",
      "execution_count": null,
      "metadata": {},
      "outputs": [
        {
          "data": {
            "text/plain": [
              "['_ACCEPTABLE_EMBEDDINGS',\n",
              " '_FMT_GIF',\n",
              " '_FMT_JPEG',\n",
              " '_FMT_PNG',\n",
              " '_FMT_WEBP',\n",
              " '_MIMETYPES',\n",
              " '__class__',\n",
              " '__delattr__',\n",
              " '__dict__',\n",
              " '__dir__',\n",
              " '__doc__',\n",
              " '__eq__',\n",
              " '__format__',\n",
              " '__ge__',\n",
              " '__getattribute__',\n",
              " '__getstate__',\n",
              " '__gt__',\n",
              " '__hash__',\n",
              " '__init__',\n",
              " '__init_subclass__',\n",
              " '__le__',\n",
              " '__lt__',\n",
              " '__module__',\n",
              " '__ne__',\n",
              " '__new__',\n",
              " '__reduce__',\n",
              " '__reduce_ex__',\n",
              " '__repr__',\n",
              " '__setattr__',\n",
              " '__sizeof__',\n",
              " '__str__',\n",
              " '__subclasshook__',\n",
              " '__weakref__',\n",
              " '_check_data',\n",
              " '_data_and_metadata',\n",
              " '_find_ext',\n",
              " '_mimetype',\n",
              " '_read_flags',\n",
              " '_repr_html_',\n",
              " '_repr_jpeg_',\n",
              " '_repr_mimebundle_',\n",
              " '_repr_png_',\n",
              " '_retina_shape',\n",
              " '_show_mem_addr',\n",
              " 'alt',\n",
              " 'data',\n",
              " 'embed',\n",
              " 'filename',\n",
              " 'format',\n",
              " 'height',\n",
              " 'metadata',\n",
              " 'reload',\n",
              " 'retina',\n",
              " 'unconfined',\n",
              " 'url',\n",
              " 'width']"
            ]
          },
          "execution_count": 183,
          "metadata": {},
          "output_type": "execute_result"
        }
      ],
      "source": [
        "tf.keras.utils.plot_model(modelo_dig, show_shapes=True)"
      ]
    },
    {
      "cell_type": "code",
      "execution_count": 120,
      "metadata": {},
      "outputs": [
        {
          "data": {
            "text/html": [
              "<pre style=\"white-space:pre;overflow-x:auto;line-height:normal;font-family:Menlo,'DejaVu Sans Mono',consolas,'Courier New',monospace\"><span style=\"font-weight: bold\">Model: \"sequential_3\"</span>\n",
              "</pre>\n"
            ],
            "text/plain": [
              "\u001b[1mModel: \"sequential_3\"\u001b[0m\n"
            ]
          },
          "metadata": {},
          "output_type": "display_data"
        },
        {
          "data": {
            "text/html": [
              "<pre style=\"white-space:pre;overflow-x:auto;line-height:normal;font-family:Menlo,'DejaVu Sans Mono',consolas,'Courier New',monospace\">┏━━━━━━━━━━━━━━━━━━━━━━━━━━━━━━━━━┳━━━━━━━━━━━━━━━━━━━━━━━━┳━━━━━━━━━━━━━━━┓\n",
              "┃<span style=\"font-weight: bold\"> Layer (type)                    </span>┃<span style=\"font-weight: bold\"> Output Shape           </span>┃<span style=\"font-weight: bold\">       Param # </span>┃\n",
              "┡━━━━━━━━━━━━━━━━━━━━━━━━━━━━━━━━━╇━━━━━━━━━━━━━━━━━━━━━━━━╇━━━━━━━━━━━━━━━┩\n",
              "│ conv2d_6 (<span style=\"color: #0087ff; text-decoration-color: #0087ff\">Conv2D</span>)               │ (<span style=\"color: #00d7ff; text-decoration-color: #00d7ff\">None</span>, <span style=\"color: #00af00; text-decoration-color: #00af00\">24</span>, <span style=\"color: #00af00; text-decoration-color: #00af00\">24</span>, <span style=\"color: #00af00; text-decoration-color: #00af00\">2</span>)      │            <span style=\"color: #00af00; text-decoration-color: #00af00\">52</span> │\n",
              "├─────────────────────────────────┼────────────────────────┼───────────────┤\n",
              "│ max_pooling2d_6 (<span style=\"color: #0087ff; text-decoration-color: #0087ff\">MaxPooling2D</span>)  │ (<span style=\"color: #00d7ff; text-decoration-color: #00d7ff\">None</span>, <span style=\"color: #00af00; text-decoration-color: #00af00\">12</span>, <span style=\"color: #00af00; text-decoration-color: #00af00\">12</span>, <span style=\"color: #00af00; text-decoration-color: #00af00\">2</span>)      │             <span style=\"color: #00af00; text-decoration-color: #00af00\">0</span> │\n",
              "├─────────────────────────────────┼────────────────────────┼───────────────┤\n",
              "│ conv2d_7 (<span style=\"color: #0087ff; text-decoration-color: #0087ff\">Conv2D</span>)               │ (<span style=\"color: #00d7ff; text-decoration-color: #00d7ff\">None</span>, <span style=\"color: #00af00; text-decoration-color: #00af00\">10</span>, <span style=\"color: #00af00; text-decoration-color: #00af00\">10</span>, <span style=\"color: #00af00; text-decoration-color: #00af00\">4</span>)      │            <span style=\"color: #00af00; text-decoration-color: #00af00\">76</span> │\n",
              "├─────────────────────────────────┼────────────────────────┼───────────────┤\n",
              "│ max_pooling2d_7 (<span style=\"color: #0087ff; text-decoration-color: #0087ff\">MaxPooling2D</span>)  │ (<span style=\"color: #00d7ff; text-decoration-color: #00d7ff\">None</span>, <span style=\"color: #00af00; text-decoration-color: #00af00\">5</span>, <span style=\"color: #00af00; text-decoration-color: #00af00\">5</span>, <span style=\"color: #00af00; text-decoration-color: #00af00\">4</span>)        │             <span style=\"color: #00af00; text-decoration-color: #00af00\">0</span> │\n",
              "├─────────────────────────────────┼────────────────────────┼───────────────┤\n",
              "│ flatten_3 (<span style=\"color: #0087ff; text-decoration-color: #0087ff\">Flatten</span>)             │ (<span style=\"color: #00d7ff; text-decoration-color: #00d7ff\">None</span>, <span style=\"color: #00af00; text-decoration-color: #00af00\">100</span>)            │             <span style=\"color: #00af00; text-decoration-color: #00af00\">0</span> │\n",
              "├─────────────────────────────────┼────────────────────────┼───────────────┤\n",
              "│ dense_3 (<span style=\"color: #0087ff; text-decoration-color: #0087ff\">Dense</span>)                 │ (<span style=\"color: #00d7ff; text-decoration-color: #00d7ff\">None</span>, <span style=\"color: #00af00; text-decoration-color: #00af00\">10</span>)             │         <span style=\"color: #00af00; text-decoration-color: #00af00\">1,010</span> │\n",
              "└─────────────────────────────────┴────────────────────────┴───────────────┘\n",
              "</pre>\n"
            ],
            "text/plain": [
              "┏━━━━━━━━━━━━━━━━━━━━━━━━━━━━━━━━━┳━━━━━━━━━━━━━━━━━━━━━━━━┳━━━━━━━━━━━━━━━┓\n",
              "┃\u001b[1m \u001b[0m\u001b[1mLayer (type)                   \u001b[0m\u001b[1m \u001b[0m┃\u001b[1m \u001b[0m\u001b[1mOutput Shape          \u001b[0m\u001b[1m \u001b[0m┃\u001b[1m \u001b[0m\u001b[1m      Param #\u001b[0m\u001b[1m \u001b[0m┃\n",
              "┡━━━━━━━━━━━━━━━━━━━━━━━━━━━━━━━━━╇━━━━━━━━━━━━━━━━━━━━━━━━╇━━━━━━━━━━━━━━━┩\n",
              "│ conv2d_6 (\u001b[38;5;33mConv2D\u001b[0m)               │ (\u001b[38;5;45mNone\u001b[0m, \u001b[38;5;34m24\u001b[0m, \u001b[38;5;34m24\u001b[0m, \u001b[38;5;34m2\u001b[0m)      │            \u001b[38;5;34m52\u001b[0m │\n",
              "├─────────────────────────────────┼────────────────────────┼───────────────┤\n",
              "│ max_pooling2d_6 (\u001b[38;5;33mMaxPooling2D\u001b[0m)  │ (\u001b[38;5;45mNone\u001b[0m, \u001b[38;5;34m12\u001b[0m, \u001b[38;5;34m12\u001b[0m, \u001b[38;5;34m2\u001b[0m)      │             \u001b[38;5;34m0\u001b[0m │\n",
              "├─────────────────────────────────┼────────────────────────┼───────────────┤\n",
              "│ conv2d_7 (\u001b[38;5;33mConv2D\u001b[0m)               │ (\u001b[38;5;45mNone\u001b[0m, \u001b[38;5;34m10\u001b[0m, \u001b[38;5;34m10\u001b[0m, \u001b[38;5;34m4\u001b[0m)      │            \u001b[38;5;34m76\u001b[0m │\n",
              "├─────────────────────────────────┼────────────────────────┼───────────────┤\n",
              "│ max_pooling2d_7 (\u001b[38;5;33mMaxPooling2D\u001b[0m)  │ (\u001b[38;5;45mNone\u001b[0m, \u001b[38;5;34m5\u001b[0m, \u001b[38;5;34m5\u001b[0m, \u001b[38;5;34m4\u001b[0m)        │             \u001b[38;5;34m0\u001b[0m │\n",
              "├─────────────────────────────────┼────────────────────────┼───────────────┤\n",
              "│ flatten_3 (\u001b[38;5;33mFlatten\u001b[0m)             │ (\u001b[38;5;45mNone\u001b[0m, \u001b[38;5;34m100\u001b[0m)            │             \u001b[38;5;34m0\u001b[0m │\n",
              "├─────────────────────────────────┼────────────────────────┼───────────────┤\n",
              "│ dense_3 (\u001b[38;5;33mDense\u001b[0m)                 │ (\u001b[38;5;45mNone\u001b[0m, \u001b[38;5;34m10\u001b[0m)             │         \u001b[38;5;34m1,010\u001b[0m │\n",
              "└─────────────────────────────────┴────────────────────────┴───────────────┘\n"
            ]
          },
          "metadata": {},
          "output_type": "display_data"
        },
        {
          "data": {
            "text/html": [
              "<pre style=\"white-space:pre;overflow-x:auto;line-height:normal;font-family:Menlo,'DejaVu Sans Mono',consolas,'Courier New',monospace\"><span style=\"font-weight: bold\"> Total params: </span><span style=\"color: #00af00; text-decoration-color: #00af00\">1,140</span> (4.46 KB)\n",
              "</pre>\n"
            ],
            "text/plain": [
              "\u001b[1m Total params: \u001b[0m\u001b[38;5;34m1,140\u001b[0m (4.46 KB)\n"
            ]
          },
          "metadata": {},
          "output_type": "display_data"
        },
        {
          "data": {
            "text/html": [
              "<pre style=\"white-space:pre;overflow-x:auto;line-height:normal;font-family:Menlo,'DejaVu Sans Mono',consolas,'Courier New',monospace\"><span style=\"font-weight: bold\"> Trainable params: </span><span style=\"color: #00af00; text-decoration-color: #00af00\">1,138</span> (4.45 KB)\n",
              "</pre>\n"
            ],
            "text/plain": [
              "\u001b[1m Trainable params: \u001b[0m\u001b[38;5;34m1,138\u001b[0m (4.45 KB)\n"
            ]
          },
          "metadata": {},
          "output_type": "display_data"
        },
        {
          "data": {
            "text/html": [
              "<pre style=\"white-space:pre;overflow-x:auto;line-height:normal;font-family:Menlo,'DejaVu Sans Mono',consolas,'Courier New',monospace\"><span style=\"font-weight: bold\"> Non-trainable params: </span><span style=\"color: #00af00; text-decoration-color: #00af00\">0</span> (0.00 B)\n",
              "</pre>\n"
            ],
            "text/plain": [
              "\u001b[1m Non-trainable params: \u001b[0m\u001b[38;5;34m0\u001b[0m (0.00 B)\n"
            ]
          },
          "metadata": {},
          "output_type": "display_data"
        },
        {
          "data": {
            "text/html": [
              "<pre style=\"white-space:pre;overflow-x:auto;line-height:normal;font-family:Menlo,'DejaVu Sans Mono',consolas,'Courier New',monospace\"><span style=\"font-weight: bold\"> Optimizer params: </span><span style=\"color: #00af00; text-decoration-color: #00af00\">2</span> (12.00 B)\n",
              "</pre>\n"
            ],
            "text/plain": [
              "\u001b[1m Optimizer params: \u001b[0m\u001b[38;5;34m2\u001b[0m (12.00 B)\n"
            ]
          },
          "metadata": {},
          "output_type": "display_data"
        }
      ],
      "source": [
        "modelo_dig.summary()"
      ]
    },
    {
      "cell_type": "code",
      "execution_count": 121,
      "metadata": {},
      "outputs": [],
      "source": [
        "kernels = modelo_dig.weights[5]\n"
      ]
    },
    {
      "cell_type": "code",
      "execution_count": 122,
      "metadata": {},
      "outputs": [],
      "source": [
        "bias = np.array(modelo_dig.weights[1])"
      ]
    },
    {
      "cell_type": "code",
      "execution_count": 123,
      "metadata": {},
      "outputs": [
        {
          "name": "stdout",
          "output_type": "stream",
          "text": [
            "8\n",
            "-23 -42 "
          ]
        }
      ],
      "source": [
        "bias_txt(nbits,point_fixed,0,modelo_dig.weights[1])"
      ]
    },
    {
      "cell_type": "code",
      "execution_count": 124,
      "metadata": {},
      "outputs": [
        {
          "name": "stdout",
          "output_type": "stream",
          "text": [
            "8\n",
            "5 183 -13 -134 49 49 -64 128 -187 -123 "
          ]
        }
      ],
      "source": [
        "bias_txt(nbits,point_fixed,5,modelo_dig.weights[5])\n"
      ]
    },
    {
      "cell_type": "code",
      "execution_count": 125,
      "metadata": {},
      "outputs": [],
      "source": [
        "cc = modelo_dig.weights[4]"
      ]
    },
    {
      "cell_type": "code",
      "execution_count": 126,
      "metadata": {},
      "outputs": [
        {
          "name": "stdout",
          "output_type": "stream",
          "text": [
            "8\n",
            "-23 -42 "
          ]
        }
      ],
      "source": [
        "bias_txt(nbits,point_fixed,2,modelo_dig.weights[1])"
      ]
    },
    {
      "cell_type": "code",
      "execution_count": 127,
      "metadata": {},
      "outputs": [],
      "source": [
        "modelo_dig.weights[0]\n",
        "kernels = modelo_dig.weights[0]\n",
        "kernels;"
      ]
    },
    {
      "cell_type": "code",
      "execution_count": 128,
      "metadata": {},
      "outputs": [
        {
          "name": "stdout",
          "output_type": "stream",
          "text": [
            "8\n",
            "-66 -85 -14 -38 "
          ]
        }
      ],
      "source": [
        "bias_txt(nbits,point_fixed,2,modelo_dig.weights[3])\n"
      ]
    },
    {
      "cell_type": "code",
      "execution_count": 129,
      "metadata": {},
      "outputs": [
        {
          "name": "stdout",
          "output_type": "stream",
          "text": [
            "-17 17 -99 49 114 \n",
            "\n",
            "-41 -50 141 87 80 \n",
            "\n",
            "-34 90 104 160 -54 \n",
            "\n",
            "59 122 85 67 -71 \n",
            "\n",
            "69 72 19 27 -80 \n",
            "\n",
            "-------------------------------------------------------------------- 1\n",
            "-10 -11 -10 -27 -60 \n",
            "\n",
            "106 -20 -47 -9 -129 \n",
            "\n",
            "111 97 46 -34 61 \n",
            "\n",
            "75 150 69 182 87 \n",
            "\n",
            "-30 63 90 9 95 \n",
            "\n",
            "-------------------------------------------------------------------- 2\n"
          ]
        }
      ],
      "source": [
        "lim = np.array(kernels.shape)[::-1][0]\n",
        "for i in range(lim):\n",
        "    kernel_txt(nbits,point_fixed,i,0,modelo_dig.weights[0][:,:,0,i])\n",
        "    print(\"--------------------------------------------------------------------\",i+1)"
      ]
    },
    {
      "cell_type": "markdown",
      "metadata": {},
      "source": [
        "kernel0"
      ]
    },
    {
      "cell_type": "code",
      "execution_count": 130,
      "metadata": {},
      "outputs": [],
      "source": [
        "#  modelo_dig.weights[2].shape"
      ]
    },
    {
      "cell_type": "code",
      "execution_count": 131,
      "metadata": {},
      "outputs": [],
      "source": [
        "# lims = int(np.array(kernels2d_1.shape)[::-1][0])\n",
        "# limi = int(np.array(kernels2d_1.shape)[::-1][1])\n",
        "# (limi,lims)"
      ]
    },
    {
      "cell_type": "code",
      "execution_count": 132,
      "metadata": {},
      "outputs": [
        {
          "name": "stdout",
          "output_type": "stream",
          "text": [
            "------------------------------- 1 1\n",
            "82 -11 -35 \n",
            "\n",
            "13 269 102 \n",
            "\n",
            "123 193 245 \n",
            "\n",
            "------------------------------- 1 2\n",
            "-80 -90 -57 \n",
            "\n",
            "10 131 120 \n",
            "\n",
            "-6 -122 -43 \n",
            "\n",
            "------------------------------- 1 3\n",
            "-137 -106 -64 \n",
            "\n",
            "61 29 45 \n",
            "\n",
            "-71 -33 -33 \n",
            "\n",
            "------------------------------- 1 4\n",
            "67 -13 75 \n",
            "\n",
            "144 34 -11 \n",
            "\n",
            "-52 46 -18 \n",
            "\n",
            "------------------------------- 2 1\n",
            "5 -129 -22 \n",
            "\n",
            "-113 -123 -119 \n",
            "\n",
            "-20 -120 -60 \n",
            "\n",
            "------------------------------- 2 2\n",
            "111 187 170 \n",
            "\n",
            "93 -51 -10 \n",
            "\n",
            "-106 -87 -135 \n",
            "\n",
            "------------------------------- 2 3\n",
            "77 -90 113 \n",
            "\n",
            "246 123 45 \n",
            "\n",
            "82 72 -50 \n",
            "\n",
            "------------------------------- 2 4\n",
            "-44 84 -15 \n",
            "\n",
            "-19 83 -65 \n",
            "\n",
            "79 -6 141 \n",
            "\n"
          ]
        }
      ],
      "source": [
        "kernels2d_1 = modelo_dig.weights[2]\n",
        "lims = int(np.array(kernels2d_1.shape)[::-1][0])\n",
        "limi = int(np.array(kernels2d_1.shape)[::-1][1])\n",
        "for i in range(limi):\n",
        "    for j in range(lims):\n",
        "        print(\"-------------------------------\",i+1,j+1)\n",
        "        kernel_txt(nbits,point_fixed,j,i,kernels2d_1[:,:,i,j],string=f\"kernels2d_\")\n"
      ]
    },
    {
      "cell_type": "code",
      "execution_count": 133,
      "metadata": {},
      "outputs": [
        {
          "name": "stdout",
          "output_type": "stream",
          "text": [
            "-81 -133 -69 -107 -40 -45 14 -148 20 -21 \n",
            "\n",
            "-224 -128 6 -73 -11 -216 -164 -51 -230 -270 \n",
            "\n",
            "-84 -43 -122 -57 36 -115 -91 -17 -109 -25 \n",
            "\n",
            "-93 -107 -126 -60 -52 -103 16 12 -37 -121 \n",
            "\n",
            "-115 -115 -64 -102 37 -39 2 -74 12 12 \n",
            "\n",
            "-96 -46 -29 42 -315 -131 -257 -7 -51 -22 \n",
            "\n",
            "-92 -80 -64 -33 9 5 -120 48 -10 -62 \n",
            "\n",
            "-57 -65 -18 -60 3 -22 -44 24 -27 -104 \n",
            "\n",
            "-46 -41 -74 -96 -10 -32 37 -58 -26 16 \n",
            "\n",
            "-106 -311 11 -48 -277 -56 -54 43 -53 -82 \n",
            "\n",
            "4 -84 -61 -10 -142 -28 -164 -4 -63 58 \n",
            "\n",
            "-20 32 -14 -49 24 -98 -62 31 21 -109 \n",
            "\n",
            "-100 4 -129 -98 86 -8 -35 -24 -82 -112 \n",
            "\n",
            "-41 -111 -89 -61 -346 111 70 -77 -79 -93 \n",
            "\n",
            "16 -25 20 38 -74 -94 -215 -25 -52 56 \n",
            "\n",
            "27 4 -7 -23 1 -61 -128 -99 32 18 \n",
            "\n",
            "-102 -22 -175 -189 77 101 -52 -30 -136 -141 \n",
            "\n",
            "-133 -109 -111 -179 -115 -49 57 -216 -85 -253 \n",
            "\n",
            "3 -111 -21 -90 14 33 -145 -48 46 28 \n",
            "\n",
            "-17 -25 -95 -58 0 2 14 -16 -6 -23 \n",
            "\n",
            "-2 -58 -139 -132 8 -96 45 -119 -104 30 \n",
            "\n",
            "-108 -43 65 39 -290 -120 -421 -51 -187 -222 \n",
            "\n",
            "-63 -68 26 -70 -82 -175 -126 -32 -69 -56 \n",
            "\n",
            "-32 -23 -72 -26 -101 -76 -4 -108 -1 -66 \n",
            "\n",
            "0 -84 -120 -16 23 -44 -16 -147 -98 -36 \n",
            "\n",
            "-127 -33 22 62 -376 -131 -286 69 -70 -121 \n",
            "\n",
            "-85 -111 -49 -21 -77 -40 -57 -29 -57 -31 \n",
            "\n",
            "2 -77 -101 -114 11 -24 -9 -86 -5 57 \n",
            "\n",
            "-41 63 -88 96 -61 -120 0 -41 -121 -39 \n",
            "\n",
            "-63 -244 -9 -87 -248 -45 -144 91 -76 -84 \n",
            "\n",
            "-83 -48 -62 -29 -20 11 -88 -27 25 0 \n",
            "\n",
            "-56 -22 -64 -57 -71 69 -28 -7 4 95 \n",
            "\n",
            "-87 -101 25 126 3 -255 -53 12 74 -14 \n",
            "\n",
            "-16 -149 -76 -35 -278 72 37 1 36 -60 \n",
            "\n",
            "-97 41 -113 -52 -129 55 -64 -51 -30 -7 \n",
            "\n",
            "3 56 -115 -43 11 -85 -66 16 -58 105 \n",
            "\n",
            "-61 -134 -82 -21 -74 -149 -52 -127 33 -101 \n",
            "\n",
            "-72 -90 -157 -14 -51 99 -68 24 -42 -59 \n",
            "\n",
            "67 -117 -32 -80 -87 39 -14 27 -79 -35 \n",
            "\n",
            "-2 -40 -63 -13 -25 -71 -43 29 -38 -21 \n",
            "\n",
            "18 -109 17 -164 22 -115 6 -11 -119 -154 \n",
            "\n",
            "-229 -70 9 -41 -90 -57 -366 87 -76 -166 \n",
            "\n",
            "-53 -154 96 -2 -73 -160 -177 -40 -179 -142 \n",
            "\n",
            "-9 -47 -129 -76 -60 -84 -52 -77 -4 -43 \n",
            "\n",
            "32 -73 52 -22 -62 -21 8 9 -42 -142 \n",
            "\n",
            "-195 -83 -110 -101 7 3 -246 -45 -65 -49 \n",
            "\n",
            "-72 -78 -24 -49 -83 -9 -46 -12 -64 -24 \n",
            "\n",
            "54 -76 -72 -55 -23 -2 9 -43 -22 -13 \n",
            "\n",
            "-161 65 49 -68 -41 -93 -20 -16 33 -24 \n",
            "\n",
            "-196 -255 -131 -10 -1 -26 -51 -180 -75 41 \n",
            "\n",
            "-88 -172 -37 -69 56 29 -2 -173 -14 -6 \n",
            "\n",
            "-78 36 -111 102 -36 -36 -4 -65 4 -12 \n",
            "\n",
            "61 -65 63 -25 57 -98 -85 32 -46 -13 \n",
            "\n",
            "-172 -97 -130 19 -37 -11 -2 -88 -35 -152 \n",
            "\n",
            "-171 -52 -78 -19 -12 -63 32 -155 9 -91 \n",
            "\n",
            "-48 83 -25 29 -13 -75 16 20 3 18 \n",
            "\n",
            "-1 -76 -8 -247 -67 -234 -18 -35 -64 -30 \n",
            "\n",
            "-30 -142 -51 -141 -34 -76 -1 -73 -6 -107 \n",
            "\n",
            "-80 -121 -96 -26 -10 -7 -35 22 -97 -92 \n",
            "\n",
            "25 -59 -11 11 19 -113 -88 21 -8 65 \n",
            "\n",
            "-48 -22 11 -169 -157 -188 -35 -48 53 -155 \n",
            "\n",
            "-254 -198 -104 9 -20 15 -215 -89 -164 -38 \n",
            "\n",
            "-219 -28 5 29 -116 2 -256 -12 -55 -348 \n",
            "\n",
            "12 60 -4 -138 0 -85 -17 -71 -9 -71 \n",
            "\n",
            "-18 -46 90 -153 -105 -50 -11 -46 58 -195 \n",
            "\n",
            "-148 -234 -122 -77 -6 10 -186 -152 -159 39 \n",
            "\n",
            "-91 -55 -75 -15 -23 -36 -37 -97 -176 14 \n",
            "\n",
            "42 -13 19 -91 -30 -53 -29 -36 -26 -1 \n",
            "\n",
            "-34 -33 -3 -101 -59 -4 -18 -16 -68 11 \n",
            "\n",
            "-39 -223 -71 -59 5 -37 -43 -105 -94 -81 \n",
            "\n",
            "7 -156 -76 -72 -49 -25 35 -97 -96 -57 \n",
            "\n",
            "-14 90 72 -67 -53 -73 71 -92 10 -99 \n",
            "\n",
            "24 -197 -23 10 -92 -34 36 -24 -81 -24 \n",
            "\n",
            "-199 -49 -41 -79 -20 -106 -53 -27 -51 -183 \n",
            "\n",
            "-73 31 -30 21 -94 -9 -30 -132 -2 -186 \n",
            "\n",
            "-91 105 0 -75 -43 -32 9 33 -50 -41 \n",
            "\n",
            "-59 -2 -123 -78 -224 -89 -32 -165 -174 -140 \n",
            "\n",
            "7 -82 121 -131 -23 -88 -34 -10 -158 -189 \n",
            "\n",
            "-98 4 32 -41 -9 -63 -89 -35 4 -144 \n",
            "\n",
            "-25 -101 -6 0 -66 -53 14 16 -132 -7 \n",
            "\n",
            "-135 -5 -83 -64 -11 -80 -130 8 -173 -25 \n",
            "\n",
            "-118 -13 -168 15 -162 49 -194 -167 -153 -91 \n",
            "\n",
            "-165 30 -118 20 -38 -29 -591 -4 -232 -43 \n",
            "\n",
            "14 -3 15 16 -173 -88 -89 -138 -8 -63 \n",
            "\n",
            "-6 -40 -66 -8 -6 -20 -85 14 -138 -20 \n",
            "\n",
            "6 -163 -39 -44 -116 3 -27 -167 -58 -20 \n",
            "\n",
            "-169 -113 -101 18 -148 -43 -183 -187 -91 -60 \n",
            "\n",
            "35 -21 0 -51 -94 -68 -24 -83 -1 7 \n",
            "\n",
            "-127 -94 -136 8 16 14 -144 -33 -34 -13 \n",
            "\n",
            "13 -121 -34 -53 -174 -59 27 -243 -14 -220 \n",
            "\n",
            "63 -100 6 -5 -239 -4 -16 -245 -12 -185 \n",
            "\n",
            "-44 8 -70 -55 4 -39 -64 -60 -18 -117 \n",
            "\n",
            "-99 -145 -223 -7 -88 51 -146 -81 -4 -84 \n",
            "\n",
            "-103 51 12 -82 -63 -91 -18 -91 -52 -146 \n",
            "\n",
            "-68 64 -36 -144 -82 -102 -88 8 -44 -90 \n",
            "\n",
            "-52 -84 -93 -35 56 -47 24 61 -71 -1 \n",
            "\n",
            "-22 -233 -176 -71 -138 70 -129 -403 -4 -38 \n",
            "\n",
            "-36 -32 86 -55 -10 -41 -54 -80 -56 -91 \n",
            "\n",
            "-163 -39 107 -114 20 -129 -64 -169 -116 -34 \n",
            "\n",
            "-75 0 -71 -61 -59 -31 -55 -145 -99 -17 \n",
            "\n"
          ]
        }
      ],
      "source": [
        "kernel_txt(nbits,point_fixed,0,0,modelo_dig.weights[4],string=\"danse.txt\")"
      ]
    },
    {
      "cell_type": "code",
      "execution_count": 134,
      "metadata": {},
      "outputs": [
        {
          "name": "stderr",
          "output_type": "stream",
          "text": [
            "/bin/sh: cds: command not found\n",
            "/bin/sh: cds: command not found\n"
          ]
        },
        {
          "data": {
            "text/plain": [
              "CompletedProcess(args='cds && runp.sh', returncode=127)"
            ]
          },
          "execution_count": 134,
          "metadata": {},
          "output_type": "execute_result"
        }
      ],
      "source": [
        "import subprocess\n",
        "subprocess.run('cds',shell=True)\n",
        "subprocess.run('cds && runp.sh',shell=True)"
      ]
    },
    {
      "cell_type": "code",
      "execution_count": 135,
      "metadata": {},
      "outputs": [],
      "source": [
        "out = open(\"simulation/maxpooling0.txt\",\"r\")\n",
        "\n",
        "klin1 = []\n",
        "m1=[]\n",
        "k= out.readlines()\n",
        "for i in k:\n",
        "    m1.append(list(map(concat,i.split())))\n"
      ]
    },
    {
      "cell_type": "code",
      "execution_count": 136,
      "metadata": {},
      "outputs": [],
      "source": [
        "# array_out =[]\n",
        "\n",
        "# for i in range(1):\n",
        "#     array_out.append(open(f\"./simulation/maxIxKernelPooling{i}.txt\",\"r\"))\n",
        "# klin2 = []\n",
        "# plt.figure(figsize=(30,2))\n",
        "# for ii in range(2):\n",
        "#     k2 = array_out[ii].readlines()\n",
        "#     m2=[]\n",
        "#     for i in k2:\n",
        "#         m2.append(list(map(concat,i.split())))\n",
        "#     plt.subplot(1,2,ii+1)\n",
        "#     plt.imshow(m2,cmap=\"gray\")\n",
        "# # plt.imshow(m2)\n",
        "\n",
        "# for i in range(2):\n",
        "#     array_out[i].close()\n"
      ]
    },
    {
      "cell_type": "code",
      "execution_count": 137,
      "metadata": {},
      "outputs": [],
      "source": [
        "# m2"
      ]
    },
    {
      "cell_type": "code",
      "execution_count": 138,
      "metadata": {},
      "outputs": [
        {
          "data": {
            "image/png": "[encoded data removed]",
            "text/plain": [
              "<Figure size 640x480 with 1 Axes>"
            ]
          },
          "metadata": {},
          "output_type": "display_data"
        }
      ],
      "source": [
        "out2 = open(\"./simulation/I.txt\",\"r\")\n",
        "import_img(path_file=out2);"
      ]
    },
    {
      "cell_type": "markdown",
      "metadata": {},
      "source": []
    },
    {
      "cell_type": "code",
      "execution_count": 139,
      "metadata": {},
      "outputs": [
        {
          "data": {
            "text/plain": [
              "<matplotlib.image.AxesImage at 0x7fb238761b50>"
            ]
          },
          "execution_count": 139,
          "metadata": {},
          "output_type": "execute_result"
        },
        {
          "data": {
            "image/png": "[encoded data removed]",
            "text/plain": [
              "<Figure size 3000x800 with 1 Axes>"
            ]
          },
          "metadata": {},
          "output_type": "display_data"
        }
      ],
      "source": [
        "plt.figure(figsize=(30,8))\n",
        "plt.subplot(1,3,1)\n",
        "plt.imshow(array,cmap=\"gray\")\n"
      ]
    },
    {
      "cell_type": "code",
      "execution_count": 140,
      "metadata": {},
      "outputs": [],
      "source": [
        "cmap='viridis'"
      ]
    },
    {
      "cell_type": "code",
      "execution_count": 141,
      "metadata": {},
      "outputs": [],
      "source": [
        "plt.imsave(\"7.png\",array,cmap=\"gray\")"
      ]
    },
    {
      "cell_type": "code",
      "execution_count": 142,
      "metadata": {},
      "outputs": [
        {
          "data": {
            "image/png": "[encoded data removed]",
            "text/plain": [
              "<Figure size 1000x1000 with 1 Axes>"
            ]
          },
          "metadata": {},
          "output_type": "display_data"
        }
      ],
      "source": [
        "plt.figure(figsize=(10,10))\n",
        "a = import_img2(path_file=open('./simulation/I.txt'),fator=1,string=\"images/input.png\");\n",
        "plt.savefig(\"images/input.png\")\n",
        "# plt.imsave('images/input.png',a.reshape(28,28),cmap=cmap)\n",
        "# a.shape"
      ]
    },
    {
      "cell_type": "code",
      "execution_count": 143,
      "metadata": {},
      "outputs": [
        {
          "data": {
            "image/png": "[encoded data removed]",
            "text/plain": [
              "<Figure size 1000x1000 with 1 Axes>"
            ]
          },
          "metadata": {},
          "output_type": "display_data"
        }
      ],
      "source": [
        "plt.figure(figsize=(10,10))\n",
        "a = import_img2(path_file=open('simulation/convIxKernelOut0.txt'),fator=1,string=\"images/conv1_layer0.png\")\n",
        "plt.savefig(\"images/conv1_layer0.png\")"
      ]
    },
    {
      "cell_type": "code",
      "execution_count": 144,
      "metadata": {},
      "outputs": [
        {
          "data": {
            "image/png": "[encoded data removed]",
            "text/plain": [
              "<Figure size 1000x1000 with 1 Axes>"
            ]
          },
          "metadata": {},
          "output_type": "display_data"
        }
      ],
      "source": [
        "plt.figure(figsize=(10,10))\n",
        "import_img2(path_file=open('simulation/convIxKernelOut1.txt'),fator=1,string=\"images/conv1_layer1.png\");\n",
        "plt.savefig(\"images/conv1_layer1.png\")"
      ]
    },
    {
      "cell_type": "code",
      "execution_count": 145,
      "metadata": {},
      "outputs": [
        {
          "data": {
            "image/png": "[encoded data removed]",
            "text/plain": [
              "<Figure size 2000x2000 with 1 Axes>"
            ]
          },
          "metadata": {},
          "output_type": "display_data"
        }
      ],
      "source": [
        "plt.figure(figsize=(20,20))\n",
        "import_img2(path_file=open('simulation/maxpooling0.txt'),fator=1,string=\"images/maxpooling0_layer2.png\");\n",
        "plt.savefig(\"images/maxpooling0_layer2.png\")"
      ]
    },
    {
      "cell_type": "code",
      "execution_count": 146,
      "metadata": {},
      "outputs": [
        {
          "data": {
            "image/png": "[encoded data removed]",
            "text/plain": [
              "<Figure size 2000x2000 with 1 Axes>"
            ]
          },
          "metadata": {},
          "output_type": "display_data"
        }
      ],
      "source": [
        "plt.figure(figsize=(20,20))\n",
        "xx = import_img2(path_file=open('simulation/maxpooling1.txt'),fator=1,string=\"images/maxpooling1_layer2.png\");\n",
        "plt.savefig(\"images/maxpooling1_layer2.png\")"
      ]
    },
    {
      "cell_type": "code",
      "execution_count": 147,
      "metadata": {},
      "outputs": [
        {
          "data": {
            "text/plain": [
              "256"
            ]
          },
          "execution_count": 147,
          "metadata": {},
          "output_type": "execute_result"
        }
      ],
      "source": [
        "2**8"
      ]
    },
    {
      "cell_type": "code",
      "execution_count": 148,
      "metadata": {},
      "outputs": [
        {
          "data": {
            "text/plain": [
              "array([[  0,   0,   0,  24, 377, 666, 708, 478,  63,   0,   0,   0],\n",
              "       [  0,   0,   0, 205, 374, 398, 468, 379, 108,   0,   0,   0],\n",
              "       [  0,   0,   8, 258, 275, 377, 220,  18,  16,   0,   0,   0],\n",
              "       [  0,   0, 102, 269, 408, 425, 171,   0,   0,   0,   0,   0],\n",
              "       [  0,   0, 155, 251, 570, 539, 237, 165,  59,   0,   0,   0],\n",
              "       [  0,   0, 112, 372, 993, 995, 857, 909, 746, 247,   0,   0],\n",
              "       [  0,   0,  12, 302, 731, 554, 336, 726, 830, 637,  57,   0],\n",
              "       [  0,   0,   0, 214, 501, 525,  28, 250, 479, 563, 117,   0],\n",
              "       [  0,   0,   0, 116, 571, 822, 624, 415, 458, 469, 121,   0],\n",
              "       [  0,   0,   0,   0, 286, 948, 995, 420, 279, 204,  34,   0],\n",
              "       [  0,   0,   0,   0,   0,   0,  33, 113,  91,   6,   0,   0],\n",
              "       [  0,   0,   0,   0,   0,   0,   0,   0,   0,   0,   0,   0]])"
            ]
          },
          "execution_count": 148,
          "metadata": {},
          "output_type": "execute_result"
        }
      ],
      "source": [
        "(np.array(xx).reshape(12,12)/2**8).astype(int)"
      ]
    },
    {
      "cell_type": "code",
      "execution_count": 149,
      "metadata": {},
      "outputs": [
        {
          "data": {
            "image/png": "[encoded data removed]",
            "text/plain": [
              "<Figure size 2000x2000 with 2 Axes>"
            ]
          },
          "metadata": {},
          "output_type": "display_data"
        }
      ],
      "source": [
        "plt.figure(figsize=(20,20))\n",
        "plt.subplot(1,2,1)\n",
        "import_img2(path_file=open('simulation/maxpooling0.txt'),fator=1);\n",
        "plt.subplot(1,2,2)\n",
        "import_img2(path_file=open('simulation/maxpooling1.txt'),fator=1);\n",
        "# plt.savefig(\"images/maxpooling0_layer2.png\") "
      ]
    },
    {
      "cell_type": "markdown",
      "metadata": {},
      "source": []
    },
    {
      "cell_type": "code",
      "execution_count": 150,
      "metadata": {},
      "outputs": [
        {
          "data": {
            "image/png": "[encoded data removed]",
            "text/plain": [
              "<Figure size 2000x2000 with 1 Axes>"
            ]
          },
          "metadata": {},
          "output_type": "display_data"
        }
      ],
      "source": [
        "plt.figure(figsize=(20,20))\n",
        "import_img2(path_file=open('simulation/convIxKernelOut_F01.txt'));\n",
        "plt.savefig(\"images/conv0_layer3.png\")"
      ]
    },
    {
      "cell_type": "code",
      "execution_count": 151,
      "metadata": {},
      "outputs": [
        {
          "data": {
            "image/png": "[encoded data removed]",
            "text/plain": [
              "<Figure size 2000x2000 with 1 Axes>"
            ]
          },
          "metadata": {},
          "output_type": "display_data"
        }
      ],
      "source": [
        "plt.figure(figsize=(20,20))\n",
        "import_img2(path_file=open('simulation/convIxKernelOut_F02.txt'));\n",
        "plt.savefig(\"images/conv1_layer3.png\")"
      ]
    },
    {
      "cell_type": "code",
      "execution_count": 152,
      "metadata": {},
      "outputs": [
        {
          "data": {
            "image/png": "[encoded data removed]",
            "text/plain": [
              "<Figure size 2000x2000 with 1 Axes>"
            ]
          },
          "metadata": {},
          "output_type": "display_data"
        }
      ],
      "source": [
        "plt.figure(figsize=(20,20))\n",
        "import_img2(path_file=open('simulation/convIxKernelOut_F03.txt'));\n",
        "plt.savefig(\"images/conv2_layer3.png\")"
      ]
    },
    {
      "cell_type": "code",
      "execution_count": 153,
      "metadata": {},
      "outputs": [
        {
          "data": {
            "text/plain": [
              "array([[[  0.        ],\n",
              "        [  0.        ],\n",
              "        [  0.        ],\n",
              "        [ 24.328125  ],\n",
              "        [377.6171875 ],\n",
              "        [666.34765625],\n",
              "        [708.93359375],\n",
              "        [478.04296875],\n",
              "        [ 63.        ],\n",
              "        [  0.        ],\n",
              "        [  0.        ],\n",
              "        [  0.        ]],\n",
              "\n",
              "       [[  0.        ],\n",
              "        [  0.        ],\n",
              "        [  0.        ],\n",
              "        [205.4609375 ],\n",
              "        [374.625     ],\n",
              "        [398.26953125],\n",
              "        [468.75390625],\n",
              "        [379.7265625 ],\n",
              "        [108.0546875 ],\n",
              "        [  0.        ],\n",
              "        [  0.        ],\n",
              "        [  0.        ]],\n",
              "\n",
              "       [[  0.        ],\n",
              "        [  0.        ],\n",
              "        [  8.        ],\n",
              "        [258.734375  ],\n",
              "        [275.8359375 ],\n",
              "        [377.4375    ],\n",
              "        [220.36328125],\n",
              "        [ 18.4140625 ],\n",
              "        [ 16.6171875 ],\n",
              "        [  0.        ],\n",
              "        [  0.        ],\n",
              "        [  0.        ]],\n",
              "\n",
              "       [[  0.        ],\n",
              "        [  0.        ],\n",
              "        [102.76171875],\n",
              "        [269.45703125],\n",
              "        [408.36328125],\n",
              "        [425.390625  ],\n",
              "        [171.609375  ],\n",
              "        [  0.        ],\n",
              "        [  0.        ],\n",
              "        [  0.        ],\n",
              "        [  0.        ],\n",
              "        [  0.        ]],\n",
              "\n",
              "       [[  0.        ],\n",
              "        [  0.        ],\n",
              "        [155.09765625],\n",
              "        [251.62890625],\n",
              "        [570.12109375],\n",
              "        [539.52734375],\n",
              "        [237.80078125],\n",
              "        [165.93359375],\n",
              "        [ 59.02734375],\n",
              "        [  0.        ],\n",
              "        [  0.        ],\n",
              "        [  0.        ]],\n",
              "\n",
              "       [[  0.        ],\n",
              "        [  0.        ],\n",
              "        [112.1953125 ],\n",
              "        [372.93359375],\n",
              "        [993.08203125],\n",
              "        [995.25      ],\n",
              "        [857.08984375],\n",
              "        [909.38671875],\n",
              "        [746.26171875],\n",
              "        [247.78125   ],\n",
              "        [  0.        ],\n",
              "        [  0.        ]],\n",
              "\n",
              "       [[  0.        ],\n",
              "        [  0.        ],\n",
              "        [ 12.59375   ],\n",
              "        [302.4765625 ],\n",
              "        [731.3828125 ],\n",
              "        [554.1953125 ],\n",
              "        [336.46484375],\n",
              "        [726.06640625],\n",
              "        [830.89453125],\n",
              "        [637.6875    ],\n",
              "        [ 57.08203125],\n",
              "        [  0.        ]],\n",
              "\n",
              "       [[  0.        ],\n",
              "        [  0.        ],\n",
              "        [  0.        ],\n",
              "        [214.8515625 ],\n",
              "        [501.04296875],\n",
              "        [525.8515625 ],\n",
              "        [ 28.97265625],\n",
              "        [250.66015625],\n",
              "        [479.265625  ],\n",
              "        [563.63671875],\n",
              "        [117.6953125 ],\n",
              "        [  0.        ]],\n",
              "\n",
              "       [[  0.        ],\n",
              "        [  0.        ],\n",
              "        [  0.        ],\n",
              "        [116.86328125],\n",
              "        [571.73046875],\n",
              "        [822.1484375 ],\n",
              "        [624.484375  ],\n",
              "        [415.75390625],\n",
              "        [458.01171875],\n",
              "        [469.48828125],\n",
              "        [121.46484375],\n",
              "        [  0.        ]],\n",
              "\n",
              "       [[  0.        ],\n",
              "        [  0.        ],\n",
              "        [  0.        ],\n",
              "        [  0.        ],\n",
              "        [286.1484375 ],\n",
              "        [948.36328125],\n",
              "        [995.98046875],\n",
              "        [420.3515625 ],\n",
              "        [279.5       ],\n",
              "        [204.87890625],\n",
              "        [ 34.640625  ],\n",
              "        [  0.        ]],\n",
              "\n",
              "       [[  0.        ],\n",
              "        [  0.        ],\n",
              "        [  0.        ],\n",
              "        [  0.        ],\n",
              "        [  0.        ],\n",
              "        [  0.        ],\n",
              "        [ 33.79296875],\n",
              "        [113.03125   ],\n",
              "        [ 91.23828125],\n",
              "        [  6.0859375 ],\n",
              "        [  0.        ],\n",
              "        [  0.        ]],\n",
              "\n",
              "       [[  0.        ],\n",
              "        [  0.        ],\n",
              "        [  0.        ],\n",
              "        [  0.        ],\n",
              "        [  0.        ],\n",
              "        [  0.        ],\n",
              "        [  0.        ],\n",
              "        [  0.        ],\n",
              "        [  0.        ],\n",
              "        [  0.        ],\n",
              "        [  0.        ],\n",
              "        [  0.        ]]])"
            ]
          },
          "execution_count": 153,
          "metadata": {},
          "output_type": "execute_result"
        }
      ],
      "source": [
        "np.array(xx)/2**8"
      ]
    },
    {
      "cell_type": "code",
      "execution_count": 154,
      "metadata": {},
      "outputs": [
        {
          "data": {
            "image/png": "[encoded data removed]",
            "text/plain": [
              "<Figure size 2000x2000 with 1 Axes>"
            ]
          },
          "metadata": {},
          "output_type": "display_data"
        }
      ],
      "source": [
        "plt.figure(figsize=(20,20))\n",
        "import_img2(path_file=open('simulation/convIxKernelOut_F04.txt'),fator=1,string=\"images/conv3_layer3.png\");\n",
        "\n",
        "plt.savefig(\"images/conv3_layer3.png\")"
      ]
    },
    {
      "cell_type": "code",
      "execution_count": 155,
      "metadata": {},
      "outputs": [
        {
          "data": {
            "image/png": "[encoded data removed]",
            "text/plain": [
              "<Figure size 2000x2000 with 4 Axes>"
            ]
          },
          "metadata": {},
          "output_type": "display_data"
        }
      ],
      "source": [
        "plt.figure(figsize=(20,20))\n",
        "plt.subplot(1,4,1)\n",
        "aasa = import_img2(path_file=open('simulation/convIxKernelOut_F01.txt'));\n",
        "plt.subplot(1,4,2)\n",
        "import_img2(path_file=open('simulation/convIxKernelOut_F02.txt'));\n",
        "plt.subplot(1,4,3)\n",
        "import_img2(path_file=open('simulation/convIxKernelOut_F03.txt'));\n",
        "plt.subplot(1,4,4)\n",
        "import_img2(path_file=open('simulation/convIxKernelOut_F04.txt'));\n"
      ]
    },
    {
      "cell_type": "code",
      "execution_count": null,
      "metadata": {},
      "outputs": [],
      "source": []
    },
    {
      "cell_type": "code",
      "execution_count": 156,
      "metadata": {},
      "outputs": [
        {
          "data": {
            "image/png": "[encoded data removed]",
            "text/plain": [
              "<Figure size 2000x2000 with 1 Axes>"
            ]
          },
          "metadata": {},
          "output_type": "display_data"
        }
      ],
      "source": [
        "plt.figure(figsize=(20,20))\n",
        "aasa=import_img2(path_file=open('simulation/maxpoolingF1.txt'));\n",
        "plt.savefig(\"images/maxpooling0_layer4.png\")\n"
      ]
    },
    {
      "cell_type": "code",
      "execution_count": 157,
      "metadata": {},
      "outputs": [
        {
          "data": {
            "text/plain": [
              "array([[[  91.20393372],\n",
              "        [1603.69371033],\n",
              "        [1467.42500305],\n",
              "        [   0.        ],\n",
              "        [   0.        ]],\n",
              "\n",
              "       [[ 427.92974854],\n",
              "        [1131.92823792],\n",
              "        [ 487.76066589],\n",
              "        [ 432.33747864],\n",
              "        [ 265.54492188]],\n",
              "\n",
              "       [[ 511.23020935],\n",
              "        [1085.02334595],\n",
              "        [ 626.8855896 ],\n",
              "        [  42.15525818],\n",
              "        [  77.81335449]],\n",
              "\n",
              "       [[ 465.87312317],\n",
              "        [ 754.62255859],\n",
              "        [ 939.97940063],\n",
              "        [1879.27583313],\n",
              "        [ 236.75100708]],\n",
              "\n",
              "       [[ 187.27764893],\n",
              "        [ 385.72406006],\n",
              "        [ 628.95072937],\n",
              "        [ 658.62553406],\n",
              "        [  64.83398438]]])"
            ]
          },
          "execution_count": 157,
          "metadata": {},
          "output_type": "execute_result"
        }
      ],
      "source": [
        "np.array(aasa)/2**16"
      ]
    },
    {
      "cell_type": "code",
      "execution_count": 158,
      "metadata": {},
      "outputs": [
        {
          "data": {
            "image/png": "[encoded data removed]",
            "text/plain": [
              "<Figure size 2000x2000 with 1 Axes>"
            ]
          },
          "metadata": {},
          "output_type": "display_data"
        }
      ],
      "source": [
        "plt.figure(figsize=(20,20))\n",
        "import_img2(path_file=open('simulation/maxpoolingF1.txt'));\n",
        "plt.savefig(\"images/maxpooling1_layer4.png\")"
      ]
    },
    {
      "cell_type": "code",
      "execution_count": 159,
      "metadata": {},
      "outputs": [
        {
          "data": {
            "image/png": "[encoded data removed]",
            "text/plain": [
              "<Figure size 2000x2000 with 1 Axes>"
            ]
          },
          "metadata": {},
          "output_type": "display_data"
        }
      ],
      "source": [
        "plt.figure(figsize=(20,20))\n",
        "import_img2(path_file=open('simulation/maxpoolingF3.txt'));\n",
        "\n",
        "plt.savefig(\"images/maxpooling2_layer4.png\")"
      ]
    },
    {
      "cell_type": "code",
      "execution_count": 160,
      "metadata": {},
      "outputs": [
        {
          "data": {
            "image/png": "[encoded data removed]",
            "text/plain": [
              "<Figure size 2000x2000 with 1 Axes>"
            ]
          },
          "metadata": {},
          "output_type": "display_data"
        }
      ],
      "source": [
        "plt.figure(figsize=(20,20))\n",
        "import_img2(path_file=open('simulation/maxpoolingF4.txt'));\n",
        "\n",
        "plt.savefig(\"images/maxpooling3_layer4.png\")"
      ]
    },
    {
      "cell_type": "code",
      "execution_count": 161,
      "metadata": {},
      "outputs": [
        {
          "data": {
            "image/png": "[encoded data removed]",
            "text/plain": [
              "<Figure size 2000x2000 with 4 Axes>"
            ]
          },
          "metadata": {},
          "output_type": "display_data"
        }
      ],
      "source": [
        "plt.figure(figsize=(20,20))\n",
        "plt.subplot(1,4,1)\n",
        "aasa =import_img2(path_file=open('simulation/maxpoolingF1.txt'));\n",
        "plt.subplot(1,4,2)\n",
        "import_img2(path_file=open('simulation/maxpoolingF2.txt'));\n",
        "plt.subplot(1,4,3)\n",
        "import_img2(path_file=open('simulation/maxpoolingF3.txt'));\n",
        "plt.subplot(1,4,4)\n",
        "import_img2(path_file=open('simulation/maxpoolingF4.txt'));\n",
        "# plt.savefig(\"images/maxpooling0_layer4.png\")"
      ]
    },
    {
      "cell_type": "code",
      "execution_count": null,
      "metadata": {},
      "outputs": [],
      "source": []
    },
    {
      "cell_type": "code",
      "execution_count": 162,
      "metadata": {},
      "outputs": [],
      "source": [
        "def import_img3(path_file,fator=1,string='fig.png',transpor=0):\n",
        "    out2 = path_file\n",
        "    m2=[]\n",
        "    k2 = out2.readlines()\n",
        "    for i in k2:\n",
        "        m2.append(list(map(concat2,i.split()))[0])\n",
        "    # m2 = list(np.array(m2).T)\n",
        "    # print(m2)\n",
        "    plt.imshow(np.array(m2).T,cmap ='viridis')\n",
        "    plt.imsave(string,np.array(m2).T,cmap='viridis')\n",
        "    # if(transpor):\n",
        "    return m2\n",
        "    "
      ]
    },
    {
      "cell_type": "code",
      "execution_count": 163,
      "metadata": {},
      "outputs": [
        {
          "data": {
            "image/png": "[encoded data removed]",
            "text/plain": [
              "<Figure size 10000x500 with 1 Axes>"
            ]
          },
          "metadata": {},
          "output_type": "display_data"
        }
      ],
      "source": [
        "plt.figure(figsize=(100,5))\n",
        "k = import_img3(path_file=open('simulation/flatten.txt'));\n",
        "plt.savefig(\"images/flatten_layer5.png\")"
      ]
    },
    {
      "cell_type": "code",
      "execution_count": 164,
      "metadata": {},
      "outputs": [
        {
          "data": {
            "text/plain": [
              "array([[  91],\n",
              "       [   0],\n",
              "       [  73],\n",
              "       [  87],\n",
              "       [1603],\n",
              "       [ 312],\n",
              "       [ 562],\n",
              "       [ 754],\n",
              "       [1467],\n",
              "       [ 863],\n",
              "       [ 563],\n",
              "       [1192],\n",
              "       [   0],\n",
              "       [ 420],\n",
              "       [ 417],\n",
              "       [ 775],\n",
              "       [   0],\n",
              "       [  52],\n",
              "       [  98],\n",
              "       [   0],\n",
              "       [ 427],\n",
              "       [  97],\n",
              "       [ 177],\n",
              "       [ 237],\n",
              "       [1131],\n",
              "       [   0],\n",
              "       [ 227],\n",
              "       [1352],\n",
              "       [ 487],\n",
              "       [   0],\n",
              "       [ 633],\n",
              "       [1538],\n",
              "       [ 432],\n",
              "       [   0],\n",
              "       [ 543],\n",
              "       [ 655],\n",
              "       [ 265],\n",
              "       [   0],\n",
              "       [ 238],\n",
              "       [ 249],\n",
              "       [ 511],\n",
              "       [ 218],\n",
              "       [  78],\n",
              "       [ 276],\n",
              "       [1085],\n",
              "       [ 720],\n",
              "       [ 513],\n",
              "       [1325],\n",
              "       [ 626],\n",
              "       [1378],\n",
              "       [1564],\n",
              "       [1077],\n",
              "       [  42],\n",
              "       [ 879],\n",
              "       [1488],\n",
              "       [1005],\n",
              "       [  77],\n",
              "       [   0],\n",
              "       [1160],\n",
              "       [ 649],\n",
              "       [ 465],\n",
              "       [ 204],\n",
              "       [  32],\n",
              "       [ 140],\n",
              "       [ 754],\n",
              "       [ 344],\n",
              "       [   0],\n",
              "       [1360],\n",
              "       [ 939],\n",
              "       [   0],\n",
              "       [1469],\n",
              "       [1469],\n",
              "       [1879],\n",
              "       [ 455],\n",
              "       [ 941],\n",
              "       [1016],\n",
              "       [ 236],\n",
              "       [ 403],\n",
              "       [ 750],\n",
              "       [ 921],\n",
              "       [ 187],\n",
              "       [  74],\n",
              "       [   0],\n",
              "       [  77],\n",
              "       [ 385],\n",
              "       [ 852],\n",
              "       [ 115],\n",
              "       [ 285],\n",
              "       [ 628],\n",
              "       [1506],\n",
              "       [1353],\n",
              "       [ 851],\n",
              "       [ 658],\n",
              "       [1158],\n",
              "       [ 970],\n",
              "       [ 998],\n",
              "       [  64],\n",
              "       [ 244],\n",
              "       [ 121],\n",
              "       [ 741]])"
            ]
          },
          "execution_count": 164,
          "metadata": {},
          "output_type": "execute_result"
        }
      ],
      "source": [
        "(np.array(k)/2**(16)).astype(int)"
      ]
    },
    {
      "cell_type": "code",
      "execution_count": 165,
      "metadata": {},
      "outputs": [
        {
          "data": {
            "image/png": "[encoded data removed]",
            "text/plain": [
              "<Figure size 8000x500 with 1 Axes>"
            ]
          },
          "metadata": {},
          "output_type": "display_data"
        }
      ],
      "source": [
        "plt.figure(figsize=(80,5))\n",
        "import_img3(path_file=open('simulation/dense.txt'));\n",
        "plt.savefig(\"images/dense_layer6.png\")"
      ]
    },
    {
      "cell_type": "code",
      "execution_count": 166,
      "metadata": {},
      "outputs": [],
      "source": [
        "# plt.imsave()"
      ]
    },
    {
      "cell_type": "code",
      "execution_count": 167,
      "metadata": {},
      "outputs": [],
      "source": [
        "# img.save_img(\"./images/preprocessamento.jpg\",array)\n"
      ]
    },
    {
      "cell_type": "code",
      "execution_count": 168,
      "metadata": {},
      "outputs": [],
      "source": [
        "# os.system(\"rm ./images/preprocessamento.jpg\")\n",
        "# os.system(\"rm ./images/posprocessamento.jpg\")\n",
        "\n",
        "# img.save_img(\"./images/preprocessamento.jpg\",array)\n",
        "# img.save_img(\"./images/posprocessamento.jpg\",m1)\n",
        "# img.save_img(\"./images/maxpoolingposprocessamento.jpg\",m2)\n"
      ]
    },
    {
      "cell_type": "code",
      "execution_count": null,
      "metadata": {},
      "outputs": [],
      "source": []
    },
    {
      "cell_type": "code",
      "execution_count": 169,
      "metadata": {},
      "outputs": [
        {
          "name": "stdout",
          "output_type": "stream",
          "text": [
            "[-191789839932.0]\n",
            "[-191789839932.0, -235167587344.0]\n",
            "[-191789839932.0, -235167587344.0, -165840114531.0]\n",
            "[-191789839932.0, -235167587344.0, -165840114531.0, -172417484059.0]\n",
            "[-191789839932.0, -235167587344.0, -165840114531.0, -172417484059.0, -185947512164.0]\n",
            "[-191789839932.0, -235167587344.0, -165840114531.0, -172417484059.0, -185947512164.0, -151966885598.0]\n",
            "[-191789839932.0, -235167587344.0, -165840114531.0, -172417484059.0, -185947512164.0, -151966885598.0, -120764044989.0]\n",
            "[-191789839932.0, -235167587344.0, -165840114531.0, -172417484059.0, -185947512164.0, -151966885598.0, -120764044989.0, -233344809320.0]\n",
            "[-191789839932.0, -235167587344.0, -165840114531.0, -172417484059.0, -185947512164.0, -151966885598.0, -120764044989.0, -233344809320.0, -140110019554.0]\n",
            "[-191789839932.0, -235167587344.0, -165840114531.0, -172417484059.0, -185947512164.0, -151966885598.0, -120764044989.0, -233344809320.0, -140110019554.0, -190226310109.0]\n"
          ]
        },
        {
          "data": {
            "text/plain": [
              "array([-191789839932, -235167587344, -165840114531, -172417484059,\n",
              "       -185947512164, -151966885598, -120764044989, -233344809320,\n",
              "       -140110019554, -190226310109])"
            ]
          },
          "execution_count": 169,
          "metadata": {},
          "output_type": "execute_result"
        }
      ],
      "source": [
        "dens = open(\"simulation/dense.txt\")\n",
        "klin2 = []\n",
        "m2=[]\n",
        "k2 = dens.readlines()\n",
        "for i in k2:\n",
        "    m2.append(list(map(concat,i.split()))[0][0])\n",
        "    print(m2)\n",
        "m2 =(np.array(m2))\n",
        "m2\n",
        "(np.array(m2,int))"
      ]
    },
    {
      "cell_type": "code",
      "execution_count": 170,
      "metadata": {},
      "outputs": [
        {
          "data": {
            "text/plain": [
              "array([-44.65455188, -54.75422073, -38.61266061, -40.14407379,\n",
              "       -43.29427894, -35.38254779, -28.11757033, -54.32982215,\n",
              "       -32.62190604, -44.29051422])"
            ]
          },
          "execution_count": 170,
          "metadata": {},
          "output_type": "execute_result"
        }
      ],
      "source": [
        "m2/2**32"
      ]
    },
    {
      "cell_type": "code",
      "execution_count": 171,
      "metadata": {},
      "outputs": [
        {
          "name": "stdout",
          "output_type": "stream",
          "text": [
            "9.993651352960967\n"
          ]
        },
        {
          "data": {
            "text/plain": [
              "(np.int64(6), np.float64(0.10002060474661588))"
            ]
          },
          "execution_count": 171,
          "metadata": {},
          "output_type": "execute_result"
        }
      ],
      "source": [
        "a =m2\n",
        "n = 48\n",
        "s = sum([np.exp(a[i]/2**n) for i in range(len(a))])\n",
        "print(s)\n",
        "h = np.array([np.exp(a[i]/2**n)/s for i in range(len(a))])\n",
        "(h.argmax(),h.max())"
      ]
    },
    {
      "cell_type": "code",
      "execution_count": 172,
      "metadata": {},
      "outputs": [
        {
          "data": {
            "text/plain": [
              "array([-44.65455188, -54.75422073, -38.61266061, -40.14407379,\n",
              "       -43.29427894, -35.38254779, -28.11757033, -54.32982215,\n",
              "       -32.62190604, -44.29051422])"
            ]
          },
          "execution_count": 172,
          "metadata": {},
          "output_type": "execute_result"
        }
      ],
      "source": [
        "np.array(m2/2**32,float)"
      ]
    },
    {
      "cell_type": "code",
      "execution_count": 173,
      "metadata": {},
      "outputs": [
        {
          "name": "stdout",
          "output_type": "stream",
          "text": [
            "9.993651352960967\n"
          ]
        },
        {
          "data": {
            "text/plain": [
              "(np.int64(6), np.float64(0.10002060474661588))"
            ]
          },
          "execution_count": 173,
          "metadata": {},
          "output_type": "execute_result"
        }
      ],
      "source": [
        "a =np.array(m2/2**48,float)\n",
        "n = 0\n",
        "s = sum([np.exp(a[i]/2**n) for i in range(len(a))])\n",
        "print(s)\n",
        "h = np.array([np.exp(a[i]/2**n)/s for i in range(len(a))])\n",
        "(h.argmax(),h.max())"
      ]
    },
    {
      "cell_type": "code",
      "execution_count": 174,
      "metadata": {},
      "outputs": [
        {
          "data": {
            "text/plain": [
              "array([0.09999537, 0.09997996, 0.10000459, 0.10000225, 0.09999744,\n",
              "       0.10000952, 0.1000206 , 0.09998061, 0.10001373, 0.09999592])"
            ]
          },
          "execution_count": 174,
          "metadata": {},
          "output_type": "execute_result"
        }
      ],
      "source": [
        "h"
      ]
    },
    {
      "cell_type": "code",
      "execution_count": 175,
      "metadata": {},
      "outputs": [],
      "source": [
        "# from matplotlib import pyplot as plt"
      ]
    },
    {
      "cell_type": "code",
      "execution_count": 176,
      "metadata": {},
      "outputs": [],
      "source": [
        "# plt.imshow(h)"
      ]
    }
  ],
  "metadata": {
    "colab": {
      "provenance": []
    },
    "kernelspec": {
      "display_name": ".venv",
      "language": "python",
      "name": "python3"
    },
    "language_info": {
      "codemirror_mode": {
        "name": "ipython",
        "version": 3
      },
      "file_extension": ".py",
      "mimetype": "text/x-python",
      "name": "python",
      "nbconvert_exporter": "python",
      "pygments_lexer": "ipython3",
      "version": "3.6.8"
    }
  },
  "nbformat": 4,
  "nbformat_minor": 0
}
