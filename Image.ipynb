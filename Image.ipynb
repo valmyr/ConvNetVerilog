{
  "cells": [
    {
      "cell_type": "code",
      "execution_count": 202,
      "metadata": {
        "colab": {
          "base_uri": "https://localhost:8080/"
        },
        "id": "R7qQ4aHNKabD",
        "outputId": "2dde94c8-2502-4b2f-bc4f-1604669ad10a"
      },
      "outputs": [
        {
          "name": "stdout",
          "output_type": "stream",
          "text": [
            "Requirement already satisfied: keras_preprocessing in ./.venv/lib/python3.6/site-packages (1.1.2)\n",
            "Requirement already satisfied: numpy>=1.9.1 in ./.venv/lib/python3.6/site-packages (from keras_preprocessing) (1.19.5)\n",
            "Requirement already satisfied: six>=1.9.0 in ./.venv/lib/python3.6/site-packages (from keras_preprocessing) (1.17.0)\n",
            "Note: you may need to restart the kernel to use updated packages.\n"
          ]
        }
      ],
      "source": [
        "pip install keras_preprocessing\n"
      ]
    },
    {
      "cell_type": "code",
      "execution_count": 203,
      "metadata": {},
      "outputs": [
        {
          "name": "stdout",
          "output_type": "stream",
          "text": [
            "Requirement already satisfied: matplotlib in ./.venv/lib/python3.6/site-packages (3.3.4)\n",
            "Requirement already satisfied: cycler>=0.10 in ./.venv/lib/python3.6/site-packages (from matplotlib) (0.11.0)\n",
            "Requirement already satisfied: pyparsing!=2.0.4,!=2.1.2,!=2.1.6,>=2.0.3 in ./.venv/lib/python3.6/site-packages (from matplotlib) (3.1.4)\n",
            "Requirement already satisfied: kiwisolver>=1.0.1 in ./.venv/lib/python3.6/site-packages (from matplotlib) (1.3.1)\n",
            "Requirement already satisfied: pillow>=6.2.0 in ./.venv/lib/python3.6/site-packages (from matplotlib) (8.4.0)\n",
            "Requirement already satisfied: python-dateutil>=2.1 in ./.venv/lib/python3.6/site-packages (from matplotlib) (2.9.0.post0)\n",
            "Requirement already satisfied: numpy>=1.15 in ./.venv/lib/python3.6/site-packages (from matplotlib) (1.19.5)\n",
            "Requirement already satisfied: six>=1.5 in ./.venv/lib/python3.6/site-packages (from python-dateutil>=2.1->matplotlib) (1.17.0)\n",
            "Note: you may need to restart the kernel to use updated packages.\n"
          ]
        }
      ],
      "source": [
        "pip  install matplotlib \n"
      ]
    },
    {
      "cell_type": "code",
      "execution_count": 204,
      "metadata": {},
      "outputs": [
        {
          "name": "stdout",
          "output_type": "stream",
          "text": [
            "Requirement already satisfied: pillow in ./.venv/lib/python3.6/site-packages (8.4.0)\n",
            "Note: you may need to restart the kernel to use updated packages.\n"
          ]
        }
      ],
      "source": [
        "pip install pillow"
      ]
    },
    {
      "cell_type": "code",
      "execution_count": 205,
      "metadata": {
        "id": "LeQOQlapKfvF"
      },
      "outputs": [],
      "source": [
        "from keras_preprocessing import image as img\n",
        "import os\n",
        "from matplotlib import pyplot as plt"
      ]
    },
    {
      "cell_type": "markdown",
      "metadata": {
        "id": "ZTScsKMqRxwc"
      },
      "source": []
    },
    {
      "cell_type": "code",
      "execution_count": 206,
      "metadata": {},
      "outputs": [
        {
          "data": {
            "text/plain": [
              "0"
            ]
          },
          "execution_count": 206,
          "metadata": {},
          "output_type": "execute_result"
        }
      ],
      "source": [
        "os.system(\"rm ./simulation/I.txt\")"
      ]
    },
    {
      "cell_type": "code",
      "execution_count": 207,
      "metadata": {
        "id": "J8-0zNQULJcC"
      },
      "outputs": [],
      "source": [
        "sizt = 640\n",
        "ima = img.load_img(\n",
        "    \"images/polvo.jpeg\",\n",
        "    target_size=(sizt,sizt),\n",
        "    color_mode=\"grayscale\",\n",
        "\n",
        ")"
      ]
    },
    {
      "cell_type": "code",
      "execution_count": 208,
      "metadata": {},
      "outputs": [
        {
          "data": {
            "text/plain": [
              "array([[[50.],\n",
              "        [49.],\n",
              "        [48.],\n",
              "        ...,\n",
              "        [54.],\n",
              "        [54.],\n",
              "        [54.]],\n",
              "\n",
              "       [[50.],\n",
              "        [49.],\n",
              "        [48.],\n",
              "        ...,\n",
              "        [55.],\n",
              "        [54.],\n",
              "        [54.]],\n",
              "\n",
              "       [[49.],\n",
              "        [49.],\n",
              "        [48.],\n",
              "        ...,\n",
              "        [55.],\n",
              "        [54.],\n",
              "        [54.]],\n",
              "\n",
              "       ...,\n",
              "\n",
              "       [[69.],\n",
              "        [67.],\n",
              "        [74.],\n",
              "        ...,\n",
              "        [75.],\n",
              "        [71.],\n",
              "        [66.]],\n",
              "\n",
              "       [[54.],\n",
              "        [57.],\n",
              "        [70.],\n",
              "        ...,\n",
              "        [81.],\n",
              "        [78.],\n",
              "        [73.]],\n",
              "\n",
              "       [[56.],\n",
              "        [58.],\n",
              "        [66.],\n",
              "        ...,\n",
              "        [85.],\n",
              "        [81.],\n",
              "        [76.]]], dtype=float32)"
            ]
          },
          "execution_count": 208,
          "metadata": {},
          "output_type": "execute_result"
        }
      ],
      "source": [
        "img.img_to_array(ima)"
      ]
    },
    {
      "cell_type": "code",
      "execution_count": null,
      "metadata": {},
      "outputs": [],
      "source": []
    },
    {
      "cell_type": "code",
      "execution_count": 209,
      "metadata": {
        "id": "te-Hq9X6Qgj0"
      },
      "outputs": [],
      "source": [
        "sizeM = open(\"./simulation/sizeM.txt\",\"w\")\n",
        "sizeM.write(str(sizt))\n",
        "sizeM.close()\n",
        "f = open(\"./simulation/I.txt\",\"w\")"
      ]
    },
    {
      "cell_type": "code",
      "execution_count": 210,
      "metadata": {},
      "outputs": [],
      "source": [
        "import numpy as np"
      ]
    },
    {
      "cell_type": "code",
      "execution_count": 211,
      "metadata": {
        "colab": {
          "base_uri": "https://localhost:8080/"
        },
        "id": "5DQtVefsLg3U",
        "outputId": "1405ba52-16b8-4941-99a6-e1c677993776"
      },
      "outputs": [],
      "source": [
        "array = img.img_to_array(ima)\n",
        "k = 0\n",
        "l= 0\n",
        "\n",
        "for i in array:\n",
        "    for j in i:\n",
        "        strtmp = f'{hex(int(j[0]))[2:]}'\n",
        "        strtmp2 = '0'*(2-len(strtmp))+strtmp+' '\n",
        "        f.write(strtmp2)\n",
        "        # print(f'{strtmp2}',end='  ')\n",
        "    f.write(\"\\n\")\n",
        "    # print(\"\\n\")\n",
        "f.close()"
      ]
    },
    {
      "cell_type": "code",
      "execution_count": null,
      "metadata": {},
      "outputs": [],
      "source": []
    },
    {
      "cell_type": "code",
      "execution_count": 212,
      "metadata": {},
      "outputs": [],
      "source": [
        "out = open(\"./simulation/IxKernel.txt\",\"r\")\n",
        "def concat(n):\n",
        "    # print(int('0x'+n,16))\n",
        "    integ = bin(int('0x'+n,16))\n",
        "    integ = ('0'*(16-len(integ[2:]))+integ[2:])\n",
        "    # print(integ[15])\n",
        "    # print(integ,\"c\")\n",
        "    # print(integ[0])\n",
        "    a = int(\"0b\"+integ,2)\n",
        "    if(str(integ[0])=='1'):\n",
        "\n",
        "        # print (\"AJKHAH\")\n",
        "        # print(integ,n,\"a\")\n",
        "        temp1 = integ.replace(\"0\",\"k\")\n",
        "        # print(temp1)\n",
        "        temp2 = temp1.replace('1','0')\n",
        "        # print(temp2)\n",
        "        integ = temp2.replace('k','1')\n",
        "        # print(integ)\n",
        "        a = -(int(\"0b\"+integ,2)+1)\n",
        "    # print(integ,'h')\n",
        "\n",
        "    return [a]\n",
        "klin = []\n",
        "m=[]\n",
        "k = out.readlines()\n",
        "for i in k:\n",
        "    m.append(list(map(concat,i.split())))\n"
      ]
    },
    {
      "cell_type": "code",
      "execution_count": null,
      "metadata": {},
      "outputs": [],
      "source": []
    },
    {
      "cell_type": "markdown",
      "metadata": {},
      "source": []
    },
    {
      "cell_type": "code",
      "execution_count": 213,
      "metadata": {},
      "outputs": [
        {
          "data": {
            "image/png": "[encoded data removed]",
            "text/plain": [
              "<Figure size 432x288 with 2 Axes>"
            ]
          },
          "metadata": {
            "needs_background": "light"
          },
          "output_type": "display_data"
        }
      ],
      "source": [
        "plt.subplot(1,2,1)\n",
        "plt.imshow(array,cmap=\"gray\")\n",
        "plt.subplot(1,2,2)\n",
        "plt.imshow(m,cmap=\"gray\")\n",
        "plt.show()\n"
      ]
    },
    {
      "cell_type": "code",
      "execution_count": null,
      "metadata": {},
      "outputs": [],
      "source": []
    },
    {
      "cell_type": "code",
      "execution_count": 214,
      "metadata": {},
      "outputs": [],
      "source": [
        "os.system(\"rm ./images/preprocessamento.jpg\")\n",
        "os.system(\"rm ./images/posprocessamento.jpg\")\n",
        "\n",
        "img.save_img(\"./images/preprocessamento.jpg\",array)\n",
        "img.save_img(\"./images/posprocessamento.jpg\",m)"
      ]
    },
    {
      "cell_type": "code",
      "execution_count": null,
      "metadata": {},
      "outputs": [],
      "source": []
    },
    {
      "cell_type": "code",
      "execution_count": null,
      "metadata": {},
      "outputs": [],
      "source": []
    },
    {
      "cell_type": "markdown",
      "metadata": {},
      "source": [
        "hex(1)"
      ]
    },
    {
      "cell_type": "code",
      "execution_count": 215,
      "metadata": {},
      "outputs": [
        {
          "data": {
            "text/plain": [
              "'0x1'"
            ]
          },
          "execution_count": 215,
          "metadata": {},
          "output_type": "execute_result"
        }
      ],
      "source": [
        "hex(1)"
      ]
    }
  ],
  "metadata": {
    "colab": {
      "provenance": []
    },
    "kernelspec": {
      "display_name": ".venv",
      "language": "python",
      "name": "python3"
    },
    "language_info": {
      "codemirror_mode": {
        "name": "ipython",
        "version": 3
      },
      "file_extension": ".py",
      "mimetype": "text/x-python",
      "name": "python",
      "nbconvert_exporter": "python",
      "pygments_lexer": "ipython3",
      "version": "3.6.8"
    }
  },
  "nbformat": 4,
  "nbformat_minor": 0
}
