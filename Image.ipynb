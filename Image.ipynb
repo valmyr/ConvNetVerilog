{
  "cells": [
    {
      "cell_type": "code",
      "execution_count": 1,
      "metadata": {
        "id": "LeQOQlapKfvF"
      },
      "outputs": [
        {
          "name": "stdout",
          "output_type": "stream",
          "text": [
            "Defaulting to user installation because normal site-packages is not writeable\n",
            "Collecting manim\n",
            "  Using cached manim-0.6.0-py3-none-any.whl (415 kB)\n",
            "Requirement already satisfied: Pillow in /usr/lib64/python3.6/site-packages (from manim) (5.1.1)\n",
            "Collecting pydub\n",
            "  Using cached pydub-0.25.1-py2.py3-none-any.whl (32 kB)\n",
            "Requirement already satisfied: requests in /home/valmir.silva/.local/lib/python3.6/site-packages (from manim) (2.27.1)\n",
            "Collecting cloup<0.8.0,>=0.7.0\n",
            "  Using cached cloup-0.7.1-py2.py3-none-any.whl (23 kB)\n",
            "Requirement already satisfied: setuptools in /usr/local/lib/python3.6/site-packages (from manim) (59.6.0)\n",
            "Collecting click-default-group\n",
            "  Using cached click_default_group-1.2.4-py2.py3-none-any.whl (4.1 kB)\n",
            "Collecting manimpango<0.3.0,>=0.2.4\n",
            "  Using cached ManimPango-0.2.6.tar.gz (455 kB)\n",
            "  Installing build dependencies ... \u001b[?25ldone\n",
            "\u001b[?25h  Getting requirements to build wheel ... \u001b[?25lerror\n",
            "\u001b[31m  ERROR: Command errored out with exit status 1:\n",
            "   command: /bin/python3 /usr/local/lib/python3.6/site-packages/pip/_vendor/pep517/in_process/_in_process.py get_requires_for_build_wheel /tmp/tmp4xm73ipz\n",
            "       cwd: /tmp/pip-install-5v6jgox7/manimpango_add5d79796c54feab327e1623524b896\n",
            "  Complete output (30 lines):\n",
            "  Package 'pangocairo' was not found\n",
            "  Traceback (most recent call last):\n",
            "    File \"setup.py\", line 129, in check_min_version\n",
            "      check_call(command, stdout=subprocess.DEVNULL)\n",
            "    File \"/usr/lib64/python3.6/subprocess.py\", line 311, in check_call\n",
            "      raise CalledProcessError(retcode, cmd)\n",
            "  subprocess.CalledProcessError: Command '['pkg-config', '--print-errors', '--atleast-version', '1.30.0', 'pangocairo']' returned non-zero exit status 1.\n",
            "  \n",
            "  During handling of the above exception, another exception occurred:\n",
            "  \n",
            "  Traceback (most recent call last):\n",
            "    File \"/usr/local/lib/python3.6/site-packages/pip/_vendor/pep517/in_process/_in_process.py\", line 363, in <module>\n",
            "      main()\n",
            "    File \"/usr/local/lib/python3.6/site-packages/pip/_vendor/pep517/in_process/_in_process.py\", line 345, in main\n",
            "      json_out['return_val'] = hook(**hook_input['kwargs'])\n",
            "    File \"/usr/local/lib/python3.6/site-packages/pip/_vendor/pep517/in_process/_in_process.py\", line 130, in get_requires_for_build_wheel\n",
            "      return hook(config_settings)\n",
            "    File \"/tmp/pip-build-env-a38htv2n/overlay/lib/python3.6/site-packages/setuptools/build_meta.py\", line 163, in get_requires_for_build_wheel\n",
            "      config_settings, requirements=['wheel'])\n",
            "    File \"/tmp/pip-build-env-a38htv2n/overlay/lib/python3.6/site-packages/setuptools/build_meta.py\", line 143, in _get_build_requires\n",
            "      self.run_setup()\n",
            "    File \"/tmp/pip-build-env-a38htv2n/overlay/lib/python3.6/site-packages/setuptools/build_meta.py\", line 268, in run_setup\n",
            "      self).run_setup(setup_script=setup_script)\n",
            "    File \"/tmp/pip-build-env-a38htv2n/overlay/lib/python3.6/site-packages/setuptools/build_meta.py\", line 158, in run_setup\n",
            "      exec(compile(code, __file__, 'exec'), locals())\n",
            "    File \"setup.py\", line 194, in <module>\n",
            "      _pkg_config.check_min_version(MINIMUM_PANGO_VERSION)\n",
            "    File \"setup.py\", line 132, in check_min_version\n",
            "      raise RequiredDependencyException(f\"{self.name} >= {version} is required\")\n",
            "  __main__.RequiredDependencyException: pangocairo >= 1.30.0 is required\n",
            "  ----------------------------------------\u001b[0m\n",
            "\u001b[33mWARNING: Discarding https://files.pythonhosted.org/packages/32/d8/3d4ac5747940bcc73798b49590b4e9ab3b91a17e594fcf0e0bfaf7c3da14/ManimPango-0.2.6.tar.gz#sha256=64028b62b151bc80b047cc1757b27943498416dc4a85f073892a524b4d90ab41 (from https://pypi.org/simple/manimpango/) (requires-python:>=3.6). Command errored out with exit status 1: /bin/python3 /usr/local/lib/python3.6/site-packages/pip/_vendor/pep517/in_process/_in_process.py get_requires_for_build_wheel /tmp/tmp4xm73ipz Check the logs for full command output.\u001b[0m\n",
            "\u001b[?25h  Using cached ManimPango-0.2.5.post0.tar.gz (455 kB)\n",
            "  Installing build dependencies ... \u001b[?25ldone\n",
            "\u001b[?25h  Getting requirements to build wheel ... \u001b[?25lerror\n",
            "\u001b[31m  ERROR: Command errored out with exit status 1:\n",
            "   command: /bin/python3 /usr/local/lib/python3.6/site-packages/pip/_vendor/pep517/in_process/_in_process.py get_requires_for_build_wheel /tmp/tmpw0_o8ouf\n",
            "       cwd: /tmp/pip-install-5v6jgox7/manimpango_ce6035bc06644b24a915ead9af57c725\n",
            "  Complete output (30 lines):\n",
            "  Package 'pangocairo' was not found\n",
            "  Traceback (most recent call last):\n",
            "    File \"setup.py\", line 129, in check_min_version\n",
            "      check_call(command, stdout=subprocess.DEVNULL)\n",
            "    File \"/usr/lib64/python3.6/subprocess.py\", line 311, in check_call\n",
            "      raise CalledProcessError(retcode, cmd)\n",
            "  subprocess.CalledProcessError: Command '['pkg-config', '--print-errors', '--atleast-version', '1.30.0', 'pangocairo']' returned non-zero exit status 1.\n",
            "  \n",
            "  During handling of the above exception, another exception occurred:\n",
            "  \n",
            "  Traceback (most recent call last):\n",
            "    File \"/usr/local/lib/python3.6/site-packages/pip/_vendor/pep517/in_process/_in_process.py\", line 363, in <module>\n",
            "      main()\n",
            "    File \"/usr/local/lib/python3.6/site-packages/pip/_vendor/pep517/in_process/_in_process.py\", line 345, in main\n",
            "      json_out['return_val'] = hook(**hook_input['kwargs'])\n",
            "    File \"/usr/local/lib/python3.6/site-packages/pip/_vendor/pep517/in_process/_in_process.py\", line 130, in get_requires_for_build_wheel\n",
            "      return hook(config_settings)\n",
            "    File \"/tmp/pip-build-env-l06jge_0/overlay/lib/python3.6/site-packages/setuptools/build_meta.py\", line 163, in get_requires_for_build_wheel\n",
            "      config_settings, requirements=['wheel'])\n",
            "    File \"/tmp/pip-build-env-l06jge_0/overlay/lib/python3.6/site-packages/setuptools/build_meta.py\", line 143, in _get_build_requires\n",
            "      self.run_setup()\n",
            "    File \"/tmp/pip-build-env-l06jge_0/overlay/lib/python3.6/site-packages/setuptools/build_meta.py\", line 268, in run_setup\n",
            "      self).run_setup(setup_script=setup_script)\n",
            "    File \"/tmp/pip-build-env-l06jge_0/overlay/lib/python3.6/site-packages/setuptools/build_meta.py\", line 158, in run_setup\n",
            "      exec(compile(code, __file__, 'exec'), locals())\n",
            "    File \"setup.py\", line 194, in <module>\n",
            "      _pkg_config.check_min_version(MINIMUM_PANGO_VERSION)\n",
            "    File \"setup.py\", line 132, in check_min_version\n",
            "      raise RequiredDependencyException(f\"{self.name} >= {version} is required\")\n",
            "  __main__.RequiredDependencyException: pangocairo >= 1.30.0 is required\n",
            "  ----------------------------------------\u001b[0m\n",
            "\u001b[33mWARNING: Discarding https://files.pythonhosted.org/packages/2e/22/537342bba4bb39f3c47147e5002cc7029285cac3fbdeec31eb85642baa1d/ManimPango-0.2.5.post0.tar.gz#sha256=c33d073d4389ad93bbac13029b8a0da5d8ee0b8fe7f282379ff95012e34d324e (from https://pypi.org/simple/manimpango/) (requires-python:>=3.6). Command errored out with exit status 1: /bin/python3 /usr/local/lib/python3.6/site-packages/pip/_vendor/pep517/in_process/_in_process.py get_requires_for_build_wheel /tmp/tmpw0_o8ouf Check the logs for full command output.\u001b[0m\n",
            "\u001b[?25h  Using cached ManimPango-0.2.4.tar.gz (26 kB)\n",
            "  Installing build dependencies ... \u001b[?25ldone\n",
            "\u001b[?25h  Getting requirements to build wheel ... \u001b[?25lerror\n",
            "\u001b[31m  ERROR: Command errored out with exit status 1:\n",
            "   command: /bin/python3 /usr/local/lib/python3.6/site-packages/pip/_vendor/pep517/in_process/_in_process.py get_requires_for_build_wheel /tmp/tmp3_v9ffz6\n",
            "       cwd: /tmp/pip-install-5v6jgox7/manimpango_beb78c20727944849c0ba25bd85fca80\n",
            "  Complete output (30 lines):\n",
            "  Package 'pangocairo' was not found\n",
            "  Traceback (most recent call last):\n",
            "    File \"setup.py\", line 124, in check_min_version\n",
            "      check_call(command, stdout=subprocess.DEVNULL)\n",
            "    File \"/usr/lib64/python3.6/subprocess.py\", line 311, in check_call\n",
            "      raise CalledProcessError(retcode, cmd)\n",
            "  subprocess.CalledProcessError: Command '['pkg-config', '--print-errors', '--atleast-version', '1.30.0', 'pangocairo']' returned non-zero exit status 1.\n",
            "  \n",
            "  During handling of the above exception, another exception occurred:\n",
            "  \n",
            "  Traceback (most recent call last):\n",
            "    File \"/usr/local/lib/python3.6/site-packages/pip/_vendor/pep517/in_process/_in_process.py\", line 363, in <module>\n",
            "      main()\n",
            "    File \"/usr/local/lib/python3.6/site-packages/pip/_vendor/pep517/in_process/_in_process.py\", line 345, in main\n",
            "      json_out['return_val'] = hook(**hook_input['kwargs'])\n",
            "    File \"/usr/local/lib/python3.6/site-packages/pip/_vendor/pep517/in_process/_in_process.py\", line 130, in get_requires_for_build_wheel\n",
            "      return hook(config_settings)\n",
            "    File \"/tmp/pip-build-env-l3944_f4/overlay/lib/python3.6/site-packages/setuptools/build_meta.py\", line 163, in get_requires_for_build_wheel\n",
            "      config_settings, requirements=['wheel'])\n",
            "    File \"/tmp/pip-build-env-l3944_f4/overlay/lib/python3.6/site-packages/setuptools/build_meta.py\", line 143, in _get_build_requires\n",
            "      self.run_setup()\n",
            "    File \"/tmp/pip-build-env-l3944_f4/overlay/lib/python3.6/site-packages/setuptools/build_meta.py\", line 268, in run_setup\n",
            "      self).run_setup(setup_script=setup_script)\n",
            "    File \"/tmp/pip-build-env-l3944_f4/overlay/lib/python3.6/site-packages/setuptools/build_meta.py\", line 158, in run_setup\n",
            "      exec(compile(code, __file__, 'exec'), locals())\n",
            "    File \"setup.py\", line 190, in <module>\n",
            "      _pkg_config.check_min_version(MINIMUM_PANGO_VERSION)\n",
            "    File \"setup.py\", line 127, in check_min_version\n",
            "      raise RequiredDependencyException(f\"{self.name} >= {version} is required\")\n",
            "  __main__.RequiredDependencyException: pangocairo >= 1.30.0 is required\n",
            "  ----------------------------------------\u001b[0m\n",
            "\u001b[33mWARNING: Discarding https://files.pythonhosted.org/packages/c5/0e/90c294be562453504c60524030d2a0e733f0ce2753da6b63c09bf403f537/ManimPango-0.2.4.tar.gz#sha256=309ac6ee56dbdb85599b1ad61b30ea78a800ab12a4db1264dddcad41681de38c (from https://pypi.org/simple/manimpango/) (requires-python:>=3.6). Command errored out with exit status 1: /bin/python3 /usr/local/lib/python3.6/site-packages/pip/_vendor/pep517/in_process/_in_process.py get_requires_for_build_wheel /tmp/tmp3_v9ffz6 Check the logs for full command output.\u001b[0m\n",
            "\u001b[?25hCollecting manim\n",
            "  Using cached manim-0.5.0-py3-none-any.whl (368 kB)\n",
            "Collecting moderngl<6.0.0,>=5.6.3\n",
            "  Using cached moderngl-5.8.2.tar.gz (190 kB)\n",
            "  Installing build dependencies ... \u001b[?25ldone\n",
            "\u001b[?25h  Getting requirements to build wheel ... \u001b[?25lerror\n",
            "\u001b[31m  ERROR: Command errored out with exit status 1:\n",
            "   command: /bin/python3 /usr/local/lib/python3.6/site-packages/pip/_vendor/pep517/in_process/_in_process.py get_requires_for_build_wheel /tmp/tmplanak2cf\n",
            "       cwd: /tmp/pip-install-5v6jgox7/moderngl_50946006e92046b79c146837fd345d79\n",
            "  Complete output (16 lines):\n",
            "  Traceback (most recent call last):\n",
            "    File \"/usr/local/lib/python3.6/site-packages/pip/_vendor/pep517/in_process/_in_process.py\", line 363, in <module>\n",
            "      main()\n",
            "    File \"/usr/local/lib/python3.6/site-packages/pip/_vendor/pep517/in_process/_in_process.py\", line 345, in main\n",
            "      json_out['return_val'] = hook(**hook_input['kwargs'])\n",
            "    File \"/usr/local/lib/python3.6/site-packages/pip/_vendor/pep517/in_process/_in_process.py\", line 130, in get_requires_for_build_wheel\n",
            "      return hook(config_settings)\n",
            "    File \"/tmp/pip-build-env-lmr7px58/overlay/lib/python3.6/site-packages/setuptools/build_meta.py\", line 163, in get_requires_for_build_wheel\n",
            "      config_settings, requirements=['wheel'])\n",
            "    File \"/tmp/pip-build-env-lmr7px58/overlay/lib/python3.6/site-packages/setuptools/build_meta.py\", line 143, in _get_build_requires\n",
            "      self.run_setup()\n",
            "    File \"/tmp/pip-build-env-lmr7px58/overlay/lib/python3.6/site-packages/setuptools/build_meta.py\", line 158, in run_setup\n",
            "      exec(compile(code, __file__, 'exec'), locals())\n",
            "    File \"setup.py\", line 13, in <module>\n",
            "      raise Exception('Python 3.7 or higher is required')\n",
            "  Exception: Python 3.7 or higher is required\n",
            "  ----------------------------------------\u001b[0m\n",
            "\u001b[33mWARNING: Discarding https://files.pythonhosted.org/packages/39/92/c4ddc43242edd6543bfe8eede7f3960a5c4b7cb68f16458809351576fedf/moderngl-5.8.2.tar.gz#sha256=b66c18d7f4ab7a94be3f9eb9e4ca6836ead1da502d62e81b7f7a48150e2ed391 (from https://pypi.org/simple/moderngl/). Command errored out with exit status 1: /bin/python3 /usr/local/lib/python3.6/site-packages/pip/_vendor/pep517/in_process/_in_process.py get_requires_for_build_wheel /tmp/tmplanak2cf Check the logs for full command output.\u001b[0m\n",
            "\u001b[?25h  Using cached moderngl-5.8.1.tar.gz (191 kB)\n",
            "  Installing build dependencies ... \u001b[?25ldone\n",
            "\u001b[?25h  Getting requirements to build wheel ... \u001b[?25lerror\n",
            "\u001b[31m  ERROR: Command errored out with exit status 1:\n",
            "   command: /bin/python3 /usr/local/lib/python3.6/site-packages/pip/_vendor/pep517/in_process/_in_process.py get_requires_for_build_wheel /tmp/tmpswb64qbr\n",
            "       cwd: /tmp/pip-install-5v6jgox7/moderngl_63399ec9591240909b88a4c9c776a94d\n",
            "  Complete output (16 lines):\n",
            "  Traceback (most recent call last):\n",
            "    File \"/usr/local/lib/python3.6/site-packages/pip/_vendor/pep517/in_process/_in_process.py\", line 363, in <module>\n",
            "      main()\n",
            "    File \"/usr/local/lib/python3.6/site-packages/pip/_vendor/pep517/in_process/_in_process.py\", line 345, in main\n",
            "      json_out['return_val'] = hook(**hook_input['kwargs'])\n",
            "    File \"/usr/local/lib/python3.6/site-packages/pip/_vendor/pep517/in_process/_in_process.py\", line 130, in get_requires_for_build_wheel\n",
            "      return hook(config_settings)\n",
            "    File \"/tmp/pip-build-env-lrr1ssh8/overlay/lib/python3.6/site-packages/setuptools/build_meta.py\", line 163, in get_requires_for_build_wheel\n",
            "      config_settings, requirements=['wheel'])\n",
            "    File \"/tmp/pip-build-env-lrr1ssh8/overlay/lib/python3.6/site-packages/setuptools/build_meta.py\", line 143, in _get_build_requires\n",
            "      self.run_setup()\n",
            "    File \"/tmp/pip-build-env-lrr1ssh8/overlay/lib/python3.6/site-packages/setuptools/build_meta.py\", line 158, in run_setup\n",
            "      exec(compile(code, __file__, 'exec'), locals())\n",
            "    File \"setup.py\", line 13, in <module>\n",
            "      raise Exception('Python 3.7 or higher is required')\n",
            "  Exception: Python 3.7 or higher is required\n",
            "  ----------------------------------------\u001b[0m\n",
            "\u001b[33mWARNING: Discarding https://files.pythonhosted.org/packages/59/d7/473ba2de4a4216ed6f12a7944b506473aa865dea39705a06dcbab92b898f/moderngl-5.8.1.tar.gz#sha256=962ed003d8d764bd33e02e74f1b3b1c0c75a1b92f51f038d2a1309c06f4e5cb8 (from https://pypi.org/simple/moderngl/). Command errored out with exit status 1: /bin/python3 /usr/local/lib/python3.6/site-packages/pip/_vendor/pep517/in_process/_in_process.py get_requires_for_build_wheel /tmp/tmpswb64qbr Check the logs for full command output.\u001b[0m\n",
            "\u001b[?25h  Using cached moderngl-5.8.0.tar.gz (191 kB)\n",
            "  Installing build dependencies ... \u001b[?25ldone\n",
            "\u001b[?25h  Getting requirements to build wheel ... \u001b[?25lerror\n",
            "\u001b[31m  ERROR: Command errored out with exit status 1:\n",
            "   command: /bin/python3 /usr/local/lib/python3.6/site-packages/pip/_vendor/pep517/in_process/_in_process.py get_requires_for_build_wheel /tmp/tmp2r0is6v1\n",
            "       cwd: /tmp/pip-install-5v6jgox7/moderngl_f225a9430cf845e4a17079ccdc9464a5\n",
            "  Complete output (16 lines):\n",
            "  Traceback (most recent call last):\n",
            "    File \"/usr/local/lib/python3.6/site-packages/pip/_vendor/pep517/in_process/_in_process.py\", line 363, in <module>\n",
            "      main()\n",
            "    File \"/usr/local/lib/python3.6/site-packages/pip/_vendor/pep517/in_process/_in_process.py\", line 345, in main\n",
            "      json_out['return_val'] = hook(**hook_input['kwargs'])\n",
            "    File \"/usr/local/lib/python3.6/site-packages/pip/_vendor/pep517/in_process/_in_process.py\", line 130, in get_requires_for_build_wheel\n",
            "      return hook(config_settings)\n",
            "    File \"/tmp/pip-build-env-cszg0zb5/overlay/lib/python3.6/site-packages/setuptools/build_meta.py\", line 163, in get_requires_for_build_wheel\n",
            "      config_settings, requirements=['wheel'])\n",
            "    File \"/tmp/pip-build-env-cszg0zb5/overlay/lib/python3.6/site-packages/setuptools/build_meta.py\", line 143, in _get_build_requires\n",
            "      self.run_setup()\n",
            "    File \"/tmp/pip-build-env-cszg0zb5/overlay/lib/python3.6/site-packages/setuptools/build_meta.py\", line 158, in run_setup\n",
            "      exec(compile(code, __file__, 'exec'), locals())\n",
            "    File \"setup.py\", line 13, in <module>\n",
            "      raise Exception('Python 3.7 or higher is required')\n",
            "  Exception: Python 3.7 or higher is required\n",
            "  ----------------------------------------\u001b[0m\n",
            "\u001b[33mWARNING: Discarding https://files.pythonhosted.org/packages/0f/3b/d1314d213272a49a61ce1c7a7762046123b9a8e8f222cdb4d3ccb8560953/moderngl-5.8.0.tar.gz#sha256=7ae76d8c5e8d6a70051431ea1ce54b7dc0415f4da6a4820f5b782abd957b0ddb (from https://pypi.org/simple/moderngl/). Command errored out with exit status 1: /bin/python3 /usr/local/lib/python3.6/site-packages/pip/_vendor/pep517/in_process/_in_process.py get_requires_for_build_wheel /tmp/tmp2r0is6v1 Check the logs for full command output.\u001b[0m\n",
            "\u001b[?25h  Using cached moderngl-5.7.4.tar.gz (120 kB)\n",
            "  Installing build dependencies ... \u001b[?25ldone\n",
            "\u001b[?25h  Getting requirements to build wheel ... \u001b[?25lerror\n",
            "\u001b[31m  ERROR: Command errored out with exit status 1:\n",
            "   command: /bin/python3 /usr/local/lib/python3.6/site-packages/pip/_vendor/pep517/in_process/_in_process.py get_requires_for_build_wheel /tmp/tmpwadwb6dy\n",
            "       cwd: /tmp/pip-install-5v6jgox7/moderngl_3d6a3047b7924a77a3a8db9ceb28a25a\n",
            "  Complete output (16 lines):\n",
            "  Traceback (most recent call last):\n",
            "    File \"/usr/local/lib/python3.6/site-packages/pip/_vendor/pep517/in_process/_in_process.py\", line 363, in <module>\n",
            "      main()\n",
            "    File \"/usr/local/lib/python3.6/site-packages/pip/_vendor/pep517/in_process/_in_process.py\", line 345, in main\n",
            "      json_out['return_val'] = hook(**hook_input['kwargs'])\n",
            "    File \"/usr/local/lib/python3.6/site-packages/pip/_vendor/pep517/in_process/_in_process.py\", line 130, in get_requires_for_build_wheel\n",
            "      return hook(config_settings)\n",
            "    File \"/tmp/pip-build-env-p7xzaq10/overlay/lib/python3.6/site-packages/setuptools/build_meta.py\", line 163, in get_requires_for_build_wheel\n",
            "      config_settings, requirements=['wheel'])\n",
            "    File \"/tmp/pip-build-env-p7xzaq10/overlay/lib/python3.6/site-packages/setuptools/build_meta.py\", line 143, in _get_build_requires\n",
            "      self.run_setup()\n",
            "    File \"/tmp/pip-build-env-p7xzaq10/overlay/lib/python3.6/site-packages/setuptools/build_meta.py\", line 158, in run_setup\n",
            "      exec(compile(code, __file__, 'exec'), locals())\n",
            "    File \"setup.py\", line 13, in <module>\n",
            "      raise Exception('Python 3.7 or higher is required')\n",
            "  Exception: Python 3.7 or higher is required\n",
            "  ----------------------------------------\u001b[0m\n",
            "\u001b[33mWARNING: Discarding https://files.pythonhosted.org/packages/2b/fa/a04279fad74b9e3c36f30963f9a8b1586930d246728b858cf5cc90bdd699/moderngl-5.7.4.tar.gz#sha256=20f821bf66b2811bc8648d7cf7f64402afff7619fea271f42a6ee85fe03e4041 (from https://pypi.org/simple/moderngl/). Command errored out with exit status 1: /bin/python3 /usr/local/lib/python3.6/site-packages/pip/_vendor/pep517/in_process/_in_process.py get_requires_for_build_wheel /tmp/tmpwadwb6dy Check the logs for full command output.\u001b[0m\n",
            "\u001b[?25h  Using cached moderngl-5.7.3.tar.gz (120 kB)\n",
            "  Installing build dependencies ... \u001b[?25ldone\n",
            "\u001b[?25h  Getting requirements to build wheel ... \u001b[?25lerror\n",
            "\u001b[31m  ERROR: Command errored out with exit status 1:\n",
            "   command: /bin/python3 /usr/local/lib/python3.6/site-packages/pip/_vendor/pep517/in_process/_in_process.py get_requires_for_build_wheel /tmp/tmpfblu2dcb\n",
            "       cwd: /tmp/pip-install-5v6jgox7/moderngl_e7958b14b4e74022b1488603be5c1c1f\n",
            "  Complete output (16 lines):\n",
            "  Traceback (most recent call last):\n",
            "    File \"/usr/local/lib/python3.6/site-packages/pip/_vendor/pep517/in_process/_in_process.py\", line 363, in <module>\n",
            "      main()\n",
            "    File \"/usr/local/lib/python3.6/site-packages/pip/_vendor/pep517/in_process/_in_process.py\", line 345, in main\n",
            "      json_out['return_val'] = hook(**hook_input['kwargs'])\n",
            "    File \"/usr/local/lib/python3.6/site-packages/pip/_vendor/pep517/in_process/_in_process.py\", line 130, in get_requires_for_build_wheel\n",
            "      return hook(config_settings)\n",
            "    File \"/tmp/pip-build-env-b9sv61io/overlay/lib/python3.6/site-packages/setuptools/build_meta.py\", line 163, in get_requires_for_build_wheel\n",
            "      config_settings, requirements=['wheel'])\n",
            "    File \"/tmp/pip-build-env-b9sv61io/overlay/lib/python3.6/site-packages/setuptools/build_meta.py\", line 143, in _get_build_requires\n",
            "      self.run_setup()\n",
            "    File \"/tmp/pip-build-env-b9sv61io/overlay/lib/python3.6/site-packages/setuptools/build_meta.py\", line 158, in run_setup\n",
            "      exec(compile(code, __file__, 'exec'), locals())\n",
            "    File \"setup.py\", line 13, in <module>\n",
            "      raise Exception('Python 3.7 or higher is required')\n",
            "  Exception: Python 3.7 or higher is required\n",
            "  ----------------------------------------\u001b[0m\n",
            "\u001b[33mWARNING: Discarding https://files.pythonhosted.org/packages/7d/0f/213369e25e26a3ba993fe1d499afaaa7c9bcb6dde12161546650ce9fe99e/moderngl-5.7.3.tar.gz#sha256=7e2ee96ae3125121a4488da27cf83fab5322029c948358f638445cbaadb49dc4 (from https://pypi.org/simple/moderngl/). Command errored out with exit status 1: /bin/python3 /usr/local/lib/python3.6/site-packages/pip/_vendor/pep517/in_process/_in_process.py get_requires_for_build_wheel /tmp/tmpfblu2dcb Check the logs for full command output.\u001b[0m\n",
            "\u001b[?25h  Using cached moderngl-5.7.2.tar.gz (120 kB)\n",
            "  Installing build dependencies ... \u001b[?25ldone\n",
            "\u001b[?25h  Getting requirements to build wheel ... \u001b[?25lerror\n",
            "\u001b[31m  ERROR: Command errored out with exit status 1:\n",
            "   command: /bin/python3 /usr/local/lib/python3.6/site-packages/pip/_vendor/pep517/in_process/_in_process.py get_requires_for_build_wheel /tmp/tmp7zcafbd0\n",
            "       cwd: /tmp/pip-install-5v6jgox7/moderngl_4db272610ae14e3db86f79f51fd74de4\n",
            "  Complete output (16 lines):\n",
            "  Traceback (most recent call last):\n",
            "    File \"/usr/local/lib/python3.6/site-packages/pip/_vendor/pep517/in_process/_in_process.py\", line 363, in <module>\n",
            "      main()\n",
            "    File \"/usr/local/lib/python3.6/site-packages/pip/_vendor/pep517/in_process/_in_process.py\", line 345, in main\n",
            "      json_out['return_val'] = hook(**hook_input['kwargs'])\n",
            "    File \"/usr/local/lib/python3.6/site-packages/pip/_vendor/pep517/in_process/_in_process.py\", line 130, in get_requires_for_build_wheel\n",
            "      return hook(config_settings)\n",
            "    File \"/tmp/pip-build-env-62ixc1f0/overlay/lib/python3.6/site-packages/setuptools/build_meta.py\", line 163, in get_requires_for_build_wheel\n",
            "      config_settings, requirements=['wheel'])\n",
            "    File \"/tmp/pip-build-env-62ixc1f0/overlay/lib/python3.6/site-packages/setuptools/build_meta.py\", line 143, in _get_build_requires\n",
            "      self.run_setup()\n",
            "    File \"/tmp/pip-build-env-62ixc1f0/overlay/lib/python3.6/site-packages/setuptools/build_meta.py\", line 158, in run_setup\n",
            "      exec(compile(code, __file__, 'exec'), locals())\n",
            "    File \"setup.py\", line 13, in <module>\n",
            "      raise Exception('Python 3.7 or higher is required')\n",
            "  Exception: Python 3.7 or higher is required\n",
            "  ----------------------------------------\u001b[0m\n",
            "\u001b[33mWARNING: Discarding https://files.pythonhosted.org/packages/fc/e8/49723123a60b0219737abe2f87cfc0c27721920680f9da2fe6e189a8234e/moderngl-5.7.2.tar.gz#sha256=b1f982639627cb51e065f10dd74004d44bf511543a244e75eb8e835e3a10c720 (from https://pypi.org/simple/moderngl/). Command errored out with exit status 1: /bin/python3 /usr/local/lib/python3.6/site-packages/pip/_vendor/pep517/in_process/_in_process.py get_requires_for_build_wheel /tmp/tmp7zcafbd0 Check the logs for full command output.\u001b[0m\n",
            "\u001b[?25h  Using cached moderngl-5.7.1.tar.gz (120 kB)\n",
            "  Installing build dependencies ... \u001b[?25ldone\n",
            "\u001b[?25h  Getting requirements to build wheel ... \u001b[?25lerror\n",
            "\u001b[31m  ERROR: Command errored out with exit status 1:\n",
            "   command: /bin/python3 /usr/local/lib/python3.6/site-packages/pip/_vendor/pep517/in_process/_in_process.py get_requires_for_build_wheel /tmp/tmp11x2zz9t\n",
            "       cwd: /tmp/pip-install-5v6jgox7/moderngl_974ee4ea824c434098a0915d432020c4\n",
            "  Complete output (16 lines):\n",
            "  Traceback (most recent call last):\n",
            "    File \"/usr/local/lib/python3.6/site-packages/pip/_vendor/pep517/in_process/_in_process.py\", line 363, in <module>\n",
            "      main()\n",
            "    File \"/usr/local/lib/python3.6/site-packages/pip/_vendor/pep517/in_process/_in_process.py\", line 345, in main\n",
            "      json_out['return_val'] = hook(**hook_input['kwargs'])\n",
            "    File \"/usr/local/lib/python3.6/site-packages/pip/_vendor/pep517/in_process/_in_process.py\", line 130, in get_requires_for_build_wheel\n",
            "      return hook(config_settings)\n",
            "    File \"/tmp/pip-build-env-8ry61xgu/overlay/lib/python3.6/site-packages/setuptools/build_meta.py\", line 163, in get_requires_for_build_wheel\n",
            "      config_settings, requirements=['wheel'])\n",
            "    File \"/tmp/pip-build-env-8ry61xgu/overlay/lib/python3.6/site-packages/setuptools/build_meta.py\", line 143, in _get_build_requires\n",
            "      self.run_setup()\n",
            "    File \"/tmp/pip-build-env-8ry61xgu/overlay/lib/python3.6/site-packages/setuptools/build_meta.py\", line 158, in run_setup\n",
            "      exec(compile(code, __file__, 'exec'), locals())\n",
            "    File \"setup.py\", line 13, in <module>\n",
            "      raise Exception('Python 3.7 or higher is required')\n",
            "  Exception: Python 3.7 or higher is required\n",
            "  ----------------------------------------\u001b[0m\n",
            "\u001b[33mWARNING: Discarding https://files.pythonhosted.org/packages/3f/83/3d57f5ce567bee6998ca065761a9488e639cc53f60e8a73349311b73d0c1/moderngl-5.7.1.tar.gz#sha256=151526d74b44a83656ac5cb731f9cd021ba3479511a948ab43fe708bb39818b9 (from https://pypi.org/simple/moderngl/). Command errored out with exit status 1: /bin/python3 /usr/local/lib/python3.6/site-packages/pip/_vendor/pep517/in_process/_in_process.py get_requires_for_build_wheel /tmp/tmp11x2zz9t Check the logs for full command output.\u001b[0m\n",
            "\u001b[?25h  Using cached moderngl-5.7.0.tar.gz (129 kB)\n",
            "  Installing build dependencies ... \u001b[?25ldone\n",
            "\u001b[?25h  Getting requirements to build wheel ... \u001b[?25ldone\n",
            "\u001b[?25h  Preparing metadata (pyproject.toml) ... \u001b[?25ldone\n",
            "\u001b[?25hRequirement already satisfied: networkx<3.0,>=2.5 in /usr/local/lib/python3.6/site-packages (from manim) (2.5.1)\n",
            "Collecting rich<7.0,>=6.0\n",
            "  Using cached rich-6.2.0-py3-none-any.whl (150 kB)\n",
            "Requirement already satisfied: scipy in /usr/local/lib64/python3.6/site-packages (from manim) (1.5.4)\n",
            "Collecting mapbox-earcut<0.13.0,>=0.12.10\n",
            "  Using cached mapbox_earcut-0.12.11-cp36-cp36m-manylinux_2_12_x86_64.manylinux2010_x86_64.whl (99 kB)\n",
            "Collecting manim\n",
            "  Using cached manim-0.4.0-py3-none-any.whl (285 kB)\n",
            "Requirement already satisfied: numpy in /usr/local/lib64/python3.6/site-packages (from manim) (1.19.5)\n",
            "Collecting pycairo<2.0,>=1.19\n",
            "  Using cached pycairo-1.20.1.tar.gz (344 kB)\n",
            "  Installing build dependencies ... \u001b[?25ldone\n",
            "\u001b[?25h  Getting requirements to build wheel ... \u001b[?25ldone\n",
            "\u001b[?25h  Preparing metadata (pyproject.toml) ... \u001b[?25ldone\n",
            "\u001b[?25hRequirement already satisfied: importlib-metadata in /usr/local/lib/python3.6/site-packages (from manim) (4.8.3)\n",
            "Requirement already satisfied: pygments in /home/valmir.silva/.local/lib/python3.6/site-packages (from manim) (2.14.0)\n",
            "Collecting tqdm\n",
            "  Using cached tqdm-4.64.1-py2.py3-none-any.whl (78 kB)\n",
            "Collecting manimpango<0.3.0,>=0.2.0\n",
            "  Using cached ManimPango-0.2.3-cp36-cp36m-manylinux2014_x86_64.whl (8.7 MB)\n",
            "Requirement already satisfied: colour in /home/valmir.silva/.local/lib/python3.6/site-packages (from manim) (0.1.5)\n",
            "Requirement already satisfied: decorator<5,>=4.3 in /usr/local/lib/python3.6/site-packages (from networkx<3.0,>=2.5->manim) (4.4.2)\n",
            "Collecting commonmark<0.10.0,>=0.9.0\n",
            "  Using cached commonmark-0.9.1-py2.py3-none-any.whl (51 kB)\n",
            "Collecting dataclasses<0.8,>=0.7\n",
            "  Using cached dataclasses-0.7-py3-none-any.whl (18 kB)\n",
            "Collecting typing-extensions<4.0.0,>=3.7.4\n",
            "  Using cached typing_extensions-3.10.0.2-py3-none-any.whl (26 kB)\n",
            "Collecting colorama<0.5.0,>=0.4.0\n",
            "  Using cached colorama-0.4.5-py2.py3-none-any.whl (16 kB)\n",
            "Requirement already satisfied: zipp>=0.5 in /usr/local/lib/python3.6/site-packages (from importlib-metadata->manim) (3.6.0)\n",
            "Collecting importlib-resources\n",
            "  Using cached importlib_resources-5.4.0-py3-none-any.whl (28 kB)\n",
            "Building wheels for collected packages: pycairo\n",
            "  Building wheel for pycairo (pyproject.toml) ... \u001b[?25lerror\n",
            "\u001b[31m  ERROR: Command errored out with exit status 1:\n",
            "   command: /bin/python3 /usr/local/lib/python3.6/site-packages/pip/_vendor/pep517/in_process/_in_process.py build_wheel /tmp/tmp7q4tj7_x\n",
            "       cwd: /tmp/pip-install-5v6jgox7/pycairo_1efc4d70023a43bb96b229a3cd4acb05\n",
            "  Complete output (15 lines):\n",
            "  running bdist_wheel\n",
            "  running build\n",
            "  running build_py\n",
            "  creating build\n",
            "  creating build/lib.linux-x86_64-3.6\n",
            "  creating build/lib.linux-x86_64-3.6/cairo\n",
            "  copying cairo/__init__.py -> build/lib.linux-x86_64-3.6/cairo\n",
            "  copying cairo/__init__.pyi -> build/lib.linux-x86_64-3.6/cairo\n",
            "  copying cairo/py.typed -> build/lib.linux-x86_64-3.6/cairo\n",
            "  running build_ext\n",
            "  Package cairo was not found in the pkg-config search path.\n",
            "  Perhaps you should add the directory containing `cairo.pc'\n",
            "  to the PKG_CONFIG_PATH environment variable\n",
            "  Package 'cairo', required by 'virtual:world', not found\n",
            "  Command '['pkg-config', '--print-errors', '--exists', 'cairo >= 1.15.10']' returned non-zero exit status 1.\n",
            "  ----------------------------------------\u001b[0m\n",
            "\u001b[31m  ERROR: Failed building wheel for pycairo\u001b[0m\n",
            "\u001b[?25hFailed to build pycairo\n",
            "\u001b[31mERROR: Could not build wheels for pycairo, which is required to install pyproject.toml-based projects\u001b[0m\n",
            "Note: you may need to restart the kernel to use updated packages.\n",
            "Defaulting to user installation because normal site-packages is not writeable\n",
            "Requirement already satisfied: colour in /home/valmir.silva/.local/lib/python3.6/site-packages (0.1.5)\n",
            "Note: you may need to restart the kernel to use updated packages.\n",
            "Defaulting to user installation because normal site-packages is not writeable\n",
            "Requirement already satisfied: matplotlib in /usr/lib64/python3.6/site-packages (3.0.3)\n",
            "Requirement already satisfied: numpy>=1.10.0 in /usr/local/lib64/python3.6/site-packages (from matplotlib) (1.19.5)\n",
            "Requirement already satisfied: cycler>=0.10 in /usr/lib/python3.6/site-packages (from matplotlib) (0.10.0)\n",
            "Requirement already satisfied: kiwisolver>=1.0.1 in /usr/lib64/python3.6/site-packages (from matplotlib) (1.1.0)\n",
            "Requirement already satisfied: pyparsing!=2.0.4,!=2.1.2,!=2.1.6,>=2.0.1 in /usr/local/lib/python3.6/site-packages (from matplotlib) (3.1.4)\n",
            "Requirement already satisfied: python-dateutil>=2.1 in /usr/local/lib/python3.6/site-packages (from matplotlib) (2.9.0.post0)\n",
            "Requirement already satisfied: six in /usr/lib/python3.6/site-packages (from cycler>=0.10->matplotlib) (1.11.0)\n",
            "Requirement already satisfied: setuptools in /usr/local/lib/python3.6/site-packages (from kiwisolver>=1.0.1->matplotlib) (59.6.0)\n",
            "Note: you may need to restart the kernel to use updated packages.\n",
            "Defaulting to user installation because normal site-packages is not writeable\n",
            "Requirement already satisfied: tensorflow.keras in /home/valmir.silva/.local/lib/python3.6/site-packages (0.1)\n",
            "Note: you may need to restart the kernel to use updated packages.\n",
            "Defaulting to user installation because normal site-packages is not writeable\n",
            "Requirement already satisfied: pydot in /usr/local/lib/python3.6/site-packages (1.4.2)\n",
            "Requirement already satisfied: pyparsing>=2.1.4 in /usr/local/lib/python3.6/site-packages (from pydot) (3.1.4)\n",
            "Note: you may need to restart the kernel to use updated packages.\n",
            "Defaulting to user installation because normal site-packages is not writeable\n",
            "Requirement already satisfied: pydotplus in /home/valmir.silva/.local/lib/python3.6/site-packages (2.0.2)\n",
            "Requirement already satisfied: pyparsing>=2.0.1 in /usr/local/lib/python3.6/site-packages (from pydotplus) (3.1.4)\n",
            "Note: you may need to restart the kernel to use updated packages.\n",
            "Defaulting to user installation because normal site-packages is not writeable\n",
            "Requirement already satisfied: graphviz in /home/valmir.silva/.local/lib/python3.6/site-packages (0.19.1)\n",
            "Note: you may need to restart the kernel to use updated packages.\n",
            "Defaulting to user installation because normal site-packages is not writeable\n",
            "Requirement already satisfied: ipykernel in /home/valmir.silva/.local/lib/python3.6/site-packages (5.5.6)\n",
            "Requirement already satisfied: traitlets>=4.1.0 in /home/valmir.silva/.local/lib/python3.6/site-packages (from ipykernel) (4.3.3)\n",
            "Requirement already satisfied: ipython-genutils in /home/valmir.silva/.local/lib/python3.6/site-packages (from ipykernel) (0.2.0)\n",
            "Requirement already satisfied: ipython>=5.0.0 in /home/valmir.silva/.local/lib/python3.6/site-packages (from ipykernel) (7.16.3)\n",
            "Requirement already satisfied: tornado>=4.2 in /home/valmir.silva/.local/lib/python3.6/site-packages (from ipykernel) (6.1)\n",
            "Requirement already satisfied: jupyter-client in /home/valmir.silva/.local/lib/python3.6/site-packages (from ipykernel) (7.1.2)\n",
            "Requirement already satisfied: jedi<=0.17.2,>=0.10 in /home/valmir.silva/.local/lib/python3.6/site-packages (from ipython>=5.0.0->ipykernel) (0.17.2)\n",
            "Requirement already satisfied: backcall in /home/valmir.silva/.local/lib/python3.6/site-packages (from ipython>=5.0.0->ipykernel) (0.2.0)\n",
            "Requirement already satisfied: setuptools>=18.5 in /usr/local/lib/python3.6/site-packages (from ipython>=5.0.0->ipykernel) (59.6.0)\n",
            "Requirement already satisfied: pygments in /home/valmir.silva/.local/lib/python3.6/site-packages (from ipython>=5.0.0->ipykernel) (2.14.0)\n",
            "Requirement already satisfied: prompt-toolkit!=3.0.0,!=3.0.1,<3.1.0,>=2.0.0 in /home/valmir.silva/.local/lib/python3.6/site-packages (from ipython>=5.0.0->ipykernel) (3.0.36)\n",
            "Requirement already satisfied: pickleshare in /home/valmir.silva/.local/lib/python3.6/site-packages (from ipython>=5.0.0->ipykernel) (0.7.5)\n",
            "Requirement already satisfied: decorator in /usr/local/lib/python3.6/site-packages (from ipython>=5.0.0->ipykernel) (4.4.2)\n",
            "Requirement already satisfied: pexpect in /usr/lib/python3.6/site-packages (from ipython>=5.0.0->ipykernel) (4.3.1)\n",
            "Requirement already satisfied: six in /usr/lib/python3.6/site-packages (from traitlets>=4.1.0->ipykernel) (1.11.0)\n",
            "Requirement already satisfied: pyzmq>=13 in /home/valmir.silva/.local/lib/python3.6/site-packages (from jupyter-client->ipykernel) (25.1.2)\n",
            "Requirement already satisfied: entrypoints in /home/valmir.silva/.local/lib/python3.6/site-packages (from jupyter-client->ipykernel) (0.4)\n",
            "Requirement already satisfied: nest-asyncio>=1.5 in /home/valmir.silva/.local/lib/python3.6/site-packages (from jupyter-client->ipykernel) (1.6.0)\n",
            "Requirement already satisfied: python-dateutil>=2.1 in /usr/local/lib/python3.6/site-packages (from jupyter-client->ipykernel) (2.9.0.post0)\n",
            "Requirement already satisfied: jupyter-core>=4.6.0 in /home/valmir.silva/.local/lib/python3.6/site-packages (from jupyter-client->ipykernel) (4.9.2)\n",
            "Requirement already satisfied: parso<0.8.0,>=0.7.0 in /home/valmir.silva/.local/lib/python3.6/site-packages (from jedi<=0.17.2,>=0.10->ipython>=5.0.0->ipykernel) (0.7.1)\n",
            "Requirement already satisfied: wcwidth in /home/valmir.silva/.local/lib/python3.6/site-packages (from prompt-toolkit!=3.0.0,!=3.0.1,<3.1.0,>=2.0.0->ipython>=5.0.0->ipykernel) (0.2.13)\n",
            "Note: you may need to restart the kernel to use updated packages.\n",
            "Defaulting to user installation because normal site-packages is not writeable\n",
            "Requirement already satisfied: keras_preprocessing in /home/valmir.silva/.local/lib/python3.6/site-packages (1.1.2)\n",
            "Requirement already satisfied: numpy>=1.9.1 in /usr/local/lib64/python3.6/site-packages (from keras_preprocessing) (1.19.5)\n",
            "Requirement already satisfied: six>=1.9.0 in /usr/lib/python3.6/site-packages (from keras_preprocessing) (1.11.0)\n",
            "Note: you may need to restart the kernel to use updated packages.\n",
            "Defaulting to user installation because normal site-packages is not writeable\n",
            "Requirement already satisfied: matplotlib in /usr/lib64/python3.6/site-packages (3.0.3)\n",
            "Requirement already satisfied: numpy>=1.10.0 in /usr/local/lib64/python3.6/site-packages (from matplotlib) (1.19.5)\n",
            "Requirement already satisfied: cycler>=0.10 in /usr/lib/python3.6/site-packages (from matplotlib) (0.10.0)\n",
            "Requirement already satisfied: kiwisolver>=1.0.1 in /usr/lib64/python3.6/site-packages (from matplotlib) (1.1.0)\n",
            "Requirement already satisfied: pyparsing!=2.0.4,!=2.1.2,!=2.1.6,>=2.0.1 in /usr/local/lib/python3.6/site-packages (from matplotlib) (3.1.4)\n",
            "Requirement already satisfied: python-dateutil>=2.1 in /usr/local/lib/python3.6/site-packages (from matplotlib) (2.9.0.post0)\n",
            "Requirement already satisfied: six in /usr/lib/python3.6/site-packages (from cycler>=0.10->matplotlib) (1.11.0)\n",
            "Requirement already satisfied: setuptools in /usr/local/lib/python3.6/site-packages (from kiwisolver>=1.0.1->matplotlib) (59.6.0)\n",
            "Note: you may need to restart the kernel to use updated packages.\n",
            "Defaulting to user installation because normal site-packages is not writeable\n",
            "Requirement already satisfied: idx2numpy in /home/valmir.silva/.local/lib/python3.6/site-packages (1.2.3)\n",
            "Requirement already satisfied: numpy in /usr/local/lib64/python3.6/site-packages (from idx2numpy) (1.19.5)\n",
            "Requirement already satisfied: six in /usr/lib/python3.6/site-packages (from idx2numpy) (1.11.0)\n",
            "Note: you may need to restart the kernel to use updated packages.\n",
            "Defaulting to user installation because normal site-packages is not writeable\n",
            "Requirement already satisfied: pillow in /usr/lib64/python3.6/site-packages (5.1.1)\n",
            "Note: you may need to restart the kernel to use updated packages.\n",
            "Defaulting to user installation because normal site-packages is not writeable\n",
            "\u001b[31mERROR: Could not find a version that satisfies the requirement tensorflow==2.18.0 (from versions: 0.12.1, 1.0.0, 1.0.1, 1.1.0, 1.2.0, 1.2.1, 1.3.0, 1.4.0, 1.4.1, 1.5.0, 1.5.1, 1.6.0, 1.7.0, 1.7.1, 1.8.0, 1.9.0, 1.10.0, 1.10.1, 1.11.0, 1.12.0, 1.12.2, 1.12.3, 1.13.1, 1.13.2, 1.14.0, 1.15.0, 1.15.2, 1.15.3, 1.15.4, 1.15.5, 2.0.0, 2.0.1, 2.0.2, 2.0.3, 2.0.4, 2.1.0, 2.1.1, 2.1.2, 2.1.3, 2.1.4, 2.2.0, 2.2.1, 2.2.2, 2.2.3, 2.3.0, 2.3.1, 2.3.2, 2.3.3, 2.3.4, 2.4.0, 2.4.1, 2.4.2, 2.4.3, 2.4.4, 2.5.0, 2.5.1, 2.5.2, 2.6.0rc0, 2.6.0rc1, 2.6.0rc2, 2.6.0, 2.6.1, 2.6.2)\u001b[0m\n",
            "\u001b[31mERROR: No matching distribution found for tensorflow==2.18.0\u001b[0m\n",
            "Note: you may need to restart the kernel to use updated packages.\n",
            "Defaulting to user installation because normal site-packages is not writeable\n",
            "\u001b[31mERROR: Could not find a version that satisfies the requirement keras==3.8.0 (from versions: 0.2.0, 0.3.0, 0.3.1, 0.3.2, 0.3.3, 1.0.0, 1.0.1, 1.0.2, 1.0.3, 1.0.4, 1.0.5, 1.0.6, 1.0.7, 1.0.8, 1.1.0, 1.1.1, 1.1.2, 1.2.0, 1.2.1, 1.2.2, 2.0.0, 2.0.1, 2.0.2, 2.0.3, 2.0.4, 2.0.5, 2.0.6, 2.0.7, 2.0.8, 2.0.9, 2.1.0, 2.1.1, 2.1.2, 2.1.3, 2.1.4, 2.1.5, 2.1.6, 2.2.0, 2.2.1, 2.2.2, 2.2.3, 2.2.4, 2.2.5, 2.3.0, 2.3.1, 2.4.0, 2.4.1, 2.4.2, 2.4.3, 2.5.0rc0, 2.6.0rc0, 2.6.0rc1, 2.6.0rc2, 2.6.0rc3, 2.6.0, 2.7.0rc0, 2.7.0rc2, 2.7.0, 2.8.0rc0, 2.8.0rc1, 2.8.0, 2.9.0rc0, 2.9.0rc1, 2.9.0rc2, 2.9.0, 2.10.0rc0, 2.10.0rc1, 2.10.0)\u001b[0m\n",
            "\u001b[31mERROR: No matching distribution found for keras==3.8.0\u001b[0m\n",
            "Note: you may need to restart the kernel to use updated packages.\n"
          ]
        },
        {
          "ename": "ModuleNotFoundError",
          "evalue": "No module named 'tensorflow'",
          "output_type": "error",
          "traceback": [
            "\u001b[0;31m---------------------------------------------------------------------------\u001b[0m",
            "\u001b[0;31mModuleNotFoundError\u001b[0m                       Traceback (most recent call last)",
            "\u001b[0;32m<ipython-input-1-34910499e1cb>\u001b[0m in \u001b[0;36m<module>\u001b[0;34m\u001b[0m\n\u001b[1;32m      6\u001b[0m     \u001b[0;32mimport\u001b[0m \u001b[0mkeras_preprocessing\u001b[0m\u001b[0;34m\u001b[0m\u001b[0;34m\u001b[0m\u001b[0m\n\u001b[0;32m----> 7\u001b[0;31m     \u001b[0;32mimport\u001b[0m \u001b[0mtensorflow\u001b[0m \u001b[0;32mas\u001b[0m \u001b[0mtf\u001b[0m\u001b[0;34m\u001b[0m\u001b[0;34m\u001b[0m\u001b[0m\n\u001b[0m\u001b[1;32m      8\u001b[0m     \u001b[0;32mimport\u001b[0m \u001b[0mnumpy\u001b[0m \u001b[0;32mas\u001b[0m \u001b[0mnp\u001b[0m\u001b[0;34m\u001b[0m\u001b[0;34m\u001b[0m\u001b[0m\n",
            "\u001b[0;31mModuleNotFoundError\u001b[0m: No module named 'tensorflow'",
            "\nDuring handling of the above exception, another exception occurred:\n",
            "\u001b[0;31mModuleNotFoundError\u001b[0m                       Traceback (most recent call last)",
            "\u001b[0;32m<ipython-input-1-34910499e1cb>\u001b[0m in \u001b[0;36m<module>\u001b[0;34m\u001b[0m\n\u001b[1;32m     29\u001b[0m     \u001b[0;32mimport\u001b[0m \u001b[0midx2numpy\u001b[0m\u001b[0;34m\u001b[0m\u001b[0;34m\u001b[0m\u001b[0m\n\u001b[1;32m     30\u001b[0m     \u001b[0;32mimport\u001b[0m \u001b[0mkeras_preprocessing\u001b[0m\u001b[0;34m\u001b[0m\u001b[0;34m\u001b[0m\u001b[0m\n\u001b[0;32m---> 31\u001b[0;31m     \u001b[0;32mimport\u001b[0m \u001b[0mtensorflow\u001b[0m \u001b[0;32mas\u001b[0m \u001b[0mtf\u001b[0m\u001b[0;34m\u001b[0m\u001b[0;34m\u001b[0m\u001b[0m\n\u001b[0m\u001b[1;32m     32\u001b[0m     \u001b[0;32mimport\u001b[0m \u001b[0mnumpy\u001b[0m \u001b[0;32mas\u001b[0m \u001b[0mnp\u001b[0m\u001b[0;34m\u001b[0m\u001b[0;34m\u001b[0m\u001b[0m\n\u001b[1;32m     33\u001b[0m     \u001b[0;32mimport\u001b[0m \u001b[0mkeras\u001b[0m\u001b[0;34m\u001b[0m\u001b[0;34m\u001b[0m\u001b[0m\n",
            "\u001b[0;31mModuleNotFoundError\u001b[0m: No module named 'tensorflow'"
          ]
        }
      ],
      "source": [
        "try:\n",
        "    from keras_preprocessing import image as img\n",
        "    import os\n",
        "    from matplotlib import pyplot as plt\n",
        "    import idx2numpy\n",
        "    import keras_preprocessing\n",
        "    import tensorflow as tf\n",
        "    import numpy as np\n",
        "    import keras\n",
        "    from functools import partial\n",
        "except:\n",
        "    %pip install manim\n",
        "    %pip install colour\n",
        "    %pip install matplotlib\n",
        "    %pip install tensorflow.keras\n",
        "    %pip install pydot\n",
        "    %pip install pydotplus\n",
        "    %pip install graphviz\n",
        "    %pip install ipykernel\n",
        "    %pip install keras_preprocessing\n",
        "    %pip install matplotlib\n",
        "    %pip install idx2numpy\n",
        "    %pip install pillow\n",
        "    %pip install tensorflow==2.18.0\n",
        "    %pip install keras==3.8.0\n",
        "    from keras_preprocessing import image as img\n",
        "    import os\n",
        "    from matplotlib import pyplot as plt\n",
        "    import idx2numpy\n",
        "    import keras_preprocessing\n",
        "    import tensorflow as tf\n",
        "    import numpy as np\n",
        "    import keras\n",
        "    from functools import partial"
      ]
    },
    {
      "cell_type": "code",
      "execution_count": null,
      "metadata": {},
      "outputs": [],
      "source": [
        "plt.figure(figsize=(19,10))"
      ]
    },
    {
      "cell_type": "markdown",
      "metadata": {
        "id": "ZTScsKMqRxwc"
      },
      "source": []
    },
    {
      "cell_type": "code",
      "execution_count": null,
      "metadata": {},
      "outputs": [],
      "source": [
        "modelo_dig = tf.keras.models.load_model(\"model_network/output00.h5\")"
      ]
    },
    {
      "cell_type": "code",
      "execution_count": null,
      "metadata": {},
      "outputs": [],
      "source": [
        "modelo_dig.summary()"
      ]
    },
    {
      "cell_type": "code",
      "execution_count": null,
      "metadata": {},
      "outputs": [],
      "source": [
        "nbits = 128\n",
        "point_fixed = 8"
      ]
    },
    {
      "cell_type": "code",
      "execution_count": null,
      "metadata": {},
      "outputs": [],
      "source": [
        "os.system(\"rm ./simulation/I.txt\")"
      ]
    },
    {
      "cell_type": "code",
      "execution_count": null,
      "metadata": {
        "id": "J8-0zNQULJcC"
      },
      "outputs": [],
      "source": [
        "sizt = 28\n",
        "path = \"mnist/data/t10k-images-idx3-ubyte\""
      ]
    },
    {
      "cell_type": "code",
      "execution_count": null,
      "metadata": {},
      "outputs": [],
      "source": [
        "def int2comp2(val, nbits=nbits):\n",
        "    return hex((val + (1 << nbits)) % (1 << nbits))\n"
      ]
    },
    {
      "cell_type": "code",
      "execution_count": null,
      "metadata": {},
      "outputs": [],
      "source": [
        "def comp2int(val, nbits=nbits):\n",
        "    val=int(val,16)\n",
        "    if(val & 1 << nbits-1):\n",
        "        return (~val+1)%(1<<nbits)*(-1)\n",
        "    return val\n"
      ]
    },
    {
      "cell_type": "code",
      "execution_count": null,
      "metadata": {},
      "outputs": [],
      "source": [
        "def concat(n,nbits=nbits,fator=1):\n",
        "    return [comp2int(n,nbits)/fator]"
      ]
    },
    {
      "cell_type": "code",
      "execution_count": null,
      "metadata": {},
      "outputs": [],
      "source": [
        "def concat2(n,nbits=nbits,fator=1):\n",
        "    # print([comp2int(n,nbits)/fator])\n",
        "    return [comp2int(n,nbits)/fator]"
      ]
    },
    {
      "cell_type": "code",
      "execution_count": null,
      "metadata": {},
      "outputs": [],
      "source": [
        "def import_img(path_file,fator=1):\n",
        "    out2 = path_file\n",
        "    m2=[]\n",
        "    k2 = out2.readlines()\n",
        "    for i in k2:\n",
        "        m2.append(list(map(concat,i.split())))\n",
        "    plt.imshow(m2,cmap=\"gray\")\n",
        "    # plt.imsave('fig7.png',m2,cmap='gray')\n",
        "    return np.array(m2).copy()"
      ]
    },
    {
      "cell_type": "code",
      "execution_count": null,
      "metadata": {},
      "outputs": [],
      "source": [
        "def import_img2(path_file,fator=1,string='fig.png',transpor=0):\n",
        "    out2 = path_file\n",
        "    m2=[]\n",
        "    k2 = out2.readlines()\n",
        "    for i in k2:\n",
        "        m2.append(list(map(concat2,i.split())))\n",
        "    plt.imshow(m2,cmap ='viridis')\n",
        "    plt.imsave(string,m2,cmap='viridis')\n",
        "    if(transpor):\n",
        "        return m2.T\n",
        "    return m2"
      ]
    },
    {
      "cell_type": "code",
      "execution_count": null,
      "metadata": {},
      "outputs": [],
      "source": [
        "def import_img3(path_file,fator=1,string='fig.png',transpor=0):\n",
        "    out2 = path_file\n",
        "    m2=[]\n",
        "    k2 = out2.readlines()\n",
        "    for i in k2:\n",
        "        m2.append(list(map(concat2,i.split())))\n",
        "    m2 = list(np.array(m2).T)\n",
        "    plt.imshow(m2,cmap ='viridis')\n",
        "    plt.imsave(string,m2,cmap='viridis')\n",
        "    if(transpor):\n",
        "        return m2.T"
      ]
    },
    {
      "cell_type": "code",
      "execution_count": null,
      "metadata": {},
      "outputs": [],
      "source": []
    },
    {
      "cell_type": "code",
      "execution_count": null,
      "metadata": {},
      "outputs": [],
      "source": [
        "def exportInput_txt(imag,path_file,nbits=32,point_fixed=8):\n",
        "    for i in imag:\n",
        "        for j in i:\n",
        "            # strtmp = int2comp2(1 if(j >=50) else 0, nbits)[2:]\n",
        "            strtmp = int2comp2((int(j/255*2**point_fixed)), nbits)[2:]\n",
        "\n",
        "            strtmp2 = strtmp+' '\n",
        "            print(strtmp2,end=' ')\n",
        "            path_file.write(strtmp2)\n",
        "            # print(f'{strtmp2}',end='  ')\n",
        "        print(\"\\n\")\n",
        "        path_file.write(\"\\n\")\n",
        "    path_file.close()\n"
      ]
    },
    {
      "cell_type": "code",
      "execution_count": null,
      "metadata": {},
      "outputs": [],
      "source": [
        "def kernel_txt(nbits,point_fixed,i,j,kernel,string='Kernel'):\n",
        "    ker = open(f\"simulation/{string}{j}{i}.txt\",'w')\n",
        "    kernel0_0 = np.array(kernel)\n",
        "    for i in kernel0_0:\n",
        "        for j in i:\n",
        "            print(int((j*2**point_fixed)),end=' ')\n",
        "            strtmp2 = int2comp2(int(j*2**point_fixed),nbits)+' '\n",
        "            ker.write(strtmp2[2:])\n",
        "            # print(f'{strtmp2}',end='  ')\n",
        "        ker.write(\"\\n\")\n",
        "        print('\\n')\n",
        "    ker.close()"
      ]
    },
    {
      "cell_type": "code",
      "execution_count": null,
      "metadata": {},
      "outputs": [],
      "source": [
        "def bias_txt(nbits,point_fixed,i,bias,string='bias'):\n",
        "    ker = open(f\"simulation/{string}{i}.txt\",'w')\n",
        "    kernel0_0 = np.array(bias)\n",
        "    base = point_fixed\n",
        "    print(base)\n",
        "    for j in kernel0_0:\n",
        "        # for j in i:\n",
        "            print((int(j*2**base)),end=' ')\n",
        "            strtmp2 = int2comp2(int(j*2**point_fixed),nbits)+' '\n",
        "            ker.write(strtmp2[2:])\n",
        "            # print(f'{strtmp2}',end='  ')\n",
        "        # ker.write(\"\\n\")\n",
        "            # print('\\n')\n",
        "    ker.close()"
      ]
    },
    {
      "cell_type": "code",
      "execution_count": null,
      "metadata": {
        "id": "te-Hq9X6Qgj0"
      },
      "outputs": [],
      "source": [
        "sizeM = open(\"./simulation/sizeM.txt\",\"w\")\n",
        "sizeM.write(str(sizt))\n",
        "sizeM.close()\n",
        "f = open(\"./simulation/I.txt\",\"w\")"
      ]
    },
    {
      "cell_type": "code",
      "execution_count": null,
      "metadata": {},
      "outputs": [],
      "source": []
    },
    {
      "cell_type": "code",
      "execution_count": null,
      "metadata": {},
      "outputs": [],
      "source": [
        "array = idx2numpy.convert_from_file(path)[0]\n",
        "plt.imshow(array,cmap='binary')\n",
        "# array"
      ]
    },
    {
      "cell_type": "code",
      "execution_count": null,
      "metadata": {},
      "outputs": [],
      "source": [
        "array"
      ]
    },
    {
      "cell_type": "code",
      "execution_count": null,
      "metadata": {
        "colab": {
          "base_uri": "https://localhost:8080/"
        },
        "id": "5DQtVefsLg3U",
        "outputId": "1405ba52-16b8-4941-99a6-e1c677993776"
      },
      "outputs": [],
      "source": [
        "exportInput_txt(imag=array,path_file=f)"
      ]
    },
    {
      "cell_type": "code",
      "execution_count": null,
      "metadata": {},
      "outputs": [],
      "source": [
        "array"
      ]
    },
    {
      "cell_type": "code",
      "execution_count": null,
      "metadata": {},
      "outputs": [],
      "source": [
        "modelo_dig.predict(array.reshape(1,28,28,1))"
      ]
    },
    {
      "cell_type": "code",
      "execution_count": null,
      "metadata": {},
      "outputs": [],
      "source": [
        "modelo_dig.predict(array.reshape(1,28,28,1))"
      ]
    },
    {
      "cell_type": "code",
      "execution_count": null,
      "metadata": {},
      "outputs": [],
      "source": [
        "modelo_dig.summary()"
      ]
    },
    {
      "cell_type": "code",
      "execution_count": null,
      "metadata": {},
      "outputs": [],
      "source": [
        "kernels = modelo_dig.weights[5]\n"
      ]
    },
    {
      "cell_type": "code",
      "execution_count": null,
      "metadata": {},
      "outputs": [],
      "source": [
        "bias = np.array(modelo_dig.weights[1])"
      ]
    },
    {
      "cell_type": "code",
      "execution_count": null,
      "metadata": {},
      "outputs": [],
      "source": [
        "bias_txt(nbits,point_fixed,0,modelo_dig.weights[1])"
      ]
    },
    {
      "cell_type": "code",
      "execution_count": null,
      "metadata": {},
      "outputs": [],
      "source": [
        "bias_txt(nbits,point_fixed,5,modelo_dig.weights[5])\n"
      ]
    },
    {
      "cell_type": "code",
      "execution_count": null,
      "metadata": {},
      "outputs": [],
      "source": [
        "cc = modelo_dig.weights[4]"
      ]
    },
    {
      "cell_type": "code",
      "execution_count": null,
      "metadata": {},
      "outputs": [],
      "source": [
        "bias_txt(nbits,point_fixed,2,modelo_dig.weights[1])"
      ]
    },
    {
      "cell_type": "code",
      "execution_count": null,
      "metadata": {},
      "outputs": [],
      "source": [
        "modelo_dig.weights[0]\n",
        "kernels = modelo_dig.weights[0]\n",
        "kernels;"
      ]
    },
    {
      "cell_type": "code",
      "execution_count": null,
      "metadata": {},
      "outputs": [],
      "source": [
        "bias_txt(nbits,point_fixed,2,modelo_dig.weights[3])\n"
      ]
    },
    {
      "cell_type": "code",
      "execution_count": null,
      "metadata": {},
      "outputs": [],
      "source": [
        "lim = np.array(kernels.shape)[::-1][0]\n",
        "for i in range(lim):\n",
        "    kernel_txt(nbits,point_fixed,i,0,modelo_dig.weights[0][:,:,0,i])\n",
        "    print(\"--------------------------------------------------------------------\",i+1)"
      ]
    },
    {
      "cell_type": "markdown",
      "metadata": {},
      "source": [
        "kernel0"
      ]
    },
    {
      "cell_type": "code",
      "execution_count": null,
      "metadata": {},
      "outputs": [],
      "source": [
        "#  modelo_dig.weights[2].shape"
      ]
    },
    {
      "cell_type": "code",
      "execution_count": null,
      "metadata": {},
      "outputs": [],
      "source": [
        "# lims = int(np.array(kernels2d_1.shape)[::-1][0])\n",
        "# limi = int(np.array(kernels2d_1.shape)[::-1][1])\n",
        "# (limi,lims)"
      ]
    },
    {
      "cell_type": "code",
      "execution_count": null,
      "metadata": {},
      "outputs": [],
      "source": [
        "kernels2d_1 = modelo_dig.weights[2]\n",
        "lims = int(np.array(kernels2d_1.shape)[::-1][0])\n",
        "limi = int(np.array(kernels2d_1.shape)[::-1][1])\n",
        "for i in range(limi):\n",
        "    for j in range(lims):\n",
        "        print(\"-------------------------------\",i+1,j+1)\n",
        "        kernel_txt(nbits,point_fixed,j,i,kernels2d_1[:,:,i,j],string=f\"kernels2d_\")\n"
      ]
    },
    {
      "cell_type": "code",
      "execution_count": null,
      "metadata": {},
      "outputs": [],
      "source": [
        "kernel_txt(nbits,point_fixed,0,0,modelo_dig.weights[4],string=\"danse.txt\")"
      ]
    },
    {
      "cell_type": "code",
      "execution_count": null,
      "metadata": {},
      "outputs": [],
      "source": [
        "import subprocess\n",
        "subprocess.run('cds',shell=True)\n",
        "subprocess.run('cds && runp.sh',shell=True)"
      ]
    },
    {
      "cell_type": "code",
      "execution_count": null,
      "metadata": {},
      "outputs": [],
      "source": [
        "out = open(\"simulation/maxpooling0.txt\",\"r\")\n",
        "\n",
        "klin1 = []\n",
        "m1=[]\n",
        "k= out.readlines()\n",
        "for i in k:\n",
        "    m1.append(list(map(concat,i.split())))\n"
      ]
    },
    {
      "cell_type": "code",
      "execution_count": null,
      "metadata": {},
      "outputs": [],
      "source": [
        "# array_out =[]\n",
        "\n",
        "# for i in range(1):\n",
        "#     array_out.append(open(f\"./simulation/maxIxKernelPooling{i}.txt\",\"r\"))\n",
        "# klin2 = []\n",
        "# plt.figure(figsize=(30,2))\n",
        "# for ii in range(2):\n",
        "#     k2 = array_out[ii].readlines()\n",
        "#     m2=[]\n",
        "#     for i in k2:\n",
        "#         m2.append(list(map(concat,i.split())))\n",
        "#     plt.subplot(1,2,ii+1)\n",
        "#     plt.imshow(m2,cmap=\"gray\")\n",
        "# # plt.imshow(m2)\n",
        "\n",
        "# for i in range(2):\n",
        "#     array_out[i].close()\n"
      ]
    },
    {
      "cell_type": "code",
      "execution_count": null,
      "metadata": {},
      "outputs": [],
      "source": [
        "# m2"
      ]
    },
    {
      "cell_type": "code",
      "execution_count": null,
      "metadata": {},
      "outputs": [],
      "source": [
        "out2 = open(\"./simulation/I.txt\",\"r\")\n",
        "import_img(path_file=out2);"
      ]
    },
    {
      "cell_type": "markdown",
      "metadata": {},
      "source": []
    },
    {
      "cell_type": "code",
      "execution_count": null,
      "metadata": {},
      "outputs": [],
      "source": [
        "plt.figure(figsize=(30,8))\n",
        "plt.subplot(1,3,1)\n",
        "plt.imshow(array,cmap=\"gray\")\n"
      ]
    },
    {
      "cell_type": "code",
      "execution_count": null,
      "metadata": {},
      "outputs": [],
      "source": [
        "cmap='viridis'"
      ]
    },
    {
      "cell_type": "code",
      "execution_count": null,
      "metadata": {},
      "outputs": [],
      "source": [
        "plt.imsave(\"7.png\",array,cmap=\"gray\")"
      ]
    },
    {
      "cell_type": "code",
      "execution_count": null,
      "metadata": {},
      "outputs": [],
      "source": [
        "plt.figure(figsize=(10,10))\n",
        "a = import_img2(path_file=open('./simulation/I.txt'),fator=1,string=\"images/input.png\",transpor=0);\n",
        "plt.savefig(\"images/input.png\")\n",
        "# plt.imsave('images/input.png',a.reshape(28,28),cmap=cmap)\n",
        "# a.shape"
      ]
    },
    {
      "cell_type": "code",
      "execution_count": null,
      "metadata": {},
      "outputs": [],
      "source": [
        "plt.figure(figsize=(10,10))\n",
        "# a = import_img2(path_file=open('simulation/convIxKernelOut0.txt'),fator=1,string=\"images/conv1_layer0.png\")\n",
        "plt.savefig(\"images/conv1_layer0.png\")"
      ]
    },
    {
      "cell_type": "code",
      "execution_count": null,
      "metadata": {},
      "outputs": [],
      "source": [
        "plt.figure(figsize=(10,10))\n",
        "import_img2(path_file=open('simulation/convIxKernelOut1.txt'),fator=1,string=\"images/conv1_layer1.png\");\n",
        "plt.savefig(\"images/conv1_layer1.png\")"
      ]
    },
    {
      "cell_type": "code",
      "execution_count": null,
      "metadata": {},
      "outputs": [],
      "source": [
        "plt.figure(figsize=(20,20))\n",
        "plt.subplot(1,2,1)\n",
        "a = import_img2(path_file=open('simulation/convIxKernelOut0.txt'));\n",
        "# plt.savefig(\"images/conv1_layer0.png\")\n",
        "\n",
        "plt.subplot(1,2,2)\n",
        "import_img2(path_file=open('simulation/convIxKernelOut1.txt'));\n",
        "# plt.savefig(\"images/conv1_layer0.png\")"
      ]
    },
    {
      "cell_type": "code",
      "execution_count": null,
      "metadata": {},
      "outputs": [],
      "source": [
        "plt.figure(figsize=(20,20))\n",
        "import_img2(path_file=open('simulation/maxpooling0.txt'),fator=1,string=\"images/maxpooling0_layer2.png\");\n",
        "plt.savefig(\"images/maxpooling0_layer2.png\")"
      ]
    },
    {
      "cell_type": "code",
      "execution_count": null,
      "metadata": {},
      "outputs": [],
      "source": [
        "plt.figure(figsize=(20,20))\n",
        "xx = import_img2(path_file=open('simulation/maxpooling1.txt'),fator=1,string=\"images/maxpooling1_layer2.png\");\n",
        "plt.savefig(\"images/maxpooling1_layer2.png\")"
      ]
    },
    {
      "cell_type": "code",
      "execution_count": null,
      "metadata": {},
      "outputs": [],
      "source": [
        "2**8"
      ]
    },
    {
      "cell_type": "code",
      "execution_count": null,
      "metadata": {},
      "outputs": [],
      "source": [
        "(np.array(xx).reshape(12,12)/2**8).astype(int)"
      ]
    },
    {
      "cell_type": "code",
      "execution_count": null,
      "metadata": {},
      "outputs": [],
      "source": [
        "plt.figure(figsize=(20,20))\n",
        "plt.subplot(1,2,1)\n",
        "import_img2(path_file=open('simulation/maxpooling0.txt'),fator=1);\n",
        "plt.subplot(1,2,2)\n",
        "import_img2(path_file=open('simulation/maxpooling1.txt'),fator=1);\n",
        "# plt.savefig(\"images/maxpooling0_layer2.png\")"
      ]
    },
    {
      "cell_type": "markdown",
      "metadata": {},
      "source": []
    },
    {
      "cell_type": "code",
      "execution_count": null,
      "metadata": {},
      "outputs": [],
      "source": [
        "plt.figure(figsize=(20,20))\n",
        "import_img2(path_file=open('simulation/convIxKernelOut_F01.txt'));\n",
        "plt.savefig(\"images/conv0_layer3.png\")"
      ]
    },
    {
      "cell_type": "code",
      "execution_count": null,
      "metadata": {},
      "outputs": [],
      "source": [
        "plt.figure(figsize=(20,20))\n",
        "import_img2(path_file=open('simulation/convIxKernelOut_F02.txt'));\n",
        "plt.savefig(\"images/conv1_layer3.png\")"
      ]
    },
    {
      "cell_type": "code",
      "execution_count": null,
      "metadata": {},
      "outputs": [],
      "source": [
        "plt.figure(figsize=(20,20))\n",
        "import_img2(path_file=open('simulation/convIxKernelOut_F03.txt'));\n",
        "plt.savefig(\"images/conv2_layer3.png\")"
      ]
    },
    {
      "cell_type": "code",
      "execution_count": null,
      "metadata": {},
      "outputs": [],
      "source": [
        "np.array(xx)/2**8"
      ]
    },
    {
      "cell_type": "code",
      "execution_count": null,
      "metadata": {},
      "outputs": [],
      "source": [
        "plt.figure(figsize=(20,20))\n",
        "import_img2(path_file=open('simulation/convIxKernelOut_F04.txt'),fator=1,string=\"images/conv3_layer3.png\");\n",
        "\n",
        "plt.savefig(\"images/conv3_layer3.png\")"
      ]
    },
    {
      "cell_type": "code",
      "execution_count": null,
      "metadata": {},
      "outputs": [],
      "source": [
        "plt.figure(figsize=(20,20))\n",
        "plt.subplot(1,4,1)\n",
        "aasa = import_img2(path_file=open('simulation/convIxKernelOut_F01.txt'));\n",
        "plt.subplot(1,4,2)\n",
        "import_img2(path_file=open('simulation/convIxKernelOut_F02.txt'));\n",
        "plt.subplot(1,4,3)\n",
        "import_img2(path_file=open('simulation/convIxKernelOut_F03.txt'));\n",
        "plt.subplot(1,4,4)\n",
        "import_img2(path_file=open('simulation/convIxKernelOut_F04.txt'));\n",
        "# plt.savefig(\"images/conv0_layer3.png\")\n"
      ]
    },
    {
      "cell_type": "code",
      "execution_count": null,
      "metadata": {},
      "outputs": [],
      "source": []
    },
    {
      "cell_type": "code",
      "execution_count": null,
      "metadata": {},
      "outputs": [],
      "source": [
        "plt.figure(figsize=(20,20))\n",
        "aasa=import_img2(path_file=open('simulation/maxpoolingF1.txt'));\n",
        "plt.savefig(\"images/maxpooling0_layer4.png\")\n"
      ]
    },
    {
      "cell_type": "code",
      "execution_count": null,
      "metadata": {},
      "outputs": [],
      "source": [
        "np.array(aasa)/2**16"
      ]
    },
    {
      "cell_type": "code",
      "execution_count": null,
      "metadata": {},
      "outputs": [],
      "source": [
        "plt.figure(figsize=(20,20))\n",
        "import_img2(path_file=open('simulation/maxpoolingF1.txt'));\n",
        "plt.savefig(\"images/maxpooling1_layer4.png\")"
      ]
    },
    {
      "cell_type": "code",
      "execution_count": null,
      "metadata": {},
      "outputs": [],
      "source": [
        "plt.figure(figsize=(20,20))\n",
        "import_img2(path_file=open('simulation/maxpoolingF3.txt'));\n",
        "\n",
        "plt.savefig(\"images/maxpooling2_layer4.png\")"
      ]
    },
    {
      "cell_type": "code",
      "execution_count": null,
      "metadata": {},
      "outputs": [],
      "source": [
        "plt.figure(figsize=(20,20))\n",
        "import_img2(path_file=open('simulation/maxpoolingF4.txt'));\n",
        "\n",
        "plt.savefig(\"images/maxpooling3_layer4.png\")"
      ]
    },
    {
      "cell_type": "code",
      "execution_count": null,
      "metadata": {},
      "outputs": [],
      "source": [
        "plt.figure(figsize=(20,20))\n",
        "plt.subplot(1,4,1)\n",
        "aasa =import_img2(path_file=open('simulation/maxpoolingF1.txt'));\n",
        "plt.subplot(1,4,2)\n",
        "import_img2(path_file=open('simulation/maxpoolingF2.txt'));\n",
        "plt.subplot(1,4,3)\n",
        "import_img2(path_file=open('simulation/maxpoolingF3.txt'));\n",
        "plt.subplot(1,4,4)\n",
        "import_img2(path_file=open('simulation/maxpoolingF4.txt'));\n",
        "# plt.savefig(\"images/maxpooling0_layer4.png\")"
      ]
    },
    {
      "cell_type": "code",
      "execution_count": null,
      "metadata": {},
      "outputs": [],
      "source": []
    },
    {
      "cell_type": "code",
      "execution_count": null,
      "metadata": {},
      "outputs": [],
      "source": [
        "def import_img3(path_file,fator=1,string='fig.png',transpor=0):\n",
        "    out2 = path_file\n",
        "    m2=[]\n",
        "    k2 = out2.readlines()\n",
        "    for i in k2:\n",
        "        m2.append(list(map(concat2,i.split()))[0])\n",
        "    # m2 = list(np.array(m2).T)\n",
        "    # print(m2)\n",
        "    plt.imshow(np.array(m2).T,cmap ='viridis')\n",
        "    plt.imsave(string,np.array(m2).T,cmap='viridis')\n",
        "    # if(transpor):\n",
        "    return m2\n",
        "    "
      ]
    },
    {
      "cell_type": "code",
      "execution_count": null,
      "metadata": {},
      "outputs": [],
      "source": [
        "plt.figure(figsize=(100,5))\n",
        "k = import_img3(path_file=open('simulation/flatten.txt'));\n",
        "plt.savefig(\"images/flatten_layer5.png\")"
      ]
    },
    {
      "cell_type": "code",
      "execution_count": null,
      "metadata": {},
      "outputs": [],
      "source": [
        "(np.array(k)/2**(16)).astype(int)"
      ]
    },
    {
      "cell_type": "code",
      "execution_count": null,
      "metadata": {},
      "outputs": [],
      "source": [
        "plt.figure(figsize=(80,5))\n",
        "import_img3(path_file=open('simulation/dense.txt'));\n",
        "plt.savefig(\"images/dense_layer6.png\")"
      ]
    },
    {
      "cell_type": "code",
      "execution_count": null,
      "metadata": {},
      "outputs": [],
      "source": [
        "# plt.imsave()"
      ]
    },
    {
      "cell_type": "code",
      "execution_count": null,
      "metadata": {},
      "outputs": [],
      "source": [
        "# img.save_img(\"./images/preprocessamento.jpg\",array)\n"
      ]
    },
    {
      "cell_type": "code",
      "execution_count": null,
      "metadata": {},
      "outputs": [],
      "source": [
        "# os.system(\"rm ./images/preprocessamento.jpg\")\n",
        "# os.system(\"rm ./images/posprocessamento.jpg\")\n",
        "\n",
        "# img.save_img(\"./images/preprocessamento.jpg\",array)\n",
        "# img.save_img(\"./images/posprocessamento.jpg\",m1)\n",
        "# img.save_img(\"./images/maxpoolingposprocessamento.jpg\",m2)\n"
      ]
    },
    {
      "cell_type": "code",
      "execution_count": null,
      "metadata": {},
      "outputs": [],
      "source": []
    },
    {
      "cell_type": "code",
      "execution_count": null,
      "metadata": {},
      "outputs": [],
      "source": [
        "dens = open(\"simulation/dense.txt\")\n",
        "klin2 = []\n",
        "m2=[]\n",
        "k2 = dens.readlines()\n",
        "for i in k2:\n",
        "    m2.append(list(map(concat,i.split()))[0][0])\n",
        "    print(m2)\n",
        "m2 =(np.array(m2))\n",
        "m2\n",
        "(np.array(m2,int))"
      ]
    },
    {
      "cell_type": "code",
      "execution_count": null,
      "metadata": {},
      "outputs": [],
      "source": [
        "m2/2**32"
      ]
    },
    {
      "cell_type": "code",
      "execution_count": null,
      "metadata": {},
      "outputs": [],
      "source": [
        "a =m2\n",
        "n = 48\n",
        "s = sum([np.exp(a[i]/2**n) for i in range(len(a))])\n",
        "print(s)\n",
        "h = np.array([np.exp(a[i]/2**n)/s for i in range(len(a))])\n",
        "(h.argmax(),h.max())"
      ]
    },
    {
      "cell_type": "code",
      "execution_count": null,
      "metadata": {},
      "outputs": [],
      "source": [
        "np.array(m2/2**32,float)"
      ]
    },
    {
      "cell_type": "code",
      "execution_count": null,
      "metadata": {},
      "outputs": [],
      "source": [
        "a =np.array(m2/2**48,float)\n",
        "n = 0\n",
        "s = sum([np.exp(a[i]/2**n) for i in range(len(a))])\n",
        "print(s)\n",
        "h = np.array([np.exp(a[i]/2**n)/s for i in range(len(a))])\n",
        "(h.argmax(),h.max())"
      ]
    },
    {
      "cell_type": "code",
      "execution_count": null,
      "metadata": {},
      "outputs": [],
      "source": [
        "h"
      ]
    },
    {
      "cell_type": "code",
      "execution_count": null,
      "metadata": {},
      "outputs": [],
      "source": [
        "# from matplotlib import pyplot as plt"
      ]
    },
    {
      "cell_type": "code",
      "execution_count": null,
      "metadata": {},
      "outputs": [],
      "source": [
        "# plt.imshow(h)"
      ]
    }
  ],
  "metadata": {
    "colab": {
      "provenance": []
    },
    "kernelspec": {
      "display_name": "Python 3",
      "language": "python",
      "name": "python3"
    },
    "language_info": {
      "codemirror_mode": {
        "name": "ipython",
        "version": 3
      },
      "file_extension": ".py",
      "mimetype": "text/x-python",
      "name": "python",
      "nbconvert_exporter": "python",
      "pygments_lexer": "ipython3",
      "version": "3.6.8"
    }
  },
  "nbformat": 4,
  "nbformat_minor": 0
}
