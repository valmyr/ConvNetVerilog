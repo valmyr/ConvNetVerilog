{
  "cells": [
    {
      "cell_type": "code",
      "execution_count": 1697,
      "metadata": {
        "id": "LeQOQlapKfvF"
      },
      "outputs": [],
      "source": [
        "try:\n",
        "    from keras_preprocessing import image as img\n",
        "    import os\n",
        "    from matplotlib import pyplot as plt\n",
        "    import idx2numpy\n",
        "    import keras_preprocessing\n",
        "    import tensorflow as tf\n",
        "    import numpy as np\n",
        "    import keras\n",
        "    from functools import partial\n",
        "except:\n",
        "    %pip install manim\n",
        "    %pip install colour\n",
        "    %pip install matplotlib\n",
        "    %pip install tensorflow.keras\n",
        "    %pip install pydot\n",
        "    %pip install pydotplus\n",
        "    %pip install graphviz\n",
        "    %pip install ipykernel\n",
        "    %pip install keras_preprocessing\n",
        "    %pip install matplotlib\n",
        "    %pip install idx2numpy\n",
        "    %pip install pillow\n",
        "    %pip install tensorflow==2.18.0\n",
        "    %pip install keras==3.8.0\n",
        "    from keras_preprocessing import image as img\n",
        "    import os\n",
        "    from matplotlib import pyplot as plt\n",
        "    import idx2numpy\n",
        "    import keras_preprocessing\n",
        "    import tensorflow as tf\n",
        "    import numpy as np\n",
        "    import keras\n",
        "    from functools import partial"
      ]
    },
    {
      "cell_type": "markdown",
      "metadata": {
        "id": "ZTScsKMqRxwc"
      },
      "source": []
    },
    {
      "cell_type": "code",
      "execution_count": 1698,
      "metadata": {},
      "outputs": [
        {
          "name": "stderr",
          "output_type": "stream",
          "text": [
            "WARNING:absl:Compiled the loaded model, but the compiled metrics have yet to be built. `model.compile_metrics` will be empty until you train or evaluate the model.\n"
          ]
        }
      ],
      "source": [
        "modelo_dig = tf.keras.models.load_model(\"model_network/output00.h5\")"
      ]
    },
    {
      "cell_type": "code",
      "execution_count": 1699,
      "metadata": {},
      "outputs": [],
      "source": [
        "nbits = 128\n",
        "point_fixed = 16"
      ]
    },
    {
      "cell_type": "code",
      "execution_count": 1700,
      "metadata": {},
      "outputs": [
        {
          "data": {
            "text/plain": [
              "0"
            ]
          },
          "execution_count": 1700,
          "metadata": {},
          "output_type": "execute_result"
        }
      ],
      "source": [
        "os.system(\"rm ./simulation/I.txt\")"
      ]
    },
    {
      "cell_type": "code",
      "execution_count": 1701,
      "metadata": {
        "id": "J8-0zNQULJcC"
      },
      "outputs": [],
      "source": [
        "sizt = 28\n",
        "path = \"mnist/data/t10k-images-idx3-ubyte\""
      ]
    },
    {
      "cell_type": "code",
      "execution_count": 1702,
      "metadata": {},
      "outputs": [],
      "source": [
        "def int2comp2(val, nbits=nbits):\n",
        "    return hex((val + (1 << nbits)) % (1 << nbits))\n"
      ]
    },
    {
      "cell_type": "code",
      "execution_count": 1703,
      "metadata": {},
      "outputs": [],
      "source": [
        "def comp2int(val, nbits=nbits):\n",
        "    val=int(val,16)\n",
        "    if(val & 1 << nbits-1):\n",
        "        return (~val+1)%(1<<nbits)*(-1)\n",
        "    return val\n"
      ]
    },
    {
      "cell_type": "code",
      "execution_count": 1704,
      "metadata": {},
      "outputs": [
        {
          "data": {
            "text/plain": [
              "2147483648"
            ]
          },
          "execution_count": 1704,
          "metadata": {},
          "output_type": "execute_result"
        }
      ],
      "source": [
        "1 << 31"
      ]
    },
    {
      "cell_type": "code",
      "execution_count": 1705,
      "metadata": {},
      "outputs": [
        {
          "data": {
            "text/plain": [
              "415013"
            ]
          },
          "execution_count": 1705,
          "metadata": {},
          "output_type": "execute_result"
        }
      ],
      "source": [
        "a =  65525\n",
        "a\n",
        "comp2int(str(a))"
      ]
    },
    {
      "cell_type": "code",
      "execution_count": 1706,
      "metadata": {},
      "outputs": [],
      "source": [
        "def concat(n,nbits=nbits,fator=1):\n",
        "    return [comp2int(n,nbits)/fator]"
      ]
    },
    {
      "cell_type": "code",
      "execution_count": 1707,
      "metadata": {},
      "outputs": [],
      "source": [
        "def concat2(n,nbits=nbits,fator=64):\n",
        "    print([comp2int(n,nbits)/fator])\n",
        "    return [comp2int(n,nbits)/fator]"
      ]
    },
    {
      "cell_type": "code",
      "execution_count": 1708,
      "metadata": {},
      "outputs": [],
      "source": [
        "def import_img(path_file,fator=1):\n",
        "    out2 = path_file\n",
        "    m2=[]\n",
        "    k2 = out2.readlines()\n",
        "    for i in k2:\n",
        "        m2.append(list(map(concat,i.split())))\n",
        "    plt.imshow(m2,cmap=\"gray\")\n",
        "    return np.array(m2).copy()"
      ]
    },
    {
      "cell_type": "code",
      "execution_count": 1709,
      "metadata": {},
      "outputs": [],
      "source": [
        "def import_img2(path_file,fator=1):\n",
        "    out2 = path_file\n",
        "    m2=[]\n",
        "    k2 = out2.readlines()\n",
        "    for i in k2:\n",
        "        m2.append(list(map(concat2,i.split())))\n",
        "    plt.imshow(m2,cmap=\"gray\")\n",
        "    return np.array(m2).copy()"
      ]
    },
    {
      "cell_type": "code",
      "execution_count": 1710,
      "metadata": {},
      "outputs": [],
      "source": [
        "def exportInput_txt(imag,path_file,nbits=16):\n",
        "    for i in imag:\n",
        "        for j in i:\n",
        "            strtmp = int2comp2(1 if(j >=50) else 0, nbits)[2:]\n",
        "            strtmp2 = strtmp+' '\n",
        "            print(strtmp2,end=' ')\n",
        "            path_file.write(strtmp2)\n",
        "            # print(f'{strtmp2}',end='  ')\n",
        "        print(\"\\n\")\n",
        "        path_file.write(\"\\n\")\n",
        "    path_file.close()\n"
      ]
    },
    {
      "cell_type": "code",
      "execution_count": 1711,
      "metadata": {},
      "outputs": [],
      "source": [
        "def kernel_txt(nbits,point_fixed,i,j,kernel,string='Kernel'):\n",
        "    ker = open(f\"simulation/{string}{j}{i}.txt\",'w')\n",
        "    kernel0_0 = np.array(kernel)\n",
        "    for i in kernel0_0:\n",
        "        for j in i:\n",
        "            print(int((j*2**point_fixed)),end=' ')\n",
        "            strtmp2 = int2comp2(int(j*2**point_fixed),nbits)+' '\n",
        "            ker.write(strtmp2[2:])\n",
        "            # print(f'{strtmp2}',end='  ')\n",
        "        ker.write(\"\\n\")\n",
        "        print('\\n')\n",
        "    ker.close()"
      ]
    },
    {
      "cell_type": "code",
      "execution_count": 1712,
      "metadata": {},
      "outputs": [],
      "source": [
        "def bias_txt(nbits,point_fixed,i,bias,string='bias'):\n",
        "    ker = open(f\"simulation/{string}{i}.txt\",'w')\n",
        "    kernel0_0 = np.array(bias)\n",
        "    base = point_fixed\n",
        "    for j in kernel0_0:\n",
        "        # for j in i:\n",
        "            print((int(j*2**base)),end=' ')\n",
        "            strtmp2 = int2comp2(int(j*2**point_fixed),nbits)+' '\n",
        "            ker.write(strtmp2[2:])\n",
        "            # print(f'{strtmp2}',end='  ')\n",
        "        # ker.write(\"\\n\")\n",
        "            # print('\\n')\n",
        "    ker.close()"
      ]
    },
    {
      "cell_type": "code",
      "execution_count": 1713,
      "metadata": {
        "id": "te-Hq9X6Qgj0"
      },
      "outputs": [],
      "source": [
        "sizeM = open(\"./simulation/sizeM.txt\",\"w\")\n",
        "sizeM.write(str(sizt))\n",
        "sizeM.close()\n",
        "f = open(\"./simulation/I.txt\",\"w\")"
      ]
    },
    {
      "cell_type": "code",
      "execution_count": null,
      "metadata": {},
      "outputs": [],
      "source": []
    },
    {
      "cell_type": "code",
      "execution_count": 1714,
      "metadata": {},
      "outputs": [
        {
          "data": {
            "text/plain": [
              "<matplotlib.image.AxesImage at 0x7ff687b38390>"
            ]
          },
          "execution_count": 1714,
          "metadata": {},
          "output_type": "execute_result"
        },
        {
          "data": {
            "image/png": "[encoded data removed]",
            "text/plain": [
              "<Figure size 640x480 with 1 Axes>"
            ]
          },
          "metadata": {},
          "output_type": "display_data"
        }
      ],
      "source": [
        "array = idx2numpy.convert_from_file(path)[0]\n",
        "plt.imshow(array,cmap='binary')\n",
        "# array"
      ]
    },
    {
      "cell_type": "code",
      "execution_count": 1715,
      "metadata": {
        "colab": {
          "base_uri": "https://localhost:8080/"
        },
        "id": "5DQtVefsLg3U",
        "outputId": "1405ba52-16b8-4941-99a6-e1c677993776"
      },
      "outputs": [
        {
          "name": "stdout",
          "output_type": "stream",
          "text": [
            "0  0  0  0  0  0  0  0  0  0  0  0  0  0  0  0  0  0  0  0  0  0  0  0  0  0  0  0  \n",
            "\n",
            "0  0  0  0  0  0  0  0  0  0  0  0  0  0  0  0  0  0  0  0  0  0  0  0  0  0  0  0  \n",
            "\n",
            "0  0  0  0  0  0  0  0  0  0  0  0  0  0  0  0  0  0  0  0  0  0  0  0  0  0  0  0  \n",
            "\n",
            "0  0  0  0  0  0  0  0  0  0  0  0  0  0  0  0  0  0  0  0  0  0  0  0  0  0  0  0  \n",
            "\n",
            "0  0  0  0  0  0  0  0  0  0  0  0  0  0  0  0  0  0  0  0  0  0  0  0  0  0  0  0  \n",
            "\n",
            "0  0  0  0  0  0  0  0  0  0  0  0  0  0  0  0  0  0  0  0  0  0  0  0  0  0  0  0  \n",
            "\n",
            "0  0  0  0  0  0  0  0  0  0  0  0  0  0  0  0  0  0  0  0  0  0  0  0  0  0  0  0  \n",
            "\n",
            "0  0  0  0  0  0  1  1  1  1  1  0  0  0  0  0  0  0  0  0  0  0  0  0  0  0  0  0  \n",
            "\n",
            "0  0  0  0  0  0  1  1  1  1  1  1  1  1  1  1  1  1  1  1  1  1  0  0  0  0  0  0  \n",
            "\n",
            "0  0  0  0  0  0  1  1  1  1  1  1  1  1  1  1  1  1  1  1  1  1  0  0  0  0  0  0  \n",
            "\n",
            "0  0  0  0  0  0  0  0  0  0  0  0  1  0  1  1  1  1  0  1  1  1  0  0  0  0  0  0  \n",
            "\n",
            "0  0  0  0  0  0  0  0  0  0  0  0  0  0  0  0  0  0  1  1  1  0  0  0  0  0  0  0  \n",
            "\n",
            "0  0  0  0  0  0  0  0  0  0  0  0  0  0  0  0  0  0  1  1  1  0  0  0  0  0  0  0  \n",
            "\n",
            "0  0  0  0  0  0  0  0  0  0  0  0  0  0  0  0  0  1  1  1  0  0  0  0  0  0  0  0  \n",
            "\n",
            "0  0  0  0  0  0  0  0  0  0  0  0  0  0  0  0  1  1  1  1  0  0  0  0  0  0  0  0  \n",
            "\n",
            "0  0  0  0  0  0  0  0  0  0  0  0  0  0  0  0  1  1  1  0  0  0  0  0  0  0  0  0  \n",
            "\n",
            "0  0  0  0  0  0  0  0  0  0  0  0  0  0  0  0  1  1  1  0  0  0  0  0  0  0  0  0  \n",
            "\n",
            "0  0  0  0  0  0  0  0  0  0  0  0  0  0  0  1  1  1  0  0  0  0  0  0  0  0  0  0  \n",
            "\n",
            "0  0  0  0  0  0  0  0  0  0  0  0  0  0  1  1  1  1  0  0  0  0  0  0  0  0  0  0  \n",
            "\n",
            "0  0  0  0  0  0  0  0  0  0  0  0  0  0  1  1  1  0  0  0  0  0  0  0  0  0  0  0  \n",
            "\n",
            "0  0  0  0  0  0  0  0  0  0  0  0  0  1  1  1  0  0  0  0  0  0  0  0  0  0  0  0  \n",
            "\n",
            "0  0  0  0  0  0  0  0  0  0  0  0  0  1  1  1  0  0  0  0  0  0  0  0  0  0  0  0  \n",
            "\n",
            "0  0  0  0  0  0  0  0  0  0  0  0  1  1  1  0  0  0  0  0  0  0  0  0  0  0  0  0  \n",
            "\n",
            "0  0  0  0  0  0  0  0  0  0  0  1  1  1  1  0  0  0  0  0  0  0  0  0  0  0  0  0  \n",
            "\n",
            "0  0  0  0  0  0  0  0  0  0  1  1  1  1  1  0  0  0  0  0  0  0  0  0  0  0  0  0  \n",
            "\n",
            "0  0  0  0  0  0  0  0  0  0  1  1  1  1  0  0  0  0  0  0  0  0  0  0  0  0  0  0  \n",
            "\n",
            "0  0  0  0  0  0  0  0  0  0  1  1  1  0  0  0  0  0  0  0  0  0  0  0  0  0  0  0  \n",
            "\n",
            "0  0  0  0  0  0  0  0  0  0  0  0  0  0  0  0  0  0  0  0  0  0  0  0  0  0  0  0  \n",
            "\n"
          ]
        }
      ],
      "source": [
        "exportInput_txt(imag=array,path_file=f)"
      ]
    },
    {
      "cell_type": "code",
      "execution_count": 1716,
      "metadata": {},
      "outputs": [
        {
          "data": {
            "text/plain": [
              "array([[  0,   0,   0,   0,   0,   0,   0,   0,   0,   0,   0,   0,   0,\n",
              "          0,   0,   0,   0,   0,   0,   0,   0,   0,   0,   0,   0,   0,\n",
              "          0,   0],\n",
              "       [  0,   0,   0,   0,   0,   0,   0,   0,   0,   0,   0,   0,   0,\n",
              "          0,   0,   0,   0,   0,   0,   0,   0,   0,   0,   0,   0,   0,\n",
              "          0,   0],\n",
              "       [  0,   0,   0,   0,   0,   0,   0,   0,   0,   0,   0,   0,   0,\n",
              "          0,   0,   0,   0,   0,   0,   0,   0,   0,   0,   0,   0,   0,\n",
              "          0,   0],\n",
              "       [  0,   0,   0,   0,   0,   0,   0,   0,   0,   0,   0,   0,   0,\n",
              "          0,   0,   0,   0,   0,   0,   0,   0,   0,   0,   0,   0,   0,\n",
              "          0,   0],\n",
              "       [  0,   0,   0,   0,   0,   0,   0,   0,   0,   0,   0,   0,   0,\n",
              "          0,   0,   0,   0,   0,   0,   0,   0,   0,   0,   0,   0,   0,\n",
              "          0,   0],\n",
              "       [  0,   0,   0,   0,   0,   0,   0,   0,   0,   0,   0,   0,   0,\n",
              "          0,   0,   0,   0,   0,   0,   0,   0,   0,   0,   0,   0,   0,\n",
              "          0,   0],\n",
              "       [  0,   0,   0,   0,   0,   0,   0,   0,   0,   0,   0,   0,   0,\n",
              "          0,   0,   0,   0,   0,   0,   0,   0,   0,   0,   0,   0,   0,\n",
              "          0,   0],\n",
              "       [  0,   0,   0,   0,   0,   0,  84, 185, 159, 151,  60,  36,   0,\n",
              "          0,   0,   0,   0,   0,   0,   0,   0,   0,   0,   0,   0,   0,\n",
              "          0,   0],\n",
              "       [  0,   0,   0,   0,   0,   0, 222, 254, 254, 254, 254, 241, 198,\n",
              "        198, 198, 198, 198, 198, 198, 198, 170,  52,   0,   0,   0,   0,\n",
              "          0,   0],\n",
              "       [  0,   0,   0,   0,   0,   0,  67, 114,  72, 114, 163, 227, 254,\n",
              "        225, 254, 254, 254, 250, 229, 254, 254, 140,   0,   0,   0,   0,\n",
              "          0,   0],\n",
              "       [  0,   0,   0,   0,   0,   0,   0,   0,   0,   0,   0,  17,  66,\n",
              "         14,  67,  67,  67,  59,  21, 236, 254, 106,   0,   0,   0,   0,\n",
              "          0,   0],\n",
              "       [  0,   0,   0,   0,   0,   0,   0,   0,   0,   0,   0,   0,   0,\n",
              "          0,   0,   0,   0,   0,  83, 253, 209,  18,   0,   0,   0,   0,\n",
              "          0,   0],\n",
              "       [  0,   0,   0,   0,   0,   0,   0,   0,   0,   0,   0,   0,   0,\n",
              "          0,   0,   0,   0,  22, 233, 255,  83,   0,   0,   0,   0,   0,\n",
              "          0,   0],\n",
              "       [  0,   0,   0,   0,   0,   0,   0,   0,   0,   0,   0,   0,   0,\n",
              "          0,   0,   0,   0, 129, 254, 238,  44,   0,   0,   0,   0,   0,\n",
              "          0,   0],\n",
              "       [  0,   0,   0,   0,   0,   0,   0,   0,   0,   0,   0,   0,   0,\n",
              "          0,   0,   0,  59, 249, 254,  62,   0,   0,   0,   0,   0,   0,\n",
              "          0,   0],\n",
              "       [  0,   0,   0,   0,   0,   0,   0,   0,   0,   0,   0,   0,   0,\n",
              "          0,   0,   0, 133, 254, 187,   5,   0,   0,   0,   0,   0,   0,\n",
              "          0,   0],\n",
              "       [  0,   0,   0,   0,   0,   0,   0,   0,   0,   0,   0,   0,   0,\n",
              "          0,   0,   9, 205, 248,  58,   0,   0,   0,   0,   0,   0,   0,\n",
              "          0,   0],\n",
              "       [  0,   0,   0,   0,   0,   0,   0,   0,   0,   0,   0,   0,   0,\n",
              "          0,   0, 126, 254, 182,   0,   0,   0,   0,   0,   0,   0,   0,\n",
              "          0,   0],\n",
              "       [  0,   0,   0,   0,   0,   0,   0,   0,   0,   0,   0,   0,   0,\n",
              "          0,  75, 251, 240,  57,   0,   0,   0,   0,   0,   0,   0,   0,\n",
              "          0,   0],\n",
              "       [  0,   0,   0,   0,   0,   0,   0,   0,   0,   0,   0,   0,   0,\n",
              "         19, 221, 254, 166,   0,   0,   0,   0,   0,   0,   0,   0,   0,\n",
              "          0,   0],\n",
              "       [  0,   0,   0,   0,   0,   0,   0,   0,   0,   0,   0,   0,   3,\n",
              "        203, 254, 219,  35,   0,   0,   0,   0,   0,   0,   0,   0,   0,\n",
              "          0,   0],\n",
              "       [  0,   0,   0,   0,   0,   0,   0,   0,   0,   0,   0,   0,  38,\n",
              "        254, 254,  77,   0,   0,   0,   0,   0,   0,   0,   0,   0,   0,\n",
              "          0,   0],\n",
              "       [  0,   0,   0,   0,   0,   0,   0,   0,   0,   0,   0,  31, 224,\n",
              "        254, 115,   1,   0,   0,   0,   0,   0,   0,   0,   0,   0,   0,\n",
              "          0,   0],\n",
              "       [  0,   0,   0,   0,   0,   0,   0,   0,   0,   0,   0, 133, 254,\n",
              "        254,  52,   0,   0,   0,   0,   0,   0,   0,   0,   0,   0,   0,\n",
              "          0,   0],\n",
              "       [  0,   0,   0,   0,   0,   0,   0,   0,   0,   0,  61, 242, 254,\n",
              "        254,  52,   0,   0,   0,   0,   0,   0,   0,   0,   0,   0,   0,\n",
              "          0,   0],\n",
              "       [  0,   0,   0,   0,   0,   0,   0,   0,   0,   0, 121, 254, 254,\n",
              "        219,  40,   0,   0,   0,   0,   0,   0,   0,   0,   0,   0,   0,\n",
              "          0,   0],\n",
              "       [  0,   0,   0,   0,   0,   0,   0,   0,   0,   0, 121, 254, 207,\n",
              "         18,   0,   0,   0,   0,   0,   0,   0,   0,   0,   0,   0,   0,\n",
              "          0,   0],\n",
              "       [  0,   0,   0,   0,   0,   0,   0,   0,   0,   0,   0,   0,   0,\n",
              "          0,   0,   0,   0,   0,   0,   0,   0,   0,   0,   0,   0,   0,\n",
              "          0,   0]], dtype=uint8)"
            ]
          },
          "execution_count": 1716,
          "metadata": {},
          "output_type": "execute_result"
        }
      ],
      "source": [
        "array"
      ]
    },
    {
      "cell_type": "code",
      "execution_count": 1717,
      "metadata": {},
      "outputs": [
        {
          "name": "stdout",
          "output_type": "stream",
          "text": [
            "\u001b[1m1/1\u001b[0m \u001b[32m━━━━━━━━━━━━━━━━━━━━\u001b[0m\u001b[37m\u001b[0m \u001b[1m0s\u001b[0m 72ms/step\n"
          ]
        },
        {
          "data": {
            "text/plain": [
              "array([[0., 0., 0., 0., 0., 0., 0., 1., 0., 0.]], dtype=float32)"
            ]
          },
          "execution_count": 1717,
          "metadata": {},
          "output_type": "execute_result"
        }
      ],
      "source": [
        "modelo_dig.predict(array.reshape(1,28,28,1))"
      ]
    },
    {
      "cell_type": "code",
      "execution_count": 1718,
      "metadata": {},
      "outputs": [
        {
          "name": "stdout",
          "output_type": "stream",
          "text": [
            "\u001b[1m1/1\u001b[0m \u001b[32m━━━━━━━━━━━━━━━━━━━━\u001b[0m\u001b[37m\u001b[0m \u001b[1m0s\u001b[0m 17ms/step"
          ]
        },
        {
          "name": "stdout",
          "output_type": "stream",
          "text": [
            "\u001b[1m1/1\u001b[0m \u001b[32m━━━━━━━━━━━━━━━━━━━━\u001b[0m\u001b[37m\u001b[0m \u001b[1m0s\u001b[0m 32ms/step\n"
          ]
        },
        {
          "data": {
            "text/plain": [
              "array([[0., 0., 0., 0., 0., 0., 0., 1., 0., 0.]], dtype=float32)"
            ]
          },
          "execution_count": 1718,
          "metadata": {},
          "output_type": "execute_result"
        }
      ],
      "source": [
        "modelo_dig.predict(array.reshape(1,28,28,1))"
      ]
    },
    {
      "cell_type": "code",
      "execution_count": 1719,
      "metadata": {},
      "outputs": [
        {
          "data": {
            "text/html": [
              "<pre style=\"white-space:pre;overflow-x:auto;line-height:normal;font-family:Menlo,'DejaVu Sans Mono',consolas,'Courier New',monospace\"><span style=\"font-weight: bold\">Model: \"sequential_3\"</span>\n",
              "</pre>\n"
            ],
            "text/plain": [
              "\u001b[1mModel: \"sequential_3\"\u001b[0m\n"
            ]
          },
          "metadata": {},
          "output_type": "display_data"
        },
        {
          "data": {
            "text/html": [
              "<pre style=\"white-space:pre;overflow-x:auto;line-height:normal;font-family:Menlo,'DejaVu Sans Mono',consolas,'Courier New',monospace\">┏━━━━━━━━━━━━━━━━━━━━━━━━━━━━━━━━━┳━━━━━━━━━━━━━━━━━━━━━━━━┳━━━━━━━━━━━━━━━┓\n",
              "┃<span style=\"font-weight: bold\"> Layer (type)                    </span>┃<span style=\"font-weight: bold\"> Output Shape           </span>┃<span style=\"font-weight: bold\">       Param # </span>┃\n",
              "┡━━━━━━━━━━━━━━━━━━━━━━━━━━━━━━━━━╇━━━━━━━━━━━━━━━━━━━━━━━━╇━━━━━━━━━━━━━━━┩\n",
              "│ conv2d_6 (<span style=\"color: #0087ff; text-decoration-color: #0087ff\">Conv2D</span>)               │ (<span style=\"color: #00d7ff; text-decoration-color: #00d7ff\">None</span>, <span style=\"color: #00af00; text-decoration-color: #00af00\">24</span>, <span style=\"color: #00af00; text-decoration-color: #00af00\">24</span>, <span style=\"color: #00af00; text-decoration-color: #00af00\">2</span>)      │            <span style=\"color: #00af00; text-decoration-color: #00af00\">52</span> │\n",
              "├─────────────────────────────────┼────────────────────────┼───────────────┤\n",
              "│ max_pooling2d_6 (<span style=\"color: #0087ff; text-decoration-color: #0087ff\">MaxPooling2D</span>)  │ (<span style=\"color: #00d7ff; text-decoration-color: #00d7ff\">None</span>, <span style=\"color: #00af00; text-decoration-color: #00af00\">12</span>, <span style=\"color: #00af00; text-decoration-color: #00af00\">12</span>, <span style=\"color: #00af00; text-decoration-color: #00af00\">2</span>)      │             <span style=\"color: #00af00; text-decoration-color: #00af00\">0</span> │\n",
              "├─────────────────────────────────┼────────────────────────┼───────────────┤\n",
              "│ conv2d_7 (<span style=\"color: #0087ff; text-decoration-color: #0087ff\">Conv2D</span>)               │ (<span style=\"color: #00d7ff; text-decoration-color: #00d7ff\">None</span>, <span style=\"color: #00af00; text-decoration-color: #00af00\">10</span>, <span style=\"color: #00af00; text-decoration-color: #00af00\">10</span>, <span style=\"color: #00af00; text-decoration-color: #00af00\">4</span>)      │            <span style=\"color: #00af00; text-decoration-color: #00af00\">76</span> │\n",
              "├─────────────────────────────────┼────────────────────────┼───────────────┤\n",
              "│ max_pooling2d_7 (<span style=\"color: #0087ff; text-decoration-color: #0087ff\">MaxPooling2D</span>)  │ (<span style=\"color: #00d7ff; text-decoration-color: #00d7ff\">None</span>, <span style=\"color: #00af00; text-decoration-color: #00af00\">5</span>, <span style=\"color: #00af00; text-decoration-color: #00af00\">5</span>, <span style=\"color: #00af00; text-decoration-color: #00af00\">4</span>)        │             <span style=\"color: #00af00; text-decoration-color: #00af00\">0</span> │\n",
              "├─────────────────────────────────┼────────────────────────┼───────────────┤\n",
              "│ flatten_3 (<span style=\"color: #0087ff; text-decoration-color: #0087ff\">Flatten</span>)             │ (<span style=\"color: #00d7ff; text-decoration-color: #00d7ff\">None</span>, <span style=\"color: #00af00; text-decoration-color: #00af00\">100</span>)            │             <span style=\"color: #00af00; text-decoration-color: #00af00\">0</span> │\n",
              "├─────────────────────────────────┼────────────────────────┼───────────────┤\n",
              "│ dense_3 (<span style=\"color: #0087ff; text-decoration-color: #0087ff\">Dense</span>)                 │ (<span style=\"color: #00d7ff; text-decoration-color: #00d7ff\">None</span>, <span style=\"color: #00af00; text-decoration-color: #00af00\">10</span>)             │         <span style=\"color: #00af00; text-decoration-color: #00af00\">1,010</span> │\n",
              "└─────────────────────────────────┴────────────────────────┴───────────────┘\n",
              "</pre>\n"
            ],
            "text/plain": [
              "┏━━━━━━━━━━━━━━━━━━━━━━━━━━━━━━━━━┳━━━━━━━━━━━━━━━━━━━━━━━━┳━━━━━━━━━━━━━━━┓\n",
              "┃\u001b[1m \u001b[0m\u001b[1mLayer (type)                   \u001b[0m\u001b[1m \u001b[0m┃\u001b[1m \u001b[0m\u001b[1mOutput Shape          \u001b[0m\u001b[1m \u001b[0m┃\u001b[1m \u001b[0m\u001b[1m      Param #\u001b[0m\u001b[1m \u001b[0m┃\n",
              "┡━━━━━━━━━━━━━━━━━━━━━━━━━━━━━━━━━╇━━━━━━━━━━━━━━━━━━━━━━━━╇━━━━━━━━━━━━━━━┩\n",
              "│ conv2d_6 (\u001b[38;5;33mConv2D\u001b[0m)               │ (\u001b[38;5;45mNone\u001b[0m, \u001b[38;5;34m24\u001b[0m, \u001b[38;5;34m24\u001b[0m, \u001b[38;5;34m2\u001b[0m)      │            \u001b[38;5;34m52\u001b[0m │\n",
              "├─────────────────────────────────┼────────────────────────┼───────────────┤\n",
              "│ max_pooling2d_6 (\u001b[38;5;33mMaxPooling2D\u001b[0m)  │ (\u001b[38;5;45mNone\u001b[0m, \u001b[38;5;34m12\u001b[0m, \u001b[38;5;34m12\u001b[0m, \u001b[38;5;34m2\u001b[0m)      │             \u001b[38;5;34m0\u001b[0m │\n",
              "├─────────────────────────────────┼────────────────────────┼───────────────┤\n",
              "│ conv2d_7 (\u001b[38;5;33mConv2D\u001b[0m)               │ (\u001b[38;5;45mNone\u001b[0m, \u001b[38;5;34m10\u001b[0m, \u001b[38;5;34m10\u001b[0m, \u001b[38;5;34m4\u001b[0m)      │            \u001b[38;5;34m76\u001b[0m │\n",
              "├─────────────────────────────────┼────────────────────────┼───────────────┤\n",
              "│ max_pooling2d_7 (\u001b[38;5;33mMaxPooling2D\u001b[0m)  │ (\u001b[38;5;45mNone\u001b[0m, \u001b[38;5;34m5\u001b[0m, \u001b[38;5;34m5\u001b[0m, \u001b[38;5;34m4\u001b[0m)        │             \u001b[38;5;34m0\u001b[0m │\n",
              "├─────────────────────────────────┼────────────────────────┼───────────────┤\n",
              "│ flatten_3 (\u001b[38;5;33mFlatten\u001b[0m)             │ (\u001b[38;5;45mNone\u001b[0m, \u001b[38;5;34m100\u001b[0m)            │             \u001b[38;5;34m0\u001b[0m │\n",
              "├─────────────────────────────────┼────────────────────────┼───────────────┤\n",
              "│ dense_3 (\u001b[38;5;33mDense\u001b[0m)                 │ (\u001b[38;5;45mNone\u001b[0m, \u001b[38;5;34m10\u001b[0m)             │         \u001b[38;5;34m1,010\u001b[0m │\n",
              "└─────────────────────────────────┴────────────────────────┴───────────────┘\n"
            ]
          },
          "metadata": {},
          "output_type": "display_data"
        },
        {
          "data": {
            "text/html": [
              "<pre style=\"white-space:pre;overflow-x:auto;line-height:normal;font-family:Menlo,'DejaVu Sans Mono',consolas,'Courier New',monospace\"><span style=\"font-weight: bold\"> Total params: </span><span style=\"color: #00af00; text-decoration-color: #00af00\">1,140</span> (4.46 KB)\n",
              "</pre>\n"
            ],
            "text/plain": [
              "\u001b[1m Total params: \u001b[0m\u001b[38;5;34m1,140\u001b[0m (4.46 KB)\n"
            ]
          },
          "metadata": {},
          "output_type": "display_data"
        },
        {
          "data": {
            "text/html": [
              "<pre style=\"white-space:pre;overflow-x:auto;line-height:normal;font-family:Menlo,'DejaVu Sans Mono',consolas,'Courier New',monospace\"><span style=\"font-weight: bold\"> Trainable params: </span><span style=\"color: #00af00; text-decoration-color: #00af00\">1,138</span> (4.45 KB)\n",
              "</pre>\n"
            ],
            "text/plain": [
              "\u001b[1m Trainable params: \u001b[0m\u001b[38;5;34m1,138\u001b[0m (4.45 KB)\n"
            ]
          },
          "metadata": {},
          "output_type": "display_data"
        },
        {
          "data": {
            "text/html": [
              "<pre style=\"white-space:pre;overflow-x:auto;line-height:normal;font-family:Menlo,'DejaVu Sans Mono',consolas,'Courier New',monospace\"><span style=\"font-weight: bold\"> Non-trainable params: </span><span style=\"color: #00af00; text-decoration-color: #00af00\">0</span> (0.00 B)\n",
              "</pre>\n"
            ],
            "text/plain": [
              "\u001b[1m Non-trainable params: \u001b[0m\u001b[38;5;34m0\u001b[0m (0.00 B)\n"
            ]
          },
          "metadata": {},
          "output_type": "display_data"
        },
        {
          "data": {
            "text/html": [
              "<pre style=\"white-space:pre;overflow-x:auto;line-height:normal;font-family:Menlo,'DejaVu Sans Mono',consolas,'Courier New',monospace\"><span style=\"font-weight: bold\"> Optimizer params: </span><span style=\"color: #00af00; text-decoration-color: #00af00\">2</span> (12.00 B)\n",
              "</pre>\n"
            ],
            "text/plain": [
              "\u001b[1m Optimizer params: \u001b[0m\u001b[38;5;34m2\u001b[0m (12.00 B)\n"
            ]
          },
          "metadata": {},
          "output_type": "display_data"
        }
      ],
      "source": [
        "modelo_dig.summary()"
      ]
    },
    {
      "cell_type": "code",
      "execution_count": 1720,
      "metadata": {},
      "outputs": [],
      "source": [
        "kernels = modelo_dig.weights[5]\n"
      ]
    },
    {
      "cell_type": "code",
      "execution_count": 1721,
      "metadata": {},
      "outputs": [
        {
          "data": {
            "text/plain": [
              "array([-0.09287094, -0.16631776], dtype=float32)"
            ]
          },
          "execution_count": 1721,
          "metadata": {},
          "output_type": "execute_result"
        }
      ],
      "source": [
        "bias = np.array(modelo_dig.weights[1])\n",
        "bias"
      ]
    },
    {
      "cell_type": "code",
      "execution_count": 1722,
      "metadata": {},
      "outputs": [
        {
          "name": "stdout",
          "output_type": "stream",
          "text": [
            "-6086 -10899 "
          ]
        }
      ],
      "source": [
        "bias_txt(nbits,point_fixed,0,modelo_dig.weights[1])"
      ]
    },
    {
      "cell_type": "code",
      "execution_count": 1723,
      "metadata": {},
      "outputs": [
        {
          "name": "stdout",
          "output_type": "stream",
          "text": [
            "1497 46987 -3555 -34494 12546 12581 -16434 32905 -47922 -31668 "
          ]
        }
      ],
      "source": [
        "bias_txt(nbits,point_fixed,5,modelo_dig.weights[5])"
      ]
    },
    {
      "cell_type": "code",
      "execution_count": 1724,
      "metadata": {},
      "outputs": [],
      "source": [
        "cc = modelo_dig.weights[4]"
      ]
    },
    {
      "cell_type": "code",
      "execution_count": 1725,
      "metadata": {},
      "outputs": [
        {
          "name": "stdout",
          "output_type": "stream",
          "text": [
            "-6086 -10899 "
          ]
        }
      ],
      "source": [
        "bias_txt(nbits,point_fixed,2,modelo_dig.weights[1])"
      ]
    },
    {
      "cell_type": "code",
      "execution_count": 1726,
      "metadata": {},
      "outputs": [],
      "source": [
        "modelo_dig.weights[0]\n",
        "kernels = modelo_dig.weights[0]\n",
        "kernels;"
      ]
    },
    {
      "cell_type": "code",
      "execution_count": 1727,
      "metadata": {},
      "outputs": [
        {
          "name": "stdout",
          "output_type": "stream",
          "text": [
            "-17000 -21842 -3610 -9976 "
          ]
        }
      ],
      "source": [
        "bias_txt(nbits,point_fixed,2,modelo_dig.weights[3])\n"
      ]
    },
    {
      "cell_type": "code",
      "execution_count": 1728,
      "metadata": {},
      "outputs": [
        {
          "name": "stdout",
          "output_type": "stream",
          "text": [
            "-4373 4444 -25443 12681 29314 \n",
            "\n",
            "-10553 -12848 36105 22277 20520 \n",
            "\n",
            "-8755 23110 26802 41154 -13919 \n",
            "\n",
            "15271 31485 21824 17352 -18262 \n",
            "\n",
            "17875 18636 4982 7122 -20482 \n",
            "\n",
            "-------------------------------------------------------------------- 1\n",
            "-2804 -2912 -2793 -6999 -15462 \n",
            "\n",
            "27369 -5126 -12234 -2377 -33152 \n",
            "\n",
            "28603 24858 11899 -8876 15630 \n",
            "\n",
            "19341 38521 17704 46785 22449 \n",
            "\n",
            "-7686 16130 23242 2428 24345 \n",
            "\n",
            "-------------------------------------------------------------------- 2\n"
          ]
        }
      ],
      "source": [
        "lim = np.array(kernels.shape)[::-1][0]\n",
        "for i in range(lim):\n",
        "    kernel_txt(nbits,point_fixed,i,0,modelo_dig.weights[0][:,:,0,i])\n",
        "    print(\"--------------------------------------------------------------------\",i+1)"
      ]
    },
    {
      "cell_type": "markdown",
      "metadata": {},
      "source": [
        "kernel0"
      ]
    },
    {
      "cell_type": "code",
      "execution_count": 1729,
      "metadata": {},
      "outputs": [],
      "source": [
        "#  modelo_dig.weights[2].shape"
      ]
    },
    {
      "cell_type": "code",
      "execution_count": 1730,
      "metadata": {},
      "outputs": [],
      "source": [
        "# lims = int(np.array(kernels2d_1.shape)[::-1][0])\n",
        "# limi = int(np.array(kernels2d_1.shape)[::-1][1])\n",
        "# (limi,lims)"
      ]
    },
    {
      "cell_type": "code",
      "execution_count": 1731,
      "metadata": {},
      "outputs": [
        {
          "name": "stdout",
          "output_type": "stream",
          "text": [
            "------------------------------- 1 1\n",
            "21009 -2835 -9069 \n",
            "\n",
            "3467 68873 26361 \n",
            "\n",
            "31606 49562 62922 \n",
            "\n",
            "------------------------------- 1 2\n",
            "-20545 -23269 -14688 \n",
            "\n",
            "2602 33675 30856 \n",
            "\n",
            "-1705 -31335 -11183 \n",
            "\n",
            "------------------------------- 1 3\n",
            "-35217 -27179 -16590 \n",
            "\n",
            "15777 7648 11771 \n",
            "\n",
            "-18430 -8697 -8573 \n",
            "\n",
            "------------------------------- 1 4\n",
            "17362 -3496 19205 \n",
            "\n",
            "36907 8785 -2868 \n",
            "\n",
            "-13449 12031 -4792 \n",
            "\n",
            "------------------------------- 2 1\n",
            "1535 -33057 -5734 \n",
            "\n",
            "-29176 -31630 -30490 \n",
            "\n",
            "-5266 -30785 -15444 \n",
            "\n",
            "------------------------------- 2 2\n",
            "28624 48082 43662 \n",
            "\n",
            "23918 -13272 -2653 \n",
            "\n",
            "-27249 -22334 -34597 \n",
            "\n",
            "------------------------------- 2 3\n",
            "19735 -23054 29137 \n",
            "\n",
            "63222 31582 11696 \n",
            "\n",
            "21043 18445 -12896 \n",
            "\n",
            "------------------------------- 2 4\n",
            "-11482 21607 -4071 \n",
            "\n",
            "-5016 21386 -16824 \n",
            "\n",
            "20445 -1645 36247 \n",
            "\n"
          ]
        }
      ],
      "source": [
        "kernels2d_1 = modelo_dig.weights[2]\n",
        "lims = int(np.array(kernels2d_1.shape)[::-1][0])\n",
        "limi = int(np.array(kernels2d_1.shape)[::-1][1])\n",
        "for i in range(limi):\n",
        "    for j in range(lims):\n",
        "        print(\"-------------------------------\",i+1,j+1)\n",
        "        kernel_txt(nbits,point_fixed,j,i,kernels2d_1[:,:,i,j],string=f\"kernels2d_\")\n"
      ]
    },
    {
      "cell_type": "code",
      "execution_count": 1732,
      "metadata": {},
      "outputs": [
        {
          "name": "stdout",
          "output_type": "stream",
          "text": [
            "-20942 -34159 -17746 -27531 -10419 -11696 3726 -38022 5190 -5416 \n",
            "\n",
            "-57420 -32881 1562 -18828 -2821 -55509 -42142 -13148 -58997 -69282 \n",
            "\n",
            "-21607 -11174 -31443 -14846 9440 -29675 -23341 -4442 -28045 -6492 \n",
            "\n",
            "-24045 -27619 -32260 -15533 -13497 -26465 4198 3270 -9666 -31218 \n",
            "\n",
            "-29487 -29510 -16518 -26321 9520 -10156 698 -19132 3152 3184 \n",
            "\n",
            "-24652 -12029 -7489 10808 -80726 -33771 -65941 -1978 -13132 -5637 \n",
            "\n",
            "-23589 -20519 -16420 -8556 2508 1366 -30737 12446 -2575 -16102 \n",
            "\n",
            "-14612 -16722 -4660 -15539 977 -5708 -11360 6157 -7077 -26674 \n",
            "\n",
            "-11831 -10515 -18957 -24774 -2662 -8283 9608 -15054 -6851 4161 \n",
            "\n",
            "-27150 -79820 2992 -12331 -71101 -14476 -13949 11081 -13680 -21141 \n",
            "\n",
            "1176 -21725 -15765 -2634 -36535 -7335 -42235 -1149 -16347 15013 \n",
            "\n",
            "-5350 8240 -3660 -12643 6396 -25108 -16063 8025 5542 -28122 \n",
            "\n",
            "-25628 1067 -33212 -25112 22164 -2154 -9153 -6291 -21168 -28708 \n",
            "\n",
            "-10517 -28536 -22820 -15780 -88767 28641 17948 -19805 -20392 -24048 \n",
            "\n",
            "4279 -6421 5161 9801 -19074 -24164 -55214 -6601 -13514 14393 \n",
            "\n",
            "7124 1149 -1829 -6061 491 -15821 -32819 -25403 8245 4774 \n",
            "\n",
            "-26336 -5850 -44935 -48601 19933 26075 -13448 -7803 -34837 -36288 \n",
            "\n",
            "-34090 -28130 -28482 -45842 -29648 -12700 14695 -55504 -21935 -64871 \n",
            "\n",
            "966 -28511 -5389 -23136 3766 8455 -37307 -12356 11963 7198 \n",
            "\n",
            "-4580 -6552 -24476 -14886 61 691 3678 -4320 -1600 -6021 \n",
            "\n",
            "-529 -15099 -35783 -33820 2055 -24788 11576 -30563 -26858 7807 \n",
            "\n",
            "-27754 -11212 16722 10232 -74287 -30834 -108025 -13232 -48030 -56928 \n",
            "\n",
            "-16295 -17556 6692 -18061 -21151 -44812 -32369 -8221 -17781 -14488 \n",
            "\n",
            "-8312 -5961 -18625 -6856 -26035 -19576 -1164 -27762 -382 -17079 \n",
            "\n",
            "86 -21560 -30963 -4266 6046 -11386 -4326 -37835 -25096 -9257 \n",
            "\n",
            "-32703 -8667 5668 15996 -96432 -33774 -73450 17698 -18056 -30988 \n",
            "\n",
            "-21873 -28647 -12756 -5464 -19737 -10357 -14793 -7561 -14689 -8161 \n",
            "\n",
            "745 -19953 -26003 -29350 2862 -6322 -2355 -22189 -1451 14719 \n",
            "\n",
            "-10588 16361 -22567 24794 -15703 -30862 -196 -10686 -31025 -10084 \n",
            "\n",
            "-16213 -62651 -2438 -22500 -63527 -11594 -37083 23388 -19623 -21565 \n",
            "\n",
            "-21454 -12453 -15956 -7652 -5252 2986 -22553 -7099 6436 85 \n",
            "\n",
            "-14519 -5742 -16614 -14619 -18291 17672 -7411 -1991 1162 24321 \n",
            "\n",
            "-22434 -25957 6510 32453 918 -65466 -13582 3277 19198 -3622 \n",
            "\n",
            "-4239 -38331 -19483 -9085 -71236 18485 9486 268 9229 -15471 \n",
            "\n",
            "-24932 10604 -29148 -13458 -33214 14178 -16534 -13216 -7886 -1918 \n",
            "\n",
            "992 14471 -29586 -11137 2982 -21940 -17117 4312 -14899 27129 \n",
            "\n",
            "-15652 -34430 -21138 -5523 -19001 -38335 -13444 -32618 8699 -26042 \n",
            "\n",
            "-18667 -23081 -40427 -3628 -13279 25344 -17605 6261 -10802 -15296 \n",
            "\n",
            "17357 -30066 -8394 -20620 -22360 10130 -3817 7033 -20242 -9182 \n",
            "\n",
            "-614 -10338 -16138 -3423 -6558 -18427 -11026 7600 -9980 -5553 \n",
            "\n",
            "4755 -28002 4522 -42029 5884 -29626 1587 -2971 -30607 -39547 \n",
            "\n",
            "-58853 -17964 2553 -10739 -23216 -14649 -93847 22396 -19676 -42736 \n",
            "\n",
            "-13704 -39471 24792 -608 -18871 -41102 -45552 -10246 -45986 -36476 \n",
            "\n",
            "-2493 -12236 -33100 -19477 -15490 -21680 -13405 -19853 -1146 -11037 \n",
            "\n",
            "8304 -18704 13535 -5707 -16099 -5501 2224 2438 -10753 -36372 \n",
            "\n",
            "-49946 -21272 -28305 -25878 1945 852 -63048 -11520 -16847 -12643 \n",
            "\n",
            "-18673 -20091 -6180 -12716 -21481 -2443 -11876 -3097 -16632 -6187 \n",
            "\n",
            "14024 -19658 -18635 -14165 -5894 -554 2532 -11183 -5886 -3393 \n",
            "\n",
            "-41359 16861 12636 -17431 -10647 -24034 -5142 -4345 8491 -6315 \n",
            "\n",
            "-50254 -65321 -33545 -2765 -388 -6831 -13067 -46113 -19209 10621 \n",
            "\n",
            "-22692 -44238 -9726 -17797 14591 7586 -567 -44496 -3657 -1729 \n",
            "\n",
            "-20066 9324 -28590 26242 -9456 -9428 -1178 -16768 1068 -3101 \n",
            "\n",
            "15712 -16824 16130 -6519 14837 -25195 -21957 8304 -11866 -3515 \n",
            "\n",
            "-44097 -25057 -33516 4870 -9689 -3068 -676 -22644 -8990 -38989 \n",
            "\n",
            "-43860 -13430 -19992 -4873 -3198 -16284 8353 -39776 2326 -23337 \n",
            "\n",
            "-12301 21302 -6633 7532 -3428 -19357 4312 5245 891 4611 \n",
            "\n",
            "-485 -19612 -2242 -63324 -17306 -59994 -4724 -9032 -16507 -7926 \n",
            "\n",
            "-7798 -36359 -13057 -36259 -8765 -19651 -417 -18921 -1660 -27628 \n",
            "\n",
            "-20615 -31006 -24669 -6889 -2680 -1852 -9003 5785 -25024 -23771 \n",
            "\n",
            "6541 -15133 -2987 2907 4865 -29115 -22671 5476 -2091 16685 \n",
            "\n",
            "-12359 -5837 3068 -43333 -40277 -48147 -9127 -12347 13743 -39776 \n",
            "\n",
            "-65254 -50705 -26627 2377 -5199 3975 -55234 -22813 -41998 -9746 \n",
            "\n",
            "-56287 -7380 1435 7426 -29822 634 -65573 -3173 -14152 -89184 \n",
            "\n",
            "3241 15528 -1026 -35493 189 -21957 -4508 -18314 -2537 -18227 \n",
            "\n",
            "-4639 -11915 23201 -39204 -26993 -12995 -2995 -11813 15063 -49993 \n",
            "\n",
            "-37926 -60146 -31358 -19723 -1687 2667 -47862 -39147 -40821 10189 \n",
            "\n",
            "-23321 -14152 -19218 -3992 -6058 -9285 -9717 -25084 -45162 3816 \n",
            "\n",
            "10993 -3432 5112 -23417 -7782 -13783 -7669 -9362 -6805 -458 \n",
            "\n",
            "-8866 -8539 -769 -25866 -15138 -1132 -4646 -4174 -17556 2982 \n",
            "\n",
            "-10123 -57208 -18227 -15331 1353 -9524 -11076 -27032 -24232 -20871 \n",
            "\n",
            "2022 -40074 -19485 -18629 -12559 -6587 9065 -24832 -24681 -14698 \n",
            "\n",
            "-3819 23116 18486 -17405 -13600 -18801 18338 -23626 2715 -25453 \n",
            "\n",
            "6353 -50679 -6005 2587 -23627 -8897 9283 -6277 -20889 -6230 \n",
            "\n",
            "-50956 -12639 -10528 -20442 -5224 -27203 -13652 -7092 -13157 -46918 \n",
            "\n",
            "-18692 7978 -7877 5433 -24312 -2532 -7689 -33808 -744 -47832 \n",
            "\n",
            "-23456 26959 -96 -19229 -11031 -8286 2311 8511 -12837 -10616 \n",
            "\n",
            "-15163 -596 -31726 -20009 -57374 -22811 -8308 -42268 -44616 -35974 \n",
            "\n",
            "1862 -21155 31066 -33655 -5973 -22601 -8780 -2657 -40491 -48441 \n",
            "\n",
            "-25298 1203 8301 -10511 -2528 -16245 -22902 -9098 1161 -37047 \n",
            "\n",
            "-6557 -25867 -1772 -57 -16959 -13606 3781 4140 -33861 -2040 \n",
            "\n",
            "-34814 -1407 -21380 -16631 -2940 -20546 -33445 2271 -44434 -6510 \n",
            "\n",
            "-30243 -3559 -43098 4071 -41587 12655 -49890 -42810 -39335 -23337 \n",
            "\n",
            "-42473 7785 -30306 5219 -9798 -7647 -151304 -1212 -59631 -11169 \n",
            "\n",
            "3709 -852 3974 4291 -44485 -22639 -22993 -35367 -2268 -16295 \n",
            "\n",
            "-1710 -10405 -17120 -2058 -1564 -5141 -21887 3785 -35440 -5372 \n",
            "\n",
            "1739 -41890 -10094 -11516 -29698 831 -7163 -42989 -14851 -5209 \n",
            "\n",
            "-43477 -29140 -26043 4849 -37922 -11221 -47054 -48043 -23508 -15586 \n",
            "\n",
            "9199 -5422 49 -13297 -24147 -17650 -6282 -21257 -430 1908 \n",
            "\n",
            "-32512 -24121 -34897 2126 4251 3827 -37012 -8553 -8734 -3522 \n",
            "\n",
            "3462 -31015 -8837 -13707 -44732 -15201 7126 -62455 -3632 -56413 \n",
            "\n",
            "16266 -25740 1666 -1492 -61391 -1253 -4178 -62869 -3171 -47360 \n",
            "\n",
            "-11474 2081 -18041 -14168 1079 -10175 -16391 -15532 -4641 -29989 \n",
            "\n",
            "-25596 -37358 -57279 -2017 -22693 13165 -37396 -20957 -1148 -21665 \n",
            "\n",
            "-26474 13123 3200 -21181 -16302 -23460 -4863 -23501 -13410 -37537 \n",
            "\n",
            "-17595 16488 -9407 -37103 -21111 -26236 -22569 2072 -11313 -23183 \n",
            "\n",
            "-13357 -21706 -24052 -9138 14473 -12115 6204 15761 -18288 -422 \n",
            "\n",
            "-5707 -59658 -45125 -18410 -35341 17933 -33059 -103391 -1224 -9764 \n",
            "\n",
            "-9254 -8368 22193 -14195 -2573 -10703 -13998 -20711 -14576 -23529 \n",
            "\n",
            "-41736 -10012 27528 -29237 5309 -33146 -16535 -43424 -29813 -8792 \n",
            "\n",
            "-19450 223 -18245 -15850 -15153 -8137 -14083 -37135 -25403 -4504 \n",
            "\n"
          ]
        }
      ],
      "source": [
        "kernel_txt(nbits,point_fixed,0,0,modelo_dig.weights[4],string=\"danse.txt\")"
      ]
    },
    {
      "cell_type": "code",
      "execution_count": 1733,
      "metadata": {},
      "outputs": [],
      "source": [
        "out = open(\"simulation/maxpooling0.txt\",\"r\")\n",
        "\n",
        "klin1 = []\n",
        "m1=[]\n",
        "k= out.readlines()\n",
        "for i in k:\n",
        "    m1.append(list(map(concat,i.split())))\n"
      ]
    },
    {
      "cell_type": "code",
      "execution_count": 1734,
      "metadata": {},
      "outputs": [],
      "source": [
        "# array_out =[]\n",
        "\n",
        "# for i in range(1):\n",
        "#     array_out.append(open(f\"./simulation/maxIxKernelPooling{i}.txt\",\"r\"))\n",
        "# klin2 = []\n",
        "# plt.figure(figsize=(30,2))\n",
        "# for ii in range(2):\n",
        "#     k2 = array_out[ii].readlines()\n",
        "#     m2=[]\n",
        "#     for i in k2:\n",
        "#         m2.append(list(map(concat,i.split())))\n",
        "#     plt.subplot(1,2,ii+1)\n",
        "#     plt.imshow(m2,cmap=\"gray\")\n",
        "# # plt.imshow(m2)\n",
        "\n",
        "# for i in range(2):\n",
        "#     array_out[i].close()\n"
      ]
    },
    {
      "cell_type": "code",
      "execution_count": 1735,
      "metadata": {},
      "outputs": [],
      "source": [
        "# m2"
      ]
    },
    {
      "cell_type": "code",
      "execution_count": 1736,
      "metadata": {},
      "outputs": [
        {
          "data": {
            "image/png": "[encoded data removed]",
            "text/plain": [
              "<Figure size 640x480 with 1 Axes>"
            ]
          },
          "metadata": {},
          "output_type": "display_data"
        }
      ],
      "source": [
        "out2 = open(\"./simulation/I.txt\",\"r\")\n",
        "import_img(path_file=out2);"
      ]
    },
    {
      "cell_type": "markdown",
      "metadata": {},
      "source": []
    },
    {
      "cell_type": "code",
      "execution_count": 1737,
      "metadata": {},
      "outputs": [
        {
          "data": {
            "text/plain": [
              "<matplotlib.image.AxesImage at 0x7ff687e7a9d0>"
            ]
          },
          "execution_count": 1737,
          "metadata": {},
          "output_type": "execute_result"
        },
        {
          "data": {
            "image/png": "[encoded data removed]",
            "text/plain": [
              "<Figure size 3000x800 with 1 Axes>"
            ]
          },
          "metadata": {},
          "output_type": "display_data"
        }
      ],
      "source": [
        "plt.figure(figsize=(30,8))\n",
        "plt.subplot(1,3,1)\n",
        "plt.imshow(array,cmap=\"gray\")\n"
      ]
    },
    {
      "cell_type": "code",
      "execution_count": 1738,
      "metadata": {},
      "outputs": [],
      "source": [
        "plt.imsave(\"7.png\",array,cmap=\"gray\")"
      ]
    },
    {
      "cell_type": "code",
      "execution_count": 1739,
      "metadata": {},
      "outputs": [
        {
          "data": {
            "image/png": "[encoded data removed]",
            "text/plain": [
              "<Figure size 640x480 with 1 Axes>"
            ]
          },
          "metadata": {},
          "output_type": "display_data"
        }
      ],
      "source": [
        "import_img(path_file=open('simulation/maxpooling1.txt'));\n"
      ]
    },
    {
      "cell_type": "code",
      "execution_count": 1740,
      "metadata": {},
      "outputs": [
        {
          "data": {
            "image/png": "[encoded data removed]",
            "text/plain": [
              "<Figure size 640x480 with 1 Axes>"
            ]
          },
          "metadata": {},
          "output_type": "display_data"
        }
      ],
      "source": [
        "import_img(path_file=open('simulation/maxpooling0.txt'));\n"
      ]
    },
    {
      "cell_type": "code",
      "execution_count": null,
      "metadata": {},
      "outputs": [],
      "source": []
    },
    {
      "cell_type": "code",
      "execution_count": 1741,
      "metadata": {},
      "outputs": [
        {
          "name": "stdout",
          "output_type": "stream",
          "text": [
            "[0.0]\n",
            "[0.0]\n",
            "[0.0]\n",
            "[0.0]\n",
            "[0.0]\n",
            "[0.0]\n",
            "[0.0]\n",
            "[0.0]\n",
            "[0.0]\n",
            "[0.0]\n",
            "[0.0]\n",
            "[0.0]\n",
            "[0.0]\n",
            "[0.0]\n",
            "[65.1875]\n",
            "[664.515625]\n",
            "[553.234375]\n",
            "[184.203125]\n",
            "[0.0]\n",
            "[0.0]\n",
            "[0.0]\n",
            "[0.0]\n",
            "[0.0]\n",
            "[0.0]\n",
            "[0.0]\n",
            "[107.484375]\n",
            "[2089.34375]\n",
            "[2687.9375]\n",
            "[2044.90625]\n",
            "[1401.828125]\n",
            "[1401.828125]\n",
            "[1401.828125]\n",
            "[1401.828125]\n",
            "[2007.203125]\n",
            "[1205.953125]\n",
            "[0.0]\n",
            "[0.0]\n",
            "[1655.328125]\n",
            "[2961.15625]\n",
            "[2898.078125]\n",
            "[2112.96875]\n",
            "[2318.46875]\n",
            "[2659.46875]\n",
            "[2863.390625]\n",
            "[2886.4375]\n",
            "[3490.0]\n",
            "[1430.25]\n",
            "[0.0]\n",
            "[0.0]\n",
            "[1229.78125]\n",
            "[1396.375]\n",
            "[1031.84375]\n",
            "[1674.875]\n",
            "[1818.484375]\n",
            "[2237.265625]\n",
            "[1712.578125]\n",
            "[4407.90625]\n",
            "[3395.984375]\n",
            "[282.578125]\n",
            "[0.0]\n",
            "[0.0]\n",
            "[0.0]\n",
            "[0.0]\n",
            "[0.0]\n",
            "[362.9375]\n",
            "[630.515625]\n",
            "[0.0]\n",
            "[3373.15625]\n",
            "[4810.296875]\n",
            "[1917.5625]\n",
            "[0.0]\n",
            "[0.0]\n",
            "[0.0]\n",
            "[0.0]\n",
            "[0.0]\n",
            "[0.0]\n",
            "[0.0]\n",
            "[0.0]\n",
            "[1312.0625]\n",
            "[4583.734375]\n",
            "[3881.0]\n",
            "[0.0]\n",
            "[0.0]\n",
            "[0.0]\n",
            "[0.0]\n",
            "[0.0]\n",
            "[0.0]\n",
            "[0.0]\n",
            "[0.0]\n",
            "[0.0]\n",
            "[3373.15625]\n",
            "[4810.296875]\n",
            "[1849.234375]\n",
            "[0.0]\n",
            "[0.0]\n",
            "[0.0]\n",
            "[0.0]\n",
            "[0.0]\n",
            "[0.0]\n",
            "[0.0]\n",
            "[0.0]\n",
            "[1653.0625]\n",
            "[4751.75]\n",
            "[3803.15625]\n",
            "[0.0]\n",
            "[0.0]\n",
            "[0.0]\n",
            "[0.0]\n",
            "[0.0]\n",
            "[0.0]\n",
            "[0.0]\n",
            "[0.0]\n",
            "[0.0]\n",
            "[4501.9375]\n",
            "[4571.6875]\n",
            "[1139.265625]\n",
            "[0.0]\n",
            "[0.0]\n",
            "[0.0]\n",
            "[0.0]\n",
            "[0.0]\n",
            "[0.0]\n",
            "[0.0]\n",
            "[0.0]\n",
            "[2854.984375]\n",
            "[4921.578125]\n",
            "[2849.375]\n",
            "[0.0]\n",
            "[0.0]\n",
            "[0.0]\n",
            "[0.0]\n",
            "[0.0]\n",
            "[0.0]\n",
            "[0.0]\n",
            "[0.0]\n",
            "[1442.96875]\n",
            "[4298.390625]\n",
            "[4255.265625]\n",
            "[1359.90625]\n",
            "[0.0]\n",
            "[0.0]\n",
            "[0.0]\n",
            "[0.0]\n",
            "[0.0]\n",
            "[0.0]\n",
            "[0.0]\n",
            "[0.0]\n",
            "[0.0]\n",
            "[0.0]\n",
            "[0.0]\n",
            "[0.0]\n",
            "[0.0]\n",
            "[0.0]\n",
            "[0.0]\n",
            "[0.0]\n",
            "[0.0]\n",
            "[0.0]\n",
            "[248.03125]\n",
            "[863.21875]\n",
            "[743.125]\n",
            "[324.796875]\n",
            "[0.0]\n",
            "[0.0]\n",
            "[0.0]\n",
            "[0.0]\n",
            "[0.0]\n",
            "[0.0]\n",
            "[0.0]\n",
            "[0.0]\n",
            "[1435.34375]\n",
            "[3503.375]\n",
            "[4132.40625]\n",
            "[4026.875]\n",
            "[3452.546875]\n",
            "[3005.625]\n",
            "[3005.625]\n",
            "[3005.625]\n",
            "[2274.46875]\n",
            "[865.734375]\n",
            "[0.0]\n",
            "[0.0]\n",
            "[461.875]\n",
            "[1643.46875]\n",
            "[3338.234375]\n",
            "[3755.765625]\n",
            "[4390.171875]\n",
            "[4252.5]\n",
            "[4094.46875]\n",
            "[3880.375]\n",
            "[3277.125]\n",
            "[1796.578125]\n",
            "[0.0]\n",
            "[0.0]\n",
            "[0.0]\n",
            "[0.0]\n",
            "[0.0]\n",
            "[0.0]\n",
            "[0.0]\n",
            "[0.0]\n",
            "[1712.625]\n",
            "[2027.796875]\n",
            "[1910.421875]\n",
            "[1105.375]\n",
            "[0.0]\n",
            "[0.0]\n",
            "[0.0]\n",
            "[0.0]\n",
            "[0.0]\n",
            "[0.0]\n",
            "[0.0]\n",
            "[1574.03125]\n",
            "[1828.484375]\n",
            "[1656.71875]\n",
            "[1844.875]\n",
            "[614.953125]\n",
            "[0.0]\n",
            "[0.0]\n",
            "[0.0]\n",
            "[0.0]\n",
            "[0.0]\n",
            "[0.0]\n",
            "[210.09375]\n",
            "[1001.765625]\n",
            "[1674.96875]\n",
            "[2084.359375]\n",
            "[1061.734375]\n",
            "[0.0]\n",
            "[0.0]\n",
            "[0.0]\n",
            "[0.0]\n",
            "[0.0]\n",
            "[0.0]\n",
            "[0.0]\n",
            "[1574.03125]\n",
            "[1828.484375]\n",
            "[1656.71875]\n",
            "[1801.0625]\n",
            "[614.953125]\n",
            "[0.0]\n",
            "[0.0]\n",
            "[0.0]\n",
            "[0.0]\n",
            "[0.0]\n",
            "[0.0]\n",
            "[560.859375]\n",
            "[1280.5]\n",
            "[1516.9375]\n",
            "[1807.734375]\n",
            "[1181.828125]\n",
            "[0.0]\n",
            "[0.0]\n",
            "[0.0]\n",
            "[0.0]\n",
            "[0.0]\n",
            "[0.0]\n",
            "[210.09375]\n",
            "[1419.1875]\n",
            "[1530.421875]\n",
            "[1844.875]\n",
            "[1363.109375]\n",
            "[168.03125]\n",
            "[0.0]\n",
            "[0.0]\n",
            "[0.0]\n",
            "[0.0]\n",
            "[0.0]\n",
            "[0.0]\n",
            "[1574.03125]\n",
            "[2318.234375]\n",
            "[2416.109375]\n",
            "[2121.5]\n",
            "[917.15625]\n",
            "[0.0]\n",
            "[0.0]\n",
            "[0.0]\n",
            "[0.0]\n",
            "[0.0]\n",
            "[0.0]\n",
            "[0.0]\n",
            "[917.34375]\n",
            "[2025.734375]\n",
            "[2142.328125]\n",
            "[1658.390625]\n",
            "[660.453125]\n",
            "[0.0]\n",
            "[0.0]\n",
            "[0.0]\n",
            "[0.0]\n"
          ]
        },
        {
          "data": {
            "image/png": "[encoded data removed]",
            "text/plain": [
              "<Figure size 640x480 with 2 Axes>"
            ]
          },
          "metadata": {},
          "output_type": "display_data"
        }
      ],
      "source": [
        "plt.subplot(1,2,1)\n",
        "import_img2(path_file=open('simulation/maxpooling0.txt'));\n",
        "plt.subplot(1,2,2)\n",
        "import_img2(path_file=open('simulation/maxpooling1.txt'));\n"
      ]
    },
    {
      "cell_type": "markdown",
      "metadata": {},
      "source": []
    },
    {
      "cell_type": "code",
      "execution_count": 1742,
      "metadata": {},
      "outputs": [
        {
          "name": "stdout",
          "output_type": "stream",
          "text": [
            "[6053021.125]\n",
            "[61657447.171875]\n",
            "[122052356.0625]\n",
            "[88768252.921875]\n",
            "[53531636.109375]\n",
            "[45499631.171875]\n",
            "[47214489.53125]\n",
            "[96597872.40625]\n",
            "[120450354.5]\n",
            "[84579859.953125]\n",
            "[125284511.828125]\n",
            "[174664884.0625]\n",
            "[60690173.203125]\n",
            "[0.0]\n",
            "[0.0]\n",
            "[22780108.40625]\n",
            "[63180591.015625]\n",
            "[163736260.734375]\n",
            "[193989914.671875]\n",
            "[104899231.328125]\n",
            "[189371358.59375]\n",
            "[126493549.921875]\n",
            "[61586519.734375]\n",
            "[0.0]\n",
            "[43940751.921875]\n",
            "[30390256.703125]\n",
            "[160317889.625]\n",
            "[243422528.140625]\n",
            "[192562165.03125]\n",
            "[49038557.390625]\n",
            "[65268866.828125]\n",
            "[54974990.28125]\n",
            "[48362791.625]\n",
            "[114194945.46875]\n",
            "[58393971.9375]\n",
            "[166684464.484375]\n",
            "[376099082.9375]\n",
            "[482786163.453125]\n",
            "[200485425.375]\n",
            "[0.0]\n",
            "[0.0]\n",
            "[12519694.5625]\n",
            "[20788853.78125]\n",
            "[38810563.25]\n",
            "[67052204.453125]\n",
            "[287710984.484375]\n",
            "[562600045.859375]\n",
            "[396708208.421875]\n",
            "[116343746.9375]\n",
            "[0.0]\n",
            "[0.0]\n",
            "[0.0]\n",
            "[0.0]\n",
            "[0.0]\n",
            "[129759934.515625]\n",
            "[422138731.546875]\n",
            "[529008106.046875]\n",
            "[283338001.390625]\n",
            "[0.0]\n",
            "[0.0]\n",
            "[0.0]\n",
            "[0.0]\n",
            "[0.0]\n",
            "[17774744.765625]\n",
            "[273911557.65625]\n",
            "[562858822.890625]\n",
            "[401451829.421875]\n",
            "[107163311.984375]\n",
            "[0.0]\n",
            "[0.0]\n",
            "[0.0]\n",
            "[0.0]\n",
            "[0.0]\n",
            "[192607227.78125]\n",
            "[470591301.671875]\n",
            "[526729128.34375]\n",
            "[265793636.15625]\n",
            "[0.0]\n",
            "[0.0]\n",
            "[943687.421875]\n",
            "[0.0]\n",
            "[0.0]\n",
            "[42249437.65625]\n",
            "[314323998.1875]\n",
            "[580659560.53125]\n",
            "[348735498.109375]\n",
            "[67741982.21875]\n",
            "[0.0]\n",
            "[0.0]\n",
            "[0.0]\n",
            "[0.0]\n",
            "[27429866.8125]\n",
            "[222161595.796875]\n",
            "[463370882.453125]\n",
            "[432107622.71875]\n",
            "[181940375.9375]\n",
            "[0.0]\n",
            "[0.0]\n",
            "[257662.34375]\n",
            "[0.0]\n",
            "[0.0]\n",
            "[0.0]\n",
            "[0.0]\n",
            "[0.0]\n",
            "[0.0]\n",
            "[0.0]\n",
            "[0.0]\n",
            "[0.0]\n",
            "[0.0]\n",
            "[0.0]\n",
            "[0.0]\n",
            "[0.0]\n",
            "[0.0]\n",
            "[0.0]\n",
            "[0.0]\n",
            "[0.0]\n",
            "[0.0]\n",
            "[0.0]\n",
            "[0.0]\n",
            "[0.0]\n",
            "[271260508.40625]\n",
            "[416092280.46875]\n",
            "[441380365.75]\n",
            "[433260633.28125]\n",
            "[418337992.203125]\n",
            "[362600361.265625]\n",
            "[294077138.84375]\n",
            "[151961225.765625]\n",
            "[100438520.65625]\n",
            "[57824450.765625]\n",
            "[96452802.484375]\n",
            "[174578179.515625]\n",
            "[298229831.078125]\n",
            "[421834056.875]\n",
            "[427639703.25]\n",
            "[348491547.140625]\n",
            "[195211419.9375]\n",
            "[207689267.5625]\n",
            "[164416515.953125]\n",
            "[57304913.953125]\n",
            "[0.0]\n",
            "[0.0]\n",
            "[0.0]\n",
            "[0.0]\n",
            "[0.0]\n",
            "[0.0]\n",
            "[0.0]\n",
            "[30733240.3125]\n",
            "[27903470.421875]\n",
            "[43508765.859375]\n",
            "[0.0]\n",
            "[0.0]\n",
            "[0.0]\n",
            "[0.0]\n",
            "[0.0]\n",
            "[0.0]\n",
            "[3588814.359375]\n",
            "[0.0]\n",
            "[0.0]\n",
            "[51616920.390625]\n",
            "[0.0]\n",
            "[0.0]\n",
            "[0.0]\n",
            "[0.0]\n",
            "[0.0]\n",
            "[0.0]\n",
            "[4518840.171875]\n",
            "[16783068.46875]\n",
            "[38501756.953125]\n",
            "[45099192.3125]\n",
            "[0.0]\n",
            "[0.0]\n",
            "[0.0]\n",
            "[0.0]\n",
            "[0.0]\n",
            "[49793442.34375]\n",
            "[21808823.984375]\n",
            "[13622318.0]\n",
            "[66817209.203125]\n",
            "[17602076.96875]\n",
            "[0.0]\n",
            "[0.0]\n",
            "[0.0]\n",
            "[0.0]\n",
            "[0.0]\n",
            "[0.0]\n",
            "[0.0]\n",
            "[38778580.0]\n",
            "[37847278.40625]\n",
            "[0.0]\n",
            "[0.0]\n",
            "[0.0]\n",
            "[0.0]\n",
            "[0.0]\n",
            "[0.0]\n",
            "[0.0]\n",
            "[0.0]\n",
            "[27630223.75]\n",
            "[4809385.21875]\n",
            "[0.0]\n",
            "[0.0]\n",
            "[58291838.859375]\n",
            "[113063952.296875]\n",
            "[111491761.046875]\n",
            "[78433439.6875]\n",
            "[42191009.25]\n",
            "[29880259.53125]\n",
            "[34119370.65625]\n",
            "[40404402.0]\n",
            "[16349132.125]\n",
            "[77616911.484375]\n",
            "[208763941.90625]\n",
            "[406352020.25]\n",
            "[460289413.609375]\n",
            "[463447595.03125]\n",
            "[418816815.765625]\n",
            "[385741920.359375]\n",
            "[375688227.03125]\n",
            "[346763998.59375]\n",
            "[237367643.78125]\n",
            "[90061971.578125]\n",
            "[122170986.734375]\n",
            "[208586258.75]\n",
            "[336830750.859375]\n",
            "[396421966.140625]\n",
            "[436324143.625]\n",
            "[419779034.328125]\n",
            "[413391772.296875]\n",
            "[317537475.234375]\n",
            "[246933956.15625]\n",
            "[0.0]\n",
            "[0.0]\n",
            "[0.0]\n",
            "[0.0]\n",
            "[0.0]\n",
            "[0.0]\n",
            "[36217542.625]\n",
            "[69810775.984375]\n",
            "[89077814.625]\n",
            "[87729684.78125]\n",
            "[0.0]\n",
            "[0.0]\n",
            "[0.0]\n",
            "[0.0]\n",
            "[0.0]\n",
            "[0.0]\n",
            "[7972569.96875]\n",
            "[50108624.015625]\n",
            "[28636309.046875]\n",
            "[73595828.3125]\n",
            "[0.0]\n",
            "[0.0]\n",
            "[0.0]\n",
            "[0.0]\n",
            "[26275060.640625]\n",
            "[42232454.171875]\n",
            "[33703329.234375]\n",
            "[11857902.03125]\n",
            "[28260552.328125]\n",
            "[34766053.078125]\n",
            "[0.0]\n",
            "[0.0]\n",
            "[0.0]\n",
            "[4191333.046875]\n",
            "[74125323.84375]\n",
            "[104424347.796875]\n",
            "[36848876.765625]\n",
            "[0.0]\n",
            "[67313177.515625]\n",
            "[59831837.953125]\n",
            "[0.0]\n",
            "[0.0]\n",
            "[0.0]\n",
            "[70276965.125]\n",
            "[79199747.53125]\n",
            "[39052332.40625]\n",
            "[8664528.46875]\n",
            "[11828972.5]\n",
            "[34495715.015625]\n",
            "[12136043.515625]\n",
            "[0.0]\n",
            "[0.0]\n",
            "[14236975.875]\n",
            "[103652498.203125]\n",
            "[96007071.96875]\n",
            "[45538654.703125]\n",
            "[3525767.984375]\n",
            "[3253138.8125]\n",
            "[33946593.328125]\n",
            "[0.0]\n",
            "[0.0]\n",
            "[330678.59375]\n",
            "[88335386.65625]\n",
            "[150669929.796875]\n",
            "[145052590.5625]\n",
            "[32509414.359375]\n",
            "[47976326.296875]\n",
            "[54787964.703125]\n",
            "[3316040.3125]\n",
            "[0.0]\n",
            "[106501192.859375]\n",
            "[187561643.171875]\n",
            "[217985629.078125]\n",
            "[216817520.953125]\n",
            "[188647907.3125]\n",
            "[172680833.3125]\n",
            "[156745130.84375]\n",
            "[127341953.25]\n",
            "[88605167.015625]\n",
            "[32591171.890625]\n",
            "[34340729.875]\n",
            "[165341160.90625]\n",
            "[261332441.734375]\n",
            "[328616020.28125]\n",
            "[302505676.484375]\n",
            "[277891077.234375]\n",
            "[264376540.921875]\n",
            "[244838990.890625]\n",
            "[220290876.796875]\n",
            "[126095625.515625]\n",
            "[52882629.421875]\n",
            "[139356394.234375]\n",
            "[213076286.984375]\n",
            "[198093390.390625]\n",
            "[156512306.015625]\n",
            "[216511264.640625]\n",
            "[220612333.015625]\n",
            "[322150658.234375]\n",
            "[263676665.984375]\n",
            "[181544439.0625]\n",
            "[61169819.40625]\n",
            "[145357630.65625]\n",
            "[173886544.21875]\n",
            "[161330052.34375]\n",
            "[245209770.265625]\n",
            "[202842371.140625]\n",
            "[309682360.390625]\n",
            "[329810175.265625]\n",
            "[299619009.71875]\n",
            "[209576275.625]\n",
            "[22517910.75]\n",
            "[36286138.40625]\n",
            "[51761450.75]\n",
            "[55978700.015625]\n",
            "[87818792.046875]\n",
            "[123345118.328125]\n",
            "[277613456.25]\n",
            "[306735401.859375]\n",
            "[287430246.890625]\n",
            "[156297538.390625]\n",
            "[0.0]\n",
            "[0.0]\n",
            "[6970058.8125]\n",
            "[64359360.671875]\n",
            "[29088992.953125]\n",
            "[199621026.40625]\n",
            "[272156772.078125]\n",
            "[318197997.03125]\n",
            "[261576658.765625]\n",
            "[32644058.6875]\n",
            "[0.0]\n",
            "[0.0]\n",
            "[20329313.890625]\n",
            "[10233245.046875]\n",
            "[80347301.21875]\n",
            "[220951734.140625]\n",
            "[307626133.65625]\n",
            "[285004079.90625]\n",
            "[162919473.546875]\n",
            "[0.0]\n",
            "[0.0]\n",
            "[7615112.28125]\n",
            "[41659631.09375]\n",
            "[15163106.734375]\n",
            "[216916536.3125]\n",
            "[249390073.34375]\n",
            "[298472670.328125]\n",
            "[263281378.421875]\n",
            "[22221092.921875]\n",
            "[0.0]\n",
            "[0.0]\n",
            "[53519137.59375]\n",
            "[46091914.90625]\n",
            "[155998426.21875]\n",
            "[249021750.8125]\n",
            "[354977288.328125]\n",
            "[285385337.859375]\n",
            "[128363892.78125]\n",
            "[0.0]\n",
            "[0.0]\n",
            "[0.0]\n",
            "[0.0]\n",
            "[53914222.046875]\n",
            "[225472986.859375]\n",
            "[310979126.625]\n",
            "[349436807.640625]\n",
            "[211641118.640625]\n",
            "[16661711.671875]\n",
            "[0.0]\n",
            "[0.0]\n"
          ]
        },
        {
          "data": {
            "image/png": "[encoded data removed]",
            "text/plain": [
              "<Figure size 640x480 with 4 Axes>"
            ]
          },
          "metadata": {},
          "output_type": "display_data"
        }
      ],
      "source": [
        "plt.subplot(1,4,1)\n",
        "import_img2(path_file=open('simulation/convIxKernelOut_F01.txt'));\n",
        "plt.subplot(1,4,2)\n",
        "import_img2(path_file=open('simulation/convIxKernelOut_F02.txt'));\n",
        "plt.subplot(1,4,3)\n",
        "import_img2(path_file=open('simulation/convIxKernelOut_F03.txt'));\n",
        "plt.subplot(1,4,4)\n",
        "import_img2(path_file=open('simulation/convIxKernelOut_F04.txt'));"
      ]
    },
    {
      "cell_type": "code",
      "execution_count": 1743,
      "metadata": {},
      "outputs": [
        {
          "name": "stdout",
          "output_type": "stream",
          "text": [
            "[174664884.0625]\n",
            "[122052356.0625]\n",
            "[53531636.109375]\n",
            "[163736260.734375]\n",
            "[193989914.671875]\n",
            "[189371358.59375]\n",
            "[114194945.46875]\n",
            "[166684464.484375]\n",
            "[482786163.453125]\n",
            "[200485425.375]\n",
            "[12519694.5625]\n",
            "[38810563.25]\n",
            "[422138731.546875]\n",
            "[562600045.859375]\n",
            "[116343746.9375]\n",
            "[0.0]\n",
            "[192607227.78125]\n",
            "[562858822.890625]\n",
            "[401451829.421875]\n",
            "[943687.421875]\n",
            "[27429866.8125]\n",
            "[463370882.453125]\n",
            "[580659560.53125]\n",
            "[67741982.21875]\n",
            "[257662.34375]\n",
            "[0.0]\n",
            "[0.0]\n",
            "[0.0]\n",
            "[0.0]\n",
            "[0.0]\n",
            "[416092280.46875]\n",
            "[441380365.75]\n",
            "[427639703.25]\n",
            "[294077138.84375]\n",
            "[164416515.953125]\n",
            "[0.0]\n",
            "[0.0]\n",
            "[0.0]\n",
            "[30733240.3125]\n",
            "[51616920.390625]\n",
            "[0.0]\n",
            "[0.0]\n",
            "[49793442.34375]\n",
            "[21808823.984375]\n",
            "[66817209.203125]\n",
            "[0.0]\n",
            "[0.0]\n",
            "[0.0]\n",
            "[38778580.0]\n",
            "[37847278.40625]\n",
            "[208763941.90625]\n",
            "[460289413.609375]\n",
            "[463447595.03125]\n",
            "[385741920.359375]\n",
            "[346763998.59375]\n",
            "[122170986.734375]\n",
            "[336830750.859375]\n",
            "[436324143.625]\n",
            "[419779034.328125]\n",
            "[317537475.234375]\n",
            "[0.0]\n",
            "[0.0]\n",
            "[42232454.171875]\n",
            "[50108624.015625]\n",
            "[73595828.3125]\n",
            "[0.0]\n",
            "[70276965.125]\n",
            "[104424347.796875]\n",
            "[36848876.765625]\n",
            "[67313177.515625]\n",
            "[330678.59375]\n",
            "[150669929.796875]\n",
            "[145052590.5625]\n",
            "[54787964.703125]\n",
            "[33946593.328125]\n",
            "[187561643.171875]\n",
            "[328616020.28125]\n",
            "[302505676.484375]\n",
            "[264376540.921875]\n",
            "[220290876.796875]\n",
            "[145357630.65625]\n",
            "[213076286.984375]\n",
            "[245209770.265625]\n",
            "[329810175.265625]\n",
            "[299619009.71875]\n",
            "[36286138.40625]\n",
            "[64359360.671875]\n",
            "[199621026.40625]\n",
            "[318197997.03125]\n",
            "[287430246.890625]\n",
            "[7615112.28125]\n",
            "[41659631.09375]\n",
            "[249390073.34375]\n",
            "[307626133.65625]\n",
            "[162919473.546875]\n",
            "[53519137.59375]\n",
            "[225472986.859375]\n",
            "[354977288.328125]\n",
            "[285385337.859375]\n",
            "[0.0]\n"
          ]
        },
        {
          "data": {
            "text/plain": [
              "array([[[1.87561643e+08],\n",
              "        [3.28616020e+08],\n",
              "        [3.02505676e+08],\n",
              "        [2.64376541e+08],\n",
              "        [2.20290877e+08]],\n",
              "\n",
              "       [[1.45357631e+08],\n",
              "        [2.13076287e+08],\n",
              "        [2.45209770e+08],\n",
              "        [3.29810175e+08],\n",
              "        [2.99619010e+08]],\n",
              "\n",
              "       [[3.62861384e+07],\n",
              "        [6.43593607e+07],\n",
              "        [1.99621026e+08],\n",
              "        [3.18197997e+08],\n",
              "        [2.87430247e+08]],\n",
              "\n",
              "       [[7.61511228e+06],\n",
              "        [4.16596311e+07],\n",
              "        [2.49390073e+08],\n",
              "        [3.07626134e+08],\n",
              "        [1.62919474e+08]],\n",
              "\n",
              "       [[5.35191376e+07],\n",
              "        [2.25472987e+08],\n",
              "        [3.54977288e+08],\n",
              "        [2.85385338e+08],\n",
              "        [0.00000000e+00]]])"
            ]
          },
          "execution_count": 1743,
          "metadata": {},
          "output_type": "execute_result"
        },
        {
          "data": {
            "image/png": "[encoded data removed]",
            "text/plain": [
              "<Figure size 640x480 with 4 Axes>"
            ]
          },
          "metadata": {},
          "output_type": "display_data"
        }
      ],
      "source": [
        "plt.subplot(1,4,1)\n",
        "import_img2(path_file=open('simulation/maxpoolingF1.txt'));\n",
        "plt.subplot(1,4,2)\n",
        "import_img2(path_file=open('simulation/maxpoolingF2.txt'));\n",
        "plt.subplot(1,4,3)\n",
        "import_img2(path_file=open('simulation/maxpoolingF3.txt'));\n",
        "plt.subplot(1,4,4)\n",
        "import_img2(path_file=open('simulation/maxpoolingF4.txt'))"
      ]
    },
    {
      "cell_type": "code",
      "execution_count": 1744,
      "metadata": {},
      "outputs": [],
      "source": [
        "# plt.imsave()"
      ]
    },
    {
      "cell_type": "code",
      "execution_count": 1745,
      "metadata": {},
      "outputs": [],
      "source": [
        "# img.save_img(\"./images/preprocessamento.jpg\",array)\n"
      ]
    },
    {
      "cell_type": "code",
      "execution_count": 1746,
      "metadata": {},
      "outputs": [],
      "source": [
        "# os.system(\"rm ./images/preprocessamento.jpg\")\n",
        "# os.system(\"rm ./images/posprocessamento.jpg\")\n",
        "\n",
        "# img.save_img(\"./images/preprocessamento.jpg\",array)\n",
        "# img.save_img(\"./images/posprocessamento.jpg\",m1)\n",
        "# img.save_img(\"./images/maxpoolingposprocessamento.jpg\",m2)\n"
      ]
    },
    {
      "cell_type": "code",
      "execution_count": null,
      "metadata": {},
      "outputs": [],
      "source": []
    },
    {
      "cell_type": "code",
      "execution_count": 1747,
      "metadata": {},
      "outputs": [
        {
          "name": "stdout",
          "output_type": "stream",
          "text": [
            "[-9.84447390e+08 -1.93164796e+09 -5.98925384e+08 -1.34772780e+09\n",
            " -1.62104961e+09 -1.53697986e+09 -1.43738183e+09 -1.68126308e+09\n",
            " -6.43495879e+08 -1.86939235e+09]\n"
          ]
        }
      ],
      "source": [
        "dens = open(\"simulation/dense.txt\")\n",
        "klin2 = []\n",
        "m2=[]\n",
        "k2 = dens.readlines()\n",
        "for i in k2:\n",
        "    m2.append(list(map(concat,i.split()))[0][0])\n",
        "m2 = np.array(m2)\n",
        "print(np.array(m2))"
      ]
    },
    {
      "cell_type": "code",
      "execution_count": 1749,
      "metadata": {},
      "outputs": [
        {
          "data": {
            "text/plain": [
              "(array([-0.0313219 , -0.06145873, -0.01905585, -0.04288029, -0.0515765 ,\n",
              "        -0.04890168, -0.04573279, -0.0534923 , -0.02047394, -0.05947796]),\n",
              " np.int64(1))"
            ]
          },
          "execution_count": 1749,
          "metadata": {},
          "output_type": "execute_result"
        }
      ],
      "source": [
        "a =m2\n",
        "n = 32\n",
        "s = sum([np.exp(a[i]/2**n) for i in range(len(a))])\n",
        "h = (np.array([a[i]/(2**n)/s for i in range(len(a))]))\n",
        "(h,(h*(-1)).argmax())\n",
        "# (h*(-1)).arg"
      ]
    },
    {
      "cell_type": "markdown",
      "metadata": {},
      "source": [
        "hex(1)"
      ]
    }
  ],
  "metadata": {
    "colab": {
      "provenance": []
    },
    "kernelspec": {
      "display_name": ".venv",
      "language": "python",
      "name": "python3"
    },
    "language_info": {
      "codemirror_mode": {
        "name": "ipython",
        "version": 3
      },
      "file_extension": ".py",
      "mimetype": "text/x-python",
      "name": "python",
      "nbconvert_exporter": "python",
      "pygments_lexer": "ipython3",
      "version": "3.6.8"
    }
  },
  "nbformat": 4,
  "nbformat_minor": 0
}
